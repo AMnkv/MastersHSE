{
 "cells": [
  {
   "cell_type": "markdown",
   "id": "897f0ad7-efc3-44d9-9bf0-cb62c1413a36",
   "metadata": {
    "tags": []
   },
   "source": [
    "# Imports and data extracting"
   ]
  },
  {
   "cell_type": "code",
   "execution_count": 2,
   "id": "1bbaa5d1-0dc4-42cd-b46e-3b549cfc5b2a",
   "metadata": {
    "tags": []
   },
   "outputs": [],
   "source": [
    "import pandas as pd\n",
    "import numpy as np\n",
    "\n",
    "from sklearn.model_selection import train_test_split\n",
    "\n",
    "from catboost import CatBoostClassifier, Pool\n",
    "from sklearn.multioutput import MultiOutputClassifier\n",
    "\n",
    "from sklearn.metrics import roc_auc_score, accuracy_score, precision_score, recall_score, f1_score, roc_curve, precision_recall_curve\n",
    "import matplotlib.pyplot as plt\n",
    "\n",
    "from sklearn.model_selection import StratifiedKFold, GridSearchCV\n",
    "\n",
    "from sklearn.metrics import confusion_matrix, ConfusionMatrixDisplay\n",
    "from catboost.utils import select_threshold\n",
    "import pickle"
   ]
  },
  {
   "cell_type": "markdown",
   "id": "786abf1c-a326-4c5c-8d47-e6a8a07bbeca",
   "metadata": {
    "tags": []
   },
   "source": [
    "### df_сampaigns -> факт коммуникаций с баерами"
   ]
  },
  {
   "cell_type": "code",
   "execution_count": 5,
   "id": "33ab17d9-d348-431e-a328-fca093c0ec71",
   "metadata": {
    "tags": []
   },
   "outputs": [
    {
     "data": {
      "text/html": [
       "<div>\n",
       "<style scoped>\n",
       "    .dataframe tbody tr th:only-of-type {\n",
       "        vertical-align: middle;\n",
       "    }\n",
       "\n",
       "    .dataframe tbody tr th {\n",
       "        vertical-align: top;\n",
       "    }\n",
       "\n",
       "    .dataframe thead th {\n",
       "        text-align: right;\n",
       "    }\n",
       "</style>\n",
       "<table border=\"1\" class=\"dataframe\">\n",
       "  <thead>\n",
       "    <tr style=\"text-align: right;\">\n",
       "      <th></th>\n",
       "      <th>smt_decision_makerid</th>\n",
       "      <th>delivery_date</th>\n",
       "      <th>hash</th>\n",
       "      <th>campaign_name</th>\n",
       "      <th>segment_name</th>\n",
       "      <th>ab_group</th>\n",
       "      <th>tag_channel</th>\n",
       "      <th>tag_category</th>\n",
       "      <th>tag_campaign_type</th>\n",
       "      <th>tag_product</th>\n",
       "      <th>tag_project_type</th>\n",
       "      <th>tag_project_region</th>\n",
       "      <th>tag_discount_flag</th>\n",
       "      <th>tag_chain_flag</th>\n",
       "      <th>tag_model_flag</th>\n",
       "      <th>target_event</th>\n",
       "      <th>tag_realestate_flag</th>\n",
       "    </tr>\n",
       "  </thead>\n",
       "  <tbody>\n",
       "    <tr>\n",
       "      <th>0</th>\n",
       "      <td>d07201565c46a7ff8544574ad3410cc8</td>\n",
       "      <td>2024-12-05</td>\n",
       "      <td>91e093035c50c368832552e8b174e740</td>\n",
       "      <td>[prod] [batch] [241204] [SMS] Первичная недвиж...</td>\n",
       "      <td>DSML-1844</td>\n",
       "      <td>target</td>\n",
       "      <td>sms</td>\n",
       "      <td>RealEstate</td>\n",
       "      <td>Active</td>\n",
       "      <td>realestate</td>\n",
       "      <td>not_izhs</td>\n",
       "      <td>mimo</td>\n",
       "      <td>not_discount</td>\n",
       "      <td>not_chain</td>\n",
       "      <td>model</td>\n",
       "      <td>sale</td>\n",
       "      <td>realestate</td>\n",
       "    </tr>\n",
       "    <tr>\n",
       "      <th>1</th>\n",
       "      <td>d07201565c46a7ff8544574ad3410cc8</td>\n",
       "      <td>2024-12-03</td>\n",
       "      <td>91e093035c50c368832552e8b174e740</td>\n",
       "      <td>[run] [241031] Первичная недвижимость После зв...</td>\n",
       "      <td>None</td>\n",
       "      <td>target</td>\n",
       "      <td>wa</td>\n",
       "      <td>RealEstate</td>\n",
       "      <td>Active</td>\n",
       "      <td>realestate</td>\n",
       "      <td>not_izhs</td>\n",
       "      <td>all</td>\n",
       "      <td>not_discount</td>\n",
       "      <td>not_chain</td>\n",
       "      <td>not_model</td>\n",
       "      <td>appointment</td>\n",
       "      <td>realestate</td>\n",
       "    </tr>\n",
       "    <tr>\n",
       "      <th>2</th>\n",
       "      <td>cd71ba6d85a7e0c379e54892a6b931de</td>\n",
       "      <td>2024-10-02</td>\n",
       "      <td>4df189d22038fd188fef0ec54a9cba6c</td>\n",
       "      <td>[batch] [241002] [SMS] Первичная недвижимость ...</td>\n",
       "      <td>DSML-1814</td>\n",
       "      <td>target</td>\n",
       "      <td>sms</td>\n",
       "      <td>RealEstate</td>\n",
       "      <td>Active</td>\n",
       "      <td>realestate</td>\n",
       "      <td>not_izhs</td>\n",
       "      <td>all</td>\n",
       "      <td>not_discount</td>\n",
       "      <td>not_chain</td>\n",
       "      <td>model</td>\n",
       "      <td>appointment</td>\n",
       "      <td>realestate</td>\n",
       "    </tr>\n",
       "    <tr>\n",
       "      <th>3</th>\n",
       "      <td>340dd300a3093e8120264d701ca9f73c</td>\n",
       "      <td>2024-12-03</td>\n",
       "      <td>ef401fc6177a7592861c437cb6ce728b</td>\n",
       "      <td>[batch] [241203] [SMS] [МСК] Первичная недвижи...</td>\n",
       "      <td>CMPG-3843</td>\n",
       "      <td>control</td>\n",
       "      <td>sms</td>\n",
       "      <td>RealEstate</td>\n",
       "      <td>Active</td>\n",
       "      <td>realestate</td>\n",
       "      <td>not_izhs</td>\n",
       "      <td>mimo</td>\n",
       "      <td>not_discount</td>\n",
       "      <td>chain</td>\n",
       "      <td>not_model</td>\n",
       "      <td>call</td>\n",
       "      <td>realestate</td>\n",
       "    </tr>\n",
       "    <tr>\n",
       "      <th>4</th>\n",
       "      <td>340dd300a3093e8120264d701ca9f73c</td>\n",
       "      <td>2024-12-10</td>\n",
       "      <td>ef401fc6177a7592861c437cb6ce728b</td>\n",
       "      <td>[batch] [241203] [SMS] [МСК] Первичная недвижи...</td>\n",
       "      <td>CMPG-3843</td>\n",
       "      <td>control</td>\n",
       "      <td>sms</td>\n",
       "      <td>RealEstate</td>\n",
       "      <td>Active</td>\n",
       "      <td>realestate</td>\n",
       "      <td>not_izhs</td>\n",
       "      <td>mimo</td>\n",
       "      <td>not_discount</td>\n",
       "      <td>chain</td>\n",
       "      <td>not_model</td>\n",
       "      <td>call</td>\n",
       "      <td>realestate</td>\n",
       "    </tr>\n",
       "  </tbody>\n",
       "</table>\n",
       "</div>"
      ],
      "text/plain": [
       "               smt_decision_makerid delivery_date  \\\n",
       "0  d07201565c46a7ff8544574ad3410cc8    2024-12-05   \n",
       "1  d07201565c46a7ff8544574ad3410cc8    2024-12-03   \n",
       "2  cd71ba6d85a7e0c379e54892a6b931de    2024-10-02   \n",
       "3  340dd300a3093e8120264d701ca9f73c    2024-12-03   \n",
       "4  340dd300a3093e8120264d701ca9f73c    2024-12-10   \n",
       "\n",
       "                               hash  \\\n",
       "0  91e093035c50c368832552e8b174e740   \n",
       "1  91e093035c50c368832552e8b174e740   \n",
       "2  4df189d22038fd188fef0ec54a9cba6c   \n",
       "3  ef401fc6177a7592861c437cb6ce728b   \n",
       "4  ef401fc6177a7592861c437cb6ce728b   \n",
       "\n",
       "                                       campaign_name segment_name ab_group  \\\n",
       "0  [prod] [batch] [241204] [SMS] Первичная недвиж...    DSML-1844   target   \n",
       "1  [run] [241031] Первичная недвижимость После зв...         None   target   \n",
       "2  [batch] [241002] [SMS] Первичная недвижимость ...    DSML-1814   target   \n",
       "3  [batch] [241203] [SMS] [МСК] Первичная недвижи...    CMPG-3843  control   \n",
       "4  [batch] [241203] [SMS] [МСК] Первичная недвижи...    CMPG-3843  control   \n",
       "\n",
       "  tag_channel tag_category tag_campaign_type tag_product tag_project_type  \\\n",
       "0         sms   RealEstate            Active  realestate         not_izhs   \n",
       "1          wa   RealEstate            Active  realestate         not_izhs   \n",
       "2         sms   RealEstate            Active  realestate         not_izhs   \n",
       "3         sms   RealEstate            Active  realestate         not_izhs   \n",
       "4         sms   RealEstate            Active  realestate         not_izhs   \n",
       "\n",
       "  tag_project_region tag_discount_flag tag_chain_flag tag_model_flag  \\\n",
       "0               mimo      not_discount      not_chain          model   \n",
       "1                all      not_discount      not_chain      not_model   \n",
       "2                all      not_discount      not_chain          model   \n",
       "3               mimo      not_discount          chain      not_model   \n",
       "4               mimo      not_discount          chain      not_model   \n",
       "\n",
       "  target_event tag_realestate_flag  \n",
       "0         sale          realestate  \n",
       "1  appointment          realestate  \n",
       "2  appointment          realestate  \n",
       "3         call          realestate  \n",
       "4         call          realestate  "
      ]
     },
     "execution_count": 5,
     "metadata": {},
     "output_type": "execute_result"
    }
   ],
   "source": [
    "df_campaigns = pd.read_feather('campaigns.feather')\n",
    "df_campaigns.head()"
   ]
  },
  {
   "cell_type": "code",
   "execution_count": 7,
   "id": "204b9ff5-8b18-40fb-a4e7-5a5c89290d10",
   "metadata": {
    "tags": []
   },
   "outputs": [],
   "source": [
    "df_campaigns.drop_duplicates(inplace = True)"
   ]
  },
  {
   "cell_type": "code",
   "execution_count": 8,
   "id": "fa5fcef8-fc0b-4eb2-8981-f25b7425476c",
   "metadata": {
    "tags": []
   },
   "outputs": [
    {
     "name": "stdout",
     "output_type": "stream",
     "text": [
      "<class 'pandas.core.frame.DataFrame'>\n",
      "Index: 1428378 entries, 0 to 1999635\n",
      "Data columns (total 17 columns):\n",
      " #   Column                Non-Null Count    Dtype \n",
      "---  ------                --------------    ----- \n",
      " 0   smt_decision_makerid  1428378 non-null  object\n",
      " 1   delivery_date         1428378 non-null  object\n",
      " 2   hash                  1428378 non-null  object\n",
      " 3   campaign_name         1428378 non-null  object\n",
      " 4   segment_name          1428378 non-null  object\n",
      " 5   ab_group              1428378 non-null  object\n",
      " 6   tag_channel           1428378 non-null  object\n",
      " 7   tag_category          1428378 non-null  object\n",
      " 8   tag_campaign_type     1428378 non-null  object\n",
      " 9   tag_product           1428378 non-null  object\n",
      " 10  tag_project_type      1428378 non-null  object\n",
      " 11  tag_project_region    1428378 non-null  object\n",
      " 12  tag_discount_flag     1428378 non-null  object\n",
      " 13  tag_chain_flag        1428378 non-null  object\n",
      " 14  tag_model_flag        1428378 non-null  object\n",
      " 15  target_event          1428378 non-null  object\n",
      " 16  tag_realestate_flag   1428378 non-null  object\n",
      "dtypes: object(17)\n",
      "memory usage: 196.2+ MB\n"
     ]
    }
   ],
   "source": [
    "df_campaigns.info()"
   ]
  },
  {
   "cell_type": "code",
   "execution_count": 11,
   "id": "b0f8d077-2b6f-4b83-aaf0-dc61ada809e0",
   "metadata": {
    "tags": []
   },
   "outputs": [],
   "source": [
    "df_campaigns['delivery_date'] = pd.to_datetime(df_campaigns['delivery_date'])"
   ]
  },
  {
   "cell_type": "code",
   "execution_count": 13,
   "id": "04e5f619-9fa3-42ab-9e81-4fc8bedd6365",
   "metadata": {
    "tags": []
   },
   "outputs": [],
   "source": [
    "df_campaigns['target_event'] = df_campaigns['target_event'].replace({'sale': 'deal'})"
   ]
  },
  {
   "cell_type": "code",
   "execution_count": 17,
   "id": "bd66f382-78e2-4203-bbf9-a0c8de87139c",
   "metadata": {
    "tags": []
   },
   "outputs": [],
   "source": [
    "df_campaigns = df_campaigns[df_campaigns.target_event.isin(['call','appointment','reservation','deal'])]"
   ]
  },
  {
   "cell_type": "code",
   "execution_count": 19,
   "id": "04ed47e8-b0e9-42f3-9fcd-6eb9bd4585dd",
   "metadata": {
    "tags": []
   },
   "outputs": [],
   "source": [
    "df_campaigns['previous_sunday'] = df_campaigns['delivery_date'].apply(lambda x: x - pd.to_timedelta((x.weekday() + 1) % 7, unit='D'))"
   ]
  },
  {
   "cell_type": "code",
   "execution_count": 20,
   "id": "2f4371a3-4ca3-4248-8250-714aa8149560",
   "metadata": {
    "tags": []
   },
   "outputs": [
    {
     "name": "stdout",
     "output_type": "stream",
     "text": [
      " Уникальных клиентов в датасете 443774\n"
     ]
    }
   ],
   "source": [
    "print(f' Уникальных клиентов в датасете {df_campaigns.smt_decision_makerid.nunique()}')"
   ]
  },
  {
   "cell_type": "code",
   "execution_count": 21,
   "id": "a3da077c-3fa4-4894-8a46-df828e20b696",
   "metadata": {
    "tags": []
   },
   "outputs": [
    {
     "name": "stdout",
     "output_type": "stream",
     "text": [
      " Уникальных коммуникаций в датасете 1346973\n"
     ]
    }
   ],
   "source": [
    "print(f' Уникальных коммуникаций в датасете {len(df_campaigns)}')"
   ]
  },
  {
   "cell_type": "code",
   "execution_count": 22,
   "id": "c126e758-f20d-4119-b3c3-bba1be881164",
   "metadata": {
    "tags": []
   },
   "outputs": [
    {
     "name": "stdout",
     "output_type": "stream",
     "text": [
      " Коммуникации собраны с 2024-09-02 00:00:00 до 2024-12-31 00:00:00\n"
     ]
    }
   ],
   "source": [
    "print(f' Коммуникации собраны с {df_campaigns.delivery_date.min()} до {df_campaigns.delivery_date.max()}')"
   ]
  },
  {
   "cell_type": "markdown",
   "id": "8b07903e-40d9-4e98-bc0a-77331beaca21",
   "metadata": {
    "tags": []
   },
   "source": [
    "### df_targets - действия баеров по воронке"
   ]
  },
  {
   "cell_type": "code",
   "execution_count": 58,
   "id": "a6c39a4c-aed1-4a28-8e67-b86ad3278278",
   "metadata": {
    "tags": []
   },
   "outputs": [
    {
     "data": {
      "text/html": [
       "<div>\n",
       "<style scoped>\n",
       "    .dataframe tbody tr th:only-of-type {\n",
       "        vertical-align: middle;\n",
       "    }\n",
       "\n",
       "    .dataframe tbody tr th {\n",
       "        vertical-align: top;\n",
       "    }\n",
       "\n",
       "    .dataframe thead th {\n",
       "        text-align: right;\n",
       "    }\n",
       "</style>\n",
       "<table border=\"1\" class=\"dataframe\">\n",
       "  <thead>\n",
       "    <tr style=\"text-align: right;\">\n",
       "      <th></th>\n",
       "      <th>smt_decision_makerid</th>\n",
       "      <th>report_date</th>\n",
       "      <th>event</th>\n",
       "      <th>tag_event_feature</th>\n",
       "      <th>tag_event_project_type</th>\n",
       "      <th>tag_event_project_region</th>\n",
       "    </tr>\n",
       "  </thead>\n",
       "  <tbody>\n",
       "    <tr>\n",
       "      <th>23</th>\n",
       "      <td>4f9080e1ab09fba6dcbbda752005bde9</td>\n",
       "      <td>2024-10-21 07:52:33</td>\n",
       "      <td>call</td>\n",
       "      <td>outgoing__unknown__secondary</td>\n",
       "      <td>None</td>\n",
       "      <td>None</td>\n",
       "    </tr>\n",
       "    <tr>\n",
       "      <th>24</th>\n",
       "      <td>4f9080e1ab09fba6dcbbda752005bde9</td>\n",
       "      <td>2024-10-19 13:39:08</td>\n",
       "      <td>call</td>\n",
       "      <td>outgoing__unknown__secondary</td>\n",
       "      <td>None</td>\n",
       "      <td>None</td>\n",
       "    </tr>\n",
       "    <tr>\n",
       "      <th>25</th>\n",
       "      <td>4f9080e1ab09fba6dcbbda752005bde9</td>\n",
       "      <td>2024-10-19 13:35:00</td>\n",
       "      <td>call</td>\n",
       "      <td>ingoing__unknown__primary</td>\n",
       "      <td>None</td>\n",
       "      <td>None</td>\n",
       "    </tr>\n",
       "    <tr>\n",
       "      <th>26</th>\n",
       "      <td>4f9080e1ab09fba6dcbbda752005bde9</td>\n",
       "      <td>2024-10-19 13:39:05</td>\n",
       "      <td>decision_maker</td>\n",
       "      <td>None</td>\n",
       "      <td>None</td>\n",
       "      <td>None</td>\n",
       "    </tr>\n",
       "    <tr>\n",
       "      <th>28</th>\n",
       "      <td>8c7a245f36d9d5104f14c0edb900d5f5</td>\n",
       "      <td>2024-09-26 12:13:32</td>\n",
       "      <td>decision_maker</td>\n",
       "      <td>None</td>\n",
       "      <td>None</td>\n",
       "      <td>None</td>\n",
       "    </tr>\n",
       "  </tbody>\n",
       "</table>\n",
       "</div>"
      ],
      "text/plain": [
       "                smt_decision_makerid         report_date           event  \\\n",
       "23  4f9080e1ab09fba6dcbbda752005bde9 2024-10-21 07:52:33            call   \n",
       "24  4f9080e1ab09fba6dcbbda752005bde9 2024-10-19 13:39:08            call   \n",
       "25  4f9080e1ab09fba6dcbbda752005bde9 2024-10-19 13:35:00            call   \n",
       "26  4f9080e1ab09fba6dcbbda752005bde9 2024-10-19 13:39:05  decision_maker   \n",
       "28  8c7a245f36d9d5104f14c0edb900d5f5 2024-09-26 12:13:32  decision_maker   \n",
       "\n",
       "               tag_event_feature tag_event_project_type  \\\n",
       "23  outgoing__unknown__secondary                   None   \n",
       "24  outgoing__unknown__secondary                   None   \n",
       "25     ingoing__unknown__primary                   None   \n",
       "26                          None                   None   \n",
       "28                          None                   None   \n",
       "\n",
       "   tag_event_project_region  \n",
       "23                     None  \n",
       "24                     None  \n",
       "25                     None  \n",
       "26                     None  \n",
       "28                     None  "
      ]
     },
     "execution_count": 58,
     "metadata": {},
     "output_type": "execute_result"
    }
   ],
   "source": [
    "df_targets = pd.read_feather('targets.feather')\n",
    "df_targets.head()"
   ]
  },
  {
   "cell_type": "code",
   "execution_count": 59,
   "id": "13a14fc0-2668-432a-98cb-d520882255b5",
   "metadata": {
    "tags": []
   },
   "outputs": [
    {
     "name": "stdout",
     "output_type": "stream",
     "text": [
      "<class 'pandas.core.frame.DataFrame'>\n",
      "Index: 1671854 entries, 23 to 7761312\n",
      "Data columns (total 6 columns):\n",
      " #   Column                    Non-Null Count    Dtype         \n",
      "---  ------                    --------------    -----         \n",
      " 0   smt_decision_makerid      1671854 non-null  object        \n",
      " 1   report_date               1671854 non-null  datetime64[ns]\n",
      " 2   event                     1671854 non-null  object        \n",
      " 3   tag_event_feature         1303597 non-null  object        \n",
      " 4   tag_event_project_type    857872 non-null   object        \n",
      " 5   tag_event_project_region  857872 non-null   object        \n",
      "dtypes: datetime64[ns](1), object(5)\n",
      "memory usage: 89.3+ MB\n"
     ]
    }
   ],
   "source": [
    "df_targets.info()"
   ]
  },
  {
   "cell_type": "code",
   "execution_count": 61,
   "id": "76db7b9c-7c09-4780-a62d-7c4f833fa605",
   "metadata": {
    "tags": []
   },
   "outputs": [],
   "source": [
    "df_targets.drop_duplicates(inplace = True)"
   ]
  },
  {
   "cell_type": "code",
   "execution_count": 63,
   "id": "8c0cd09e-969c-44b1-b14c-3ebf8ba4bd91",
   "metadata": {
    "tags": []
   },
   "outputs": [
    {
     "name": "stdout",
     "output_type": "stream",
     "text": [
      "Всего ЦД в датасете 1662142\n"
     ]
    }
   ],
   "source": [
    "print(f'Всего ЦД в датасете {len(df_targets)}')"
   ]
  },
  {
   "cell_type": "code",
   "execution_count": 64,
   "id": "69e84c03-6b0c-4924-8ecb-61e334a38ecc",
   "metadata": {
    "tags": []
   },
   "outputs": [
    {
     "name": "stdout",
     "output_type": "stream",
     "text": [
      "Уникальных клиентов в датасете 401628\n"
     ]
    }
   ],
   "source": [
    "print(f'Уникальных клиентов в датасете {df_targets.smt_decision_makerid.nunique()}')"
   ]
  },
  {
   "cell_type": "code",
   "execution_count": 67,
   "id": "74332675-e783-4eb5-a136-f514f305d849",
   "metadata": {
    "tags": []
   },
   "outputs": [
    {
     "name": "stdout",
     "output_type": "stream",
     "text": [
      "Уникальных цд в датасете 13\n"
     ]
    }
   ],
   "source": [
    "print(f'Уникальных цд в датасете {df_targets.event.nunique()}')"
   ]
  },
  {
   "cell_type": "code",
   "execution_count": 70,
   "id": "29db0c28-d084-4bd8-a62a-ce126bdbaeca",
   "metadata": {
    "tags": []
   },
   "outputs": [
    {
     "name": "stdout",
     "output_type": "stream",
     "text": [
      " ЦД собраны с 2024-09-01 00:03:59 до 2024-12-31 23:49:47\n"
     ]
    }
   ],
   "source": [
    "print(f' ЦД собраны с {df_targets.report_date.min()} до {df_targets.report_date.max()}')"
   ]
  },
  {
   "cell_type": "code",
   "execution_count": 72,
   "id": "16b96d1f-b7ba-4895-b143-0a45cd58a516",
   "metadata": {
    "tags": []
   },
   "outputs": [
    {
     "data": {
      "text/plain": [
       "event\n",
       "call              1044409\n",
       "decision_maker     271063\n",
       "specific_pick      134872\n",
       "appointment         71377\n",
       "wishlist            66628\n",
       "reservation         20043\n",
       "deal                16961\n",
       "sale                14100\n",
       "residential          8706\n",
       "mortgage_app         8099\n",
       "web_app              2977\n",
       "tradein_app          2841\n",
       "levelup_app            66\n",
       "Name: count, dtype: int64"
      ]
     },
     "execution_count": 72,
     "metadata": {},
     "output_type": "execute_result"
    }
   ],
   "source": [
    "df_targets.event.value_counts()"
   ]
  },
  {
   "cell_type": "code",
   "execution_count": 74,
   "id": "08a175a7-161c-40e5-a3ae-33cf015e5d49",
   "metadata": {
    "tags": []
   },
   "outputs": [],
   "source": [
    "# нам нужны только 4 -> звонок, встреча, бронь, покупка (?)\n",
    "# call, appointment, reservation, deal"
   ]
  },
  {
   "cell_type": "code",
   "execution_count": 76,
   "id": "8fb6ea3d-a10a-4d54-87b3-46617a8de56b",
   "metadata": {
    "tags": []
   },
   "outputs": [],
   "source": [
    "# фильтруем df_targets, оставляя только нужные цд"
   ]
  },
  {
   "cell_type": "code",
   "execution_count": 78,
   "id": "3bf29ae1-0d51-421d-b953-9868851d9b7f",
   "metadata": {
    "tags": []
   },
   "outputs": [],
   "source": [
    "# объединяю sale и deal\n",
    "df_targets['event'] = df_targets['event'].replace({'sale': 'deal'})"
   ]
  },
  {
   "cell_type": "code",
   "execution_count": 80,
   "id": "6df9cb98-9e38-4a3c-a50e-b9d2097d9a4c",
   "metadata": {
    "tags": []
   },
   "outputs": [],
   "source": [
    "df_targets = df_targets[df_targets.event.isin(['call', 'appointment','reservation','deal'])]"
   ]
  },
  {
   "cell_type": "code",
   "execution_count": 82,
   "id": "70d0f429-f526-4b81-b9b3-c2e0f08134c3",
   "metadata": {
    "tags": []
   },
   "outputs": [
    {
     "name": "stdout",
     "output_type": "stream",
     "text": [
      "Всего ЦД в датасете 1166890\n"
     ]
    }
   ],
   "source": [
    "print(f'Всего ЦД в датасете {len(df_targets)}')"
   ]
  },
  {
   "cell_type": "code",
   "execution_count": 84,
   "id": "29b25f3a-1f6b-4667-bdd3-04db2ac65d49",
   "metadata": {
    "tags": []
   },
   "outputs": [
    {
     "name": "stdout",
     "output_type": "stream",
     "text": [
      "Уникальных клиентов в датасете 343719\n"
     ]
    }
   ],
   "source": [
    "print(f'Уникальных клиентов в датасете {df_targets.smt_decision_makerid.nunique()}')"
   ]
  },
  {
   "cell_type": "code",
   "execution_count": 86,
   "id": "841f5523-9934-42bd-916f-be929b5b62ae",
   "metadata": {
    "tags": []
   },
   "outputs": [
    {
     "name": "stdout",
     "output_type": "stream",
     "text": [
      "Уникальных цд в датасете 4\n"
     ]
    }
   ],
   "source": [
    "print(f'Уникальных цд в датасете {df_targets.event.nunique()}')"
   ]
  },
  {
   "cell_type": "code",
   "execution_count": 88,
   "id": "e44c3673-a2a7-4ee6-8f6f-329b165b8be5",
   "metadata": {
    "tags": []
   },
   "outputs": [
    {
     "name": "stdout",
     "output_type": "stream",
     "text": [
      " ЦД собраны с 2024-09-01 00:03:59 до 2024-12-31 23:36:16\n"
     ]
    }
   ],
   "source": [
    "print(f' ЦД собраны с {df_targets.report_date.min()} до {df_targets.report_date.max()}')"
   ]
  },
  {
   "cell_type": "markdown",
   "id": "549fc310-afd6-4b49-980f-3fe42d27a531",
   "metadata": {
    "tags": []
   },
   "source": [
    "### duf -> dataframe user features"
   ]
  },
  {
   "cell_type": "code",
   "execution_count": 92,
   "id": "f69f45c2-220d-426f-b169-52aabb9292ca",
   "metadata": {
    "tags": []
   },
   "outputs": [
    {
     "data": {
      "text/html": [
       "<div>\n",
       "<style scoped>\n",
       "    .dataframe tbody tr th:only-of-type {\n",
       "        vertical-align: middle;\n",
       "    }\n",
       "\n",
       "    .dataframe tbody tr th {\n",
       "        vertical-align: top;\n",
       "    }\n",
       "\n",
       "    .dataframe thead th {\n",
       "        text-align: right;\n",
       "    }\n",
       "</style>\n",
       "<table border=\"1\" class=\"dataframe\">\n",
       "  <thead>\n",
       "    <tr style=\"text-align: right;\">\n",
       "      <th></th>\n",
       "      <th>specific_picks__g_client__specific_picks__count__180D</th>\n",
       "      <th>specific_picks__g_client__specific_picks__count__365D</th>\n",
       "      <th>specific_picks__g_client__specific_picks__count__THIS_MONTH</th>\n",
       "      <th>specific_picks__g_client__specific_picks__count__ALL_TIME</th>\n",
       "      <th>specific_picks__g_client__sp_buy_rent__count__60D</th>\n",
       "      <th>specific_picks__g_client__sp_buy_rent__count__90D</th>\n",
       "      <th>specific_picks__g_client__sp_buy_rent__count__180D</th>\n",
       "      <th>specific_picks__g_client__sp_buy_rent__count__365D</th>\n",
       "      <th>specific_picks__g_client__sp_buy_rent__count__THIS_MONTH</th>\n",
       "      <th>specific_picks__g_client__sp_buy_rent__count__ALL_TIME</th>\n",
       "      <th>...</th>\n",
       "      <th>wishlists__g_client__crm_objects__smt_sale_price_rooms_2__avg__avg__180D</th>\n",
       "      <th>wishlists__g_client__crm_objects__flag_finishing__avg__avg__180D</th>\n",
       "      <th>wishlists__g_client__crm_objects__flag_finishing__avg__avg__365D</th>\n",
       "      <th>wishlists__g_client__crm_objects__flag_finishing__avg__avg__ALL_TIME</th>\n",
       "      <th>wishlists__g_client__wl_createdon__min__ALL_TIME</th>\n",
       "      <th>wishlists__g_client__wl_createdon__max__180D</th>\n",
       "      <th>wishlists__g_client__wl_createdon__max__ALL_TIME</th>\n",
       "      <th>smt_decision_makerid_hash</th>\n",
       "      <th>delivery_date</th>\n",
       "      <th>report_date</th>\n",
       "    </tr>\n",
       "  </thead>\n",
       "  <tbody>\n",
       "    <tr>\n",
       "      <th>0</th>\n",
       "      <td>1.0</td>\n",
       "      <td>1.0</td>\n",
       "      <td>0.0</td>\n",
       "      <td>2.0</td>\n",
       "      <td>0.0</td>\n",
       "      <td>0.0</td>\n",
       "      <td>1.0</td>\n",
       "      <td>1.0</td>\n",
       "      <td>0.0</td>\n",
       "      <td>2.0</td>\n",
       "      <td>...</td>\n",
       "      <td>NaN</td>\n",
       "      <td>NaN</td>\n",
       "      <td>NaN</td>\n",
       "      <td>NaN</td>\n",
       "      <td>NaN</td>\n",
       "      <td>NaN</td>\n",
       "      <td>NaN</td>\n",
       "      <td>cf95f46d6f8c1c08090402da8bcc8866</td>\n",
       "      <td>2024-10-16</td>\n",
       "      <td>2024-10-13</td>\n",
       "    </tr>\n",
       "    <tr>\n",
       "      <th>1</th>\n",
       "      <td>NaN</td>\n",
       "      <td>NaN</td>\n",
       "      <td>NaN</td>\n",
       "      <td>NaN</td>\n",
       "      <td>NaN</td>\n",
       "      <td>NaN</td>\n",
       "      <td>NaN</td>\n",
       "      <td>NaN</td>\n",
       "      <td>NaN</td>\n",
       "      <td>NaN</td>\n",
       "      <td>...</td>\n",
       "      <td>NaN</td>\n",
       "      <td>NaN</td>\n",
       "      <td>NaN</td>\n",
       "      <td>NaN</td>\n",
       "      <td>NaN</td>\n",
       "      <td>NaN</td>\n",
       "      <td>NaN</td>\n",
       "      <td>a024eeadd2a9bc8597d91126a11df815</td>\n",
       "      <td>2024-12-18</td>\n",
       "      <td>2024-12-15</td>\n",
       "    </tr>\n",
       "    <tr>\n",
       "      <th>2</th>\n",
       "      <td>1.0</td>\n",
       "      <td>1.0</td>\n",
       "      <td>0.0</td>\n",
       "      <td>1.0</td>\n",
       "      <td>0.0</td>\n",
       "      <td>1.0</td>\n",
       "      <td>1.0</td>\n",
       "      <td>1.0</td>\n",
       "      <td>0.0</td>\n",
       "      <td>1.0</td>\n",
       "      <td>...</td>\n",
       "      <td>NaN</td>\n",
       "      <td>NaN</td>\n",
       "      <td>NaN</td>\n",
       "      <td>NaN</td>\n",
       "      <td>NaN</td>\n",
       "      <td>NaN</td>\n",
       "      <td>NaN</td>\n",
       "      <td>823fc0f3c42feb6fdfa437ef138f71af</td>\n",
       "      <td>2024-12-09</td>\n",
       "      <td>2024-12-08</td>\n",
       "    </tr>\n",
       "    <tr>\n",
       "      <th>3</th>\n",
       "      <td>NaN</td>\n",
       "      <td>NaN</td>\n",
       "      <td>NaN</td>\n",
       "      <td>NaN</td>\n",
       "      <td>NaN</td>\n",
       "      <td>NaN</td>\n",
       "      <td>NaN</td>\n",
       "      <td>NaN</td>\n",
       "      <td>NaN</td>\n",
       "      <td>NaN</td>\n",
       "      <td>...</td>\n",
       "      <td>NaN</td>\n",
       "      <td>NaN</td>\n",
       "      <td>NaN</td>\n",
       "      <td>NaN</td>\n",
       "      <td>NaN</td>\n",
       "      <td>NaN</td>\n",
       "      <td>NaN</td>\n",
       "      <td>29d749a479f6a50c12f66a66e74f873f</td>\n",
       "      <td>2024-10-29</td>\n",
       "      <td>2024-10-27</td>\n",
       "    </tr>\n",
       "    <tr>\n",
       "      <th>4</th>\n",
       "      <td>NaN</td>\n",
       "      <td>NaN</td>\n",
       "      <td>NaN</td>\n",
       "      <td>NaN</td>\n",
       "      <td>NaN</td>\n",
       "      <td>NaN</td>\n",
       "      <td>NaN</td>\n",
       "      <td>NaN</td>\n",
       "      <td>NaN</td>\n",
       "      <td>NaN</td>\n",
       "      <td>...</td>\n",
       "      <td>NaN</td>\n",
       "      <td>NaN</td>\n",
       "      <td>NaN</td>\n",
       "      <td>NaN</td>\n",
       "      <td>NaN</td>\n",
       "      <td>NaN</td>\n",
       "      <td>NaN</td>\n",
       "      <td>17f4b76507545dab3ace58ecee673269</td>\n",
       "      <td>2024-10-11</td>\n",
       "      <td>2024-10-06</td>\n",
       "    </tr>\n",
       "  </tbody>\n",
       "</table>\n",
       "<p>5 rows × 363 columns</p>\n",
       "</div>"
      ],
      "text/plain": [
       "   specific_picks__g_client__specific_picks__count__180D  \\\n",
       "0                                                1.0       \n",
       "1                                                NaN       \n",
       "2                                                1.0       \n",
       "3                                                NaN       \n",
       "4                                                NaN       \n",
       "\n",
       "   specific_picks__g_client__specific_picks__count__365D  \\\n",
       "0                                                1.0       \n",
       "1                                                NaN       \n",
       "2                                                1.0       \n",
       "3                                                NaN       \n",
       "4                                                NaN       \n",
       "\n",
       "   specific_picks__g_client__specific_picks__count__THIS_MONTH  \\\n",
       "0                                                0.0             \n",
       "1                                                NaN             \n",
       "2                                                0.0             \n",
       "3                                                NaN             \n",
       "4                                                NaN             \n",
       "\n",
       "   specific_picks__g_client__specific_picks__count__ALL_TIME  \\\n",
       "0                                                2.0           \n",
       "1                                                NaN           \n",
       "2                                                1.0           \n",
       "3                                                NaN           \n",
       "4                                                NaN           \n",
       "\n",
       "   specific_picks__g_client__sp_buy_rent__count__60D  \\\n",
       "0                                                0.0   \n",
       "1                                                NaN   \n",
       "2                                                0.0   \n",
       "3                                                NaN   \n",
       "4                                                NaN   \n",
       "\n",
       "   specific_picks__g_client__sp_buy_rent__count__90D  \\\n",
       "0                                                0.0   \n",
       "1                                                NaN   \n",
       "2                                                1.0   \n",
       "3                                                NaN   \n",
       "4                                                NaN   \n",
       "\n",
       "   specific_picks__g_client__sp_buy_rent__count__180D  \\\n",
       "0                                                1.0    \n",
       "1                                                NaN    \n",
       "2                                                1.0    \n",
       "3                                                NaN    \n",
       "4                                                NaN    \n",
       "\n",
       "   specific_picks__g_client__sp_buy_rent__count__365D  \\\n",
       "0                                                1.0    \n",
       "1                                                NaN    \n",
       "2                                                1.0    \n",
       "3                                                NaN    \n",
       "4                                                NaN    \n",
       "\n",
       "   specific_picks__g_client__sp_buy_rent__count__THIS_MONTH  \\\n",
       "0                                                0.0          \n",
       "1                                                NaN          \n",
       "2                                                0.0          \n",
       "3                                                NaN          \n",
       "4                                                NaN          \n",
       "\n",
       "   specific_picks__g_client__sp_buy_rent__count__ALL_TIME  ...  \\\n",
       "0                                                2.0       ...   \n",
       "1                                                NaN       ...   \n",
       "2                                                1.0       ...   \n",
       "3                                                NaN       ...   \n",
       "4                                                NaN       ...   \n",
       "\n",
       "   wishlists__g_client__crm_objects__smt_sale_price_rooms_2__avg__avg__180D  \\\n",
       "0                                                NaN                          \n",
       "1                                                NaN                          \n",
       "2                                                NaN                          \n",
       "3                                                NaN                          \n",
       "4                                                NaN                          \n",
       "\n",
       "   wishlists__g_client__crm_objects__flag_finishing__avg__avg__180D  \\\n",
       "0                                                NaN                  \n",
       "1                                                NaN                  \n",
       "2                                                NaN                  \n",
       "3                                                NaN                  \n",
       "4                                                NaN                  \n",
       "\n",
       "   wishlists__g_client__crm_objects__flag_finishing__avg__avg__365D  \\\n",
       "0                                                NaN                  \n",
       "1                                                NaN                  \n",
       "2                                                NaN                  \n",
       "3                                                NaN                  \n",
       "4                                                NaN                  \n",
       "\n",
       "   wishlists__g_client__crm_objects__flag_finishing__avg__avg__ALL_TIME  \\\n",
       "0                                                NaN                      \n",
       "1                                                NaN                      \n",
       "2                                                NaN                      \n",
       "3                                                NaN                      \n",
       "4                                                NaN                      \n",
       "\n",
       "   wishlists__g_client__wl_createdon__min__ALL_TIME  \\\n",
       "0                                               NaN   \n",
       "1                                               NaN   \n",
       "2                                               NaN   \n",
       "3                                               NaN   \n",
       "4                                               NaN   \n",
       "\n",
       "   wishlists__g_client__wl_createdon__max__180D  \\\n",
       "0                                           NaN   \n",
       "1                                           NaN   \n",
       "2                                           NaN   \n",
       "3                                           NaN   \n",
       "4                                           NaN   \n",
       "\n",
       "   wishlists__g_client__wl_createdon__max__ALL_TIME  \\\n",
       "0                                               NaN   \n",
       "1                                               NaN   \n",
       "2                                               NaN   \n",
       "3                                               NaN   \n",
       "4                                               NaN   \n",
       "\n",
       "          smt_decision_makerid_hash  delivery_date  report_date  \n",
       "0  cf95f46d6f8c1c08090402da8bcc8866     2024-10-16   2024-10-13  \n",
       "1  a024eeadd2a9bc8597d91126a11df815     2024-12-18   2024-12-15  \n",
       "2  823fc0f3c42feb6fdfa437ef138f71af     2024-12-09   2024-12-08  \n",
       "3  29d749a479f6a50c12f66a66e74f873f     2024-10-29   2024-10-27  \n",
       "4  17f4b76507545dab3ace58ecee673269     2024-10-11   2024-10-06  \n",
       "\n",
       "[5 rows x 363 columns]"
      ]
     },
     "execution_count": 92,
     "metadata": {},
     "output_type": "execute_result"
    }
   ],
   "source": [
    "# до 400 важных фичей на клиента\n",
    "duf = pd.read_feather('data_for_students_features_sample_400cols.feather')\n",
    "duf.head()"
   ]
  },
  {
   "cell_type": "code",
   "execution_count": 94,
   "id": "d4fa77f7-e293-435a-84cc-345bf399dd86",
   "metadata": {
    "tags": []
   },
   "outputs": [],
   "source": [
    "# меняем название на привычный user_id\n",
    "duf.rename(columns={'smt_decision_makerid_hash': 'smt_decision_makerid'}, inplace=True)"
   ]
  },
  {
   "cell_type": "code",
   "execution_count": 96,
   "id": "eaa5b348-222d-40f9-a8e3-8034f6a01706",
   "metadata": {
    "tags": []
   },
   "outputs": [],
   "source": [
    "# убираем повторяющиеся фичи, которые получились в результате нескольких рассылок\n",
    "duf.drop_duplicates(subset=['smt_decision_makerid', 'report_date'], inplace=True)"
   ]
  },
  {
   "cell_type": "code",
   "execution_count": 98,
   "id": "66bc51f5-2ca5-49b8-a044-25b9bf999a79",
   "metadata": {
    "tags": []
   },
   "outputs": [],
   "source": [
    "duf['report_date'] = pd.to_datetime(duf['report_date'])\n",
    "duf['delivery_date'] = pd.to_datetime(duf['delivery_date'])"
   ]
  },
  {
   "cell_type": "code",
   "execution_count": 100,
   "id": "8c6565b1-973a-4f45-af2f-91a492ef5b50",
   "metadata": {
    "tags": []
   },
   "outputs": [],
   "source": [
    "# берём строки из duf только до 15.12, потому что таргет до конца 24\n",
    "duf = duf[duf.report_date<='2024-12-15']"
   ]
  },
  {
   "cell_type": "code",
   "execution_count": 101,
   "id": "51eae795-807e-431d-9a0e-953110e62d87",
   "metadata": {
    "tags": []
   },
   "outputs": [],
   "source": [
    "# duf - фичи клиентов на воскресенье, предшествующее коммуникации из df_campaigns\n",
    "# одна строка - клиент + фичи на дату"
   ]
  },
  {
   "cell_type": "code",
   "execution_count": 102,
   "id": "d5155b18-6f54-4821-9449-dca54f870521",
   "metadata": {
    "tags": []
   },
   "outputs": [
    {
     "name": "stdout",
     "output_type": "stream",
     "text": [
      "<class 'pandas.core.frame.DataFrame'>\n",
      "Index: 1143647 entries, 0 to 1390846\n",
      "Columns: 363 entries, specific_picks__g_client__specific_picks__count__180D to report_date\n",
      "dtypes: datetime64[ns](2), float32(360), object(1)\n",
      "memory usage: 1.6+ GB\n"
     ]
    }
   ],
   "source": [
    "duf.info()"
   ]
  },
  {
   "cell_type": "code",
   "execution_count": 106,
   "id": "9b711810-8383-42c6-9b57-eef24949077f",
   "metadata": {
    "tags": []
   },
   "outputs": [
    {
     "name": "stdout",
     "output_type": "stream",
     "text": [
      " Всего строк в датасете 1143647\n"
     ]
    }
   ],
   "source": [
    "print(f' Всего строк в датасете {len(duf)}')"
   ]
  },
  {
   "cell_type": "code",
   "execution_count": 108,
   "id": "950b16b5-fb94-4e12-aa72-ce76bfa61884",
   "metadata": {
    "tags": []
   },
   "outputs": [
    {
     "name": "stdout",
     "output_type": "stream",
     "text": [
      " Уникальных клиентов в датасете 435515\n"
     ]
    }
   ],
   "source": [
    "print(f' Уникальных клиентов в датасете {duf.smt_decision_makerid.nunique()}')"
   ]
  },
  {
   "cell_type": "code",
   "execution_count": 110,
   "id": "1e17dd55-48a2-4ba5-8772-6b7200e97b17",
   "metadata": {
    "tags": []
   },
   "outputs": [
    {
     "name": "stdout",
     "output_type": "stream",
     "text": [
      " Фичи собраны с 2024-09-01 00:00:00 до 2024-12-15 00:00:00\n"
     ]
    }
   ],
   "source": [
    "print(f' Фичи собраны с {duf.report_date.min()} до {duf.report_date.max()}')"
   ]
  },
  {
   "cell_type": "code",
   "execution_count": 113,
   "id": "12072590-dfa0-4ffa-b1a8-49fe24698ff0",
   "metadata": {
    "tags": []
   },
   "outputs": [],
   "source": [
    "duf.drop(columns = 'delivery_date', inplace = True)"
   ]
  },
  {
   "cell_type": "code",
   "execution_count": null,
   "id": "63a7a4d4-ffd6-4a1d-a270-d44d9a35ae54",
   "metadata": {},
   "outputs": [],
   "source": []
  },
  {
   "cell_type": "markdown",
   "id": "e94a2bf0-644e-439c-8091-fcc2572fdcfe",
   "metadata": {},
   "source": [
    "# Часть 1. Модель для оценки склонности"
   ]
  },
  {
   "cell_type": "markdown",
   "id": "4f47124e-210d-46ff-a905-b25396212cd1",
   "metadata": {},
   "source": [
    "### Описание"
   ]
  },
  {
   "cell_type": "code",
   "execution_count": 78,
   "id": "c8383bbe-1db6-4597-9723-7644315ebe00",
   "metadata": {
    "tags": []
   },
   "outputs": [],
   "source": [
    "# На 1 этапе я хочу оценить склонности баеров к целевым действиям\n",
    "\n",
    "# Архитектура скоринга:\n",
    "\n",
    "# - Берём те данные по юзерам, по которым сейчас есть фичи\n",
    "\n",
    "# - Для каждой такой строки:\n",
    "\n",
    "# Формируем отдельные таргеты для каждого ЦД:\n",
    "#     y_call = 1, если звонок в следующие 7 дней\n",
    "#     y_meeting = 1, если встреча в следующие 7 дней\n",
    "#     y_reservation = 1, если бронь в 14 дней\n",
    "#     y_purchase = 1, если покупка в 14 дней\n",
    "\n",
    "# Пример строки = \"срез фич клиента на 2025-03-29\", 4 таргета по ЦД по факту ЦД за последующие 2 недели\n",
    "\n",
    "# Вопросы и ответы:\n",
    "\n",
    "# 1. Как быть с теми, с кем коммуницировали? -> коммуницируем практически со всеми, поэтому закрываем на это глаза\n",
    "# 2. Как быть с теми, у кого уже была, например, встреча? -> не учитываем повторные целевые действия"
   ]
  },
  {
   "cell_type": "code",
   "execution_count": 80,
   "id": "fbedf146-4ea5-4642-8e11-d33f5f14b34a",
   "metadata": {
    "tags": []
   },
   "outputs": [],
   "source": [
    "# на вход -> фичи клиента на дату N\n",
    "\n",
    "# на выходе -> целевое действие с максимальной вероятностью (все вероятности цд)"
   ]
  },
  {
   "cell_type": "markdown",
   "id": "360cc4b7-f53b-46ed-adf1-6911e3de51e0",
   "metadata": {
    "tags": []
   },
   "source": [
    "### Шаг 1 -> подготовка данных"
   ]
  },
  {
   "cell_type": "code",
   "execution_count": 83,
   "id": "fd13fbf6-197c-4dde-b275-4654fb27e803",
   "metadata": {
    "tags": []
   },
   "outputs": [],
   "source": [
    "# привести данные в формат\n",
    "# клиент | фича 1 | фича 2 | ... | факт ЦД 1 в ближайшие X дней | факт ЦД 2 в ближайшие X дней | "
   ]
  },
  {
   "cell_type": "code",
   "execution_count": 85,
   "id": "bb9920c6-c92b-4a8c-917f-628d05abf9fb",
   "metadata": {
    "tags": []
   },
   "outputs": [],
   "source": [
    "# user_id -> smt_decision_makerid_hash"
   ]
  },
  {
   "cell_type": "code",
   "execution_count": 118,
   "id": "1a367b7b-b1ed-41fc-a504-1ad95fc60cd1",
   "metadata": {
    "tags": []
   },
   "outputs": [],
   "source": [
    "main_camp_features = ['target_event', 'tag_product', 'tag_project_type', 'tag_chain_flag', 'tag_model_flag']"
   ]
  },
  {
   "cell_type": "code",
   "execution_count": 121,
   "id": "4da0e5d8-48c3-40fb-a33c-0657dfbfb8c1",
   "metadata": {
    "tags": []
   },
   "outputs": [],
   "source": [
    "# user features with communication\n",
    "# одна строка - smt_decision_makerid+report_date+delivery_date\n",
    "\n",
    "df_uf_w_com = duf.merge(df_campaigns[['smt_decision_makerid','delivery_date','previous_sunday']+main_camp_features],\n",
    "        left_on = ['smt_decision_makerid','report_date'], right_on = ['smt_decision_makerid','previous_sunday'])"
   ]
  },
  {
   "cell_type": "code",
   "execution_count": 123,
   "id": "4196f3e2-8068-449c-bfb2-f07df202494a",
   "metadata": {
    "tags": []
   },
   "outputs": [],
   "source": [
    "# теперь надо посчитать факт целевого действия в окнах от delivery_date\n",
    "df_del = df_uf_w_com[['smt_decision_makerid','delivery_date']].copy()\n",
    "\n",
    "df_del['end_date_7'] = df_del['delivery_date'] + pd.Timedelta(days=7)\n",
    "df_del['end_date_14'] = df_del['delivery_date'] + pd.Timedelta(days=14)\n",
    "\n",
    "# Переименуем поля, чтобы не было конфликтов при merge\n",
    "df_targets_renamed = df_targets.rename(columns={'report_date': 'event_date'})"
   ]
  },
  {
   "cell_type": "code",
   "execution_count": 125,
   "id": "0be91c5b-03dd-41c4-a602-f76520f8fe78",
   "metadata": {
    "tags": []
   },
   "outputs": [],
   "source": [
    "# Сделаем merge по user_id, затем отфильтруем по диапазону дат\n",
    "merged = df_del.merge(df_targets_renamed, on='smt_decision_makerid', how='left')\n",
    "merged = merged[\n",
    "    # цд после коммуникации\n",
    "    (merged['event_date'] >= merged['delivery_date']) & \n",
    "    # для звонка и встречи окно 7 дней\n",
    "    (((merged['event'].isin(['call','appointment'])) & (merged['event_date'] <= merged['end_date_7'])) | \n",
    "    # для брони и сделки 14 дней\n",
    "    ((merged['event'].isin(['reservation','deal'])) & (merged['event_date'] <= merged['end_date_14'])))\n",
    "]"
   ]
  },
  {
   "cell_type": "code",
   "execution_count": 126,
   "id": "27a71fa6-3176-4a6e-b1c4-041b6b41559e",
   "metadata": {
    "tags": []
   },
   "outputs": [],
   "source": [
    "# Создадим сводную таблицу, где по каждой записи в df_del будет указано наличие события\n",
    "event_flags = (\n",
    "    merged.groupby(['smt_decision_makerid', 'delivery_date', 'event']).size()\n",
    "    .unstack(fill_value=0) # в df \n",
    "    .clip(upper=1)  # превращаем количество в 1/0\n",
    "    .reset_index()\n",
    ")"
   ]
  },
  {
   "cell_type": "code",
   "execution_count": 129,
   "id": "2efdff7b-d02f-41bf-9e9f-6a5971517795",
   "metadata": {
    "tags": []
   },
   "outputs": [
    {
     "data": {
      "text/html": [
       "<div>\n",
       "<style scoped>\n",
       "    .dataframe tbody tr th:only-of-type {\n",
       "        vertical-align: middle;\n",
       "    }\n",
       "\n",
       "    .dataframe tbody tr th {\n",
       "        vertical-align: top;\n",
       "    }\n",
       "\n",
       "    .dataframe thead th {\n",
       "        text-align: right;\n",
       "    }\n",
       "</style>\n",
       "<table border=\"1\" class=\"dataframe\">\n",
       "  <thead>\n",
       "    <tr style=\"text-align: right;\">\n",
       "      <th></th>\n",
       "      <th>specific_picks__g_client__specific_picks__count__180D</th>\n",
       "      <th>specific_picks__g_client__specific_picks__count__365D</th>\n",
       "      <th>specific_picks__g_client__specific_picks__count__THIS_MONTH</th>\n",
       "      <th>specific_picks__g_client__specific_picks__count__ALL_TIME</th>\n",
       "      <th>specific_picks__g_client__sp_buy_rent__count__60D</th>\n",
       "      <th>specific_picks__g_client__sp_buy_rent__count__90D</th>\n",
       "      <th>specific_picks__g_client__sp_buy_rent__count__180D</th>\n",
       "      <th>specific_picks__g_client__sp_buy_rent__count__365D</th>\n",
       "      <th>specific_picks__g_client__sp_buy_rent__count__THIS_MONTH</th>\n",
       "      <th>specific_picks__g_client__sp_buy_rent__count__ALL_TIME</th>\n",
       "      <th>...</th>\n",
       "      <th>previous_sunday</th>\n",
       "      <th>target_event</th>\n",
       "      <th>tag_product</th>\n",
       "      <th>tag_project_type</th>\n",
       "      <th>tag_chain_flag</th>\n",
       "      <th>tag_model_flag</th>\n",
       "      <th>appointment</th>\n",
       "      <th>call</th>\n",
       "      <th>deal</th>\n",
       "      <th>reservation</th>\n",
       "    </tr>\n",
       "  </thead>\n",
       "  <tbody>\n",
       "    <tr>\n",
       "      <th>0</th>\n",
       "      <td>1.0</td>\n",
       "      <td>1.0</td>\n",
       "      <td>0.0</td>\n",
       "      <td>2.0</td>\n",
       "      <td>0.0</td>\n",
       "      <td>0.0</td>\n",
       "      <td>1.0</td>\n",
       "      <td>1.0</td>\n",
       "      <td>0.0</td>\n",
       "      <td>2.0</td>\n",
       "      <td>...</td>\n",
       "      <td>2024-10-13</td>\n",
       "      <td>call</td>\n",
       "      <td>nbo</td>\n",
       "      <td>not_izhs</td>\n",
       "      <td>not_chain</td>\n",
       "      <td>not_model</td>\n",
       "      <td>0</td>\n",
       "      <td>0</td>\n",
       "      <td>0</td>\n",
       "      <td>0</td>\n",
       "    </tr>\n",
       "    <tr>\n",
       "      <th>1</th>\n",
       "      <td>NaN</td>\n",
       "      <td>NaN</td>\n",
       "      <td>NaN</td>\n",
       "      <td>NaN</td>\n",
       "      <td>NaN</td>\n",
       "      <td>NaN</td>\n",
       "      <td>NaN</td>\n",
       "      <td>NaN</td>\n",
       "      <td>NaN</td>\n",
       "      <td>NaN</td>\n",
       "      <td>...</td>\n",
       "      <td>2024-12-15</td>\n",
       "      <td>call</td>\n",
       "      <td>realestate</td>\n",
       "      <td>not_izhs</td>\n",
       "      <td>chain</td>\n",
       "      <td>not_model</td>\n",
       "      <td>0</td>\n",
       "      <td>0</td>\n",
       "      <td>0</td>\n",
       "      <td>0</td>\n",
       "    </tr>\n",
       "    <tr>\n",
       "      <th>2</th>\n",
       "      <td>1.0</td>\n",
       "      <td>1.0</td>\n",
       "      <td>0.0</td>\n",
       "      <td>1.0</td>\n",
       "      <td>0.0</td>\n",
       "      <td>1.0</td>\n",
       "      <td>1.0</td>\n",
       "      <td>1.0</td>\n",
       "      <td>0.0</td>\n",
       "      <td>1.0</td>\n",
       "      <td>...</td>\n",
       "      <td>2024-12-08</td>\n",
       "      <td>deal</td>\n",
       "      <td>mortgage</td>\n",
       "      <td>not_izhs</td>\n",
       "      <td>not_chain</td>\n",
       "      <td>model</td>\n",
       "      <td>0</td>\n",
       "      <td>0</td>\n",
       "      <td>0</td>\n",
       "      <td>0</td>\n",
       "    </tr>\n",
       "    <tr>\n",
       "      <th>3</th>\n",
       "      <td>NaN</td>\n",
       "      <td>NaN</td>\n",
       "      <td>NaN</td>\n",
       "      <td>NaN</td>\n",
       "      <td>NaN</td>\n",
       "      <td>NaN</td>\n",
       "      <td>NaN</td>\n",
       "      <td>NaN</td>\n",
       "      <td>NaN</td>\n",
       "      <td>NaN</td>\n",
       "      <td>...</td>\n",
       "      <td>2024-10-27</td>\n",
       "      <td>call</td>\n",
       "      <td>realestate</td>\n",
       "      <td>not_izhs</td>\n",
       "      <td>chain</td>\n",
       "      <td>not_model</td>\n",
       "      <td>0</td>\n",
       "      <td>0</td>\n",
       "      <td>0</td>\n",
       "      <td>0</td>\n",
       "    </tr>\n",
       "    <tr>\n",
       "      <th>4</th>\n",
       "      <td>NaN</td>\n",
       "      <td>NaN</td>\n",
       "      <td>NaN</td>\n",
       "      <td>NaN</td>\n",
       "      <td>NaN</td>\n",
       "      <td>NaN</td>\n",
       "      <td>NaN</td>\n",
       "      <td>NaN</td>\n",
       "      <td>NaN</td>\n",
       "      <td>NaN</td>\n",
       "      <td>...</td>\n",
       "      <td>2024-10-06</td>\n",
       "      <td>call</td>\n",
       "      <td>realestate</td>\n",
       "      <td>not_izhs</td>\n",
       "      <td>chain</td>\n",
       "      <td>not_model</td>\n",
       "      <td>0</td>\n",
       "      <td>0</td>\n",
       "      <td>0</td>\n",
       "      <td>0</td>\n",
       "    </tr>\n",
       "    <tr>\n",
       "      <th>...</th>\n",
       "      <td>...</td>\n",
       "      <td>...</td>\n",
       "      <td>...</td>\n",
       "      <td>...</td>\n",
       "      <td>...</td>\n",
       "      <td>...</td>\n",
       "      <td>...</td>\n",
       "      <td>...</td>\n",
       "      <td>...</td>\n",
       "      <td>...</td>\n",
       "      <td>...</td>\n",
       "      <td>...</td>\n",
       "      <td>...</td>\n",
       "      <td>...</td>\n",
       "      <td>...</td>\n",
       "      <td>...</td>\n",
       "      <td>...</td>\n",
       "      <td>...</td>\n",
       "      <td>...</td>\n",
       "      <td>...</td>\n",
       "      <td>...</td>\n",
       "    </tr>\n",
       "    <tr>\n",
       "      <th>1136107</th>\n",
       "      <td>1.0</td>\n",
       "      <td>1.0</td>\n",
       "      <td>1.0</td>\n",
       "      <td>1.0</td>\n",
       "      <td>1.0</td>\n",
       "      <td>1.0</td>\n",
       "      <td>1.0</td>\n",
       "      <td>1.0</td>\n",
       "      <td>1.0</td>\n",
       "      <td>1.0</td>\n",
       "      <td>...</td>\n",
       "      <td>2024-09-29</td>\n",
       "      <td>deal</td>\n",
       "      <td>realestate</td>\n",
       "      <td>not_izhs</td>\n",
       "      <td>not_chain</td>\n",
       "      <td>model</td>\n",
       "      <td>0</td>\n",
       "      <td>0</td>\n",
       "      <td>0</td>\n",
       "      <td>0</td>\n",
       "    </tr>\n",
       "    <tr>\n",
       "      <th>1136108</th>\n",
       "      <td>1.0</td>\n",
       "      <td>1.0</td>\n",
       "      <td>1.0</td>\n",
       "      <td>1.0</td>\n",
       "      <td>1.0</td>\n",
       "      <td>1.0</td>\n",
       "      <td>1.0</td>\n",
       "      <td>1.0</td>\n",
       "      <td>1.0</td>\n",
       "      <td>1.0</td>\n",
       "      <td>...</td>\n",
       "      <td>2024-09-29</td>\n",
       "      <td>call</td>\n",
       "      <td>realestate</td>\n",
       "      <td>not_izhs</td>\n",
       "      <td>not_chain</td>\n",
       "      <td>not_model</td>\n",
       "      <td>0</td>\n",
       "      <td>0</td>\n",
       "      <td>0</td>\n",
       "      <td>0</td>\n",
       "    </tr>\n",
       "    <tr>\n",
       "      <th>1136109</th>\n",
       "      <td>1.0</td>\n",
       "      <td>1.0</td>\n",
       "      <td>0.0</td>\n",
       "      <td>1.0</td>\n",
       "      <td>1.0</td>\n",
       "      <td>1.0</td>\n",
       "      <td>1.0</td>\n",
       "      <td>1.0</td>\n",
       "      <td>0.0</td>\n",
       "      <td>1.0</td>\n",
       "      <td>...</td>\n",
       "      <td>2024-10-06</td>\n",
       "      <td>call</td>\n",
       "      <td>nbo</td>\n",
       "      <td>not_izhs</td>\n",
       "      <td>not_chain</td>\n",
       "      <td>not_model</td>\n",
       "      <td>0</td>\n",
       "      <td>0</td>\n",
       "      <td>0</td>\n",
       "      <td>0</td>\n",
       "    </tr>\n",
       "    <tr>\n",
       "      <th>1136110</th>\n",
       "      <td>2.0</td>\n",
       "      <td>2.0</td>\n",
       "      <td>0.0</td>\n",
       "      <td>2.0</td>\n",
       "      <td>0.0</td>\n",
       "      <td>0.0</td>\n",
       "      <td>2.0</td>\n",
       "      <td>2.0</td>\n",
       "      <td>0.0</td>\n",
       "      <td>2.0</td>\n",
       "      <td>...</td>\n",
       "      <td>2024-12-15</td>\n",
       "      <td>call</td>\n",
       "      <td>realestate</td>\n",
       "      <td>not_izhs</td>\n",
       "      <td>chain</td>\n",
       "      <td>not_model</td>\n",
       "      <td>0</td>\n",
       "      <td>0</td>\n",
       "      <td>0</td>\n",
       "      <td>0</td>\n",
       "    </tr>\n",
       "    <tr>\n",
       "      <th>1136111</th>\n",
       "      <td>0.0</td>\n",
       "      <td>2.0</td>\n",
       "      <td>0.0</td>\n",
       "      <td>8.0</td>\n",
       "      <td>0.0</td>\n",
       "      <td>0.0</td>\n",
       "      <td>0.0</td>\n",
       "      <td>2.0</td>\n",
       "      <td>0.0</td>\n",
       "      <td>8.0</td>\n",
       "      <td>...</td>\n",
       "      <td>2024-10-06</td>\n",
       "      <td>call</td>\n",
       "      <td>izhs</td>\n",
       "      <td>izhs</td>\n",
       "      <td>chain</td>\n",
       "      <td>not_model</td>\n",
       "      <td>0</td>\n",
       "      <td>0</td>\n",
       "      <td>0</td>\n",
       "      <td>0</td>\n",
       "    </tr>\n",
       "  </tbody>\n",
       "</table>\n",
       "<p>1136112 rows × 373 columns</p>\n",
       "</div>"
      ],
      "text/plain": [
       "         specific_picks__g_client__specific_picks__count__180D  \\\n",
       "0                                                      1.0       \n",
       "1                                                      NaN       \n",
       "2                                                      1.0       \n",
       "3                                                      NaN       \n",
       "4                                                      NaN       \n",
       "...                                                    ...       \n",
       "1136107                                                1.0       \n",
       "1136108                                                1.0       \n",
       "1136109                                                1.0       \n",
       "1136110                                                2.0       \n",
       "1136111                                                0.0       \n",
       "\n",
       "         specific_picks__g_client__specific_picks__count__365D  \\\n",
       "0                                                      1.0       \n",
       "1                                                      NaN       \n",
       "2                                                      1.0       \n",
       "3                                                      NaN       \n",
       "4                                                      NaN       \n",
       "...                                                    ...       \n",
       "1136107                                                1.0       \n",
       "1136108                                                1.0       \n",
       "1136109                                                1.0       \n",
       "1136110                                                2.0       \n",
       "1136111                                                2.0       \n",
       "\n",
       "         specific_picks__g_client__specific_picks__count__THIS_MONTH  \\\n",
       "0                                                      0.0             \n",
       "1                                                      NaN             \n",
       "2                                                      0.0             \n",
       "3                                                      NaN             \n",
       "4                                                      NaN             \n",
       "...                                                    ...             \n",
       "1136107                                                1.0             \n",
       "1136108                                                1.0             \n",
       "1136109                                                0.0             \n",
       "1136110                                                0.0             \n",
       "1136111                                                0.0             \n",
       "\n",
       "         specific_picks__g_client__specific_picks__count__ALL_TIME  \\\n",
       "0                                                      2.0           \n",
       "1                                                      NaN           \n",
       "2                                                      1.0           \n",
       "3                                                      NaN           \n",
       "4                                                      NaN           \n",
       "...                                                    ...           \n",
       "1136107                                                1.0           \n",
       "1136108                                                1.0           \n",
       "1136109                                                1.0           \n",
       "1136110                                                2.0           \n",
       "1136111                                                8.0           \n",
       "\n",
       "         specific_picks__g_client__sp_buy_rent__count__60D  \\\n",
       "0                                                      0.0   \n",
       "1                                                      NaN   \n",
       "2                                                      0.0   \n",
       "3                                                      NaN   \n",
       "4                                                      NaN   \n",
       "...                                                    ...   \n",
       "1136107                                                1.0   \n",
       "1136108                                                1.0   \n",
       "1136109                                                1.0   \n",
       "1136110                                                0.0   \n",
       "1136111                                                0.0   \n",
       "\n",
       "         specific_picks__g_client__sp_buy_rent__count__90D  \\\n",
       "0                                                      0.0   \n",
       "1                                                      NaN   \n",
       "2                                                      1.0   \n",
       "3                                                      NaN   \n",
       "4                                                      NaN   \n",
       "...                                                    ...   \n",
       "1136107                                                1.0   \n",
       "1136108                                                1.0   \n",
       "1136109                                                1.0   \n",
       "1136110                                                0.0   \n",
       "1136111                                                0.0   \n",
       "\n",
       "         specific_picks__g_client__sp_buy_rent__count__180D  \\\n",
       "0                                                      1.0    \n",
       "1                                                      NaN    \n",
       "2                                                      1.0    \n",
       "3                                                      NaN    \n",
       "4                                                      NaN    \n",
       "...                                                    ...    \n",
       "1136107                                                1.0    \n",
       "1136108                                                1.0    \n",
       "1136109                                                1.0    \n",
       "1136110                                                2.0    \n",
       "1136111                                                0.0    \n",
       "\n",
       "         specific_picks__g_client__sp_buy_rent__count__365D  \\\n",
       "0                                                      1.0    \n",
       "1                                                      NaN    \n",
       "2                                                      1.0    \n",
       "3                                                      NaN    \n",
       "4                                                      NaN    \n",
       "...                                                    ...    \n",
       "1136107                                                1.0    \n",
       "1136108                                                1.0    \n",
       "1136109                                                1.0    \n",
       "1136110                                                2.0    \n",
       "1136111                                                2.0    \n",
       "\n",
       "         specific_picks__g_client__sp_buy_rent__count__THIS_MONTH  \\\n",
       "0                                                      0.0          \n",
       "1                                                      NaN          \n",
       "2                                                      0.0          \n",
       "3                                                      NaN          \n",
       "4                                                      NaN          \n",
       "...                                                    ...          \n",
       "1136107                                                1.0          \n",
       "1136108                                                1.0          \n",
       "1136109                                                0.0          \n",
       "1136110                                                0.0          \n",
       "1136111                                                0.0          \n",
       "\n",
       "         specific_picks__g_client__sp_buy_rent__count__ALL_TIME  ...  \\\n",
       "0                                                      2.0       ...   \n",
       "1                                                      NaN       ...   \n",
       "2                                                      1.0       ...   \n",
       "3                                                      NaN       ...   \n",
       "4                                                      NaN       ...   \n",
       "...                                                    ...       ...   \n",
       "1136107                                                1.0       ...   \n",
       "1136108                                                1.0       ...   \n",
       "1136109                                                1.0       ...   \n",
       "1136110                                                2.0       ...   \n",
       "1136111                                                8.0       ...   \n",
       "\n",
       "         previous_sunday  target_event  tag_product  tag_project_type  \\\n",
       "0             2024-10-13          call          nbo          not_izhs   \n",
       "1             2024-12-15          call   realestate          not_izhs   \n",
       "2             2024-12-08          deal     mortgage          not_izhs   \n",
       "3             2024-10-27          call   realestate          not_izhs   \n",
       "4             2024-10-06          call   realestate          not_izhs   \n",
       "...                  ...           ...          ...               ...   \n",
       "1136107       2024-09-29          deal   realestate          not_izhs   \n",
       "1136108       2024-09-29          call   realestate          not_izhs   \n",
       "1136109       2024-10-06          call          nbo          not_izhs   \n",
       "1136110       2024-12-15          call   realestate          not_izhs   \n",
       "1136111       2024-10-06          call         izhs              izhs   \n",
       "\n",
       "         tag_chain_flag  tag_model_flag  appointment  call  deal  reservation  \n",
       "0             not_chain       not_model            0     0     0            0  \n",
       "1                 chain       not_model            0     0     0            0  \n",
       "2             not_chain           model            0     0     0            0  \n",
       "3                 chain       not_model            0     0     0            0  \n",
       "4                 chain       not_model            0     0     0            0  \n",
       "...                 ...             ...          ...   ...   ...          ...  \n",
       "1136107       not_chain           model            0     0     0            0  \n",
       "1136108       not_chain       not_model            0     0     0            0  \n",
       "1136109       not_chain       not_model            0     0     0            0  \n",
       "1136110           chain       not_model            0     0     0            0  \n",
       "1136111           chain       not_model            0     0     0            0  \n",
       "\n",
       "[1136112 rows x 373 columns]"
      ]
     },
     "execution_count": 129,
     "metadata": {},
     "output_type": "execute_result"
    }
   ],
   "source": [
    "# Объединим с исходной таблицей\n",
    "final_data = df_uf_w_com.merge(event_flags, on=['smt_decision_makerid', 'delivery_date'], how='left')\n",
    "\n",
    "# final_data NaN на 0 — там, где не было совпадений\n",
    "final_data[['call', 'appointment', 'reservation', 'deal']] = final_data[\n",
    "    ['call', 'appointment', 'reservation', 'deal']\n",
    "].fillna(0).astype(int)\n",
    "\n",
    "final_data"
   ]
  },
  {
   "cell_type": "code",
   "execution_count": 131,
   "id": "66fb06cd-f096-4add-ad07-6214823acddb",
   "metadata": {
    "tags": []
   },
   "outputs": [],
   "source": [
    "# оставляю коммуникации только как в filtered_camps\n",
    "\n",
    "# Делю на 2 ноута:\n",
    "\n",
    "# 1. Этот - тупо скоринг по вероятности сделки \n",
    "\n",
    "# 2. По юзеру предсказываю склонность, дальше бизнес-правила и выбираю оффер по цд"
   ]
  },
  {
   "cell_type": "code",
   "execution_count": 133,
   "id": "d559ac1c-36e4-43bb-bc82-dc9833674d73",
   "metadata": {
    "tags": []
   },
   "outputs": [],
   "source": [
    "# campaign_filters = (final_data.tag_channel == 'sms')&(final_data.target_event != 'reservation')"
   ]
  },
  {
   "cell_type": "code",
   "execution_count": 135,
   "id": "37ce2163-70b7-4461-9998-055b79b74c91",
   "metadata": {
    "tags": []
   },
   "outputs": [],
   "source": [
    "main_camp_features = ['target_event', 'tag_product', 'tag_project_type', 'tag_chain_flag', 'tag_model_flag']"
   ]
  },
  {
   "cell_type": "code",
   "execution_count": 137,
   "id": "1e6a924f-a1ea-407c-98fc-0cfaf1158fb0",
   "metadata": {
    "tags": []
   },
   "outputs": [],
   "source": [
    "# res_camps = final_data.groupby(all_camp_features)[['delivery_date']].agg(['max', 'min','count']).reset_index()\n",
    "res_camps = final_data.groupby(main_camp_features)[['delivery_date']].agg(['max', 'min','count']).reset_index()"
   ]
  },
  {
   "cell_type": "code",
   "execution_count": 139,
   "id": "14325238-3e58-4dc8-affd-c7884c614f91",
   "metadata": {
    "tags": []
   },
   "outputs": [],
   "source": [
    "res_camps.rename(columns={'min': 'min_dt', \n",
    "                        'max': 'max_dt',\n",
    "                        'count': 'camps'}, inplace = True)"
   ]
  },
  {
   "cell_type": "code",
   "execution_count": 141,
   "id": "2d4397f7-af23-4162-9ff0-013ba0a22807",
   "metadata": {
    "tags": []
   },
   "outputs": [
    {
     "data": {
      "text/plain": [
       "720778"
      ]
     },
     "execution_count": 141,
     "metadata": {},
     "output_type": "execute_result"
    }
   ],
   "source": [
    "res_camps[(res_camps.delivery_date.max_dt >= '2024-12-15')&(res_camps.delivery_date.min_dt < '2024-12-08')].delivery_date.camps.sum()"
   ]
  },
  {
   "cell_type": "code",
   "execution_count": 143,
   "id": "e5d277d4-28db-47e2-b32b-96be04c6a67b",
   "metadata": {
    "tags": []
   },
   "outputs": [
    {
     "name": "stderr",
     "output_type": "stream",
     "text": [
      "/var/folders/z2/2_vkl0857zddhqnj2vn7yx440000gn/T/ipykernel_21224/3436734710.py:3: PerformanceWarning: dropping on a non-lexsorted multi-index without a level parameter may impact performance.\n",
      "  & (res_camps.tag_product != 'lost_leads')].drop('delivery_date', axis = 1)\n"
     ]
    }
   ],
   "source": [
    "filtered_camps = res_camps[(((res_camps.delivery_date.max_dt >= '2024-12-08')&(res_camps.delivery_date.min_dt < '2024-12-08'))\\\n",
    "            | ((res_camps.target_event == 'deal')&(res_camps.tag_product == 'realestate')))\n",
    "            & (res_camps.tag_product != 'lost_leads')].drop('delivery_date', axis = 1)"
   ]
  },
  {
   "cell_type": "code",
   "execution_count": 145,
   "id": "70e0a4b8-5888-4a9d-b005-05c71438f01e",
   "metadata": {
    "tags": []
   },
   "outputs": [
    {
     "data": {
      "text/html": [
       "<div>\n",
       "<style scoped>\n",
       "    .dataframe tbody tr th:only-of-type {\n",
       "        vertical-align: middle;\n",
       "    }\n",
       "\n",
       "    .dataframe tbody tr th {\n",
       "        vertical-align: top;\n",
       "    }\n",
       "\n",
       "    .dataframe thead tr th {\n",
       "        text-align: left;\n",
       "    }\n",
       "</style>\n",
       "<table border=\"1\" class=\"dataframe\">\n",
       "  <thead>\n",
       "    <tr>\n",
       "      <th></th>\n",
       "      <th>target_event</th>\n",
       "      <th>tag_product</th>\n",
       "      <th>tag_project_type</th>\n",
       "      <th>tag_chain_flag</th>\n",
       "      <th>tag_model_flag</th>\n",
       "    </tr>\n",
       "    <tr>\n",
       "      <th></th>\n",
       "      <th></th>\n",
       "      <th></th>\n",
       "      <th></th>\n",
       "      <th></th>\n",
       "      <th></th>\n",
       "    </tr>\n",
       "  </thead>\n",
       "  <tbody>\n",
       "    <tr>\n",
       "      <th>2</th>\n",
       "      <td>appointment</td>\n",
       "      <td>nbo</td>\n",
       "      <td>not_izhs</td>\n",
       "      <td>not_chain</td>\n",
       "      <td>not_model</td>\n",
       "    </tr>\n",
       "    <tr>\n",
       "      <th>5</th>\n",
       "      <td>appointment</td>\n",
       "      <td>realestate</td>\n",
       "      <td>not_izhs</td>\n",
       "      <td>not_chain</td>\n",
       "      <td>not_model</td>\n",
       "    </tr>\n",
       "    <tr>\n",
       "      <th>8</th>\n",
       "      <td>call</td>\n",
       "      <td>commercial</td>\n",
       "      <td>not_izhs</td>\n",
       "      <td>chain</td>\n",
       "      <td>not_model</td>\n",
       "    </tr>\n",
       "    <tr>\n",
       "      <th>10</th>\n",
       "      <td>call</td>\n",
       "      <td>izhs</td>\n",
       "      <td>izhs</td>\n",
       "      <td>chain</td>\n",
       "      <td>not_model</td>\n",
       "    </tr>\n",
       "    <tr>\n",
       "      <th>11</th>\n",
       "      <td>call</td>\n",
       "      <td>mortgage</td>\n",
       "      <td>not_izhs</td>\n",
       "      <td>not_chain</td>\n",
       "      <td>not_model</td>\n",
       "    </tr>\n",
       "    <tr>\n",
       "      <th>14</th>\n",
       "      <td>call</td>\n",
       "      <td>realestate</td>\n",
       "      <td>not_izhs</td>\n",
       "      <td>chain</td>\n",
       "      <td>not_model</td>\n",
       "    </tr>\n",
       "    <tr>\n",
       "      <th>18</th>\n",
       "      <td>deal</td>\n",
       "      <td>mortgage</td>\n",
       "      <td>not_izhs</td>\n",
       "      <td>not_chain</td>\n",
       "      <td>model</td>\n",
       "    </tr>\n",
       "    <tr>\n",
       "      <th>19</th>\n",
       "      <td>deal</td>\n",
       "      <td>realestate</td>\n",
       "      <td>not_izhs</td>\n",
       "      <td>not_chain</td>\n",
       "      <td>model</td>\n",
       "    </tr>\n",
       "    <tr>\n",
       "      <th>22</th>\n",
       "      <td>reservation</td>\n",
       "      <td>not_defined</td>\n",
       "      <td>not_izhs</td>\n",
       "      <td>not_chain</td>\n",
       "      <td>not_model</td>\n",
       "    </tr>\n",
       "    <tr>\n",
       "      <th>23</th>\n",
       "      <td>reservation</td>\n",
       "      <td>realestate</td>\n",
       "      <td>not_izhs</td>\n",
       "      <td>not_chain</td>\n",
       "      <td>model</td>\n",
       "    </tr>\n",
       "  </tbody>\n",
       "</table>\n",
       "</div>"
      ],
      "text/plain": [
       "   target_event  tag_product tag_project_type tag_chain_flag tag_model_flag\n",
       "                                                                           \n",
       "2   appointment          nbo         not_izhs      not_chain      not_model\n",
       "5   appointment   realestate         not_izhs      not_chain      not_model\n",
       "8          call   commercial         not_izhs          chain      not_model\n",
       "10         call         izhs             izhs          chain      not_model\n",
       "11         call     mortgage         not_izhs      not_chain      not_model\n",
       "14         call   realestate         not_izhs          chain      not_model\n",
       "18         deal     mortgage         not_izhs      not_chain          model\n",
       "19         deal   realestate         not_izhs      not_chain          model\n",
       "22  reservation  not_defined         not_izhs      not_chain      not_model\n",
       "23  reservation   realestate         not_izhs      not_chain          model"
      ]
     },
     "execution_count": 145,
     "metadata": {},
     "output_type": "execute_result"
    }
   ],
   "source": [
    "filtered_camps"
   ]
  },
  {
   "cell_type": "code",
   "execution_count": 147,
   "id": "a7de7dc4-0222-4d35-99c8-407599d473d9",
   "metadata": {
    "tags": []
   },
   "outputs": [],
   "source": [
    "filtered_camps.columns = filtered_camps.columns.droplevel(1)"
   ]
  },
  {
   "cell_type": "code",
   "execution_count": 149,
   "id": "e036657e-1b8b-4c20-9586-e246152619ed",
   "metadata": {
    "tags": []
   },
   "outputs": [],
   "source": [
    "filtered_camps.reset_index(drop=True, inplace = True)"
   ]
  },
  {
   "cell_type": "code",
   "execution_count": 151,
   "id": "fe3c2d9c-8501-424d-ad59-3271663599cc",
   "metadata": {
    "tags": []
   },
   "outputs": [
    {
     "data": {
      "text/html": [
       "<div>\n",
       "<style scoped>\n",
       "    .dataframe tbody tr th:only-of-type {\n",
       "        vertical-align: middle;\n",
       "    }\n",
       "\n",
       "    .dataframe tbody tr th {\n",
       "        vertical-align: top;\n",
       "    }\n",
       "\n",
       "    .dataframe thead th {\n",
       "        text-align: right;\n",
       "    }\n",
       "</style>\n",
       "<table border=\"1\" class=\"dataframe\">\n",
       "  <thead>\n",
       "    <tr style=\"text-align: right;\">\n",
       "      <th></th>\n",
       "      <th>target_event</th>\n",
       "      <th>tag_product</th>\n",
       "      <th>tag_project_type</th>\n",
       "      <th>tag_chain_flag</th>\n",
       "      <th>tag_model_flag</th>\n",
       "    </tr>\n",
       "  </thead>\n",
       "  <tbody>\n",
       "    <tr>\n",
       "      <th>0</th>\n",
       "      <td>appointment</td>\n",
       "      <td>nbo</td>\n",
       "      <td>not_izhs</td>\n",
       "      <td>not_chain</td>\n",
       "      <td>not_model</td>\n",
       "    </tr>\n",
       "    <tr>\n",
       "      <th>1</th>\n",
       "      <td>appointment</td>\n",
       "      <td>realestate</td>\n",
       "      <td>not_izhs</td>\n",
       "      <td>not_chain</td>\n",
       "      <td>not_model</td>\n",
       "    </tr>\n",
       "    <tr>\n",
       "      <th>2</th>\n",
       "      <td>call</td>\n",
       "      <td>commercial</td>\n",
       "      <td>not_izhs</td>\n",
       "      <td>chain</td>\n",
       "      <td>not_model</td>\n",
       "    </tr>\n",
       "    <tr>\n",
       "      <th>3</th>\n",
       "      <td>call</td>\n",
       "      <td>izhs</td>\n",
       "      <td>izhs</td>\n",
       "      <td>chain</td>\n",
       "      <td>not_model</td>\n",
       "    </tr>\n",
       "    <tr>\n",
       "      <th>4</th>\n",
       "      <td>call</td>\n",
       "      <td>mortgage</td>\n",
       "      <td>not_izhs</td>\n",
       "      <td>not_chain</td>\n",
       "      <td>not_model</td>\n",
       "    </tr>\n",
       "    <tr>\n",
       "      <th>5</th>\n",
       "      <td>call</td>\n",
       "      <td>realestate</td>\n",
       "      <td>not_izhs</td>\n",
       "      <td>chain</td>\n",
       "      <td>not_model</td>\n",
       "    </tr>\n",
       "    <tr>\n",
       "      <th>6</th>\n",
       "      <td>deal</td>\n",
       "      <td>mortgage</td>\n",
       "      <td>not_izhs</td>\n",
       "      <td>not_chain</td>\n",
       "      <td>model</td>\n",
       "    </tr>\n",
       "    <tr>\n",
       "      <th>7</th>\n",
       "      <td>deal</td>\n",
       "      <td>realestate</td>\n",
       "      <td>not_izhs</td>\n",
       "      <td>not_chain</td>\n",
       "      <td>model</td>\n",
       "    </tr>\n",
       "    <tr>\n",
       "      <th>8</th>\n",
       "      <td>reservation</td>\n",
       "      <td>not_defined</td>\n",
       "      <td>not_izhs</td>\n",
       "      <td>not_chain</td>\n",
       "      <td>not_model</td>\n",
       "    </tr>\n",
       "    <tr>\n",
       "      <th>9</th>\n",
       "      <td>reservation</td>\n",
       "      <td>realestate</td>\n",
       "      <td>not_izhs</td>\n",
       "      <td>not_chain</td>\n",
       "      <td>model</td>\n",
       "    </tr>\n",
       "  </tbody>\n",
       "</table>\n",
       "</div>"
      ],
      "text/plain": [
       "  target_event  tag_product tag_project_type tag_chain_flag tag_model_flag\n",
       "0  appointment          nbo         not_izhs      not_chain      not_model\n",
       "1  appointment   realestate         not_izhs      not_chain      not_model\n",
       "2         call   commercial         not_izhs          chain      not_model\n",
       "3         call         izhs             izhs          chain      not_model\n",
       "4         call     mortgage         not_izhs      not_chain      not_model\n",
       "5         call   realestate         not_izhs          chain      not_model\n",
       "6         deal     mortgage         not_izhs      not_chain          model\n",
       "7         deal   realestate         not_izhs      not_chain          model\n",
       "8  reservation  not_defined         not_izhs      not_chain      not_model\n",
       "9  reservation   realestate         not_izhs      not_chain          model"
      ]
     },
     "execution_count": 151,
     "metadata": {},
     "output_type": "execute_result"
    }
   ],
   "source": [
    "filtered_camps"
   ]
  },
  {
   "cell_type": "code",
   "execution_count": 153,
   "id": "084112dc-bfbd-4190-b327-5e698f348c85",
   "metadata": {
    "tags": []
   },
   "outputs": [],
   "source": [
    "final_data = final_data.merge(filtered_camps)"
   ]
  },
  {
   "cell_type": "code",
   "execution_count": null,
   "id": "213eeb32-5eef-4624-9adb-74edc3fbaf91",
   "metadata": {},
   "outputs": [],
   "source": [
    "2134"
   ]
  },
  {
   "cell_type": "code",
   "execution_count": 156,
   "id": "03d90b72-5cfd-43d9-9b93-3935906b896d",
   "metadata": {
    "tags": []
   },
   "outputs": [],
   "source": [
    "train_full = final_data[final_data.report_date < '2024-12-08']\n",
    "\n",
    "X_train = train_full.drop(columns=['call','appointment','deal','reservation','smt_decision_makerid'\n",
    "    ,'report_date','delivery_date','previous_sunday'\n",
    "    ,'target_event', 'tag_product', 'tag_project_type', 'tag_chain_flag', 'tag_model_flag']).to_numpy()\n",
    "\n",
    "y_train = train_full[['call','appointment','reservation','deal']].to_numpy()"
   ]
  },
  {
   "cell_type": "code",
   "execution_count": 158,
   "id": "9dac797e-0c03-475d-958f-c72ca50cb3d3",
   "metadata": {
    "tags": []
   },
   "outputs": [
    {
     "data": {
      "text/plain": [
       "call           0.057921\n",
       "appointment    0.013944\n",
       "reservation    0.004647\n",
       "deal           0.003848\n",
       "dtype: float64"
      ]
     },
     "execution_count": 158,
     "metadata": {},
     "output_type": "execute_result"
    }
   ],
   "source": [
    "train_full[['call','appointment','reservation','deal']].mean()"
   ]
  },
  {
   "cell_type": "code",
   "execution_count": 160,
   "id": "79d9a294-049a-49ab-bf60-e02566daca36",
   "metadata": {
    "tags": []
   },
   "outputs": [],
   "source": [
    "val_full = final_data[final_data.report_date == '2024-12-08']\n",
    "\n",
    "X_val = val_full.drop(columns=['call','appointment','deal','reservation','smt_decision_makerid'\n",
    "    ,'report_date','delivery_date','previous_sunday'\n",
    "    ,'target_event', 'tag_product', 'tag_project_type', 'tag_chain_flag', 'tag_model_flag']).to_numpy()\n",
    "y_val = val_full[['call','appointment','reservation','deal']].to_numpy()"
   ]
  },
  {
   "cell_type": "code",
   "execution_count": 162,
   "id": "48245913-6f39-4d16-bb58-08a6442a111f",
   "metadata": {
    "tags": []
   },
   "outputs": [
    {
     "data": {
      "text/plain": [
       "call           0.050911\n",
       "appointment    0.012710\n",
       "reservation    0.004132\n",
       "deal           0.003496\n",
       "dtype: float64"
      ]
     },
     "execution_count": 162,
     "metadata": {},
     "output_type": "execute_result"
    }
   ],
   "source": [
    "val_full[['call','appointment','reservation','deal']].mean()"
   ]
  },
  {
   "cell_type": "code",
   "execution_count": 1386,
   "id": "8f82d573-82d5-4ae3-b0f8-125dbb1e7ad0",
   "metadata": {
    "tags": []
   },
   "outputs": [
    {
     "data": {
      "text/html": [
       "<div>\n",
       "<style scoped>\n",
       "    .dataframe tbody tr th:only-of-type {\n",
       "        vertical-align: middle;\n",
       "    }\n",
       "\n",
       "    .dataframe tbody tr th {\n",
       "        vertical-align: top;\n",
       "    }\n",
       "\n",
       "    .dataframe thead th {\n",
       "        text-align: right;\n",
       "    }\n",
       "</style>\n",
       "<table border=\"1\" class=\"dataframe\">\n",
       "  <thead>\n",
       "    <tr style=\"text-align: right;\">\n",
       "      <th></th>\n",
       "      <th>specific_picks__g_client__specific_picks__count__180D</th>\n",
       "      <th>specific_picks__g_client__specific_picks__count__365D</th>\n",
       "      <th>specific_picks__g_client__specific_picks__count__THIS_MONTH</th>\n",
       "      <th>specific_picks__g_client__specific_picks__count__ALL_TIME</th>\n",
       "      <th>specific_picks__g_client__sp_buy_rent__count__60D</th>\n",
       "      <th>specific_picks__g_client__sp_buy_rent__count__90D</th>\n",
       "      <th>specific_picks__g_client__sp_buy_rent__count__180D</th>\n",
       "      <th>specific_picks__g_client__sp_buy_rent__count__365D</th>\n",
       "      <th>specific_picks__g_client__sp_buy_rent__count__THIS_MONTH</th>\n",
       "      <th>specific_picks__g_client__sp_buy_rent__count__ALL_TIME</th>\n",
       "      <th>...</th>\n",
       "      <th>tag_chain_flag</th>\n",
       "      <th>tag_model_flag</th>\n",
       "      <th>appointment</th>\n",
       "      <th>call</th>\n",
       "      <th>deal</th>\n",
       "      <th>reservation</th>\n",
       "      <th>call_score</th>\n",
       "      <th>appointment_score</th>\n",
       "      <th>reservation_score</th>\n",
       "      <th>deal_score</th>\n",
       "    </tr>\n",
       "  </thead>\n",
       "  <tbody>\n",
       "    <tr>\n",
       "      <th>0</th>\n",
       "      <td>NaN</td>\n",
       "      <td>NaN</td>\n",
       "      <td>NaN</td>\n",
       "      <td>NaN</td>\n",
       "      <td>NaN</td>\n",
       "      <td>NaN</td>\n",
       "      <td>NaN</td>\n",
       "      <td>NaN</td>\n",
       "      <td>NaN</td>\n",
       "      <td>NaN</td>\n",
       "      <td>...</td>\n",
       "      <td>chain</td>\n",
       "      <td>not_model</td>\n",
       "      <td>0</td>\n",
       "      <td>0</td>\n",
       "      <td>0</td>\n",
       "      <td>0</td>\n",
       "      <td>0.052478</td>\n",
       "      <td>0.019821</td>\n",
       "      <td>0.008617</td>\n",
       "      <td>0.007171</td>\n",
       "    </tr>\n",
       "    <tr>\n",
       "      <th>1</th>\n",
       "      <td>1.0</td>\n",
       "      <td>1.0</td>\n",
       "      <td>0.0</td>\n",
       "      <td>1.0</td>\n",
       "      <td>0.0</td>\n",
       "      <td>0.0</td>\n",
       "      <td>1.0</td>\n",
       "      <td>1.0</td>\n",
       "      <td>0.0</td>\n",
       "      <td>1.0</td>\n",
       "      <td>...</td>\n",
       "      <td>chain</td>\n",
       "      <td>not_model</td>\n",
       "      <td>0</td>\n",
       "      <td>0</td>\n",
       "      <td>0</td>\n",
       "      <td>0</td>\n",
       "      <td>0.035005</td>\n",
       "      <td>0.011168</td>\n",
       "      <td>0.006730</td>\n",
       "      <td>0.005903</td>\n",
       "    </tr>\n",
       "    <tr>\n",
       "      <th>2</th>\n",
       "      <td>0.0</td>\n",
       "      <td>1.0</td>\n",
       "      <td>0.0</td>\n",
       "      <td>1.0</td>\n",
       "      <td>0.0</td>\n",
       "      <td>0.0</td>\n",
       "      <td>0.0</td>\n",
       "      <td>1.0</td>\n",
       "      <td>0.0</td>\n",
       "      <td>1.0</td>\n",
       "      <td>...</td>\n",
       "      <td>chain</td>\n",
       "      <td>not_model</td>\n",
       "      <td>0</td>\n",
       "      <td>0</td>\n",
       "      <td>0</td>\n",
       "      <td>0</td>\n",
       "      <td>0.052100</td>\n",
       "      <td>0.016511</td>\n",
       "      <td>0.006870</td>\n",
       "      <td>0.005735</td>\n",
       "    </tr>\n",
       "    <tr>\n",
       "      <th>3</th>\n",
       "      <td>1.0</td>\n",
       "      <td>1.0</td>\n",
       "      <td>0.0</td>\n",
       "      <td>2.0</td>\n",
       "      <td>0.0</td>\n",
       "      <td>0.0</td>\n",
       "      <td>1.0</td>\n",
       "      <td>1.0</td>\n",
       "      <td>0.0</td>\n",
       "      <td>2.0</td>\n",
       "      <td>...</td>\n",
       "      <td>chain</td>\n",
       "      <td>not_model</td>\n",
       "      <td>0</td>\n",
       "      <td>0</td>\n",
       "      <td>0</td>\n",
       "      <td>0</td>\n",
       "      <td>0.049137</td>\n",
       "      <td>0.016033</td>\n",
       "      <td>0.007483</td>\n",
       "      <td>0.005755</td>\n",
       "    </tr>\n",
       "    <tr>\n",
       "      <th>4</th>\n",
       "      <td>1.0</td>\n",
       "      <td>1.0</td>\n",
       "      <td>0.0</td>\n",
       "      <td>1.0</td>\n",
       "      <td>0.0</td>\n",
       "      <td>1.0</td>\n",
       "      <td>1.0</td>\n",
       "      <td>1.0</td>\n",
       "      <td>0.0</td>\n",
       "      <td>1.0</td>\n",
       "      <td>...</td>\n",
       "      <td>chain</td>\n",
       "      <td>not_model</td>\n",
       "      <td>0</td>\n",
       "      <td>0</td>\n",
       "      <td>0</td>\n",
       "      <td>0</td>\n",
       "      <td>0.052211</td>\n",
       "      <td>0.017353</td>\n",
       "      <td>0.006437</td>\n",
       "      <td>0.004874</td>\n",
       "    </tr>\n",
       "    <tr>\n",
       "      <th>...</th>\n",
       "      <td>...</td>\n",
       "      <td>...</td>\n",
       "      <td>...</td>\n",
       "      <td>...</td>\n",
       "      <td>...</td>\n",
       "      <td>...</td>\n",
       "      <td>...</td>\n",
       "      <td>...</td>\n",
       "      <td>...</td>\n",
       "      <td>...</td>\n",
       "      <td>...</td>\n",
       "      <td>...</td>\n",
       "      <td>...</td>\n",
       "      <td>...</td>\n",
       "      <td>...</td>\n",
       "      <td>...</td>\n",
       "      <td>...</td>\n",
       "      <td>...</td>\n",
       "      <td>...</td>\n",
       "      <td>...</td>\n",
       "      <td>...</td>\n",
       "    </tr>\n",
       "    <tr>\n",
       "      <th>169064</th>\n",
       "      <td>NaN</td>\n",
       "      <td>NaN</td>\n",
       "      <td>NaN</td>\n",
       "      <td>NaN</td>\n",
       "      <td>NaN</td>\n",
       "      <td>NaN</td>\n",
       "      <td>NaN</td>\n",
       "      <td>NaN</td>\n",
       "      <td>NaN</td>\n",
       "      <td>NaN</td>\n",
       "      <td>...</td>\n",
       "      <td>chain</td>\n",
       "      <td>not_model</td>\n",
       "      <td>0</td>\n",
       "      <td>0</td>\n",
       "      <td>0</td>\n",
       "      <td>0</td>\n",
       "      <td>0.052478</td>\n",
       "      <td>0.019821</td>\n",
       "      <td>0.008617</td>\n",
       "      <td>0.007171</td>\n",
       "    </tr>\n",
       "    <tr>\n",
       "      <th>169065</th>\n",
       "      <td>NaN</td>\n",
       "      <td>NaN</td>\n",
       "      <td>NaN</td>\n",
       "      <td>NaN</td>\n",
       "      <td>NaN</td>\n",
       "      <td>NaN</td>\n",
       "      <td>NaN</td>\n",
       "      <td>NaN</td>\n",
       "      <td>NaN</td>\n",
       "      <td>NaN</td>\n",
       "      <td>...</td>\n",
       "      <td>chain</td>\n",
       "      <td>not_model</td>\n",
       "      <td>0</td>\n",
       "      <td>0</td>\n",
       "      <td>0</td>\n",
       "      <td>0</td>\n",
       "      <td>0.052478</td>\n",
       "      <td>0.019821</td>\n",
       "      <td>0.008617</td>\n",
       "      <td>0.007171</td>\n",
       "    </tr>\n",
       "    <tr>\n",
       "      <th>169066</th>\n",
       "      <td>0.0</td>\n",
       "      <td>4.0</td>\n",
       "      <td>0.0</td>\n",
       "      <td>4.0</td>\n",
       "      <td>0.0</td>\n",
       "      <td>0.0</td>\n",
       "      <td>0.0</td>\n",
       "      <td>4.0</td>\n",
       "      <td>0.0</td>\n",
       "      <td>4.0</td>\n",
       "      <td>...</td>\n",
       "      <td>chain</td>\n",
       "      <td>not_model</td>\n",
       "      <td>0</td>\n",
       "      <td>0</td>\n",
       "      <td>0</td>\n",
       "      <td>0</td>\n",
       "      <td>0.059068</td>\n",
       "      <td>0.018641</td>\n",
       "      <td>0.008652</td>\n",
       "      <td>0.007221</td>\n",
       "    </tr>\n",
       "    <tr>\n",
       "      <th>169067</th>\n",
       "      <td>NaN</td>\n",
       "      <td>NaN</td>\n",
       "      <td>NaN</td>\n",
       "      <td>NaN</td>\n",
       "      <td>NaN</td>\n",
       "      <td>NaN</td>\n",
       "      <td>NaN</td>\n",
       "      <td>NaN</td>\n",
       "      <td>NaN</td>\n",
       "      <td>NaN</td>\n",
       "      <td>...</td>\n",
       "      <td>chain</td>\n",
       "      <td>not_model</td>\n",
       "      <td>0</td>\n",
       "      <td>0</td>\n",
       "      <td>0</td>\n",
       "      <td>0</td>\n",
       "      <td>0.052478</td>\n",
       "      <td>0.019821</td>\n",
       "      <td>0.008617</td>\n",
       "      <td>0.007171</td>\n",
       "    </tr>\n",
       "    <tr>\n",
       "      <th>169068</th>\n",
       "      <td>NaN</td>\n",
       "      <td>NaN</td>\n",
       "      <td>NaN</td>\n",
       "      <td>NaN</td>\n",
       "      <td>NaN</td>\n",
       "      <td>NaN</td>\n",
       "      <td>NaN</td>\n",
       "      <td>NaN</td>\n",
       "      <td>NaN</td>\n",
       "      <td>NaN</td>\n",
       "      <td>...</td>\n",
       "      <td>chain</td>\n",
       "      <td>not_model</td>\n",
       "      <td>0</td>\n",
       "      <td>0</td>\n",
       "      <td>0</td>\n",
       "      <td>0</td>\n",
       "      <td>0.052478</td>\n",
       "      <td>0.019821</td>\n",
       "      <td>0.008617</td>\n",
       "      <td>0.007171</td>\n",
       "    </tr>\n",
       "  </tbody>\n",
       "</table>\n",
       "<p>169069 rows × 377 columns</p>\n",
       "</div>"
      ],
      "text/plain": [
       "        specific_picks__g_client__specific_picks__count__180D  \\\n",
       "0                                                     NaN       \n",
       "1                                                     1.0       \n",
       "2                                                     0.0       \n",
       "3                                                     1.0       \n",
       "4                                                     1.0       \n",
       "...                                                   ...       \n",
       "169064                                                NaN       \n",
       "169065                                                NaN       \n",
       "169066                                                0.0       \n",
       "169067                                                NaN       \n",
       "169068                                                NaN       \n",
       "\n",
       "        specific_picks__g_client__specific_picks__count__365D  \\\n",
       "0                                                     NaN       \n",
       "1                                                     1.0       \n",
       "2                                                     1.0       \n",
       "3                                                     1.0       \n",
       "4                                                     1.0       \n",
       "...                                                   ...       \n",
       "169064                                                NaN       \n",
       "169065                                                NaN       \n",
       "169066                                                4.0       \n",
       "169067                                                NaN       \n",
       "169068                                                NaN       \n",
       "\n",
       "        specific_picks__g_client__specific_picks__count__THIS_MONTH  \\\n",
       "0                                                     NaN             \n",
       "1                                                     0.0             \n",
       "2                                                     0.0             \n",
       "3                                                     0.0             \n",
       "4                                                     0.0             \n",
       "...                                                   ...             \n",
       "169064                                                NaN             \n",
       "169065                                                NaN             \n",
       "169066                                                0.0             \n",
       "169067                                                NaN             \n",
       "169068                                                NaN             \n",
       "\n",
       "        specific_picks__g_client__specific_picks__count__ALL_TIME  \\\n",
       "0                                                     NaN           \n",
       "1                                                     1.0           \n",
       "2                                                     1.0           \n",
       "3                                                     2.0           \n",
       "4                                                     1.0           \n",
       "...                                                   ...           \n",
       "169064                                                NaN           \n",
       "169065                                                NaN           \n",
       "169066                                                4.0           \n",
       "169067                                                NaN           \n",
       "169068                                                NaN           \n",
       "\n",
       "        specific_picks__g_client__sp_buy_rent__count__60D  \\\n",
       "0                                                     NaN   \n",
       "1                                                     0.0   \n",
       "2                                                     0.0   \n",
       "3                                                     0.0   \n",
       "4                                                     0.0   \n",
       "...                                                   ...   \n",
       "169064                                                NaN   \n",
       "169065                                                NaN   \n",
       "169066                                                0.0   \n",
       "169067                                                NaN   \n",
       "169068                                                NaN   \n",
       "\n",
       "        specific_picks__g_client__sp_buy_rent__count__90D  \\\n",
       "0                                                     NaN   \n",
       "1                                                     0.0   \n",
       "2                                                     0.0   \n",
       "3                                                     0.0   \n",
       "4                                                     1.0   \n",
       "...                                                   ...   \n",
       "169064                                                NaN   \n",
       "169065                                                NaN   \n",
       "169066                                                0.0   \n",
       "169067                                                NaN   \n",
       "169068                                                NaN   \n",
       "\n",
       "        specific_picks__g_client__sp_buy_rent__count__180D  \\\n",
       "0                                                     NaN    \n",
       "1                                                     1.0    \n",
       "2                                                     0.0    \n",
       "3                                                     1.0    \n",
       "4                                                     1.0    \n",
       "...                                                   ...    \n",
       "169064                                                NaN    \n",
       "169065                                                NaN    \n",
       "169066                                                0.0    \n",
       "169067                                                NaN    \n",
       "169068                                                NaN    \n",
       "\n",
       "        specific_picks__g_client__sp_buy_rent__count__365D  \\\n",
       "0                                                     NaN    \n",
       "1                                                     1.0    \n",
       "2                                                     1.0    \n",
       "3                                                     1.0    \n",
       "4                                                     1.0    \n",
       "...                                                   ...    \n",
       "169064                                                NaN    \n",
       "169065                                                NaN    \n",
       "169066                                                4.0    \n",
       "169067                                                NaN    \n",
       "169068                                                NaN    \n",
       "\n",
       "        specific_picks__g_client__sp_buy_rent__count__THIS_MONTH  \\\n",
       "0                                                     NaN          \n",
       "1                                                     0.0          \n",
       "2                                                     0.0          \n",
       "3                                                     0.0          \n",
       "4                                                     0.0          \n",
       "...                                                   ...          \n",
       "169064                                                NaN          \n",
       "169065                                                NaN          \n",
       "169066                                                0.0          \n",
       "169067                                                NaN          \n",
       "169068                                                NaN          \n",
       "\n",
       "        specific_picks__g_client__sp_buy_rent__count__ALL_TIME  ...  \\\n",
       "0                                                     NaN       ...   \n",
       "1                                                     1.0       ...   \n",
       "2                                                     1.0       ...   \n",
       "3                                                     2.0       ...   \n",
       "4                                                     1.0       ...   \n",
       "...                                                   ...       ...   \n",
       "169064                                                NaN       ...   \n",
       "169065                                                NaN       ...   \n",
       "169066                                                4.0       ...   \n",
       "169067                                                NaN       ...   \n",
       "169068                                                NaN       ...   \n",
       "\n",
       "        tag_chain_flag  tag_model_flag  appointment  call  deal  reservation  \\\n",
       "0                chain       not_model            0     0     0            0   \n",
       "1                chain       not_model            0     0     0            0   \n",
       "2                chain       not_model            0     0     0            0   \n",
       "3                chain       not_model            0     0     0            0   \n",
       "4                chain       not_model            0     0     0            0   \n",
       "...                ...             ...          ...   ...   ...          ...   \n",
       "169064           chain       not_model            0     0     0            0   \n",
       "169065           chain       not_model            0     0     0            0   \n",
       "169066           chain       not_model            0     0     0            0   \n",
       "169067           chain       not_model            0     0     0            0   \n",
       "169068           chain       not_model            0     0     0            0   \n",
       "\n",
       "        call_score  appointment_score  reservation_score  deal_score  \n",
       "0         0.052478           0.019821           0.008617    0.007171  \n",
       "1         0.035005           0.011168           0.006730    0.005903  \n",
       "2         0.052100           0.016511           0.006870    0.005735  \n",
       "3         0.049137           0.016033           0.007483    0.005755  \n",
       "4         0.052211           0.017353           0.006437    0.004874  \n",
       "...            ...                ...                ...         ...  \n",
       "169064    0.052478           0.019821           0.008617    0.007171  \n",
       "169065    0.052478           0.019821           0.008617    0.007171  \n",
       "169066    0.059068           0.018641           0.008652    0.007221  \n",
       "169067    0.052478           0.019821           0.008617    0.007171  \n",
       "169068    0.052478           0.019821           0.008617    0.007171  \n",
       "\n",
       "[169069 rows x 377 columns]"
      ]
     },
     "execution_count": 1386,
     "metadata": {},
     "output_type": "execute_result"
    }
   ],
   "source": [
    "test_full"
   ]
  },
  {
   "cell_type": "code",
   "execution_count": 601,
   "id": "87473315-05c1-43f2-8e85-d2518ceef587",
   "metadata": {
    "tags": []
   },
   "outputs": [],
   "source": [
    "test_full = final_data[final_data.report_date > '2024-12-08']\n",
    "\n",
    "X_test = test_full.drop(columns=['call','appointment','deal','reservation','smt_decision_makerid'\n",
    "    ,'report_date','delivery_date','previous_sunday'\n",
    "    ,'target_event', 'tag_product', 'tag_project_type', 'tag_chain_flag', 'tag_model_flag']).to_numpy()\n",
    "y_test = test_full[['call','appointment','reservation','deal']].to_numpy()"
   ]
  },
  {
   "cell_type": "code",
   "execution_count": 166,
   "id": "877d3e1a-09d0-41ee-be18-e1276c34895f",
   "metadata": {
    "tags": []
   },
   "outputs": [
    {
     "data": {
      "text/plain": [
       "call           0.032880\n",
       "appointment    0.006589\n",
       "reservation    0.002543\n",
       "deal           0.002739\n",
       "dtype: float64"
      ]
     },
     "execution_count": 166,
     "metadata": {},
     "output_type": "execute_result"
    }
   ],
   "source": [
    "# меньше CR на тесте, близко к нг - праздники\n",
    "test_full[['call','appointment','reservation','deal']].mean()"
   ]
  },
  {
   "cell_type": "code",
   "execution_count": 168,
   "id": "ecd8956c-883c-46a4-aa5f-a92b60d21f9e",
   "metadata": {
    "tags": []
   },
   "outputs": [
    {
     "data": {
      "text/plain": [
       "(534557, 114711, 169069)"
      ]
     },
     "execution_count": 168,
     "metadata": {},
     "output_type": "execute_result"
    }
   ],
   "source": [
    "len(X_train), len(X_val), len(X_test)"
   ]
  },
  {
   "cell_type": "code",
   "execution_count": null,
   "id": "7328e264-7a3f-4bda-a626-b3f691eba893",
   "metadata": {},
   "outputs": [],
   "source": []
  },
  {
   "cell_type": "markdown",
   "id": "804df531-3b63-4f56-8714-1a613d34b907",
   "metadata": {
    "tags": []
   },
   "source": [
    "### Шаг 2 -> строим модель"
   ]
  },
  {
   "cell_type": "code",
   "execution_count": 326,
   "id": "7c21f901-068f-4b9e-b62f-009f15833989",
   "metadata": {
    "tags": []
   },
   "outputs": [],
   "source": [
    "params = {\n",
    "    # база для любой модели\n",
    "    'iterations':    500,\n",
    "    'learning_rate': 0.02,\n",
    "    'random_state':42,\n",
    "    'early_stopping_rounds': 20,\n",
    "    'verbose':50,\n",
    "    # метрики для предсказания нескольких классов \n",
    "    'loss_function': 'MultiCrossEntropy',\n",
    "    'eval_metric':   'MultiCrossEntropy',\n",
    "    # боремся с переобучением\n",
    "    'use_best_model': True,\n",
    "    'depth':         6,\n",
    "    'l2_leaf_reg':   4,\n",
    "    # 'bootstrap_type':'Bernoulli',\n",
    "    # 'subsample':     0.8,\n",
    "    # для лучшей работы с несколькими классами\n",
    "    \n",
    "    'class_names':['call', 'appointment', 'reservation', 'deal']\n",
    "}"
   ]
  },
  {
   "cell_type": "code",
   "execution_count": 328,
   "id": "5c6cb33c-7041-4b5f-907d-deabd5ef750a",
   "metadata": {
    "tags": []
   },
   "outputs": [],
   "source": [
    "ta_model = CatBoostClassifier(**params)"
   ]
  },
  {
   "cell_type": "code",
   "execution_count": 330,
   "id": "bc072428-53a9-416d-b608-8bc7f5f0d02c",
   "metadata": {
    "tags": []
   },
   "outputs": [
    {
     "data": {
      "application/vnd.jupyter.widget-view+json": {
       "model_id": "030ca46d5e2844ef9f3f11f778bc710e",
       "version_major": 2,
       "version_minor": 0
      },
      "text/plain": [
       "MetricVisualizer(layout=Layout(align_self='stretch', height='500px'))"
      ]
     },
     "metadata": {},
     "output_type": "display_data"
    },
    {
     "name": "stdout",
     "output_type": "stream",
     "text": [
      "0:\tlearn: 0.6475442\ttest: 0.6469033\tbest: 0.6469033 (0)\ttotal: 389ms\tremaining: 3m 14s\n",
      "50:\tlearn: 0.0919683\ttest: 0.0982309\tbest: 0.0982309 (50)\ttotal: 19.4s\tremaining: 2m 50s\n",
      "100:\tlearn: 0.0691686\ttest: 0.0839612\tbest: 0.0829610 (84)\ttotal: 40s\tremaining: 2m 38s\n",
      "Stopped by overfitting detector  (20 iterations wait)\n",
      "\n",
      "bestTest = 0.08296099189\n",
      "bestIteration = 84\n",
      "\n",
      "Shrink model to first 85 iterations.\n"
     ]
    },
    {
     "data": {
      "text/plain": [
       "<catboost.core.CatBoostClassifier at 0x36d288e90>"
      ]
     },
     "execution_count": 330,
     "metadata": {},
     "output_type": "execute_result"
    }
   ],
   "source": [
    "ta_model.fit(X_train, y_train,\n",
    "        eval_set=(X_val, y_val),\n",
    "        plot=True)"
   ]
  },
  {
   "cell_type": "code",
   "execution_count": 331,
   "id": "ae1b1060-6d61-497b-aeb9-1696e0f0452c",
   "metadata": {
    "tags": []
   },
   "outputs": [],
   "source": [
    "test_predict = ta_model.predict(X_test)\n",
    "probs = ta_model.predict_proba(X_test)"
   ]
  },
  {
   "cell_type": "code",
   "execution_count": 332,
   "id": "0cc395b9-fbba-4813-b67a-d986206ed390",
   "metadata": {
    "tags": []
   },
   "outputs": [],
   "source": [
    "# lr 0.03 'depth' 6 -> auc 0.7751"
   ]
  },
  {
   "cell_type": "code",
   "execution_count": 333,
   "id": "b2321b57-3957-48aa-bc4a-5c20efa591f0",
   "metadata": {
    "tags": []
   },
   "outputs": [
    {
     "name": "stdout",
     "output_type": "stream",
     "text": [
      "\n",
      "Target: call\n",
      "AUC       : 0.791\n",
      "Trashhold = default 0.5\n",
      "Accuracy  : 0.971\n",
      "Precision : 0.762\n",
      "Recall    : 0.172\n",
      "F1-score  : 0.281\n",
      "\n",
      "Target: appointment\n",
      "AUC       : 0.744\n",
      "Trashhold = default 0.5\n",
      "Accuracy  : 0.993\n",
      "Precision : 0.000\n",
      "Recall    : 0.000\n",
      "F1-score  : 0.000\n",
      "\n",
      "Target: reservation\n",
      "AUC       : 0.754\n",
      "Trashhold = default 0.5\n",
      "Accuracy  : 0.997\n",
      "Precision : 0.000\n",
      "Recall    : 0.000\n",
      "F1-score  : 0.000\n",
      "\n",
      "Target: deal\n",
      "AUC       : 0.792\n",
      "Trashhold = default 0.5\n",
      "Accuracy  : 0.997\n",
      "Precision : 0.000\n",
      "Recall    : 0.000\n",
      "F1-score  : 0.000\n",
      "\n",
      "Average Metrics:\n",
      "AUC       : 0.7704\n",
      "Accuracy  : 0.9898\n",
      "Precision : 0.1904\n",
      "Recall    : 0.0431\n",
      "F1-score  : 0.0703\n"
     ]
    },
    {
     "data": {
      "image/png": "[encoded data removed]",
      "text/plain": [
       "<Figure size 1000x700 with 1 Axes>"
      ]
     },
     "metadata": {},
     "output_type": "display_data"
    }
   ],
   "source": [
    "# Метрики и графики для каждого таргета\n",
    "def plot_roc_curve(y_true, y_pred, label):\n",
    "    fpr, tpr, _ = roc_curve(y_true, y_pred)\n",
    "    plt.plot(fpr, tpr, label=f'{label} (AUC = {roc_auc_score(y_true, y_pred):.3f})')\n",
    "\n",
    "test_auc, test_acc, test_prec, test_rec, test_f1 = [], [], [], [], []\n",
    "\n",
    "plt.figure(figsize=(10, 7))\n",
    "for i, target in enumerate(ta_model.classes_):\n",
    "    y_true = y_test[:,i]\n",
    "    y_prob = probs[:,i]\n",
    "    y_pred = (y_prob >= 0.5).astype(int)\n",
    "\n",
    "    # Метрики \n",
    "    auc = roc_auc_score(y_true, y_prob)\n",
    "    acc = accuracy_score(y_true, y_pred)\n",
    "    prec = precision_score(y_true, y_pred, zero_division=0)\n",
    "    rec = recall_score(y_true, y_pred, zero_division=0)\n",
    "    f1 = f1_score(y_true, y_pred, zero_division=0)\n",
    "\n",
    "    test_auc.append(auc)\n",
    "    test_acc.append(acc)\n",
    "    test_prec.append(prec)\n",
    "    test_rec.append(rec)\n",
    "    test_f1.append(f1)\n",
    "\n",
    "    print(f\"\\nTarget: {target}\")\n",
    "    print(f\"AUC       : {auc:.3f}\")\n",
    "    print(f\"Trashhold = default 0.5\")\n",
    "    print(f\"Accuracy  : {acc:.3f}\")\n",
    "    print(f\"Precision : {prec:.3f}\")\n",
    "    print(f\"Recall    : {rec:.3f}\")\n",
    "    print(f\"F1-score  : {f1:.3f}\")\n",
    "\n",
    "    # Рисуем ROC\n",
    "    plot_roc_curve(y_true, y_prob, target)\n",
    "    \n",
    "# Общий вывод\n",
    "print(\"\\nAverage Metrics:\")\n",
    "print(f\"AUC       : {np.mean(test_auc):.4f}\")\n",
    "print(f\"Accuracy  : {np.mean(test_acc):.4f}\")\n",
    "print(f\"Precision : {np.mean(test_prec):.4f}\")\n",
    "print(f\"Recall    : {np.mean(test_rec):.4f}\")\n",
    "print(f\"F1-score  : {np.mean(test_f1):.4f}\")\n",
    "\n",
    "plt.plot([0, 1], [0, 1], linestyle='--', color='gray')\n",
    "plt.xlabel('False Positive Rate')\n",
    "plt.ylabel('True Positive Rate')\n",
    "plt.title('ROC Curves for Each Target')\n",
    "plt.legend()\n",
    "plt.grid(True)\n",
    "plt.show()"
   ]
  },
  {
   "cell_type": "code",
   "execution_count": 334,
   "id": "48ebb746-d265-4094-8400-83cc3ec83e33",
   "metadata": {
    "tags": []
   },
   "outputs": [],
   "source": [
    "ta_model.save_model('ta_model_2.bin')"
   ]
  },
  {
   "cell_type": "code",
   "execution_count": 206,
   "id": "af2f86d4-87f7-4b4e-968e-42df54a8b6eb",
   "metadata": {
    "tags": []
   },
   "outputs": [],
   "source": [
    "# ta_model = CatBoostClassifier()\n",
    "# ta_model.load_model('ta_model_2.bin')\n",
    "# print(ta_model.get_params())"
   ]
  },
  {
   "cell_type": "markdown",
   "id": "a830c401-e243-4cf5-9e5a-d581774bed46",
   "metadata": {
    "tags": []
   },
   "source": [
    "# Часть 2. Определяем тип ЦД для каждого юзера+дата, добавляя проверку на повторы"
   ]
  },
  {
   "cell_type": "markdown",
   "id": "dafde60d-9540-4afa-be32-504266d46f51",
   "metadata": {
    "tags": []
   },
   "source": [
    "### 1) Предсказания модели на тесте"
   ]
  },
  {
   "cell_type": "code",
   "execution_count": 1277,
   "id": "2ad49cbd-ca66-44d6-bcd1-f3f42816c31b",
   "metadata": {
    "tags": []
   },
   "outputs": [],
   "source": [
    "probs = ta_model.predict_proba(X_test)"
   ]
  },
  {
   "cell_type": "code",
   "execution_count": 1279,
   "id": "457f236e-4c75-41eb-9864-d22193cea5cd",
   "metadata": {
    "tags": []
   },
   "outputs": [],
   "source": [
    "test_full = final_data[final_data.report_date > '2024-12-08']\n",
    "test_full.reset_index(drop=True, inplace = True)"
   ]
  },
  {
   "cell_type": "code",
   "execution_count": 1281,
   "id": "c7a63e2f-ae03-4333-9d29-bfb3ff8103f1",
   "metadata": {
    "tags": []
   },
   "outputs": [
    {
     "data": {
      "text/html": [
       "<div>\n",
       "<style scoped>\n",
       "    .dataframe tbody tr th:only-of-type {\n",
       "        vertical-align: middle;\n",
       "    }\n",
       "\n",
       "    .dataframe tbody tr th {\n",
       "        vertical-align: top;\n",
       "    }\n",
       "\n",
       "    .dataframe thead th {\n",
       "        text-align: right;\n",
       "    }\n",
       "</style>\n",
       "<table border=\"1\" class=\"dataframe\">\n",
       "  <thead>\n",
       "    <tr style=\"text-align: right;\">\n",
       "      <th></th>\n",
       "      <th>call_score</th>\n",
       "      <th>appointment_score</th>\n",
       "      <th>reservation_score</th>\n",
       "      <th>deal_score</th>\n",
       "    </tr>\n",
       "  </thead>\n",
       "  <tbody>\n",
       "    <tr>\n",
       "      <th>0</th>\n",
       "      <td>0.052478</td>\n",
       "      <td>0.019821</td>\n",
       "      <td>0.008617</td>\n",
       "      <td>0.007171</td>\n",
       "    </tr>\n",
       "    <tr>\n",
       "      <th>1</th>\n",
       "      <td>0.035005</td>\n",
       "      <td>0.011168</td>\n",
       "      <td>0.006730</td>\n",
       "      <td>0.005903</td>\n",
       "    </tr>\n",
       "    <tr>\n",
       "      <th>2</th>\n",
       "      <td>0.052100</td>\n",
       "      <td>0.016511</td>\n",
       "      <td>0.006870</td>\n",
       "      <td>0.005735</td>\n",
       "    </tr>\n",
       "    <tr>\n",
       "      <th>3</th>\n",
       "      <td>0.049137</td>\n",
       "      <td>0.016033</td>\n",
       "      <td>0.007483</td>\n",
       "      <td>0.005755</td>\n",
       "    </tr>\n",
       "    <tr>\n",
       "      <th>4</th>\n",
       "      <td>0.052211</td>\n",
       "      <td>0.017353</td>\n",
       "      <td>0.006437</td>\n",
       "      <td>0.004874</td>\n",
       "    </tr>\n",
       "    <tr>\n",
       "      <th>...</th>\n",
       "      <td>...</td>\n",
       "      <td>...</td>\n",
       "      <td>...</td>\n",
       "      <td>...</td>\n",
       "    </tr>\n",
       "    <tr>\n",
       "      <th>169064</th>\n",
       "      <td>0.052478</td>\n",
       "      <td>0.019821</td>\n",
       "      <td>0.008617</td>\n",
       "      <td>0.007171</td>\n",
       "    </tr>\n",
       "    <tr>\n",
       "      <th>169065</th>\n",
       "      <td>0.052478</td>\n",
       "      <td>0.019821</td>\n",
       "      <td>0.008617</td>\n",
       "      <td>0.007171</td>\n",
       "    </tr>\n",
       "    <tr>\n",
       "      <th>169066</th>\n",
       "      <td>0.059068</td>\n",
       "      <td>0.018641</td>\n",
       "      <td>0.008652</td>\n",
       "      <td>0.007221</td>\n",
       "    </tr>\n",
       "    <tr>\n",
       "      <th>169067</th>\n",
       "      <td>0.052478</td>\n",
       "      <td>0.019821</td>\n",
       "      <td>0.008617</td>\n",
       "      <td>0.007171</td>\n",
       "    </tr>\n",
       "    <tr>\n",
       "      <th>169068</th>\n",
       "      <td>0.052478</td>\n",
       "      <td>0.019821</td>\n",
       "      <td>0.008617</td>\n",
       "      <td>0.007171</td>\n",
       "    </tr>\n",
       "  </tbody>\n",
       "</table>\n",
       "<p>169069 rows × 4 columns</p>\n",
       "</div>"
      ],
      "text/plain": [
       "        call_score  appointment_score  reservation_score  deal_score\n",
       "0         0.052478           0.019821           0.008617    0.007171\n",
       "1         0.035005           0.011168           0.006730    0.005903\n",
       "2         0.052100           0.016511           0.006870    0.005735\n",
       "3         0.049137           0.016033           0.007483    0.005755\n",
       "4         0.052211           0.017353           0.006437    0.004874\n",
       "...            ...                ...                ...         ...\n",
       "169064    0.052478           0.019821           0.008617    0.007171\n",
       "169065    0.052478           0.019821           0.008617    0.007171\n",
       "169066    0.059068           0.018641           0.008652    0.007221\n",
       "169067    0.052478           0.019821           0.008617    0.007171\n",
       "169068    0.052478           0.019821           0.008617    0.007171\n",
       "\n",
       "[169069 rows x 4 columns]"
      ]
     },
     "execution_count": 1281,
     "metadata": {},
     "output_type": "execute_result"
    }
   ],
   "source": [
    "df_probs = pd.DataFrame({col: probs[:, i] for i, col in enumerate(['call_score','appointment_score','reservation_score','deal_score'])})\n",
    "df_probs"
   ]
  },
  {
   "cell_type": "code",
   "execution_count": 1283,
   "id": "cca68078-6d20-40e0-ad20-7c490baf7281",
   "metadata": {
    "tags": []
   },
   "outputs": [],
   "source": [
    "test_full = test_full.merge(df_probs, left_index=True, right_index=True)"
   ]
  },
  {
   "cell_type": "markdown",
   "id": "ec2ba597-c355-4dc2-935f-cc141448e96c",
   "metadata": {
    "tags": []
   },
   "source": [
    "### 2) Факт наличия ЦД раньше для всех клиентов+дат"
   ]
  },
  {
   "cell_type": "code",
   "execution_count": 4911,
   "id": "6daba287-6604-4368-b7ac-c4f1f2aaeabb",
   "metadata": {
    "tags": []
   },
   "outputs": [],
   "source": [
    "test_ = test_full[['smt_decision_makerid','delivery_date']].drop_duplicates().copy()"
   ]
  },
  {
   "cell_type": "code",
   "execution_count": 4913,
   "id": "2603f15b-2f44-4474-9063-4f282450d0ba",
   "metadata": {
    "tags": []
   },
   "outputs": [
    {
     "data": {
      "text/html": [
       "<div>\n",
       "<style scoped>\n",
       "    .dataframe tbody tr th:only-of-type {\n",
       "        vertical-align: middle;\n",
       "    }\n",
       "\n",
       "    .dataframe tbody tr th {\n",
       "        vertical-align: top;\n",
       "    }\n",
       "\n",
       "    .dataframe thead th {\n",
       "        text-align: right;\n",
       "    }\n",
       "</style>\n",
       "<table border=\"1\" class=\"dataframe\">\n",
       "  <thead>\n",
       "    <tr style=\"text-align: right;\">\n",
       "      <th></th>\n",
       "      <th>smt_decision_makerid</th>\n",
       "      <th>delivery_date</th>\n",
       "    </tr>\n",
       "  </thead>\n",
       "  <tbody>\n",
       "    <tr>\n",
       "      <th>649268</th>\n",
       "      <td>1430eb1923b92d755c3488795d8604de</td>\n",
       "      <td>2024-12-15</td>\n",
       "    </tr>\n",
       "    <tr>\n",
       "      <th>649269</th>\n",
       "      <td>a711e9297cecbb0aa722d4b58203a022</td>\n",
       "      <td>2024-12-15</td>\n",
       "    </tr>\n",
       "    <tr>\n",
       "      <th>649270</th>\n",
       "      <td>7da8b5c5415aaec99c7f08c67e098354</td>\n",
       "      <td>2024-12-15</td>\n",
       "    </tr>\n",
       "    <tr>\n",
       "      <th>649271</th>\n",
       "      <td>fbbc58478b830c6034eac0dea072c2a9</td>\n",
       "      <td>2024-12-15</td>\n",
       "    </tr>\n",
       "    <tr>\n",
       "      <th>649272</th>\n",
       "      <td>2a11909b3534788b9861e88644f690ce</td>\n",
       "      <td>2024-12-15</td>\n",
       "    </tr>\n",
       "    <tr>\n",
       "      <th>...</th>\n",
       "      <td>...</td>\n",
       "      <td>...</td>\n",
       "    </tr>\n",
       "    <tr>\n",
       "      <th>818332</th>\n",
       "      <td>420dfe1957978e2c45cf794d04b5e971</td>\n",
       "      <td>2024-12-21</td>\n",
       "    </tr>\n",
       "    <tr>\n",
       "      <th>818333</th>\n",
       "      <td>aa4efa601115f1fded22c092229caaef</td>\n",
       "      <td>2024-12-21</td>\n",
       "    </tr>\n",
       "    <tr>\n",
       "      <th>818334</th>\n",
       "      <td>4b18d1078d9ca6b324f66038d974579f</td>\n",
       "      <td>2024-12-21</td>\n",
       "    </tr>\n",
       "    <tr>\n",
       "      <th>818335</th>\n",
       "      <td>592a93860b2e64e73c33a350830fd4cd</td>\n",
       "      <td>2024-12-21</td>\n",
       "    </tr>\n",
       "    <tr>\n",
       "      <th>818336</th>\n",
       "      <td>03db113c247f3140e6f35cfd25dfe56b</td>\n",
       "      <td>2024-12-21</td>\n",
       "    </tr>\n",
       "  </tbody>\n",
       "</table>\n",
       "<p>168807 rows × 2 columns</p>\n",
       "</div>"
      ],
      "text/plain": [
       "                    smt_decision_makerid delivery_date\n",
       "649268  1430eb1923b92d755c3488795d8604de    2024-12-15\n",
       "649269  a711e9297cecbb0aa722d4b58203a022    2024-12-15\n",
       "649270  7da8b5c5415aaec99c7f08c67e098354    2024-12-15\n",
       "649271  fbbc58478b830c6034eac0dea072c2a9    2024-12-15\n",
       "649272  2a11909b3534788b9861e88644f690ce    2024-12-15\n",
       "...                                  ...           ...\n",
       "818332  420dfe1957978e2c45cf794d04b5e971    2024-12-21\n",
       "818333  aa4efa601115f1fded22c092229caaef    2024-12-21\n",
       "818334  4b18d1078d9ca6b324f66038d974579f    2024-12-21\n",
       "818335  592a93860b2e64e73c33a350830fd4cd    2024-12-21\n",
       "818336  03db113c247f3140e6f35cfd25dfe56b    2024-12-21\n",
       "\n",
       "[168807 rows x 2 columns]"
      ]
     },
     "execution_count": 4913,
     "metadata": {},
     "output_type": "execute_result"
    }
   ],
   "source": [
    "test_"
   ]
  },
  {
   "cell_type": "code",
   "execution_count": 4915,
   "id": "39488c85-07d8-437d-a7bd-18984cd750e8",
   "metadata": {
    "tags": []
   },
   "outputs": [],
   "source": [
    "test_['before_date_14'] = test_['delivery_date'] - pd.Timedelta(days=90)"
   ]
  },
  {
   "cell_type": "code",
   "execution_count": 4917,
   "id": "f9dee3f4-4a7f-4257-b732-392b6e872e66",
   "metadata": {
    "tags": []
   },
   "outputs": [],
   "source": [
    "# изначально пусть все по дефолту 1 - т.е. таргетов не было\n",
    "# если будут, то будем вычитать 1\n",
    "test_['call_before'] = 1\n",
    "test_['appointment_before'] = 1\n",
    "test_['reservation_before'] = 1\n",
    "test_['deal_before'] = 1"
   ]
  },
  {
   "cell_type": "code",
   "execution_count": 4919,
   "id": "5dc25d84-36f6-4345-8860-d659f01104c3",
   "metadata": {
    "tags": []
   },
   "outputs": [],
   "source": [
    "test_merged = test_.merge(df_targets_renamed, on='smt_decision_makerid', how='left')"
   ]
  },
  {
   "cell_type": "code",
   "execution_count": 4921,
   "id": "b7409c86-de53-4754-b197-8a582c266a14",
   "metadata": {
    "tags": []
   },
   "outputs": [],
   "source": [
    "# цд до сбора фичей\n",
    "test_merged = test_merged[(test_merged['event_date'] < test_merged['delivery_date'])&(test_merged['event_date'] >= test_merged['before_date_14'])]"
   ]
  },
  {
   "cell_type": "code",
   "execution_count": 4923,
   "id": "ee2f5fb3-1a8e-44d3-825a-1fc07c673cf7",
   "metadata": {
    "tags": []
   },
   "outputs": [],
   "source": [
    "# по 1 строке на факт наличия цд 1 типа, так как нам важно просто флаг - было или нет\n",
    "test_merged = test_merged[['smt_decision_makerid','delivery_date','event']].drop_duplicates()"
   ]
  },
  {
   "cell_type": "code",
   "execution_count": 4925,
   "id": "23faf8e9-5267-4ed2-90c5-7b70f9cf4b68",
   "metadata": {
    "tags": []
   },
   "outputs": [],
   "source": [
    "df_ohe = pd.get_dummies(test_merged, columns=['event'])"
   ]
  },
  {
   "cell_type": "code",
   "execution_count": 4927,
   "id": "df59940b-3e98-4c3a-be22-304a6bd00dd1",
   "metadata": {
    "tags": []
   },
   "outputs": [],
   "source": [
    "df_ohe = df_ohe.groupby(['smt_decision_makerid', 'delivery_date']).max().reset_index()"
   ]
  },
  {
   "cell_type": "code",
   "execution_count": 4929,
   "id": "148dd4c9-2f2e-4558-ac4b-8c57835e68a8",
   "metadata": {
    "tags": []
   },
   "outputs": [
    {
     "data": {
      "text/html": [
       "<div>\n",
       "<style scoped>\n",
       "    .dataframe tbody tr th:only-of-type {\n",
       "        vertical-align: middle;\n",
       "    }\n",
       "\n",
       "    .dataframe tbody tr th {\n",
       "        vertical-align: top;\n",
       "    }\n",
       "\n",
       "    .dataframe thead th {\n",
       "        text-align: right;\n",
       "    }\n",
       "</style>\n",
       "<table border=\"1\" class=\"dataframe\">\n",
       "  <thead>\n",
       "    <tr style=\"text-align: right;\">\n",
       "      <th></th>\n",
       "      <th>smt_decision_makerid</th>\n",
       "      <th>delivery_date</th>\n",
       "      <th>event_appointment</th>\n",
       "      <th>event_call</th>\n",
       "      <th>event_deal</th>\n",
       "      <th>event_reservation</th>\n",
       "    </tr>\n",
       "  </thead>\n",
       "  <tbody>\n",
       "    <tr>\n",
       "      <th>0</th>\n",
       "      <td>00002a7fb1adf44e0bd425d61c8e4773</td>\n",
       "      <td>2024-12-16</td>\n",
       "      <td>False</td>\n",
       "      <td>True</td>\n",
       "      <td>True</td>\n",
       "      <td>True</td>\n",
       "    </tr>\n",
       "    <tr>\n",
       "      <th>1</th>\n",
       "      <td>0004f60ade13d1ee3ab07d88521619d6</td>\n",
       "      <td>2024-12-16</td>\n",
       "      <td>False</td>\n",
       "      <td>True</td>\n",
       "      <td>False</td>\n",
       "      <td>False</td>\n",
       "    </tr>\n",
       "    <tr>\n",
       "      <th>2</th>\n",
       "      <td>00050fbf9b4ef349d47860154b8e631f</td>\n",
       "      <td>2024-12-16</td>\n",
       "      <td>False</td>\n",
       "      <td>True</td>\n",
       "      <td>False</td>\n",
       "      <td>False</td>\n",
       "    </tr>\n",
       "    <tr>\n",
       "      <th>3</th>\n",
       "      <td>0005989c6100b94982e32536ed04c6fa</td>\n",
       "      <td>2024-12-18</td>\n",
       "      <td>False</td>\n",
       "      <td>True</td>\n",
       "      <td>False</td>\n",
       "      <td>False</td>\n",
       "    </tr>\n",
       "    <tr>\n",
       "      <th>4</th>\n",
       "      <td>000765771505f7017f7928383160a1cd</td>\n",
       "      <td>2024-12-18</td>\n",
       "      <td>False</td>\n",
       "      <td>True</td>\n",
       "      <td>False</td>\n",
       "      <td>False</td>\n",
       "    </tr>\n",
       "    <tr>\n",
       "      <th>...</th>\n",
       "      <td>...</td>\n",
       "      <td>...</td>\n",
       "      <td>...</td>\n",
       "      <td>...</td>\n",
       "      <td>...</td>\n",
       "      <td>...</td>\n",
       "    </tr>\n",
       "    <tr>\n",
       "      <th>56374</th>\n",
       "      <td>fff7be603390acc6230485f1f4a6445d</td>\n",
       "      <td>2024-12-20</td>\n",
       "      <td>True</td>\n",
       "      <td>True</td>\n",
       "      <td>False</td>\n",
       "      <td>False</td>\n",
       "    </tr>\n",
       "    <tr>\n",
       "      <th>56375</th>\n",
       "      <td>fffaa186cf331db23a0933960a6921e7</td>\n",
       "      <td>2024-12-16</td>\n",
       "      <td>False</td>\n",
       "      <td>True</td>\n",
       "      <td>False</td>\n",
       "      <td>False</td>\n",
       "    </tr>\n",
       "    <tr>\n",
       "      <th>56376</th>\n",
       "      <td>fffce9f27210e196f6b31e1737de8e84</td>\n",
       "      <td>2024-12-16</td>\n",
       "      <td>True</td>\n",
       "      <td>True</td>\n",
       "      <td>False</td>\n",
       "      <td>False</td>\n",
       "    </tr>\n",
       "    <tr>\n",
       "      <th>56377</th>\n",
       "      <td>fffd8a41ef09760ac991734a507e4b22</td>\n",
       "      <td>2024-12-20</td>\n",
       "      <td>False</td>\n",
       "      <td>True</td>\n",
       "      <td>False</td>\n",
       "      <td>False</td>\n",
       "    </tr>\n",
       "    <tr>\n",
       "      <th>56378</th>\n",
       "      <td>fffdf97da65d6557d5d3d2b8b83b0bc2</td>\n",
       "      <td>2024-12-16</td>\n",
       "      <td>True</td>\n",
       "      <td>True</td>\n",
       "      <td>False</td>\n",
       "      <td>False</td>\n",
       "    </tr>\n",
       "  </tbody>\n",
       "</table>\n",
       "<p>56379 rows × 6 columns</p>\n",
       "</div>"
      ],
      "text/plain": [
       "                   smt_decision_makerid delivery_date  event_appointment  \\\n",
       "0      00002a7fb1adf44e0bd425d61c8e4773    2024-12-16              False   \n",
       "1      0004f60ade13d1ee3ab07d88521619d6    2024-12-16              False   \n",
       "2      00050fbf9b4ef349d47860154b8e631f    2024-12-16              False   \n",
       "3      0005989c6100b94982e32536ed04c6fa    2024-12-18              False   \n",
       "4      000765771505f7017f7928383160a1cd    2024-12-18              False   \n",
       "...                                 ...           ...                ...   \n",
       "56374  fff7be603390acc6230485f1f4a6445d    2024-12-20               True   \n",
       "56375  fffaa186cf331db23a0933960a6921e7    2024-12-16              False   \n",
       "56376  fffce9f27210e196f6b31e1737de8e84    2024-12-16               True   \n",
       "56377  fffd8a41ef09760ac991734a507e4b22    2024-12-20              False   \n",
       "56378  fffdf97da65d6557d5d3d2b8b83b0bc2    2024-12-16               True   \n",
       "\n",
       "       event_call  event_deal  event_reservation  \n",
       "0            True        True               True  \n",
       "1            True       False              False  \n",
       "2            True       False              False  \n",
       "3            True       False              False  \n",
       "4            True       False              False  \n",
       "...           ...         ...                ...  \n",
       "56374        True       False              False  \n",
       "56375        True       False              False  \n",
       "56376        True       False              False  \n",
       "56377        True       False              False  \n",
       "56378        True       False              False  \n",
       "\n",
       "[56379 rows x 6 columns]"
      ]
     },
     "execution_count": 4929,
     "metadata": {},
     "output_type": "execute_result"
    }
   ],
   "source": [
    "df_ohe"
   ]
  },
  {
   "cell_type": "code",
   "execution_count": 4931,
   "id": "31ed55f0-02fe-416e-a712-d664a2cefeaf",
   "metadata": {
    "tags": []
   },
   "outputs": [],
   "source": [
    "cols = ['event_call','event_appointment','event_reservation','event_deal']\n",
    "\n",
    "df_ohe[cols] = df_ohe[cols].replace({True: -1, False: 0})"
   ]
  },
  {
   "cell_type": "code",
   "execution_count": 4933,
   "id": "66907015-8959-42f9-b1b9-33493741306c",
   "metadata": {
    "tags": []
   },
   "outputs": [],
   "source": [
    "test_ = test_.merge(df_ohe, on=['smt_decision_makerid','delivery_date'], how='left').fillna(0)"
   ]
  },
  {
   "cell_type": "code",
   "execution_count": 4935,
   "id": "5d3fa206-91e3-44c8-a461-cf744343a75d",
   "metadata": {
    "tags": []
   },
   "outputs": [
    {
     "data": {
      "text/html": [
       "<div>\n",
       "<style scoped>\n",
       "    .dataframe tbody tr th:only-of-type {\n",
       "        vertical-align: middle;\n",
       "    }\n",
       "\n",
       "    .dataframe tbody tr th {\n",
       "        vertical-align: top;\n",
       "    }\n",
       "\n",
       "    .dataframe thead th {\n",
       "        text-align: right;\n",
       "    }\n",
       "</style>\n",
       "<table border=\"1\" class=\"dataframe\">\n",
       "  <thead>\n",
       "    <tr style=\"text-align: right;\">\n",
       "      <th></th>\n",
       "      <th>smt_decision_makerid</th>\n",
       "      <th>delivery_date</th>\n",
       "      <th>before_date_14</th>\n",
       "      <th>call_before</th>\n",
       "      <th>appointment_before</th>\n",
       "      <th>reservation_before</th>\n",
       "      <th>deal_before</th>\n",
       "      <th>event_appointment</th>\n",
       "      <th>event_call</th>\n",
       "      <th>event_deal</th>\n",
       "      <th>event_reservation</th>\n",
       "    </tr>\n",
       "  </thead>\n",
       "  <tbody>\n",
       "    <tr>\n",
       "      <th>0</th>\n",
       "      <td>1430eb1923b92d755c3488795d8604de</td>\n",
       "      <td>2024-12-15</td>\n",
       "      <td>2024-09-16</td>\n",
       "      <td>1</td>\n",
       "      <td>1</td>\n",
       "      <td>1</td>\n",
       "      <td>1</td>\n",
       "      <td>0.0</td>\n",
       "      <td>0.0</td>\n",
       "      <td>0.0</td>\n",
       "      <td>0.0</td>\n",
       "    </tr>\n",
       "    <tr>\n",
       "      <th>1</th>\n",
       "      <td>a711e9297cecbb0aa722d4b58203a022</td>\n",
       "      <td>2024-12-15</td>\n",
       "      <td>2024-09-16</td>\n",
       "      <td>1</td>\n",
       "      <td>1</td>\n",
       "      <td>1</td>\n",
       "      <td>1</td>\n",
       "      <td>0.0</td>\n",
       "      <td>0.0</td>\n",
       "      <td>0.0</td>\n",
       "      <td>0.0</td>\n",
       "    </tr>\n",
       "    <tr>\n",
       "      <th>2</th>\n",
       "      <td>7da8b5c5415aaec99c7f08c67e098354</td>\n",
       "      <td>2024-12-15</td>\n",
       "      <td>2024-09-16</td>\n",
       "      <td>1</td>\n",
       "      <td>1</td>\n",
       "      <td>1</td>\n",
       "      <td>1</td>\n",
       "      <td>0.0</td>\n",
       "      <td>0.0</td>\n",
       "      <td>0.0</td>\n",
       "      <td>0.0</td>\n",
       "    </tr>\n",
       "    <tr>\n",
       "      <th>3</th>\n",
       "      <td>fbbc58478b830c6034eac0dea072c2a9</td>\n",
       "      <td>2024-12-15</td>\n",
       "      <td>2024-09-16</td>\n",
       "      <td>1</td>\n",
       "      <td>1</td>\n",
       "      <td>1</td>\n",
       "      <td>1</td>\n",
       "      <td>0.0</td>\n",
       "      <td>-1.0</td>\n",
       "      <td>0.0</td>\n",
       "      <td>0.0</td>\n",
       "    </tr>\n",
       "    <tr>\n",
       "      <th>4</th>\n",
       "      <td>2a11909b3534788b9861e88644f690ce</td>\n",
       "      <td>2024-12-15</td>\n",
       "      <td>2024-09-16</td>\n",
       "      <td>1</td>\n",
       "      <td>1</td>\n",
       "      <td>1</td>\n",
       "      <td>1</td>\n",
       "      <td>0.0</td>\n",
       "      <td>0.0</td>\n",
       "      <td>0.0</td>\n",
       "      <td>0.0</td>\n",
       "    </tr>\n",
       "    <tr>\n",
       "      <th>...</th>\n",
       "      <td>...</td>\n",
       "      <td>...</td>\n",
       "      <td>...</td>\n",
       "      <td>...</td>\n",
       "      <td>...</td>\n",
       "      <td>...</td>\n",
       "      <td>...</td>\n",
       "      <td>...</td>\n",
       "      <td>...</td>\n",
       "      <td>...</td>\n",
       "      <td>...</td>\n",
       "    </tr>\n",
       "    <tr>\n",
       "      <th>168802</th>\n",
       "      <td>420dfe1957978e2c45cf794d04b5e971</td>\n",
       "      <td>2024-12-21</td>\n",
       "      <td>2024-09-22</td>\n",
       "      <td>1</td>\n",
       "      <td>1</td>\n",
       "      <td>1</td>\n",
       "      <td>1</td>\n",
       "      <td>0.0</td>\n",
       "      <td>0.0</td>\n",
       "      <td>0.0</td>\n",
       "      <td>0.0</td>\n",
       "    </tr>\n",
       "    <tr>\n",
       "      <th>168803</th>\n",
       "      <td>aa4efa601115f1fded22c092229caaef</td>\n",
       "      <td>2024-12-21</td>\n",
       "      <td>2024-09-22</td>\n",
       "      <td>1</td>\n",
       "      <td>1</td>\n",
       "      <td>1</td>\n",
       "      <td>1</td>\n",
       "      <td>-1.0</td>\n",
       "      <td>-1.0</td>\n",
       "      <td>0.0</td>\n",
       "      <td>0.0</td>\n",
       "    </tr>\n",
       "    <tr>\n",
       "      <th>168804</th>\n",
       "      <td>4b18d1078d9ca6b324f66038d974579f</td>\n",
       "      <td>2024-12-21</td>\n",
       "      <td>2024-09-22</td>\n",
       "      <td>1</td>\n",
       "      <td>1</td>\n",
       "      <td>1</td>\n",
       "      <td>1</td>\n",
       "      <td>0.0</td>\n",
       "      <td>0.0</td>\n",
       "      <td>0.0</td>\n",
       "      <td>0.0</td>\n",
       "    </tr>\n",
       "    <tr>\n",
       "      <th>168805</th>\n",
       "      <td>592a93860b2e64e73c33a350830fd4cd</td>\n",
       "      <td>2024-12-21</td>\n",
       "      <td>2024-09-22</td>\n",
       "      <td>1</td>\n",
       "      <td>1</td>\n",
       "      <td>1</td>\n",
       "      <td>1</td>\n",
       "      <td>-1.0</td>\n",
       "      <td>-1.0</td>\n",
       "      <td>0.0</td>\n",
       "      <td>0.0</td>\n",
       "    </tr>\n",
       "    <tr>\n",
       "      <th>168806</th>\n",
       "      <td>03db113c247f3140e6f35cfd25dfe56b</td>\n",
       "      <td>2024-12-21</td>\n",
       "      <td>2024-09-22</td>\n",
       "      <td>1</td>\n",
       "      <td>1</td>\n",
       "      <td>1</td>\n",
       "      <td>1</td>\n",
       "      <td>0.0</td>\n",
       "      <td>0.0</td>\n",
       "      <td>0.0</td>\n",
       "      <td>0.0</td>\n",
       "    </tr>\n",
       "  </tbody>\n",
       "</table>\n",
       "<p>168807 rows × 11 columns</p>\n",
       "</div>"
      ],
      "text/plain": [
       "                    smt_decision_makerid delivery_date before_date_14  \\\n",
       "0       1430eb1923b92d755c3488795d8604de    2024-12-15     2024-09-16   \n",
       "1       a711e9297cecbb0aa722d4b58203a022    2024-12-15     2024-09-16   \n",
       "2       7da8b5c5415aaec99c7f08c67e098354    2024-12-15     2024-09-16   \n",
       "3       fbbc58478b830c6034eac0dea072c2a9    2024-12-15     2024-09-16   \n",
       "4       2a11909b3534788b9861e88644f690ce    2024-12-15     2024-09-16   \n",
       "...                                  ...           ...            ...   \n",
       "168802  420dfe1957978e2c45cf794d04b5e971    2024-12-21     2024-09-22   \n",
       "168803  aa4efa601115f1fded22c092229caaef    2024-12-21     2024-09-22   \n",
       "168804  4b18d1078d9ca6b324f66038d974579f    2024-12-21     2024-09-22   \n",
       "168805  592a93860b2e64e73c33a350830fd4cd    2024-12-21     2024-09-22   \n",
       "168806  03db113c247f3140e6f35cfd25dfe56b    2024-12-21     2024-09-22   \n",
       "\n",
       "        call_before  appointment_before  reservation_before  deal_before  \\\n",
       "0                 1                   1                   1            1   \n",
       "1                 1                   1                   1            1   \n",
       "2                 1                   1                   1            1   \n",
       "3                 1                   1                   1            1   \n",
       "4                 1                   1                   1            1   \n",
       "...             ...                 ...                 ...          ...   \n",
       "168802            1                   1                   1            1   \n",
       "168803            1                   1                   1            1   \n",
       "168804            1                   1                   1            1   \n",
       "168805            1                   1                   1            1   \n",
       "168806            1                   1                   1            1   \n",
       "\n",
       "        event_appointment  event_call  event_deal  event_reservation  \n",
       "0                     0.0         0.0         0.0                0.0  \n",
       "1                     0.0         0.0         0.0                0.0  \n",
       "2                     0.0         0.0         0.0                0.0  \n",
       "3                     0.0        -1.0         0.0                0.0  \n",
       "4                     0.0         0.0         0.0                0.0  \n",
       "...                   ...         ...         ...                ...  \n",
       "168802                0.0         0.0         0.0                0.0  \n",
       "168803               -1.0        -1.0         0.0                0.0  \n",
       "168804                0.0         0.0         0.0                0.0  \n",
       "168805               -1.0        -1.0         0.0                0.0  \n",
       "168806                0.0         0.0         0.0                0.0  \n",
       "\n",
       "[168807 rows x 11 columns]"
      ]
     },
     "execution_count": 4935,
     "metadata": {},
     "output_type": "execute_result"
    }
   ],
   "source": [
    "test_"
   ]
  },
  {
   "cell_type": "code",
   "execution_count": 4937,
   "id": "68d4d72e-b1e0-4114-9a0a-44c5904eefc4",
   "metadata": {
    "tags": []
   },
   "outputs": [],
   "source": [
    "test_['call_before_mult'] = (test_['call_before'] + test_['event_call']).astype(int)\n",
    "test_['appointment_before_mult'] = (test_['appointment_before'] + test_['event_appointment']).astype(int)\n",
    "test_['reservation_before_mult'] = (test_['reservation_before'] + test_['event_reservation']).astype(int)\n",
    "test_['deal_before_mult'] = (test_['deal_before'] + test_['event_deal']).astype(int)"
   ]
  },
  {
   "cell_type": "code",
   "execution_count": 4939,
   "id": "b3ad2be7-2dfa-4f47-8533-cb9cc75db5fb",
   "metadata": {
    "tags": []
   },
   "outputs": [],
   "source": [
    "#3) Веса для ЦД"
   ]
  },
  {
   "cell_type": "code",
   "execution_count": 4941,
   "id": "08fb95fb-bff9-45eb-b473-08bef3e1ceac",
   "metadata": {
    "tags": []
   },
   "outputs": [],
   "source": [
    "# звонок - 0.2\n",
    "# встреча - 0.4\n",
    "# бронь - 0.6\n",
    "# покупка - 1"
   ]
  },
  {
   "cell_type": "code",
   "execution_count": 4943,
   "id": "c0d882d5-939a-4528-9719-0514496e3b5a",
   "metadata": {
    "tags": []
   },
   "outputs": [],
   "source": [
    "test_['call_before_mult'] = test_['call_before_mult'] * 0.2\n",
    "test_['appointment_before_mult'] = test_['appointment_before_mult'] * 0.4\n",
    "test_['reservation_before_mult'] = test_['reservation_before_mult'] * 0.6"
   ]
  },
  {
   "cell_type": "code",
   "execution_count": 4945,
   "id": "41ca310f-48f7-46d0-9923-8067d1583a06",
   "metadata": {
    "tags": []
   },
   "outputs": [],
   "source": [
    "test_ = test_[['smt_decision_makerid', 'delivery_date',\n",
    "    'call_before_mult', 'appointment_before_mult', 'reservation_before_mult','deal_before_mult']]"
   ]
  },
  {
   "cell_type": "code",
   "execution_count": 4951,
   "id": "a2bd41a6-fa12-47f4-909e-bcf375d1806a",
   "metadata": {
    "tags": []
   },
   "outputs": [
    {
     "data": {
      "text/html": [
       "<div>\n",
       "<style scoped>\n",
       "    .dataframe tbody tr th:only-of-type {\n",
       "        vertical-align: middle;\n",
       "    }\n",
       "\n",
       "    .dataframe tbody tr th {\n",
       "        vertical-align: top;\n",
       "    }\n",
       "\n",
       "    .dataframe thead th {\n",
       "        text-align: right;\n",
       "    }\n",
       "</style>\n",
       "<table border=\"1\" class=\"dataframe\">\n",
       "  <thead>\n",
       "    <tr style=\"text-align: right;\">\n",
       "      <th></th>\n",
       "      <th>smt_decision_makerid</th>\n",
       "      <th>delivery_date</th>\n",
       "      <th>call_before_mult</th>\n",
       "      <th>appointment_before_mult</th>\n",
       "      <th>reservation_before_mult</th>\n",
       "      <th>deal_before_mult</th>\n",
       "    </tr>\n",
       "  </thead>\n",
       "  <tbody>\n",
       "    <tr>\n",
       "      <th>0</th>\n",
       "      <td>1430eb1923b92d755c3488795d8604de</td>\n",
       "      <td>2024-12-15</td>\n",
       "      <td>0.2</td>\n",
       "      <td>0.4</td>\n",
       "      <td>0.6</td>\n",
       "      <td>1</td>\n",
       "    </tr>\n",
       "    <tr>\n",
       "      <th>1</th>\n",
       "      <td>a711e9297cecbb0aa722d4b58203a022</td>\n",
       "      <td>2024-12-15</td>\n",
       "      <td>0.2</td>\n",
       "      <td>0.4</td>\n",
       "      <td>0.6</td>\n",
       "      <td>1</td>\n",
       "    </tr>\n",
       "    <tr>\n",
       "      <th>2</th>\n",
       "      <td>7da8b5c5415aaec99c7f08c67e098354</td>\n",
       "      <td>2024-12-15</td>\n",
       "      <td>0.2</td>\n",
       "      <td>0.4</td>\n",
       "      <td>0.6</td>\n",
       "      <td>1</td>\n",
       "    </tr>\n",
       "    <tr>\n",
       "      <th>3</th>\n",
       "      <td>fbbc58478b830c6034eac0dea072c2a9</td>\n",
       "      <td>2024-12-15</td>\n",
       "      <td>0.0</td>\n",
       "      <td>0.4</td>\n",
       "      <td>0.6</td>\n",
       "      <td>1</td>\n",
       "    </tr>\n",
       "    <tr>\n",
       "      <th>4</th>\n",
       "      <td>2a11909b3534788b9861e88644f690ce</td>\n",
       "      <td>2024-12-15</td>\n",
       "      <td>0.2</td>\n",
       "      <td>0.4</td>\n",
       "      <td>0.6</td>\n",
       "      <td>1</td>\n",
       "    </tr>\n",
       "    <tr>\n",
       "      <th>...</th>\n",
       "      <td>...</td>\n",
       "      <td>...</td>\n",
       "      <td>...</td>\n",
       "      <td>...</td>\n",
       "      <td>...</td>\n",
       "      <td>...</td>\n",
       "    </tr>\n",
       "    <tr>\n",
       "      <th>168802</th>\n",
       "      <td>420dfe1957978e2c45cf794d04b5e971</td>\n",
       "      <td>2024-12-21</td>\n",
       "      <td>0.2</td>\n",
       "      <td>0.4</td>\n",
       "      <td>0.6</td>\n",
       "      <td>1</td>\n",
       "    </tr>\n",
       "    <tr>\n",
       "      <th>168803</th>\n",
       "      <td>aa4efa601115f1fded22c092229caaef</td>\n",
       "      <td>2024-12-21</td>\n",
       "      <td>0.0</td>\n",
       "      <td>0.0</td>\n",
       "      <td>0.6</td>\n",
       "      <td>1</td>\n",
       "    </tr>\n",
       "    <tr>\n",
       "      <th>168804</th>\n",
       "      <td>4b18d1078d9ca6b324f66038d974579f</td>\n",
       "      <td>2024-12-21</td>\n",
       "      <td>0.2</td>\n",
       "      <td>0.4</td>\n",
       "      <td>0.6</td>\n",
       "      <td>1</td>\n",
       "    </tr>\n",
       "    <tr>\n",
       "      <th>168805</th>\n",
       "      <td>592a93860b2e64e73c33a350830fd4cd</td>\n",
       "      <td>2024-12-21</td>\n",
       "      <td>0.0</td>\n",
       "      <td>0.0</td>\n",
       "      <td>0.6</td>\n",
       "      <td>1</td>\n",
       "    </tr>\n",
       "    <tr>\n",
       "      <th>168806</th>\n",
       "      <td>03db113c247f3140e6f35cfd25dfe56b</td>\n",
       "      <td>2024-12-21</td>\n",
       "      <td>0.2</td>\n",
       "      <td>0.4</td>\n",
       "      <td>0.6</td>\n",
       "      <td>1</td>\n",
       "    </tr>\n",
       "  </tbody>\n",
       "</table>\n",
       "<p>168807 rows × 6 columns</p>\n",
       "</div>"
      ],
      "text/plain": [
       "                    smt_decision_makerid delivery_date  call_before_mult  \\\n",
       "0       1430eb1923b92d755c3488795d8604de    2024-12-15               0.2   \n",
       "1       a711e9297cecbb0aa722d4b58203a022    2024-12-15               0.2   \n",
       "2       7da8b5c5415aaec99c7f08c67e098354    2024-12-15               0.2   \n",
       "3       fbbc58478b830c6034eac0dea072c2a9    2024-12-15               0.0   \n",
       "4       2a11909b3534788b9861e88644f690ce    2024-12-15               0.2   \n",
       "...                                  ...           ...               ...   \n",
       "168802  420dfe1957978e2c45cf794d04b5e971    2024-12-21               0.2   \n",
       "168803  aa4efa601115f1fded22c092229caaef    2024-12-21               0.0   \n",
       "168804  4b18d1078d9ca6b324f66038d974579f    2024-12-21               0.2   \n",
       "168805  592a93860b2e64e73c33a350830fd4cd    2024-12-21               0.0   \n",
       "168806  03db113c247f3140e6f35cfd25dfe56b    2024-12-21               0.2   \n",
       "\n",
       "        appointment_before_mult  reservation_before_mult  deal_before_mult  \n",
       "0                           0.4                      0.6                 1  \n",
       "1                           0.4                      0.6                 1  \n",
       "2                           0.4                      0.6                 1  \n",
       "3                           0.4                      0.6                 1  \n",
       "4                           0.4                      0.6                 1  \n",
       "...                         ...                      ...               ...  \n",
       "168802                      0.4                      0.6                 1  \n",
       "168803                      0.0                      0.6                 1  \n",
       "168804                      0.4                      0.6                 1  \n",
       "168805                      0.0                      0.6                 1  \n",
       "168806                      0.4                      0.6                 1  \n",
       "\n",
       "[168807 rows x 6 columns]"
      ]
     },
     "execution_count": 4951,
     "metadata": {},
     "output_type": "execute_result"
    }
   ],
   "source": [
    "# в таблице множители для скоров\n",
    "# домножаем на 1, если ЦД раньше не было, то есть всё норм\n",
    "# домножаем на 0, если ЦД раньше было - т.е. не рассматриваем\n",
    "test_\n",
    "\n"
   ]
  },
  {
   "cell_type": "code",
   "execution_count": 4953,
   "id": "8ff95d80-c622-4fd9-aa30-cfc0db653627",
   "metadata": {
    "tags": []
   },
   "outputs": [
    {
     "name": "stderr",
     "output_type": "stream",
     "text": [
      "/var/folders/z2/2_vkl0857zddhqnj2vn7yx440000gn/T/ipykernel_21224/1499834219.py:1: SettingWithCopyWarning: \n",
      "A value is trying to be set on a copy of a slice from a DataFrame.\n",
      "Try using .loc[row_indexer,col_indexer] = value instead\n",
      "\n",
      "See the caveats in the documentation: https://pandas.pydata.org/pandas-docs/stable/user_guide/indexing.html#returning-a-view-versus-a-copy\n",
      "  test_['call_before_mult'] = test_[['call_before_mult', 'appointment_before_mult','reservation_before_mult']].min(axis=1)\n"
     ]
    }
   ],
   "source": [
    "test_['call_before_mult'] = test_[['call_before_mult', 'appointment_before_mult','reservation_before_mult']].min(axis=1)"
   ]
  },
  {
   "cell_type": "code",
   "execution_count": 4955,
   "id": "39fd59d3-89d9-48cc-a039-8e76c9599117",
   "metadata": {
    "tags": []
   },
   "outputs": [
    {
     "name": "stderr",
     "output_type": "stream",
     "text": [
      "/var/folders/z2/2_vkl0857zddhqnj2vn7yx440000gn/T/ipykernel_21224/1087733205.py:1: SettingWithCopyWarning: \n",
      "A value is trying to be set on a copy of a slice from a DataFrame.\n",
      "Try using .loc[row_indexer,col_indexer] = value instead\n",
      "\n",
      "See the caveats in the documentation: https://pandas.pydata.org/pandas-docs/stable/user_guide/indexing.html#returning-a-view-versus-a-copy\n",
      "  test_['appointment_before_mult'] = test_[['appointment_before_mult','reservation_before_mult']].min(axis=1)\n"
     ]
    }
   ],
   "source": [
    "test_['appointment_before_mult'] = test_[['appointment_before_mult','reservation_before_mult']].min(axis=1)"
   ]
  },
  {
   "cell_type": "code",
   "execution_count": null,
   "id": "1befa0de-c495-4e06-8e87-9cd99d93cca4",
   "metadata": {},
   "outputs": [],
   "source": []
  },
  {
   "cell_type": "markdown",
   "id": "d313d705-7c95-4972-a236-3c0bcb09d2be",
   "metadata": {},
   "source": [
    "### 3) Объединяем -> получаем реальные типы ЦД, которые передаем дальше"
   ]
  },
  {
   "cell_type": "code",
   "execution_count": 4959,
   "id": "062759df-7774-4172-9deb-66524e02c793",
   "metadata": {
    "tags": []
   },
   "outputs": [
    {
     "data": {
      "text/plain": [
       "Index(['smt_decision_makerid', 'report_date', 'delivery_date',\n",
       "       'previous_sunday', 'target_event', 'tag_product', 'tag_project_type',\n",
       "       'tag_chain_flag', 'tag_model_flag', 'appointment', 'call', 'deal',\n",
       "       'reservation'],\n",
       "      dtype='object')"
      ]
     },
     "execution_count": 4959,
     "metadata": {},
     "output_type": "execute_result"
    }
   ],
   "source": [
    "test_full.columns[360:]"
   ]
  },
  {
   "cell_type": "code",
   "execution_count": 4961,
   "id": "f5dc1aeb-0d3c-4a4b-b764-244ba0b528a0",
   "metadata": {
    "tags": []
   },
   "outputs": [],
   "source": [
    "# test_main_fcst = test_full[['smt_decision_makerid', 'delivery_date', \n",
    "#     'target_event','tag_product','tag_project_type', 'tag_chain_flag', 'tag_model_flag']]\n",
    "#     #'call_score', 'appointment_score', 'reservation_score','deal_score']]"
   ]
  },
  {
   "cell_type": "code",
   "execution_count": 4963,
   "id": "049dff33-a00d-4c18-bda9-bb222f86b9bf",
   "metadata": {
    "tags": []
   },
   "outputs": [
    {
     "ename": "KeyError",
     "evalue": "\"['call_score', 'appointment_score', 'reservation_score', 'deal_score'] not in index\"",
     "output_type": "error",
     "traceback": [
      "\u001b[0;31m---------------------------------------------------------------------------\u001b[0m",
      "\u001b[0;31mKeyError\u001b[0m                                  Traceback (most recent call last)",
      "Cell \u001b[0;32mIn[4963], line 1\u001b[0m\n\u001b[0;32m----> 1\u001b[0m df_res_1_step \u001b[38;5;241m=\u001b[39m pd\u001b[38;5;241m.\u001b[39mmerge(test_full[[\u001b[38;5;124m'\u001b[39m\u001b[38;5;124msmt_decision_makerid\u001b[39m\u001b[38;5;124m'\u001b[39m, \u001b[38;5;124m'\u001b[39m\u001b[38;5;124mdelivery_date\u001b[39m\u001b[38;5;124m'\u001b[39m,\u001b[38;5;124m'\u001b[39m\u001b[38;5;124mtarget_event\u001b[39m\u001b[38;5;124m'\u001b[39m, \u001b[38;5;124m'\u001b[39m\u001b[38;5;124mcall_score\u001b[39m\u001b[38;5;124m'\u001b[39m, \u001b[38;5;124m'\u001b[39m\u001b[38;5;124mappointment_score\u001b[39m\u001b[38;5;124m'\u001b[39m, \u001b[38;5;124m'\u001b[39m\u001b[38;5;124mreservation_score\u001b[39m\u001b[38;5;124m'\u001b[39m,\u001b[38;5;124m'\u001b[39m\u001b[38;5;124mdeal_score\u001b[39m\u001b[38;5;124m'\u001b[39m]]\n\u001b[1;32m      2\u001b[0m         , test_, how \u001b[38;5;241m=\u001b[39m \u001b[38;5;124m'\u001b[39m\u001b[38;5;124minner\u001b[39m\u001b[38;5;124m'\u001b[39m, on \u001b[38;5;241m=\u001b[39m [\u001b[38;5;124m'\u001b[39m\u001b[38;5;124msmt_decision_makerid\u001b[39m\u001b[38;5;124m'\u001b[39m,\u001b[38;5;124m'\u001b[39m\u001b[38;5;124mdelivery_date\u001b[39m\u001b[38;5;124m'\u001b[39m])\n",
      "File \u001b[0;32m~/anaconda3/lib/python3.11/site-packages/pandas/core/frame.py:3767\u001b[0m, in \u001b[0;36mDataFrame.__getitem__\u001b[0;34m(self, key)\u001b[0m\n\u001b[1;32m   3765\u001b[0m     \u001b[38;5;28;01mif\u001b[39;00m is_iterator(key):\n\u001b[1;32m   3766\u001b[0m         key \u001b[38;5;241m=\u001b[39m \u001b[38;5;28mlist\u001b[39m(key)\n\u001b[0;32m-> 3767\u001b[0m     indexer \u001b[38;5;241m=\u001b[39m \u001b[38;5;28mself\u001b[39m\u001b[38;5;241m.\u001b[39mcolumns\u001b[38;5;241m.\u001b[39m_get_indexer_strict(key, \u001b[38;5;124m\"\u001b[39m\u001b[38;5;124mcolumns\u001b[39m\u001b[38;5;124m\"\u001b[39m)[\u001b[38;5;241m1\u001b[39m]\n\u001b[1;32m   3769\u001b[0m \u001b[38;5;66;03m# take() does not accept boolean indexers\u001b[39;00m\n\u001b[1;32m   3770\u001b[0m \u001b[38;5;28;01mif\u001b[39;00m \u001b[38;5;28mgetattr\u001b[39m(indexer, \u001b[38;5;124m\"\u001b[39m\u001b[38;5;124mdtype\u001b[39m\u001b[38;5;124m\"\u001b[39m, \u001b[38;5;28;01mNone\u001b[39;00m) \u001b[38;5;241m==\u001b[39m \u001b[38;5;28mbool\u001b[39m:\n",
      "File \u001b[0;32m~/anaconda3/lib/python3.11/site-packages/pandas/core/indexes/base.py:5877\u001b[0m, in \u001b[0;36mIndex._get_indexer_strict\u001b[0;34m(self, key, axis_name)\u001b[0m\n\u001b[1;32m   5874\u001b[0m \u001b[38;5;28;01melse\u001b[39;00m:\n\u001b[1;32m   5875\u001b[0m     keyarr, indexer, new_indexer \u001b[38;5;241m=\u001b[39m \u001b[38;5;28mself\u001b[39m\u001b[38;5;241m.\u001b[39m_reindex_non_unique(keyarr)\n\u001b[0;32m-> 5877\u001b[0m \u001b[38;5;28mself\u001b[39m\u001b[38;5;241m.\u001b[39m_raise_if_missing(keyarr, indexer, axis_name)\n\u001b[1;32m   5879\u001b[0m keyarr \u001b[38;5;241m=\u001b[39m \u001b[38;5;28mself\u001b[39m\u001b[38;5;241m.\u001b[39mtake(indexer)\n\u001b[1;32m   5880\u001b[0m \u001b[38;5;28;01mif\u001b[39;00m \u001b[38;5;28misinstance\u001b[39m(key, Index):\n\u001b[1;32m   5881\u001b[0m     \u001b[38;5;66;03m# GH 42790 - Preserve name from an Index\u001b[39;00m\n",
      "File \u001b[0;32m~/anaconda3/lib/python3.11/site-packages/pandas/core/indexes/base.py:5941\u001b[0m, in \u001b[0;36mIndex._raise_if_missing\u001b[0;34m(self, key, indexer, axis_name)\u001b[0m\n\u001b[1;32m   5938\u001b[0m     \u001b[38;5;28;01mraise\u001b[39;00m \u001b[38;5;167;01mKeyError\u001b[39;00m(\u001b[38;5;124mf\u001b[39m\u001b[38;5;124m\"\u001b[39m\u001b[38;5;124mNone of [\u001b[39m\u001b[38;5;132;01m{\u001b[39;00mkey\u001b[38;5;132;01m}\u001b[39;00m\u001b[38;5;124m] are in the [\u001b[39m\u001b[38;5;132;01m{\u001b[39;00maxis_name\u001b[38;5;132;01m}\u001b[39;00m\u001b[38;5;124m]\u001b[39m\u001b[38;5;124m\"\u001b[39m)\n\u001b[1;32m   5940\u001b[0m not_found \u001b[38;5;241m=\u001b[39m \u001b[38;5;28mlist\u001b[39m(ensure_index(key)[missing_mask\u001b[38;5;241m.\u001b[39mnonzero()[\u001b[38;5;241m0\u001b[39m]]\u001b[38;5;241m.\u001b[39munique())\n\u001b[0;32m-> 5941\u001b[0m \u001b[38;5;28;01mraise\u001b[39;00m \u001b[38;5;167;01mKeyError\u001b[39;00m(\u001b[38;5;124mf\u001b[39m\u001b[38;5;124m\"\u001b[39m\u001b[38;5;132;01m{\u001b[39;00mnot_found\u001b[38;5;132;01m}\u001b[39;00m\u001b[38;5;124m not in index\u001b[39m\u001b[38;5;124m\"\u001b[39m)\n",
      "\u001b[0;31mKeyError\u001b[0m: \"['call_score', 'appointment_score', 'reservation_score', 'deal_score'] not in index\""
     ]
    }
   ],
   "source": [
    "df_res_1_step = pd.merge(test_full[['smt_decision_makerid', 'delivery_date','target_event', 'call_score', 'appointment_score', 'reservation_score','deal_score']]\n",
    "        , test_, how = 'inner', on = ['smt_decision_makerid','delivery_date'])"
   ]
  },
  {
   "cell_type": "code",
   "execution_count": 1336,
   "id": "1e3dd2a4-7347-4137-90fb-254c865d4e44",
   "metadata": {
    "tags": []
   },
   "outputs": [],
   "source": [
    "df_res_1_step['call_res'] = df_res_1_step['call_score'] * df_res_1_step['call_before_mult'] \n",
    "df_res_1_step['appointment_res'] = df_res_1_step['appointment_score'] * df_res_1_step['appointment_before_mult'] \n",
    "df_res_1_step['reservation_res'] = df_res_1_step['reservation_score'] * df_res_1_step['reservation_before_mult'] \n",
    "df_res_1_step['deal_res'] = df_res_1_step['deal_score'] * df_res_1_step['deal_before_mult'] "
   ]
  },
  {
   "cell_type": "code",
   "execution_count": 1338,
   "id": "e0a21ee0-f083-4f02-9f39-390a4fc6eefc",
   "metadata": {
    "tags": []
   },
   "outputs": [
    {
     "data": {
      "text/html": [
       "<div>\n",
       "<style scoped>\n",
       "    .dataframe tbody tr th:only-of-type {\n",
       "        vertical-align: middle;\n",
       "    }\n",
       "\n",
       "    .dataframe tbody tr th {\n",
       "        vertical-align: top;\n",
       "    }\n",
       "\n",
       "    .dataframe thead th {\n",
       "        text-align: right;\n",
       "    }\n",
       "</style>\n",
       "<table border=\"1\" class=\"dataframe\">\n",
       "  <thead>\n",
       "    <tr style=\"text-align: right;\">\n",
       "      <th></th>\n",
       "      <th>smt_decision_makerid</th>\n",
       "      <th>delivery_date</th>\n",
       "      <th>target_event</th>\n",
       "      <th>call_score</th>\n",
       "      <th>appointment_score</th>\n",
       "      <th>reservation_score</th>\n",
       "      <th>deal_score</th>\n",
       "      <th>call_before_mult</th>\n",
       "      <th>appointment_before_mult</th>\n",
       "      <th>reservation_before_mult</th>\n",
       "      <th>deal_before_mult</th>\n",
       "      <th>call_res</th>\n",
       "      <th>appointment_res</th>\n",
       "      <th>reservation_res</th>\n",
       "      <th>deal_res</th>\n",
       "    </tr>\n",
       "  </thead>\n",
       "  <tbody>\n",
       "    <tr>\n",
       "      <th>0</th>\n",
       "      <td>a024eeadd2a9bc8597d91126a11df815</td>\n",
       "      <td>2024-12-18</td>\n",
       "      <td>call</td>\n",
       "      <td>0.052478</td>\n",
       "      <td>0.019821</td>\n",
       "      <td>0.008617</td>\n",
       "      <td>0.007171</td>\n",
       "      <td>0.2</td>\n",
       "      <td>0.4</td>\n",
       "      <td>0.6</td>\n",
       "      <td>1</td>\n",
       "      <td>0.010496</td>\n",
       "      <td>0.007929</td>\n",
       "      <td>0.005170</td>\n",
       "      <td>0.007171</td>\n",
       "    </tr>\n",
       "    <tr>\n",
       "      <th>1</th>\n",
       "      <td>2e06f41ab8495ef1f51c014d62fa4698</td>\n",
       "      <td>2024-12-18</td>\n",
       "      <td>call</td>\n",
       "      <td>0.035005</td>\n",
       "      <td>0.011168</td>\n",
       "      <td>0.006730</td>\n",
       "      <td>0.005903</td>\n",
       "      <td>0.2</td>\n",
       "      <td>0.4</td>\n",
       "      <td>0.6</td>\n",
       "      <td>1</td>\n",
       "      <td>0.007001</td>\n",
       "      <td>0.004467</td>\n",
       "      <td>0.004038</td>\n",
       "      <td>0.005903</td>\n",
       "    </tr>\n",
       "    <tr>\n",
       "      <th>2</th>\n",
       "      <td>45d087c08c8935951dbeca6b63c5acb7</td>\n",
       "      <td>2024-12-18</td>\n",
       "      <td>call</td>\n",
       "      <td>0.052100</td>\n",
       "      <td>0.016511</td>\n",
       "      <td>0.006870</td>\n",
       "      <td>0.005735</td>\n",
       "      <td>0.2</td>\n",
       "      <td>0.4</td>\n",
       "      <td>0.6</td>\n",
       "      <td>1</td>\n",
       "      <td>0.010420</td>\n",
       "      <td>0.006604</td>\n",
       "      <td>0.004122</td>\n",
       "      <td>0.005735</td>\n",
       "    </tr>\n",
       "    <tr>\n",
       "      <th>3</th>\n",
       "      <td>9aed9813e6881f5a58d5a8c7158771b4</td>\n",
       "      <td>2024-12-16</td>\n",
       "      <td>call</td>\n",
       "      <td>0.049137</td>\n",
       "      <td>0.016033</td>\n",
       "      <td>0.007483</td>\n",
       "      <td>0.005755</td>\n",
       "      <td>0.2</td>\n",
       "      <td>0.4</td>\n",
       "      <td>0.6</td>\n",
       "      <td>1</td>\n",
       "      <td>0.009827</td>\n",
       "      <td>0.006413</td>\n",
       "      <td>0.004490</td>\n",
       "      <td>0.005755</td>\n",
       "    </tr>\n",
       "    <tr>\n",
       "      <th>4</th>\n",
       "      <td>42358f2cf5e091a253a54259e058b855</td>\n",
       "      <td>2024-12-18</td>\n",
       "      <td>call</td>\n",
       "      <td>0.052211</td>\n",
       "      <td>0.017353</td>\n",
       "      <td>0.006437</td>\n",
       "      <td>0.004874</td>\n",
       "      <td>0.2</td>\n",
       "      <td>0.4</td>\n",
       "      <td>0.6</td>\n",
       "      <td>1</td>\n",
       "      <td>0.010442</td>\n",
       "      <td>0.006941</td>\n",
       "      <td>0.003862</td>\n",
       "      <td>0.004874</td>\n",
       "    </tr>\n",
       "    <tr>\n",
       "      <th>...</th>\n",
       "      <td>...</td>\n",
       "      <td>...</td>\n",
       "      <td>...</td>\n",
       "      <td>...</td>\n",
       "      <td>...</td>\n",
       "      <td>...</td>\n",
       "      <td>...</td>\n",
       "      <td>...</td>\n",
       "      <td>...</td>\n",
       "      <td>...</td>\n",
       "      <td>...</td>\n",
       "      <td>...</td>\n",
       "      <td>...</td>\n",
       "      <td>...</td>\n",
       "      <td>...</td>\n",
       "    </tr>\n",
       "    <tr>\n",
       "      <th>169064</th>\n",
       "      <td>2fafb2d053c7d717ab053a5252ad8316</td>\n",
       "      <td>2024-12-19</td>\n",
       "      <td>call</td>\n",
       "      <td>0.052478</td>\n",
       "      <td>0.019821</td>\n",
       "      <td>0.008617</td>\n",
       "      <td>0.007171</td>\n",
       "      <td>0.2</td>\n",
       "      <td>0.4</td>\n",
       "      <td>0.6</td>\n",
       "      <td>1</td>\n",
       "      <td>0.010496</td>\n",
       "      <td>0.007929</td>\n",
       "      <td>0.005170</td>\n",
       "      <td>0.007171</td>\n",
       "    </tr>\n",
       "    <tr>\n",
       "      <th>169065</th>\n",
       "      <td>3b6f4224c840b959d0ce6614a84dc6e0</td>\n",
       "      <td>2024-12-19</td>\n",
       "      <td>call</td>\n",
       "      <td>0.052478</td>\n",
       "      <td>0.019821</td>\n",
       "      <td>0.008617</td>\n",
       "      <td>0.007171</td>\n",
       "      <td>0.2</td>\n",
       "      <td>0.4</td>\n",
       "      <td>0.6</td>\n",
       "      <td>1</td>\n",
       "      <td>0.010496</td>\n",
       "      <td>0.007929</td>\n",
       "      <td>0.005170</td>\n",
       "      <td>0.007171</td>\n",
       "    </tr>\n",
       "    <tr>\n",
       "      <th>169066</th>\n",
       "      <td>c2ff7b9060dbaf6535ff43e5e7dd80e4</td>\n",
       "      <td>2024-12-19</td>\n",
       "      <td>call</td>\n",
       "      <td>0.059068</td>\n",
       "      <td>0.018641</td>\n",
       "      <td>0.008652</td>\n",
       "      <td>0.007221</td>\n",
       "      <td>0.2</td>\n",
       "      <td>0.4</td>\n",
       "      <td>0.6</td>\n",
       "      <td>1</td>\n",
       "      <td>0.011814</td>\n",
       "      <td>0.007457</td>\n",
       "      <td>0.005191</td>\n",
       "      <td>0.007221</td>\n",
       "    </tr>\n",
       "    <tr>\n",
       "      <th>169067</th>\n",
       "      <td>997d06aa5ef9ecfdd074bb3d605f1ff6</td>\n",
       "      <td>2024-12-19</td>\n",
       "      <td>call</td>\n",
       "      <td>0.052478</td>\n",
       "      <td>0.019821</td>\n",
       "      <td>0.008617</td>\n",
       "      <td>0.007171</td>\n",
       "      <td>0.0</td>\n",
       "      <td>0.4</td>\n",
       "      <td>0.6</td>\n",
       "      <td>1</td>\n",
       "      <td>0.000000</td>\n",
       "      <td>0.007929</td>\n",
       "      <td>0.005170</td>\n",
       "      <td>0.007171</td>\n",
       "    </tr>\n",
       "    <tr>\n",
       "      <th>169068</th>\n",
       "      <td>1b10ad1b5296148129d3cb57f5c6f7af</td>\n",
       "      <td>2024-12-19</td>\n",
       "      <td>call</td>\n",
       "      <td>0.052478</td>\n",
       "      <td>0.019821</td>\n",
       "      <td>0.008617</td>\n",
       "      <td>0.007171</td>\n",
       "      <td>0.2</td>\n",
       "      <td>0.4</td>\n",
       "      <td>0.6</td>\n",
       "      <td>1</td>\n",
       "      <td>0.010496</td>\n",
       "      <td>0.007929</td>\n",
       "      <td>0.005170</td>\n",
       "      <td>0.007171</td>\n",
       "    </tr>\n",
       "  </tbody>\n",
       "</table>\n",
       "<p>169069 rows × 15 columns</p>\n",
       "</div>"
      ],
      "text/plain": [
       "                    smt_decision_makerid delivery_date target_event  \\\n",
       "0       a024eeadd2a9bc8597d91126a11df815    2024-12-18         call   \n",
       "1       2e06f41ab8495ef1f51c014d62fa4698    2024-12-18         call   \n",
       "2       45d087c08c8935951dbeca6b63c5acb7    2024-12-18         call   \n",
       "3       9aed9813e6881f5a58d5a8c7158771b4    2024-12-16         call   \n",
       "4       42358f2cf5e091a253a54259e058b855    2024-12-18         call   \n",
       "...                                  ...           ...          ...   \n",
       "169064  2fafb2d053c7d717ab053a5252ad8316    2024-12-19         call   \n",
       "169065  3b6f4224c840b959d0ce6614a84dc6e0    2024-12-19         call   \n",
       "169066  c2ff7b9060dbaf6535ff43e5e7dd80e4    2024-12-19         call   \n",
       "169067  997d06aa5ef9ecfdd074bb3d605f1ff6    2024-12-19         call   \n",
       "169068  1b10ad1b5296148129d3cb57f5c6f7af    2024-12-19         call   \n",
       "\n",
       "        call_score  appointment_score  reservation_score  deal_score  \\\n",
       "0         0.052478           0.019821           0.008617    0.007171   \n",
       "1         0.035005           0.011168           0.006730    0.005903   \n",
       "2         0.052100           0.016511           0.006870    0.005735   \n",
       "3         0.049137           0.016033           0.007483    0.005755   \n",
       "4         0.052211           0.017353           0.006437    0.004874   \n",
       "...            ...                ...                ...         ...   \n",
       "169064    0.052478           0.019821           0.008617    0.007171   \n",
       "169065    0.052478           0.019821           0.008617    0.007171   \n",
       "169066    0.059068           0.018641           0.008652    0.007221   \n",
       "169067    0.052478           0.019821           0.008617    0.007171   \n",
       "169068    0.052478           0.019821           0.008617    0.007171   \n",
       "\n",
       "        call_before_mult  appointment_before_mult  reservation_before_mult  \\\n",
       "0                    0.2                      0.4                      0.6   \n",
       "1                    0.2                      0.4                      0.6   \n",
       "2                    0.2                      0.4                      0.6   \n",
       "3                    0.2                      0.4                      0.6   \n",
       "4                    0.2                      0.4                      0.6   \n",
       "...                  ...                      ...                      ...   \n",
       "169064               0.2                      0.4                      0.6   \n",
       "169065               0.2                      0.4                      0.6   \n",
       "169066               0.2                      0.4                      0.6   \n",
       "169067               0.0                      0.4                      0.6   \n",
       "169068               0.2                      0.4                      0.6   \n",
       "\n",
       "        deal_before_mult  call_res  appointment_res  reservation_res  deal_res  \n",
       "0                      1  0.010496         0.007929         0.005170  0.007171  \n",
       "1                      1  0.007001         0.004467         0.004038  0.005903  \n",
       "2                      1  0.010420         0.006604         0.004122  0.005735  \n",
       "3                      1  0.009827         0.006413         0.004490  0.005755  \n",
       "4                      1  0.010442         0.006941         0.003862  0.004874  \n",
       "...                  ...       ...              ...              ...       ...  \n",
       "169064                 1  0.010496         0.007929         0.005170  0.007171  \n",
       "169065                 1  0.010496         0.007929         0.005170  0.007171  \n",
       "169066                 1  0.011814         0.007457         0.005191  0.007221  \n",
       "169067                 1  0.000000         0.007929         0.005170  0.007171  \n",
       "169068                 1  0.010496         0.007929         0.005170  0.007171  \n",
       "\n",
       "[169069 rows x 15 columns]"
      ]
     },
     "execution_count": 1338,
     "metadata": {},
     "output_type": "execute_result"
    }
   ],
   "source": [
    "df_res_1_step"
   ]
  },
  {
   "cell_type": "code",
   "execution_count": 1340,
   "id": "05565a12-5cab-4feb-a23e-bedb57955e4e",
   "metadata": {
    "tags": []
   },
   "outputs": [],
   "source": [
    "cols_score = ['call_score', 'appointment_score', 'reservation_score', 'deal_score']"
   ]
  },
  {
   "cell_type": "code",
   "execution_count": 1342,
   "id": "926f4fda-4aae-46e7-896c-8f717f47f181",
   "metadata": {
    "tags": []
   },
   "outputs": [],
   "source": [
    "# макс прогноз модели без учета повторов\n",
    "df_res_1_step['event_fcst'] = df_res_1_step[cols_score].idxmax(axis=1)"
   ]
  },
  {
   "cell_type": "code",
   "execution_count": 1344,
   "id": "e1f0268e-d492-4d65-a73d-3808b0073b46",
   "metadata": {
    "tags": []
   },
   "outputs": [],
   "source": [
    "df_res_1_step['event_fcst'] = df_res_1_step['event_fcst'].apply(lambda x : x.replace('_score',''))"
   ]
  },
  {
   "cell_type": "code",
   "execution_count": 1346,
   "id": "84220eb0-869c-46a4-a949-dad5aebda854",
   "metadata": {
    "tags": []
   },
   "outputs": [
    {
     "data": {
      "text/plain": [
       "event_fcst\n",
       "call    169069\n",
       "Name: count, dtype: int64"
      ]
     },
     "execution_count": 1346,
     "metadata": {},
     "output_type": "execute_result"
    }
   ],
   "source": [
    "df_res_1_step.event_fcst.value_counts()"
   ]
  },
  {
   "cell_type": "code",
   "execution_count": 1348,
   "id": "2f8ee21f-41fa-49af-a094-f6fffdcf4cf9",
   "metadata": {
    "tags": []
   },
   "outputs": [],
   "source": [
    "cols_res = ['call_res', 'appointment_res', 'reservation_res', 'deal_res']"
   ]
  },
  {
   "cell_type": "code",
   "execution_count": 1350,
   "id": "4782200b-2553-4ab4-ac32-b23de192a83a",
   "metadata": {
    "tags": []
   },
   "outputs": [],
   "source": [
    "# поле с максимумом\n",
    "df_res_1_step['event_res'] = df_res_1_step[cols_res].idxmax(axis=1)"
   ]
  },
  {
   "cell_type": "code",
   "execution_count": 1352,
   "id": "80217bfd-4f45-45c4-9abd-143e3549da84",
   "metadata": {
    "tags": []
   },
   "outputs": [],
   "source": [
    "df_res_1_step['event_res'] = df_res_1_step['event_res'].apply(lambda x : x.replace('_res',''))"
   ]
  },
  {
   "cell_type": "code",
   "execution_count": 1354,
   "id": "5afca3a3-54f4-45fe-9fe2-de239dd3f216",
   "metadata": {
    "tags": []
   },
   "outputs": [
    {
     "data": {
      "text/plain": [
       "event_res\n",
       "call           129833\n",
       "appointment     25098\n",
       "deal            14085\n",
       "reservation        53\n",
       "Name: count, dtype: int64"
      ]
     },
     "execution_count": 1354,
     "metadata": {},
     "output_type": "execute_result"
    }
   ],
   "source": [
    "df_res_1_step.event_res.value_counts()"
   ]
  },
  {
   "cell_type": "code",
   "execution_count": 1356,
   "id": "dd2d5d0a-6c06-45bb-9e7d-bcbb897edca6",
   "metadata": {
    "tags": []
   },
   "outputs": [
    {
     "data": {
      "text/html": [
       "<div>\n",
       "<style scoped>\n",
       "    .dataframe tbody tr th:only-of-type {\n",
       "        vertical-align: middle;\n",
       "    }\n",
       "\n",
       "    .dataframe tbody tr th {\n",
       "        vertical-align: top;\n",
       "    }\n",
       "\n",
       "    .dataframe thead th {\n",
       "        text-align: right;\n",
       "    }\n",
       "</style>\n",
       "<table border=\"1\" class=\"dataframe\">\n",
       "  <thead>\n",
       "    <tr style=\"text-align: right;\">\n",
       "      <th></th>\n",
       "      <th>smt_decision_makerid</th>\n",
       "      <th>delivery_date</th>\n",
       "      <th>target_event</th>\n",
       "      <th>event_res</th>\n",
       "    </tr>\n",
       "  </thead>\n",
       "  <tbody>\n",
       "    <tr>\n",
       "      <th>0</th>\n",
       "      <td>a024eeadd2a9bc8597d91126a11df815</td>\n",
       "      <td>2024-12-18</td>\n",
       "      <td>call</td>\n",
       "      <td>call</td>\n",
       "    </tr>\n",
       "    <tr>\n",
       "      <th>1</th>\n",
       "      <td>2e06f41ab8495ef1f51c014d62fa4698</td>\n",
       "      <td>2024-12-18</td>\n",
       "      <td>call</td>\n",
       "      <td>call</td>\n",
       "    </tr>\n",
       "    <tr>\n",
       "      <th>2</th>\n",
       "      <td>45d087c08c8935951dbeca6b63c5acb7</td>\n",
       "      <td>2024-12-18</td>\n",
       "      <td>call</td>\n",
       "      <td>call</td>\n",
       "    </tr>\n",
       "    <tr>\n",
       "      <th>3</th>\n",
       "      <td>9aed9813e6881f5a58d5a8c7158771b4</td>\n",
       "      <td>2024-12-16</td>\n",
       "      <td>call</td>\n",
       "      <td>call</td>\n",
       "    </tr>\n",
       "    <tr>\n",
       "      <th>4</th>\n",
       "      <td>42358f2cf5e091a253a54259e058b855</td>\n",
       "      <td>2024-12-18</td>\n",
       "      <td>call</td>\n",
       "      <td>call</td>\n",
       "    </tr>\n",
       "    <tr>\n",
       "      <th>...</th>\n",
       "      <td>...</td>\n",
       "      <td>...</td>\n",
       "      <td>...</td>\n",
       "      <td>...</td>\n",
       "    </tr>\n",
       "    <tr>\n",
       "      <th>169064</th>\n",
       "      <td>2fafb2d053c7d717ab053a5252ad8316</td>\n",
       "      <td>2024-12-19</td>\n",
       "      <td>call</td>\n",
       "      <td>call</td>\n",
       "    </tr>\n",
       "    <tr>\n",
       "      <th>169065</th>\n",
       "      <td>3b6f4224c840b959d0ce6614a84dc6e0</td>\n",
       "      <td>2024-12-19</td>\n",
       "      <td>call</td>\n",
       "      <td>call</td>\n",
       "    </tr>\n",
       "    <tr>\n",
       "      <th>169066</th>\n",
       "      <td>c2ff7b9060dbaf6535ff43e5e7dd80e4</td>\n",
       "      <td>2024-12-19</td>\n",
       "      <td>call</td>\n",
       "      <td>call</td>\n",
       "    </tr>\n",
       "    <tr>\n",
       "      <th>169067</th>\n",
       "      <td>997d06aa5ef9ecfdd074bb3d605f1ff6</td>\n",
       "      <td>2024-12-19</td>\n",
       "      <td>call</td>\n",
       "      <td>appointment</td>\n",
       "    </tr>\n",
       "    <tr>\n",
       "      <th>169068</th>\n",
       "      <td>1b10ad1b5296148129d3cb57f5c6f7af</td>\n",
       "      <td>2024-12-19</td>\n",
       "      <td>call</td>\n",
       "      <td>call</td>\n",
       "    </tr>\n",
       "  </tbody>\n",
       "</table>\n",
       "<p>169069 rows × 4 columns</p>\n",
       "</div>"
      ],
      "text/plain": [
       "                    smt_decision_makerid delivery_date target_event  \\\n",
       "0       a024eeadd2a9bc8597d91126a11df815    2024-12-18         call   \n",
       "1       2e06f41ab8495ef1f51c014d62fa4698    2024-12-18         call   \n",
       "2       45d087c08c8935951dbeca6b63c5acb7    2024-12-18         call   \n",
       "3       9aed9813e6881f5a58d5a8c7158771b4    2024-12-16         call   \n",
       "4       42358f2cf5e091a253a54259e058b855    2024-12-18         call   \n",
       "...                                  ...           ...          ...   \n",
       "169064  2fafb2d053c7d717ab053a5252ad8316    2024-12-19         call   \n",
       "169065  3b6f4224c840b959d0ce6614a84dc6e0    2024-12-19         call   \n",
       "169066  c2ff7b9060dbaf6535ff43e5e7dd80e4    2024-12-19         call   \n",
       "169067  997d06aa5ef9ecfdd074bb3d605f1ff6    2024-12-19         call   \n",
       "169068  1b10ad1b5296148129d3cb57f5c6f7af    2024-12-19         call   \n",
       "\n",
       "          event_res  \n",
       "0              call  \n",
       "1              call  \n",
       "2              call  \n",
       "3              call  \n",
       "4              call  \n",
       "...             ...  \n",
       "169064         call  \n",
       "169065         call  \n",
       "169066         call  \n",
       "169067  appointment  \n",
       "169068         call  \n",
       "\n",
       "[169069 rows x 4 columns]"
      ]
     },
     "execution_count": 1356,
     "metadata": {},
     "output_type": "execute_result"
    }
   ],
   "source": [
    "df_res_1_step[['smt_decision_makerid','delivery_date','target_event','event_res']]"
   ]
  },
  {
   "cell_type": "markdown",
   "id": "6267c755-1711-4847-9579-9dee3a7cc325",
   "metadata": {},
   "source": [
    "### 4) Проверка с фактом"
   ]
  },
  {
   "cell_type": "code",
   "execution_count": 1359,
   "id": "35c6016f-537b-43e5-ae2f-f9969842d93f",
   "metadata": {
    "tags": []
   },
   "outputs": [],
   "source": [
    "# Наличие коммуникации с предсказанным ЦД в следующую неделю после report_date"
   ]
  },
  {
   "cell_type": "code",
   "execution_count": 1361,
   "id": "ca465731-589c-4016-ab98-243c6996bbe1",
   "metadata": {
    "tags": []
   },
   "outputs": [
    {
     "data": {
      "text/html": [
       "<div>\n",
       "<style scoped>\n",
       "    .dataframe tbody tr th:only-of-type {\n",
       "        vertical-align: middle;\n",
       "    }\n",
       "\n",
       "    .dataframe tbody tr th {\n",
       "        vertical-align: top;\n",
       "    }\n",
       "\n",
       "    .dataframe thead th {\n",
       "        text-align: right;\n",
       "    }\n",
       "</style>\n",
       "<table border=\"1\" class=\"dataframe\">\n",
       "  <thead>\n",
       "    <tr style=\"text-align: right;\">\n",
       "      <th></th>\n",
       "      <th>smt_decision_makerid</th>\n",
       "      <th>delivery_date</th>\n",
       "      <th>target_event</th>\n",
       "      <th>event_res</th>\n",
       "    </tr>\n",
       "  </thead>\n",
       "  <tbody>\n",
       "    <tr>\n",
       "      <th>0</th>\n",
       "      <td>a024eeadd2a9bc8597d91126a11df815</td>\n",
       "      <td>2024-12-18</td>\n",
       "      <td>call</td>\n",
       "      <td>call</td>\n",
       "    </tr>\n",
       "    <tr>\n",
       "      <th>1</th>\n",
       "      <td>2e06f41ab8495ef1f51c014d62fa4698</td>\n",
       "      <td>2024-12-18</td>\n",
       "      <td>call</td>\n",
       "      <td>call</td>\n",
       "    </tr>\n",
       "    <tr>\n",
       "      <th>2</th>\n",
       "      <td>45d087c08c8935951dbeca6b63c5acb7</td>\n",
       "      <td>2024-12-18</td>\n",
       "      <td>call</td>\n",
       "      <td>call</td>\n",
       "    </tr>\n",
       "    <tr>\n",
       "      <th>3</th>\n",
       "      <td>9aed9813e6881f5a58d5a8c7158771b4</td>\n",
       "      <td>2024-12-16</td>\n",
       "      <td>call</td>\n",
       "      <td>call</td>\n",
       "    </tr>\n",
       "    <tr>\n",
       "      <th>4</th>\n",
       "      <td>42358f2cf5e091a253a54259e058b855</td>\n",
       "      <td>2024-12-18</td>\n",
       "      <td>call</td>\n",
       "      <td>call</td>\n",
       "    </tr>\n",
       "    <tr>\n",
       "      <th>...</th>\n",
       "      <td>...</td>\n",
       "      <td>...</td>\n",
       "      <td>...</td>\n",
       "      <td>...</td>\n",
       "    </tr>\n",
       "    <tr>\n",
       "      <th>169064</th>\n",
       "      <td>2fafb2d053c7d717ab053a5252ad8316</td>\n",
       "      <td>2024-12-19</td>\n",
       "      <td>call</td>\n",
       "      <td>call</td>\n",
       "    </tr>\n",
       "    <tr>\n",
       "      <th>169065</th>\n",
       "      <td>3b6f4224c840b959d0ce6614a84dc6e0</td>\n",
       "      <td>2024-12-19</td>\n",
       "      <td>call</td>\n",
       "      <td>call</td>\n",
       "    </tr>\n",
       "    <tr>\n",
       "      <th>169066</th>\n",
       "      <td>c2ff7b9060dbaf6535ff43e5e7dd80e4</td>\n",
       "      <td>2024-12-19</td>\n",
       "      <td>call</td>\n",
       "      <td>call</td>\n",
       "    </tr>\n",
       "    <tr>\n",
       "      <th>169067</th>\n",
       "      <td>997d06aa5ef9ecfdd074bb3d605f1ff6</td>\n",
       "      <td>2024-12-19</td>\n",
       "      <td>call</td>\n",
       "      <td>appointment</td>\n",
       "    </tr>\n",
       "    <tr>\n",
       "      <th>169068</th>\n",
       "      <td>1b10ad1b5296148129d3cb57f5c6f7af</td>\n",
       "      <td>2024-12-19</td>\n",
       "      <td>call</td>\n",
       "      <td>call</td>\n",
       "    </tr>\n",
       "  </tbody>\n",
       "</table>\n",
       "<p>169069 rows × 4 columns</p>\n",
       "</div>"
      ],
      "text/plain": [
       "                    smt_decision_makerid delivery_date target_event  \\\n",
       "0       a024eeadd2a9bc8597d91126a11df815    2024-12-18         call   \n",
       "1       2e06f41ab8495ef1f51c014d62fa4698    2024-12-18         call   \n",
       "2       45d087c08c8935951dbeca6b63c5acb7    2024-12-18         call   \n",
       "3       9aed9813e6881f5a58d5a8c7158771b4    2024-12-16         call   \n",
       "4       42358f2cf5e091a253a54259e058b855    2024-12-18         call   \n",
       "...                                  ...           ...          ...   \n",
       "169064  2fafb2d053c7d717ab053a5252ad8316    2024-12-19         call   \n",
       "169065  3b6f4224c840b959d0ce6614a84dc6e0    2024-12-19         call   \n",
       "169066  c2ff7b9060dbaf6535ff43e5e7dd80e4    2024-12-19         call   \n",
       "169067  997d06aa5ef9ecfdd074bb3d605f1ff6    2024-12-19         call   \n",
       "169068  1b10ad1b5296148129d3cb57f5c6f7af    2024-12-19         call   \n",
       "\n",
       "          event_res  \n",
       "0              call  \n",
       "1              call  \n",
       "2              call  \n",
       "3              call  \n",
       "4              call  \n",
       "...             ...  \n",
       "169064         call  \n",
       "169065         call  \n",
       "169066         call  \n",
       "169067  appointment  \n",
       "169068         call  \n",
       "\n",
       "[169069 rows x 4 columns]"
      ]
     },
     "execution_count": 1361,
     "metadata": {},
     "output_type": "execute_result"
    }
   ],
   "source": [
    "df_res_1_step[['smt_decision_makerid','delivery_date','target_event','event_res']]"
   ]
  },
  {
   "cell_type": "code",
   "execution_count": 1363,
   "id": "fa3c9f06-61fd-47c2-a8f4-e01d7c2cc506",
   "metadata": {
    "tags": []
   },
   "outputs": [
    {
     "data": {
      "text/plain": [
       "target_event\n",
       "call           113611\n",
       "appointment     34217\n",
       "reservation     21241\n",
       "Name: count, dtype: int64"
      ]
     },
     "execution_count": 1363,
     "metadata": {},
     "output_type": "execute_result"
    }
   ],
   "source": [
    "df_res_1_step.target_event.value_counts()"
   ]
  },
  {
   "cell_type": "code",
   "execution_count": 1365,
   "id": "be80429c-fc2f-4d00-99ea-274d5b26ea90",
   "metadata": {
    "tags": []
   },
   "outputs": [
    {
     "data": {
      "text/plain": [
       "event_res\n",
       "call           129833\n",
       "appointment     25098\n",
       "deal            14085\n",
       "reservation        53\n",
       "Name: count, dtype: int64"
      ]
     },
     "execution_count": 1365,
     "metadata": {},
     "output_type": "execute_result"
    }
   ],
   "source": [
    "df_res_1_step.event_res.value_counts()"
   ]
  },
  {
   "cell_type": "markdown",
   "id": "b2d1cc6a-6b8f-4e6c-b36a-043651aaa2d9",
   "metadata": {
    "tags": []
   },
   "source": [
    "# Часть 3. Модели для выбора оффера"
   ]
  },
  {
   "cell_type": "code",
   "execution_count": 1856,
   "id": "0a591874-eeb9-4a04-887e-9f40cde66958",
   "metadata": {
    "tags": []
   },
   "outputs": [],
   "source": [
    "def model_metrics(scores, predictions, y_true):\n",
    "\n",
    "    print(f\"\\nAUC:     {roc_auc_score(y_true, scores):.3f}\")\n",
    "    print(f\"Accuracy:  {accuracy_score(y_true, predictions):.3f}\")\n",
    "    print(f\"Precision: {precision_score(y_true, predictions):.3f}\")\n",
    "    print(f\"Recall:    {recall_score(y_true, predictions):.3f}\")\n",
    "    print(f\"F1 Score:  {f1_score(y_true, predictions):.3f}\")"
   ]
  },
  {
   "cell_type": "markdown",
   "id": "fce18f23-8bb8-4d83-b2ad-2421fd7d85c5",
   "metadata": {
    "tags": []
   },
   "source": [
    "### Call"
   ]
  },
  {
   "cell_type": "markdown",
   "id": "28b3b049-746c-4f07-9451-603893896723",
   "metadata": {
    "tags": []
   },
   "source": [
    "#### Делим выборки"
   ]
  },
  {
   "cell_type": "code",
   "execution_count": 1393,
   "id": "8817ccb1-8f71-420e-9db5-4a6dffe65622",
   "metadata": {
    "tags": []
   },
   "outputs": [],
   "source": [
    "# [['call','appointment','reservation','deal']]"
   ]
  },
  {
   "cell_type": "code",
   "execution_count": 1453,
   "id": "8177bd80-7e4c-4d3d-9f04-70cb277a7f4c",
   "metadata": {
    "tags": []
   },
   "outputs": [],
   "source": [
    "train_full = final_data[final_data.report_date < '2024-12-08']\n",
    "val_full = final_data[final_data.report_date == '2024-12-08']\n",
    "test_full = final_data[final_data.report_date > '2024-12-08']"
   ]
  },
  {
   "cell_type": "code",
   "execution_count": 1471,
   "id": "e6585f7f-afa3-4587-8efc-235e7fc733ec",
   "metadata": {
    "tags": []
   },
   "outputs": [],
   "source": [
    "ta = 'call'"
   ]
  },
  {
   "cell_type": "code",
   "execution_count": 1473,
   "id": "d7c50a12-ab4d-4601-b386-3157147d69a1",
   "metadata": {
    "tags": []
   },
   "outputs": [],
   "source": [
    "X_train = train_full[train_full.target_event == ta].drop(columns=['call','appointment','deal','reservation', 'target_event'\n",
    "    ,'smt_decision_makerid' ,'report_date','delivery_date','previous_sunday']).to_numpy()\n",
    "\n",
    "y_train = train_full[train_full.target_event == ta][[ta]].to_numpy()"
   ]
  },
  {
   "cell_type": "code",
   "execution_count": 1474,
   "id": "e1fd0c90-2564-41d6-8598-aa1e14be5b82",
   "metadata": {
    "tags": []
   },
   "outputs": [],
   "source": [
    "X_val = val_full[val_full.target_event == ta].drop(columns=['call','appointment','deal','reservation', 'target_event'\n",
    "    ,'smt_decision_makerid' ,'report_date','delivery_date','previous_sunday']).to_numpy()\n",
    "\n",
    "y_val = val_full[val_full.target_event == ta][[ta]].to_numpy()"
   ]
  },
  {
   "cell_type": "code",
   "execution_count": 1477,
   "id": "3c889159-caab-40d1-9242-057fdd98ae18",
   "metadata": {
    "tags": []
   },
   "outputs": [],
   "source": [
    "X_test = test_full[test_full.target_event == ta].drop(columns=['call','appointment','deal','reservation', 'target_event'\n",
    "    ,'smt_decision_makerid','report_date','delivery_date','previous_sunday']).to_numpy()\n",
    "\n",
    "y_test = test_full[test_full.target_event == ta][[ta]].to_numpy()"
   ]
  },
  {
   "cell_type": "code",
   "execution_count": 1479,
   "id": "cacd8712-219a-4009-838e-04b3be49cd07",
   "metadata": {
    "tags": []
   },
   "outputs": [
    {
     "data": {
      "text/plain": [
       "(399552, 96467, 113611)"
      ]
     },
     "execution_count": 1479,
     "metadata": {},
     "output_type": "execute_result"
    }
   ],
   "source": [
    "len(X_train), len(X_val), len(X_test), "
   ]
  },
  {
   "cell_type": "markdown",
   "id": "5f8a5c2d-4666-4c5f-acf8-d37ac1708c9e",
   "metadata": {
    "tags": []
   },
   "source": [
    "#### Обучаем модель"
   ]
  },
  {
   "cell_type": "code",
   "execution_count": 1786,
   "id": "2aa7f4f0-2c5d-44dc-ac1e-77b7be6fd571",
   "metadata": {
    "tags": []
   },
   "outputs": [],
   "source": [
    "cat_features = [360, 361, 362, 363]"
   ]
  },
  {
   "cell_type": "code",
   "execution_count": 1788,
   "id": "aea37567-0417-457a-8701-c2ed078d281c",
   "metadata": {
    "tags": []
   },
   "outputs": [],
   "source": [
    "params = {\n",
    "    # база для любой модели\n",
    "    'iterations':   1000,\n",
    "    'learning_rate': 0.05,\n",
    "    'random_state':42,\n",
    "    'verbose':50,\n",
    "    'cat_features':cat_features,\n",
    "    'loss_function': 'CrossEntropy',\n",
    "    'eval_metric':   'AUC',\n",
    "    # боремся с переобучением\n",
    "    'use_best_model': True,\n",
    "    'early_stopping_rounds': 50,\n",
    "    'depth':         8,\n",
    "    'l2_leaf_reg':   4,\n",
    "}"
   ]
  },
  {
   "cell_type": "code",
   "execution_count": 1790,
   "id": "e78bf9ae-2e77-4c86-87c2-886b7927a9e8",
   "metadata": {
    "tags": []
   },
   "outputs": [],
   "source": [
    "eval_pool = Pool(X_val, y_val, cat_features=cat_features)"
   ]
  },
  {
   "cell_type": "code",
   "execution_count": 1792,
   "id": "1ed2344f-e2fa-484c-b0fd-aed04193f365",
   "metadata": {
    "tags": []
   },
   "outputs": [],
   "source": [
    "call_model = CatBoostClassifier(**params)"
   ]
  },
  {
   "cell_type": "code",
   "execution_count": 1794,
   "id": "541ab0e4-d622-4f2f-8862-1d22ceae147b",
   "metadata": {
    "tags": []
   },
   "outputs": [
    {
     "data": {
      "application/vnd.jupyter.widget-view+json": {
       "model_id": "313e8ad709bc471ab436f6c7d2bcf880",
       "version_major": 2,
       "version_minor": 0
      },
      "text/plain": [
       "MetricVisualizer(layout=Layout(align_self='stretch', height='500px'))"
      ]
     },
     "metadata": {},
     "output_type": "display_data"
    },
    {
     "name": "stdout",
     "output_type": "stream",
     "text": [
      "0:\ttest: 0.7890634\tbest: 0.7890634 (0)\ttotal: 169ms\tremaining: 2m 48s\n",
      "50:\ttest: 0.8396270\tbest: 0.8396270 (50)\ttotal: 8.07s\tremaining: 2m 30s\n",
      "100:\ttest: 0.8446725\tbest: 0.8446742 (98)\ttotal: 15.1s\tremaining: 2m 14s\n",
      "150:\ttest: 0.8487015\tbest: 0.8487015 (150)\ttotal: 22s\tremaining: 2m 3s\n",
      "200:\ttest: 0.8501165\tbest: 0.8501165 (200)\ttotal: 28.8s\tremaining: 1m 54s\n",
      "250:\ttest: 0.8505083\tbest: 0.8507673 (227)\ttotal: 35.6s\tremaining: 1m 46s\n",
      "300:\ttest: 0.8506563\tbest: 0.8510060 (259)\ttotal: 42.5s\tremaining: 1m 38s\n",
      "Stopped by overfitting detector  (50 iterations wait)\n",
      "\n",
      "bestTest = 0.8510059879\n",
      "bestIteration = 259\n",
      "\n",
      "Shrink model to first 260 iterations.\n"
     ]
    },
    {
     "data": {
      "text/plain": [
       "<catboost.core.CatBoostClassifier at 0x4e965d790>"
      ]
     },
     "execution_count": 1794,
     "metadata": {},
     "output_type": "execute_result"
    }
   ],
   "source": [
    "call_model.fit(X_train, y_train,\n",
    "        eval_set=eval_pool,\n",
    "        plot=True)"
   ]
  },
  {
   "cell_type": "code",
   "execution_count": 1858,
   "id": "86cd5312-196b-4ee5-8f8f-887ae219bbdb",
   "metadata": {
    "tags": []
   },
   "outputs": [],
   "source": [
    "# CM\n",
    "# True Negative False Positive\n",
    "# False Negative True Positive\n",
    "\n",
    "# Precision - доля корректно отгаданных 1 относительно всех признанных 1\n",
    "# Recall - доля корректно отгаданных 1 среди всех 1 в выборке\n",
    "\n",
    "# Чем больше Precision, тем больше уверенности в случае, когда мы признали 1 \n",
    "# Чем больше Recall, тем больше 1 мы угадали"
   ]
  },
  {
   "cell_type": "code",
   "execution_count": 1860,
   "id": "7a50c08d-3f4e-4b57-b700-f1da89b418c9",
   "metadata": {
    "tags": []
   },
   "outputs": [],
   "source": [
    "# нам логично максимизировать Recall\n",
    "# определим границу, как 20% "
   ]
  },
  {
   "cell_type": "code",
   "execution_count": 1816,
   "id": "62310450-4942-4a81-ab94-c9a3bfa91701",
   "metadata": {
    "tags": []
   },
   "outputs": [
    {
     "name": "stderr",
     "output_type": "stream",
     "text": [
      "Cannot restore border parameter, falling to default border = 0.5\n"
     ]
    }
   ],
   "source": [
    "fnr_boundary = select_threshold(model=call_model, data=eval_pool, FNR=0.2)"
   ]
  },
  {
   "cell_type": "code",
   "execution_count": 1828,
   "id": "70c42686-62d6-49d5-a389-7e9dcc4dee83",
   "metadata": {
    "tags": []
   },
   "outputs": [],
   "source": [
    "call_model.set_probability_threshold(fnr_boundary)"
   ]
  },
  {
   "cell_type": "code",
   "execution_count": 4488,
   "id": "2c86eafc-1477-4665-924f-4789f4def8dc",
   "metadata": {
    "tags": []
   },
   "outputs": [
    {
     "name": "stdout",
     "output_type": "stream",
     "text": [
      "{'use_best_model': True, 'eval_metric': 'AUC', 'od_wait': 50, 'verbose': 50, 'iterations': 1000, 'loss_function': 'CrossEntropy', 'l2_leaf_reg': 4, 'depth': 8, 'learning_rate': 0.05, 'random_seed': 42}\n"
     ]
    }
   ],
   "source": [
    "call_model.save_model('model_call.bin')\n",
    "# call_model = CatBoostClassifier()\n",
    "# call_model.load_model('model_call.bin')\n",
    "# print(call_model.get_params())"
   ]
  },
  {
   "cell_type": "markdown",
   "id": "1ed3ebcc-172a-4563-a904-617a10efdbd4",
   "metadata": {
    "jp-MarkdownHeadingCollapsed": true,
    "tags": []
   },
   "source": [
    "#### Считаем метрики"
   ]
  },
  {
   "cell_type": "code",
   "execution_count": 1830,
   "id": "41771a6e-eb22-4be6-a2c9-5a51548df25b",
   "metadata": {
    "tags": []
   },
   "outputs": [],
   "source": [
    "# VAL датасет"
   ]
  },
  {
   "cell_type": "code",
   "execution_count": 1832,
   "id": "f7e7d526-a468-497d-b63d-6d1b4dc854cf",
   "metadata": {
    "tags": []
   },
   "outputs": [],
   "source": [
    "probs = call_model.predict_proba(X_val)[:,1]\n",
    "preds = call_model.predict(X_val)"
   ]
  },
  {
   "cell_type": "code",
   "execution_count": 1833,
   "id": "56aab099-ed0c-4e1c-ad40-f9d2880093f9",
   "metadata": {
    "tags": []
   },
   "outputs": [
    {
     "name": "stdout",
     "output_type": "stream",
     "text": [
      "\n",
      "AUC:     0.851\n",
      "Accuracy:  0.740\n",
      "Precision: 0.063\n",
      "Recall:    0.801\n",
      "F1 Score:  0.117\n"
     ]
    }
   ],
   "source": [
    "model_metrics(probs,preds,y_val)"
   ]
  },
  {
   "cell_type": "code",
   "execution_count": 1838,
   "id": "1c52566b-20a2-4b9c-996a-f8fe6fc7a0b7",
   "metadata": {
    "tags": []
   },
   "outputs": [],
   "source": [
    "# Test сет"
   ]
  },
  {
   "cell_type": "code",
   "execution_count": 1840,
   "id": "f8f1e53e-8892-4311-bdd1-8ff313d4b69d",
   "metadata": {
    "tags": []
   },
   "outputs": [],
   "source": [
    "probs = call_model.predict_proba(X_test)[:,1]\n",
    "preds = call_model.predict(X_test)"
   ]
  },
  {
   "cell_type": "code",
   "execution_count": 1844,
   "id": "f8c8f8ae-e15d-4b51-b749-ecd2128a4f3c",
   "metadata": {
    "tags": []
   },
   "outputs": [
    {
     "name": "stdout",
     "output_type": "stream",
     "text": [
      "\n",
      "AUC:     0.841\n",
      "Accuracy:  0.773\n",
      "Precision: 0.059\n",
      "Recall:    0.759\n",
      "F1 Score:  0.109\n"
     ]
    }
   ],
   "source": [
    "model_metrics(probs,preds,y_test)"
   ]
  },
  {
   "cell_type": "code",
   "execution_count": 1852,
   "id": "6966409a-51dd-4fab-af4c-f512869d97b3",
   "metadata": {
    "tags": []
   },
   "outputs": [
    {
     "data": {
      "image/png": "[encoded data removed]",
      "text/plain": [
       "<Figure size 640x480 with 2 Axes>"
      ]
     },
     "metadata": {},
     "output_type": "display_data"
    }
   ],
   "source": [
    "# Confusion Matrix\n",
    "cm = confusion_matrix(y_test, preds)\n",
    "cm_normalized = cm.astype('float') / cm.sum()\n",
    "\n",
    "disp = ConfusionMatrixDisplay(confusion_matrix=cm_normalized)\n",
    "disp.plot(values_format=\".1%\")  # формат процентов\n",
    "plt.title(f'TA Call - Normalized confusion matrix at threshold w val FNR 0.2')\n",
    "plt.show()"
   ]
  },
  {
   "cell_type": "code",
   "execution_count": 1854,
   "id": "16f4ad99-5ffb-4b8c-aa8a-1c8f4dedfa37",
   "metadata": {
    "tags": []
   },
   "outputs": [
    {
     "data": {
      "image/png": "[encoded data removed]",
      "text/plain": [
       "<Figure size 600x500 with 1 Axes>"
      ]
     },
     "metadata": {},
     "output_type": "display_data"
    },
    {
     "data": {
      "image/png": "[encoded data removed]",
      "text/plain": [
       "<Figure size 600x500 with 1 Axes>"
      ]
     },
     "metadata": {},
     "output_type": "display_data"
    }
   ],
   "source": [
    "# ROC-кривая\n",
    "fpr, tpr, _ = roc_curve(y_test, probs)\n",
    "plt.figure(figsize=(6, 5))\n",
    "plt.plot(fpr, tpr, label=f\"AUC = {roc_auc_score(y_test, probs):.4f}\")\n",
    "plt.plot([0, 1], [0, 1], linestyle='--', color='gray')\n",
    "plt.title('TA Call - ROC Curve')\n",
    "plt.xlabel('False Positive Rate')\n",
    "plt.ylabel('True Positive Rate')\n",
    "plt.legend()\n",
    "plt.grid()\n",
    "plt.show()\n",
    "\n",
    "# PR-кривая\n",
    "prec, rec, _ = precision_recall_curve(y_test, probs)\n",
    "plt.figure(figsize=(6, 5))\n",
    "plt.plot(rec, prec)\n",
    "plt.title('TA Call - Precision-Recall Curve')\n",
    "plt.xlabel('Recall')\n",
    "plt.ylabel('Precision')\n",
    "plt.grid()\n",
    "plt.show()\n"
   ]
  },
  {
   "cell_type": "markdown",
   "id": "176a0ee0-2251-4467-8d8d-b59cfb85e580",
   "metadata": {
    "tags": []
   },
   "source": [
    "### Appointment"
   ]
  },
  {
   "cell_type": "markdown",
   "id": "fd337bed-cefe-4c2e-b9a7-381d9afda6ef",
   "metadata": {
    "jp-MarkdownHeadingCollapsed": true,
    "tags": []
   },
   "source": [
    "#### Делим выборки"
   ]
  },
  {
   "cell_type": "code",
   "execution_count": 1393,
   "id": "952af8e6-f8e1-426a-a28d-8a3d098d1c44",
   "metadata": {
    "tags": []
   },
   "outputs": [],
   "source": [
    "# [['call','appointment','reservation','deal']]"
   ]
  },
  {
   "cell_type": "code",
   "execution_count": 4516,
   "id": "18deecac-3366-4c38-a37e-472c1fca3e0b",
   "metadata": {
    "tags": []
   },
   "outputs": [],
   "source": [
    "train_full = final_data[final_data.report_date <= '2024-12-08']\n",
    "# val_full = final_data[final_data.report_date == '2024-12-08']\n",
    "test_full = final_data[final_data.report_date > '2024-12-08']"
   ]
  },
  {
   "cell_type": "code",
   "execution_count": 4518,
   "id": "3fa7c4ff-73ed-4aa7-852d-348e5e629a51",
   "metadata": {
    "tags": []
   },
   "outputs": [],
   "source": [
    "ta = 'appointment'"
   ]
  },
  {
   "cell_type": "code",
   "execution_count": 4520,
   "id": "61194e5c-fe4d-4b99-9f97-12ceeb4efd10",
   "metadata": {
    "tags": []
   },
   "outputs": [],
   "source": [
    "X_train = train_full[train_full.target_event == ta].drop(columns=['call','appointment','deal','reservation', 'target_event'\n",
    "    ,'smt_decision_makerid' ,'report_date','delivery_date','previous_sunday']).to_numpy()\n",
    "\n",
    "y_train = train_full[train_full.target_event == ta][[ta]].to_numpy()"
   ]
  },
  {
   "cell_type": "code",
   "execution_count": 4521,
   "id": "6aec0f65-0896-4a75-ad34-a6a2a1594444",
   "metadata": {
    "tags": []
   },
   "outputs": [],
   "source": [
    "# X_val = val_full[val_full.target_event == ta].drop(columns=['call','appointment','deal','reservation', 'target_event'\n",
    "#     ,'smt_decision_makerid' ,'report_date','delivery_date','previous_sunday']).to_numpy()\n",
    "\n",
    "# y_val = val_full[val_full.target_event == ta][[ta]].to_numpy()"
   ]
  },
  {
   "cell_type": "code",
   "execution_count": 4524,
   "id": "d69079b8-7649-4a10-a140-a9b670be2f6d",
   "metadata": {
    "tags": []
   },
   "outputs": [],
   "source": [
    "X_test = test_full[test_full.target_event == ta].drop(columns=['call','appointment','deal','reservation', 'target_event'\n",
    "    ,'smt_decision_makerid','report_date','delivery_date','previous_sunday']).to_numpy()\n",
    "\n",
    "y_test = test_full[test_full.target_event == ta][[ta]].to_numpy()"
   ]
  },
  {
   "cell_type": "code",
   "execution_count": 4526,
   "id": "941d3eae-8a30-4b21-9fe7-c0ce0588ee76",
   "metadata": {
    "tags": []
   },
   "outputs": [
    {
     "data": {
      "text/plain": [
       "(59286, 2948, 34217)"
      ]
     },
     "execution_count": 4526,
     "metadata": {},
     "output_type": "execute_result"
    }
   ],
   "source": [
    "len(X_train), len(X_val), len(X_test), "
   ]
  },
  {
   "cell_type": "code",
   "execution_count": 4556,
   "id": "443198b9-f968-4d21-950e-48617bffbb1d",
   "metadata": {
    "tags": []
   },
   "outputs": [],
   "source": [
    "train_pool = Pool(X_train, y_train, cat_features=cat_features)"
   ]
  },
  {
   "cell_type": "markdown",
   "id": "f4e19bdd-a941-4b9d-a9ba-e7910bc5045b",
   "metadata": {
    "tags": []
   },
   "source": [
    "#### Обучаем модель"
   ]
  },
  {
   "cell_type": "code",
   "execution_count": 4737,
   "id": "d10cb527-4993-416a-9b32-1a83af785331",
   "metadata": {
    "tags": []
   },
   "outputs": [],
   "source": [
    "cat_features = [360, 361, 362, 363]"
   ]
  },
  {
   "cell_type": "code",
   "execution_count": 4739,
   "id": "7cd78934-de88-4ce5-8f2a-06f4ef15ef79",
   "metadata": {
    "tags": []
   },
   "outputs": [],
   "source": [
    "params = {\n",
    "    # база для любой модели\n",
    "    'iterations':   250,\n",
    "    'learning_rate': 0.03,\n",
    "    'random_state':42,\n",
    "    'verbose':100,\n",
    "    'cat_features':cat_features,\n",
    "    'loss_function': 'CrossEntropy', \n",
    "    'eval_metric':   'AUC',\n",
    "    # боремся с переобучением\n",
    "    # 'use_best_model': True,\n",
    "    'early_stopping_rounds': 100,\n",
    "    'depth':         6,\n",
    "    'l2_leaf_reg':   10,\n",
    "}"
   ]
  },
  {
   "cell_type": "code",
   "execution_count": 4741,
   "id": "e78b1c7b-1e70-42fd-a559-802206aa30cc",
   "metadata": {
    "tags": []
   },
   "outputs": [],
   "source": [
    "# eval_pool = Pool(X_val, y_val, cat_features=cat_features)"
   ]
  },
  {
   "cell_type": "code",
   "execution_count": 4743,
   "id": "3c95aeba-930f-45aa-90dd-438d9d2659db",
   "metadata": {
    "tags": []
   },
   "outputs": [],
   "source": [
    "ap_model = CatBoostClassifier(**params)"
   ]
  },
  {
   "cell_type": "code",
   "execution_count": 4745,
   "id": "0b864f39-9f7c-48bf-a95c-e95f488f5cc0",
   "metadata": {
    "tags": []
   },
   "outputs": [
    {
     "data": {
      "application/vnd.jupyter.widget-view+json": {
       "model_id": "811915d6c07f415baf09ea1fee68cf6f",
       "version_major": 2,
       "version_minor": 0
      },
      "text/plain": [
       "MetricVisualizer(layout=Layout(align_self='stretch', height='500px'))"
      ]
     },
     "metadata": {},
     "output_type": "display_data"
    },
    {
     "name": "stdout",
     "output_type": "stream",
     "text": [
      "0:\ttotal: 23.3ms\tremaining: 5.79s\n",
      "100:\ttotal: 1.7s\tremaining: 2.51s\n",
      "200:\ttotal: 3.31s\tremaining: 806ms\n",
      "249:\ttotal: 4.1s\tremaining: 0us\n"
     ]
    },
    {
     "data": {
      "text/plain": [
       "<catboost.core.CatBoostClassifier at 0x667ce2890>"
      ]
     },
     "execution_count": 4745,
     "metadata": {},
     "output_type": "execute_result"
    }
   ],
   "source": [
    "ap_model.fit(X_train, y_train,\n",
    "        # eval_set=eval_pool,\n",
    "        plot=True)"
   ]
  },
  {
   "cell_type": "code",
   "execution_count": 4746,
   "id": "cf057807-efc7-4a0f-ae91-19536d381b40",
   "metadata": {
    "tags": []
   },
   "outputs": [],
   "source": [
    "# нам логично максимизировать Recall\n",
    "# определим границу, как 20% "
   ]
  },
  {
   "cell_type": "code",
   "execution_count": 4747,
   "id": "02309015-c9e4-4343-9269-544459b0695b",
   "metadata": {
    "tags": []
   },
   "outputs": [
    {
     "name": "stderr",
     "output_type": "stream",
     "text": [
      "Cannot restore border parameter, falling to default border = 0.5\n"
     ]
    }
   ],
   "source": [
    "fnr_boundary = select_threshold(model=ap_model, data=train_pool, FNR=0.2)"
   ]
  },
  {
   "cell_type": "code",
   "execution_count": 4748,
   "id": "0d0b944e-be1b-4c37-a563-c67f3256e7bd",
   "metadata": {
    "tags": []
   },
   "outputs": [],
   "source": [
    "ap_model.set_probability_threshold(fnr_boundary)"
   ]
  },
  {
   "cell_type": "code",
   "execution_count": 4753,
   "id": "15aa93c5-4ca6-4ebd-9c0c-e669c9cafa29",
   "metadata": {
    "tags": []
   },
   "outputs": [],
   "source": [
    "ap_model.save_model('model_ap.bin')\n",
    "# ap_model = CatBoostClassifier()\n",
    "# ap_model.load_model('model_ap.bin')\n",
    "# print(ap_model.get_params())"
   ]
  },
  {
   "cell_type": "markdown",
   "id": "2e126da6-5ca2-444d-a422-1b657b8eb3da",
   "metadata": {
    "tags": []
   },
   "source": [
    "#### Считаем метрики"
   ]
  },
  {
   "cell_type": "code",
   "execution_count": 4756,
   "id": "7449881c-8b3e-4841-bd23-abe97bfa1db0",
   "metadata": {
    "tags": []
   },
   "outputs": [],
   "source": [
    "# Train датасет"
   ]
  },
  {
   "cell_type": "code",
   "execution_count": 4758,
   "id": "5fb226a6-527e-44e1-a6e0-123cc71ebf43",
   "metadata": {
    "tags": []
   },
   "outputs": [],
   "source": [
    "probs = ap_model.predict_proba(X_train)[:,1]\n",
    "preds = ap_model.predict(X_train)"
   ]
  },
  {
   "cell_type": "code",
   "execution_count": 4759,
   "id": "f7bf3e2a-cdaf-43e4-86e8-fc212b135815",
   "metadata": {
    "tags": []
   },
   "outputs": [
    {
     "name": "stdout",
     "output_type": "stream",
     "text": [
      "\n",
      "AUC:     0.891\n",
      "Accuracy:  0.828\n",
      "Precision: 0.311\n",
      "Recall:    0.800\n",
      "F1 Score:  0.447\n"
     ]
    }
   ],
   "source": [
    "model_metrics(probs,preds,y_train)"
   ]
  },
  {
   "cell_type": "code",
   "execution_count": 4762,
   "id": "e7615ab9-99d6-4874-b3da-d0f5c772b946",
   "metadata": {
    "tags": []
   },
   "outputs": [],
   "source": [
    "# Test сет"
   ]
  },
  {
   "cell_type": "code",
   "execution_count": 4764,
   "id": "49e2528d-2433-4a90-8269-d53856f47911",
   "metadata": {
    "tags": []
   },
   "outputs": [],
   "source": [
    "probs = ap_model.predict_proba(X_test)[:,1]\n",
    "preds = ap_model.predict(X_test)"
   ]
  },
  {
   "cell_type": "code",
   "execution_count": 4765,
   "id": "ab4a7d09-c6c8-4156-b795-f16ce35fe525",
   "metadata": {
    "tags": []
   },
   "outputs": [
    {
     "name": "stdout",
     "output_type": "stream",
     "text": [
      "\n",
      "AUC:     0.750\n",
      "Accuracy:  0.739\n",
      "Precision: 0.048\n",
      "Recall:    0.603\n",
      "F1 Score:  0.088\n"
     ]
    }
   ],
   "source": [
    "model_metrics(probs,preds,y_test)"
   ]
  },
  {
   "cell_type": "code",
   "execution_count": 4767,
   "id": "17e50ec0-58ea-44aa-8c33-d3824334e82a",
   "metadata": {
    "tags": []
   },
   "outputs": [
    {
     "data": {
      "image/png": "[encoded data removed]",
      "text/plain": [
       "<Figure size 640x480 with 2 Axes>"
      ]
     },
     "metadata": {},
     "output_type": "display_data"
    }
   ],
   "source": [
    "# Confusion Matrix\n",
    "cm = confusion_matrix(y_test, preds)\n",
    "cm_normalized = cm.astype('float') / cm.sum()\n",
    "\n",
    "disp = ConfusionMatrixDisplay(confusion_matrix=cm_normalized)\n",
    "disp.plot(values_format=\".1%\")  # формат процентов\n",
    "plt.title(f'TA Call - Normalized confusion matrix at threshold w val FNR 0.2')\n",
    "plt.show()"
   ]
  },
  {
   "cell_type": "code",
   "execution_count": 4770,
   "id": "ddde1644-22d6-4d5d-a47b-87b6fc9d7b67",
   "metadata": {
    "tags": []
   },
   "outputs": [
    {
     "data": {
      "image/png": "[encoded data removed]",
      "text/plain": [
       "<Figure size 600x500 with 1 Axes>"
      ]
     },
     "metadata": {},
     "output_type": "display_data"
    },
    {
     "data": {
      "image/png": "[encoded data removed]",
      "text/plain": [
       "<Figure size 600x500 with 1 Axes>"
      ]
     },
     "metadata": {},
     "output_type": "display_data"
    }
   ],
   "source": [
    "# ROC-кривая\n",
    "fpr, tpr, _ = roc_curve(y_test, probs)\n",
    "plt.figure(figsize=(6, 5))\n",
    "plt.plot(fpr, tpr, label=f\"AUC = {roc_auc_score(y_test, probs):.3f}\")\n",
    "plt.plot([0, 1], [0, 1], linestyle='--', color='gray')\n",
    "plt.title(f'TA {ta} - ROC Curve')\n",
    "plt.xlabel('False Positive Rate')\n",
    "plt.ylabel('True Positive Rate')\n",
    "plt.legend()\n",
    "plt.grid()\n",
    "plt.show()\n",
    "\n",
    "# PR-кривая\n",
    "prec, rec, _ = precision_recall_curve(y_test, probs)\n",
    "plt.figure(figsize=(6, 5))\n",
    "plt.plot(rec, prec)\n",
    "plt.title(f'TA {ta} - Precision-Recall Curve')\n",
    "plt.xlabel('Recall')\n",
    "plt.ylabel('Precision')\n",
    "plt.grid()\n",
    "plt.show()\n"
   ]
  },
  {
   "cell_type": "markdown",
   "id": "3a28c62c-83cd-42b0-a570-897b13ebe959",
   "metadata": {
    "tags": []
   },
   "source": [
    "### Reservation"
   ]
  },
  {
   "cell_type": "markdown",
   "id": "af3721ff-f51f-45b2-88b1-676322d50be0",
   "metadata": {
    "tags": []
   },
   "source": [
    "#### Делим выборки"
   ]
  },
  {
   "cell_type": "code",
   "execution_count": 1393,
   "id": "9335ab95-70de-455a-91fa-c9d20be37153",
   "metadata": {
    "tags": []
   },
   "outputs": [],
   "source": [
    "# [['call','appointment','reservation','deal']]"
   ]
  },
  {
   "cell_type": "code",
   "execution_count": 2445,
   "id": "5697fd46-355e-4ac0-a3f1-22853b2b4d36",
   "metadata": {
    "tags": []
   },
   "outputs": [],
   "source": [
    "# train_full = final_data[final_data.report_date < '2024-12-08']\n",
    "# val_full = final_data[final_data.report_date == '2024-12-08']\n",
    "# test_full = final_data[final_data.report_date > '2024-12-08']"
   ]
  },
  {
   "cell_type": "code",
   "execution_count": 3336,
   "id": "7439afb8-869b-4429-b7f0-96d9fab50610",
   "metadata": {
    "tags": []
   },
   "outputs": [],
   "source": [
    "final_data.sort_values(by='delivery_date', inplace = True)"
   ]
  },
  {
   "cell_type": "code",
   "execution_count": 3340,
   "id": "59deb8e4-6c4f-4c6e-8868-202b8edc9ae6",
   "metadata": {
    "tags": []
   },
   "outputs": [],
   "source": [
    "final_data.reset_index(drop=True, inplace = True)"
   ]
  },
  {
   "cell_type": "code",
   "execution_count": null,
   "id": "ea8243ba-8bee-4d90-b816-56ef67a8a6de",
   "metadata": {},
   "outputs": [],
   "source": [
    "# train_full = final_data[final_data.report_date <= '2024-12-08']"
   ]
  },
  {
   "cell_type": "code",
   "execution_count": 3348,
   "id": "dca250f5-12f9-45e7-96d0-af20bcc621ae",
   "metadata": {
    "tags": []
   },
   "outputs": [
    {
     "data": {
      "text/html": [
       "<div>\n",
       "<style scoped>\n",
       "    .dataframe tbody tr th:only-of-type {\n",
       "        vertical-align: middle;\n",
       "    }\n",
       "\n",
       "    .dataframe tbody tr th {\n",
       "        vertical-align: top;\n",
       "    }\n",
       "\n",
       "    .dataframe thead th {\n",
       "        text-align: right;\n",
       "    }\n",
       "</style>\n",
       "<table border=\"1\" class=\"dataframe\">\n",
       "  <thead>\n",
       "    <tr style=\"text-align: right;\">\n",
       "      <th></th>\n",
       "      <th>smt_decision_makerid</th>\n",
       "      <th>target_event</th>\n",
       "      <th>delivery_date</th>\n",
       "    </tr>\n",
       "  </thead>\n",
       "  <tbody>\n",
       "    <tr>\n",
       "      <th>368230</th>\n",
       "      <td>255632d6e7596aa58d501924a6d7e6ae</td>\n",
       "      <td>reservation</td>\n",
       "      <td>2024-11-25</td>\n",
       "    </tr>\n",
       "    <tr>\n",
       "      <th>368235</th>\n",
       "      <td>fe658b544e6dbfda720fc0b3d3c5bdde</td>\n",
       "      <td>reservation</td>\n",
       "      <td>2024-11-25</td>\n",
       "    </tr>\n",
       "    <tr>\n",
       "      <th>368237</th>\n",
       "      <td>c797ca7ec63b296bc2b3c79954e9a6fe</td>\n",
       "      <td>reservation</td>\n",
       "      <td>2024-11-25</td>\n",
       "    </tr>\n",
       "    <tr>\n",
       "      <th>368241</th>\n",
       "      <td>e6982de6cf6c490920125f6e6ac288e0</td>\n",
       "      <td>reservation</td>\n",
       "      <td>2024-11-25</td>\n",
       "    </tr>\n",
       "    <tr>\n",
       "      <th>368243</th>\n",
       "      <td>572999f8a5f81ddd6aaeec799ba3a802</td>\n",
       "      <td>reservation</td>\n",
       "      <td>2024-11-25</td>\n",
       "    </tr>\n",
       "    <tr>\n",
       "      <th>...</th>\n",
       "      <td>...</td>\n",
       "      <td>...</td>\n",
       "      <td>...</td>\n",
       "    </tr>\n",
       "    <tr>\n",
       "      <th>813704</th>\n",
       "      <td>311b9d4420d146566086f1b8e3739fa4</td>\n",
       "      <td>reservation</td>\n",
       "      <td>2024-12-20</td>\n",
       "    </tr>\n",
       "    <tr>\n",
       "      <th>813708</th>\n",
       "      <td>8d931124671f47453e5aa1b8301059ca</td>\n",
       "      <td>reservation</td>\n",
       "      <td>2024-12-20</td>\n",
       "    </tr>\n",
       "    <tr>\n",
       "      <th>813712</th>\n",
       "      <td>f136b59a8785a79f03a1bb2614661adf</td>\n",
       "      <td>reservation</td>\n",
       "      <td>2024-12-20</td>\n",
       "    </tr>\n",
       "    <tr>\n",
       "      <th>813724</th>\n",
       "      <td>5def06cec0fba826ec42ab6ff7f77869</td>\n",
       "      <td>reservation</td>\n",
       "      <td>2024-12-20</td>\n",
       "    </tr>\n",
       "    <tr>\n",
       "      <th>813746</th>\n",
       "      <td>52f47267d0163bc7ad39c823d546e8d7</td>\n",
       "      <td>reservation</td>\n",
       "      <td>2024-12-20</td>\n",
       "    </tr>\n",
       "  </tbody>\n",
       "</table>\n",
       "<p>48711 rows × 3 columns</p>\n",
       "</div>"
      ],
      "text/plain": [
       "                    smt_decision_makerid target_event delivery_date\n",
       "368230  255632d6e7596aa58d501924a6d7e6ae  reservation    2024-11-25\n",
       "368235  fe658b544e6dbfda720fc0b3d3c5bdde  reservation    2024-11-25\n",
       "368237  c797ca7ec63b296bc2b3c79954e9a6fe  reservation    2024-11-25\n",
       "368241  e6982de6cf6c490920125f6e6ac288e0  reservation    2024-11-25\n",
       "368243  572999f8a5f81ddd6aaeec799ba3a802  reservation    2024-11-25\n",
       "...                                  ...          ...           ...\n",
       "813704  311b9d4420d146566086f1b8e3739fa4  reservation    2024-12-20\n",
       "813708  8d931124671f47453e5aa1b8301059ca  reservation    2024-12-20\n",
       "813712  f136b59a8785a79f03a1bb2614661adf  reservation    2024-12-20\n",
       "813724  5def06cec0fba826ec42ab6ff7f77869  reservation    2024-12-20\n",
       "813746  52f47267d0163bc7ad39c823d546e8d7  reservation    2024-12-20\n",
       "\n",
       "[48711 rows x 3 columns]"
      ]
     },
     "execution_count": 3348,
     "metadata": {},
     "output_type": "execute_result"
    }
   ],
   "source": [
    "final_data[final_data.target_event == 'reservation'][['smt_decision_makerid','target_event','delivery_date']]"
   ]
  },
  {
   "cell_type": "code",
   "execution_count": 3350,
   "id": "b6d3ac1a-63dc-416b-bc9f-52f460679d78",
   "metadata": {
    "tags": []
   },
   "outputs": [],
   "source": [
    "ta = 'reservation'"
   ]
  },
  {
   "cell_type": "code",
   "execution_count": 3352,
   "id": "0feb91fb-4fac-4495-b4c0-81b91c531a2d",
   "metadata": {
    "tags": []
   },
   "outputs": [],
   "source": [
    "reservation_full = final_data[final_data.target_event == ta]"
   ]
  },
  {
   "cell_type": "code",
   "execution_count": 3356,
   "id": "2692d3fe-2b4f-4aee-a36e-5c82a568fe79",
   "metadata": {
    "tags": []
   },
   "outputs": [],
   "source": [
    "reservation_full.reset_index(drop=True, inplace = True)"
   ]
  },
  {
   "cell_type": "code",
   "execution_count": 3368,
   "id": "356dac80-278c-4274-980a-a78b95fac2ca",
   "metadata": {
    "tags": []
   },
   "outputs": [],
   "source": [
    "train_full = reservation_full[:37000]"
   ]
  },
  {
   "cell_type": "code",
   "execution_count": 2493,
   "id": "87957773-a829-4c3c-8296-54ab3c28a699",
   "metadata": {
    "tags": []
   },
   "outputs": [],
   "source": [
    "# train_full = final_data[final_data.report_date <= '2024-12-08']"
   ]
  },
  {
   "cell_type": "code",
   "execution_count": 3370,
   "id": "7104be92-98a0-4b5c-bc8c-b39ae1f8608c",
   "metadata": {
    "tags": []
   },
   "outputs": [],
   "source": [
    "X_train = train_full[train_full.target_event == ta].drop(columns=['call','appointment','deal','reservation', 'target_event'\n",
    "    ,'smt_decision_makerid' ,'report_date','delivery_date','previous_sunday']).to_numpy()\n",
    "\n",
    "y_train = train_full[train_full.target_event == ta][[ta]].to_numpy()"
   ]
  },
  {
   "cell_type": "code",
   "execution_count": 3374,
   "id": "be1efecb-f816-47a6-aec2-a0aa2c0e2a18",
   "metadata": {
    "tags": []
   },
   "outputs": [],
   "source": [
    "test_full = reservation_full[37000:]"
   ]
  },
  {
   "cell_type": "code",
   "execution_count": 3376,
   "id": "39c40f73-b129-457e-866b-09e3cd90f28d",
   "metadata": {
    "tags": []
   },
   "outputs": [],
   "source": [
    "X_test = test_full[test_full.target_event == ta].drop(columns=['call','appointment','deal','reservation', 'target_event'\n",
    "    ,'smt_decision_makerid','report_date','delivery_date','previous_sunday']).to_numpy()\n",
    "\n",
    "y_test = test_full[test_full.target_event == ta][[ta]].to_numpy()"
   ]
  },
  {
   "cell_type": "code",
   "execution_count": 3372,
   "id": "c4c0abdd-c045-4b27-8e6d-944e9868cc8e",
   "metadata": {
    "tags": []
   },
   "outputs": [],
   "source": [
    "# X_val = val_full[val_full.target_event == ta].drop(columns=['call','appointment','deal','reservation', 'target_event'\n",
    "#     ,'smt_decision_makerid' ,'report_date','delivery_date','previous_sunday']).to_numpy()\n",
    "\n",
    "# y_val = val_full[val_full.target_event == ta][[ta]].to_numpy()"
   ]
  },
  {
   "cell_type": "code",
   "execution_count": 3406,
   "id": "7c19d0f5-6008-45fb-a9e1-4d793fe18949",
   "metadata": {
    "tags": []
   },
   "outputs": [],
   "source": [
    "train_pool = Pool(X_train, y_train, cat_features=cat_features)"
   ]
  },
  {
   "cell_type": "code",
   "execution_count": null,
   "id": "e444dc33-d654-4b5d-9d1c-d6b82786deaf",
   "metadata": {},
   "outputs": [],
   "source": []
  },
  {
   "cell_type": "markdown",
   "id": "3c9428f0-dd17-41c4-af40-56c639c0cdba",
   "metadata": {
    "tags": []
   },
   "source": [
    "#### Обучаем модель"
   ]
  },
  {
   "cell_type": "code",
   "execution_count": 3556,
   "id": "b4492fbe-4309-4dd8-8292-dae92dabd3e9",
   "metadata": {
    "tags": []
   },
   "outputs": [],
   "source": [
    "cat_features = [360, 361, 362, 363]"
   ]
  },
  {
   "cell_type": "code",
   "execution_count": 3637,
   "id": "58bed328-53a1-4595-8f88-6ddd5bec9a12",
   "metadata": {
    "tags": []
   },
   "outputs": [],
   "source": [
    "# auc 0.694\n",
    "\n",
    "#params = {\n",
    "#     # база для любой модели\n",
    "#     'iterations':   250,\n",
    "#     'learning_rate': 0.03,\n",
    "#     'random_state':42,\n",
    "#     'verbose':100,\n",
    "#     'cat_features':cat_features,\n",
    "#     'loss_function': 'CrossEntropy',\n",
    "#     # боремся с переобучением\n",
    "#     # 'use_best_model': True,\n",
    "#     'early_stopping_rounds': 50,\n",
    "#     'depth':         6,\n",
    "#     'l2_leaf_reg':   8,\n",
    "# }"
   ]
  },
  {
   "cell_type": "code",
   "execution_count": 4229,
   "id": "48de3fa2-dd66-4e2f-a5da-4f3f2f5799be",
   "metadata": {
    "tags": []
   },
   "outputs": [],
   "source": [
    "params = {\n",
    "    # база для любой модели\n",
    "    'iterations':   250,\n",
    "    'learning_rate': 0.03,\n",
    "    'random_state':42,\n",
    "    'verbose':100,\n",
    "    'cat_features':cat_features,\n",
    "    'loss_function': 'CrossEntropy',\n",
    "    # боремся с переобучением\n",
    "    'early_stopping_rounds': 50,\n",
    "    'depth':         4,\n",
    "    'l2_leaf_reg':   6,\n",
    "}"
   ]
  },
  {
   "cell_type": "code",
   "execution_count": 4231,
   "id": "bfc3956d-523e-413c-bd50-f0d4230bf501",
   "metadata": {
    "tags": []
   },
   "outputs": [],
   "source": [
    "# del eval_pool"
   ]
  },
  {
   "cell_type": "code",
   "execution_count": 4233,
   "id": "ce416943-ffb0-43a6-9801-611a497f0710",
   "metadata": {
    "tags": []
   },
   "outputs": [],
   "source": [
    "# eval_pool = Pool(X_val, y_val, cat_features=cat_features)"
   ]
  },
  {
   "cell_type": "code",
   "execution_count": 4235,
   "id": "4bc9680e-faf6-441c-9d20-c3dcc299d097",
   "metadata": {
    "tags": []
   },
   "outputs": [],
   "source": [
    "res_model = CatBoostClassifier(**params)"
   ]
  },
  {
   "cell_type": "code",
   "execution_count": 4237,
   "id": "fe82b032-1f7a-4a46-a4e8-ac1bd8205386",
   "metadata": {
    "tags": []
   },
   "outputs": [
    {
     "data": {
      "application/vnd.jupyter.widget-view+json": {
       "model_id": "516d23904d0a41ffb94d1edb5c874db6",
       "version_major": 2,
       "version_minor": 0
      },
      "text/plain": [
       "MetricVisualizer(layout=Layout(align_self='stretch', height='500px'))"
      ]
     },
     "metadata": {},
     "output_type": "display_data"
    },
    {
     "name": "stdout",
     "output_type": "stream",
     "text": [
      "0:\tlearn: 0.6336555\ttotal: 5.26ms\tremaining: 1.31s\n",
      "100:\tlearn: 0.0586539\ttotal: 868ms\tremaining: 1.28s\n",
      "200:\tlearn: 0.0557996\ttotal: 1.7s\tremaining: 414ms\n",
      "249:\tlearn: 0.0549977\ttotal: 2.1s\tremaining: 0us\n"
     ]
    },
    {
     "data": {
      "text/plain": [
       "<catboost.core.CatBoostClassifier at 0x666d24bd0>"
      ]
     },
     "execution_count": 4237,
     "metadata": {},
     "output_type": "execute_result"
    }
   ],
   "source": [
    "res_model.fit(X_train, y_train\n",
    "               , plot=True)"
   ]
  },
  {
   "cell_type": "code",
   "execution_count": 4238,
   "id": "a68716d9-071e-476e-9af6-2fdfa553498f",
   "metadata": {
    "tags": []
   },
   "outputs": [],
   "source": [
    "# CM\n",
    "# True Negative False Positive\n",
    "# False Negative True Positive\n",
    "\n",
    "# Precision - доля корректно отгаданных 1 относительно всех признанных 1\n",
    "# Recall - доля корректно отгаданных 1 среди всех 1 в выборке\n",
    "\n",
    "# Чем больше Precision, тем больше уверенности в случае, когда мы признали 1 \n",
    "# Чем больше Recall, тем больше 1 мы угадали"
   ]
  },
  {
   "cell_type": "code",
   "execution_count": 4239,
   "id": "f6a91376-f26d-4571-abbb-62ef2fc46135",
   "metadata": {
    "tags": []
   },
   "outputs": [],
   "source": [
    "# нам логично максимизировать Recall\n",
    "# определим границу, как 20% "
   ]
  },
  {
   "cell_type": "code",
   "execution_count": 4240,
   "id": "0d7102cf-35e8-4090-ab66-131040c5ce0e",
   "metadata": {
    "tags": []
   },
   "outputs": [
    {
     "name": "stderr",
     "output_type": "stream",
     "text": [
      "Cannot restore border parameter, falling to default border = 0.5\n"
     ]
    }
   ],
   "source": [
    "fnr_boundary = select_threshold(model=res_model, data=train_pool, FNR=0.2)"
   ]
  },
  {
   "cell_type": "code",
   "execution_count": 4241,
   "id": "9e7077ca-b66b-411a-a002-53faaa009030",
   "metadata": {
    "tags": []
   },
   "outputs": [],
   "source": [
    "res_model.set_probability_threshold(fnr_boundary)"
   ]
  },
  {
   "cell_type": "code",
   "execution_count": 4242,
   "id": "024a4a13-a5dd-41b6-9735-82dd5beb0fb6",
   "metadata": {
    "tags": []
   },
   "outputs": [],
   "source": [
    "res_model.save_model('model_res.bin')\n",
    "# call_model = CatBoostClassifier()\n",
    "# call_model.load_model('model_call.bin')\n",
    "# print(call_model.get_params())"
   ]
  },
  {
   "cell_type": "markdown",
   "id": "d397551a-233e-48a0-840e-f3e9daee510f",
   "metadata": {
    "jp-MarkdownHeadingCollapsed": true,
    "tags": []
   },
   "source": [
    "#### Считаем метрики"
   ]
  },
  {
   "cell_type": "code",
   "execution_count": 4244,
   "id": "dee3bf6b-466c-418c-9cf3-c5dd6626a1cd",
   "metadata": {
    "tags": []
   },
   "outputs": [],
   "source": [
    "# Train сет"
   ]
  },
  {
   "cell_type": "code",
   "execution_count": 4245,
   "id": "94a9cbb5-56f0-4c19-903d-4dbd7af69d8a",
   "metadata": {
    "tags": []
   },
   "outputs": [],
   "source": [
    "probs = res_model.predict_proba(X_train)[:,1]\n",
    "preds = res_model.predict(X_train)"
   ]
  },
  {
   "cell_type": "code",
   "execution_count": 4246,
   "id": "66e430e0-fa23-4c7a-887b-a63dce8cf7ce",
   "metadata": {
    "tags": []
   },
   "outputs": [
    {
     "name": "stdout",
     "output_type": "stream",
     "text": [
      "\n",
      "AUC:     0.904\n",
      "Accuracy:  0.840\n",
      "Precision: 0.069\n",
      "Recall:    0.801\n",
      "F1 Score:  0.127\n"
     ]
    }
   ],
   "source": [
    "model_metrics(probs,preds,y_train)"
   ]
  },
  {
   "cell_type": "code",
   "execution_count": 4247,
   "id": "19db1fa4-355a-4a90-a01e-74203a315229",
   "metadata": {
    "tags": []
   },
   "outputs": [],
   "source": [
    "# Test сет"
   ]
  },
  {
   "cell_type": "code",
   "execution_count": 4254,
   "id": "39ab228a-6f6b-4e1f-bc9c-e351a35f2a1a",
   "metadata": {
    "tags": []
   },
   "outputs": [],
   "source": [
    "probs = res_model.predict_proba(X_test)[:,1]\n",
    "preds = res_model.predict(X_test)"
   ]
  },
  {
   "cell_type": "code",
   "execution_count": 4256,
   "id": "5991afea-ddf5-4ea1-8d90-2c16f099389d",
   "metadata": {
    "tags": []
   },
   "outputs": [
    {
     "name": "stdout",
     "output_type": "stream",
     "text": [
      "\n",
      "AUC:     0.642\n",
      "Accuracy:  0.844\n",
      "Precision: 0.007\n",
      "Recall:    0.342\n",
      "F1 Score:  0.014\n"
     ]
    }
   ],
   "source": [
    "model_metrics(probs,preds,y_test)"
   ]
  },
  {
   "cell_type": "code",
   "execution_count": 4257,
   "id": "b39f3b5f-74ff-4468-ae6b-3daad27e8461",
   "metadata": {
    "tags": []
   },
   "outputs": [
    {
     "data": {
      "image/png": "[encoded data removed]",
      "text/plain": [
       "<Figure size 640x480 with 2 Axes>"
      ]
     },
     "metadata": {},
     "output_type": "display_data"
    }
   ],
   "source": [
    "# Confusion Matrix\n",
    "cm = confusion_matrix(y_test, preds)\n",
    "cm_normalized = cm.astype('float') / cm.sum()\n",
    "\n",
    "disp = ConfusionMatrixDisplay(confusion_matrix=cm_normalized)\n",
    "disp.plot(values_format=\".2%\")  # формат процентов\n",
    "plt.title(f'TA {ta} - Normalized confusion matrix at threshold w val FNR 0.2')\n",
    "plt.show()"
   ]
  },
  {
   "cell_type": "code",
   "execution_count": 4264,
   "id": "42355d59-d18a-4bd2-a8f1-150b0ec09a8a",
   "metadata": {
    "tags": []
   },
   "outputs": [
    {
     "data": {
      "image/png": "[encoded data removed]",
      "text/plain": [
       "<Figure size 600x500 with 1 Axes>"
      ]
     },
     "metadata": {},
     "output_type": "display_data"
    },
    {
     "data": {
      "image/png": "[encoded data removed]",
      "text/plain": [
       "<Figure size 600x500 with 1 Axes>"
      ]
     },
     "metadata": {},
     "output_type": "display_data"
    }
   ],
   "source": [
    "# ROC-кривая\n",
    "fpr, tpr, _ = roc_curve(y_test, probs)\n",
    "plt.figure(figsize=(6, 5))\n",
    "plt.plot(fpr, tpr, label=f\"AUC = {roc_auc_score(y_test, probs):.3f}\")\n",
    "plt.plot([0, 1], [0, 1], linestyle='--', color='gray')\n",
    "plt.title(f'TA {ta} - ROC Curve')\n",
    "plt.xlabel('False Positive Rate')\n",
    "plt.ylabel('True Positive Rate')\n",
    "plt.legend()\n",
    "plt.grid()\n",
    "plt.show()\n",
    "\n",
    "# PR-кривая\n",
    "prec, rec, _ = precision_recall_curve(y_test, probs)\n",
    "plt.figure(figsize=(6, 5))\n",
    "plt.plot(rec, prec)\n",
    "plt.title(f'TA {ta} - Precision-Recall Curve')\n",
    "plt.xlabel('Recall')\n",
    "plt.ylabel('Precision')\n",
    "plt.grid()\n",
    "plt.show()\n"
   ]
  },
  {
   "cell_type": "markdown",
   "id": "127e9ea0-e76d-46e3-9c5f-34d27deea0b8",
   "metadata": {},
   "source": [
    "### Deal"
   ]
  },
  {
   "cell_type": "markdown",
   "id": "e6098e74-5ea4-4b8d-a142-a673cd62cd2d",
   "metadata": {
    "jp-MarkdownHeadingCollapsed": true,
    "tags": []
   },
   "source": [
    "#### Делим выборки"
   ]
  },
  {
   "cell_type": "code",
   "execution_count": 1393,
   "id": "068e69c5-c063-449f-acd9-50fca1088dc0",
   "metadata": {
    "tags": []
   },
   "outputs": [],
   "source": [
    "# [['call','appointment','reservation','deal']]"
   ]
  },
  {
   "cell_type": "code",
   "execution_count": 3259,
   "id": "2dc69ecc-5560-456d-bbd5-8535ee79c89f",
   "metadata": {
    "tags": []
   },
   "outputs": [],
   "source": [
    "# поменяли даты, чтобы было с чем сравнить"
   ]
  },
  {
   "cell_type": "code",
   "execution_count": 3261,
   "id": "f67a873d-1dff-4db9-a099-5840ab4164d2",
   "metadata": {
    "tags": []
   },
   "outputs": [],
   "source": [
    "train_full = final_data[final_data.report_date < '2024-10-15']\n",
    "# val_full = final_data[final_data.report_date == '2024-12-08']\n",
    "test_full = final_data[final_data.report_date >= '2024-10-15']"
   ]
  },
  {
   "cell_type": "code",
   "execution_count": 3262,
   "id": "2ff4f35c-f234-416a-bee9-eef3c65bcc02",
   "metadata": {
    "tags": []
   },
   "outputs": [],
   "source": [
    "ta = 'deal'"
   ]
  },
  {
   "cell_type": "code",
   "execution_count": 3265,
   "id": "bb735990-b53a-4a05-9722-9d559f0dd8c5",
   "metadata": {
    "tags": []
   },
   "outputs": [],
   "source": [
    "X_train = train_full[train_full.target_event == ta].drop(columns=['call','appointment','deal','reservation', 'target_event'\n",
    "    ,'smt_decision_makerid' ,'report_date','delivery_date','previous_sunday']).to_numpy()\n",
    "\n",
    "y_train = train_full[train_full.target_event == ta][[ta]].to_numpy()"
   ]
  },
  {
   "cell_type": "code",
   "execution_count": 3266,
   "id": "90d3e1b2-2e1f-4cf4-a018-7fb71c6a3945",
   "metadata": {
    "tags": []
   },
   "outputs": [],
   "source": [
    "# X_val = val_full[val_full.target_event == ta].drop(columns=['call','appointment','deal','reservation', 'target_event'\n",
    "#     ,'smt_decision_makerid' ,'report_date','delivery_date','previous_sunday']).to_numpy()\n",
    "\n",
    "# y_val = val_full[val_full.target_event == ta][[ta]].to_numpy()"
   ]
  },
  {
   "cell_type": "code",
   "execution_count": 3268,
   "id": "1a62dadb-bc14-42cb-af32-d21fbb19ee3e",
   "metadata": {
    "tags": []
   },
   "outputs": [],
   "source": [
    "X_test = test_full[test_full.target_event == ta].drop(columns=['call','appointment','deal','reservation', 'target_event'\n",
    "    ,'smt_decision_makerid','report_date','delivery_date','previous_sunday']).to_numpy()\n",
    "\n",
    "y_test = test_full[test_full.target_event == ta][[ta]].to_numpy()"
   ]
  },
  {
   "cell_type": "code",
   "execution_count": 3271,
   "id": "31a8f70f-0901-427f-87dc-0a24bb590f60",
   "metadata": {
    "tags": []
   },
   "outputs": [
    {
     "data": {
      "text/plain": [
       "(53468, 13025)"
      ]
     },
     "execution_count": 3271,
     "metadata": {},
     "output_type": "execute_result"
    }
   ],
   "source": [
    "len(X_train), len(X_test), "
   ]
  },
  {
   "cell_type": "markdown",
   "id": "88353551-d386-4205-83c2-13ed5c8929b9",
   "metadata": {
    "jp-MarkdownHeadingCollapsed": true,
    "tags": []
   },
   "source": [
    "#### Обучаем модель"
   ]
  },
  {
   "cell_type": "code",
   "execution_count": 3273,
   "id": "4d1865b1-4906-4afe-afe4-0ca1c7922138",
   "metadata": {
    "tags": []
   },
   "outputs": [],
   "source": [
    "cat_features = [360, 361, 362, 363]"
   ]
  },
  {
   "cell_type": "code",
   "execution_count": 3275,
   "id": "06aff077-2ce2-47cf-b37b-f51952a35453",
   "metadata": {
    "tags": []
   },
   "outputs": [],
   "source": [
    "params = {\n",
    "    # база для любой модели\n",
    "    'iterations':   1000,\n",
    "    'learning_rate': 0.03,\n",
    "    'random_state':42,\n",
    "    'verbose':100,\n",
    "    'cat_features':cat_features,\n",
    "    'loss_function': 'CrossEntropy',\n",
    "    # 'eval_metric':   'AUC',\n",
    "    # боремся с переобучением\n",
    "    # 'use_best_model': True,\n",
    "    'early_stopping_rounds': 100,\n",
    "    'depth':         4,\n",
    "    'l2_leaf_reg':   4,\n",
    "}"
   ]
  },
  {
   "cell_type": "code",
   "execution_count": 3277,
   "id": "ad94f7ad-df4e-4ed4-bf50-4036ae2733ea",
   "metadata": {
    "tags": []
   },
   "outputs": [],
   "source": [
    "train_pool = Pool(X_train, y_train, cat_features=cat_features)"
   ]
  },
  {
   "cell_type": "code",
   "execution_count": 3278,
   "id": "494664af-65b2-4eaa-92a5-2dbcae14588d",
   "metadata": {
    "tags": []
   },
   "outputs": [],
   "source": [
    "# eval_pool = Pool(X_val, y_val, cat_features=cat_features)"
   ]
  },
  {
   "cell_type": "code",
   "execution_count": 3281,
   "id": "3c76eb3e-efcb-445b-b010-7cacb324d032",
   "metadata": {
    "tags": []
   },
   "outputs": [],
   "source": [
    "deal_model = CatBoostClassifier(**params)"
   ]
  },
  {
   "cell_type": "code",
   "execution_count": 3283,
   "id": "bc16eb24-2cfe-4d48-9933-d9a4af52fa42",
   "metadata": {
    "tags": []
   },
   "outputs": [
    {
     "data": {
      "application/vnd.jupyter.widget-view+json": {
       "model_id": "9f7d508dc55049dabb6ac43473ad3982",
       "version_major": 2,
       "version_minor": 0
      },
      "text/plain": [
       "MetricVisualizer(layout=Layout(align_self='stretch', height='500px'))"
      ]
     },
     "metadata": {},
     "output_type": "display_data"
    },
    {
     "name": "stdout",
     "output_type": "stream",
     "text": [
      "0:\tlearn: 0.6142741\ttotal: 12.6ms\tremaining: 12.6s\n",
      "100:\tlearn: 0.0229576\ttotal: 1.11s\tremaining: 9.9s\n",
      "200:\tlearn: 0.0215859\ttotal: 2.15s\tremaining: 8.54s\n",
      "300:\tlearn: 0.0207407\ttotal: 3.18s\tremaining: 7.38s\n",
      "400:\tlearn: 0.0200858\ttotal: 4.2s\tremaining: 6.28s\n",
      "500:\tlearn: 0.0197399\ttotal: 5.21s\tremaining: 5.19s\n",
      "600:\tlearn: 0.0193805\ttotal: 6.29s\tremaining: 4.18s\n",
      "700:\tlearn: 0.0190107\ttotal: 7.32s\tremaining: 3.12s\n",
      "800:\tlearn: 0.0186805\ttotal: 8.34s\tremaining: 2.07s\n",
      "900:\tlearn: 0.0184026\ttotal: 9.35s\tremaining: 1.03s\n",
      "999:\tlearn: 0.0181128\ttotal: 10.4s\tremaining: 0us\n"
     ]
    },
    {
     "data": {
      "text/plain": [
       "<catboost.core.CatBoostClassifier at 0xee33be510>"
      ]
     },
     "execution_count": 3283,
     "metadata": {},
     "output_type": "execute_result"
    }
   ],
   "source": [
    "deal_model.fit(X_train, y_train,\n",
    "        # eval_set=train_pool,\n",
    "        plot=True)"
   ]
  },
  {
   "cell_type": "code",
   "execution_count": 3284,
   "id": "7a919cc0-5c0d-4e8f-b5f7-5c2a4eb2bdda",
   "metadata": {
    "tags": []
   },
   "outputs": [],
   "source": [
    "# CM\n",
    "# True Negative False Positive\n",
    "# False Negative True Positive\n",
    "\n",
    "# Precision - доля корректно отгаданных 1 относительно всех признанных 1\n",
    "# Recall - доля корректно отгаданных 1 среди всех 1 в выборке\n",
    "\n",
    "# Чем больше Precision, тем больше уверенности в случае, когда мы признали 1 \n",
    "# Чем больше Recall, тем больше 1 мы угадали"
   ]
  },
  {
   "cell_type": "code",
   "execution_count": 3285,
   "id": "24f002fd-9d68-4747-81b5-d199cefe9e74",
   "metadata": {
    "tags": []
   },
   "outputs": [],
   "source": [
    "# нам логично максимизировать Recall\n",
    "# определим границу, как 20% "
   ]
  },
  {
   "cell_type": "code",
   "execution_count": 3286,
   "id": "a8fa9486-d1f2-4176-b653-aa633730a62d",
   "metadata": {
    "tags": []
   },
   "outputs": [
    {
     "name": "stderr",
     "output_type": "stream",
     "text": [
      "Cannot restore border parameter, falling to default border = 0.5\n"
     ]
    }
   ],
   "source": [
    "fnr_boundary = select_threshold(model=deal_model, data=train_pool, FNR=0.2)"
   ]
  },
  {
   "cell_type": "code",
   "execution_count": 3287,
   "id": "bf015e83-05f3-468c-af23-5db1bc310db2",
   "metadata": {
    "tags": []
   },
   "outputs": [],
   "source": [
    "deal_model.set_probability_threshold(fnr_boundary)"
   ]
  },
  {
   "cell_type": "code",
   "execution_count": 3288,
   "id": "dfa91b68-e66b-49a7-9140-ce777237894f",
   "metadata": {
    "tags": []
   },
   "outputs": [],
   "source": [
    "deal_model.save_model('model_deal.bin')\n",
    "# deal_model = CatBoostClassifier()\n",
    "# deal_model.load_model('deal_model.bin')\n",
    "# print(deal_model.get_params())"
   ]
  },
  {
   "cell_type": "markdown",
   "id": "25f1daa0-562c-4047-a9c8-993faafc4414",
   "metadata": {
    "jp-MarkdownHeadingCollapsed": true,
    "tags": []
   },
   "source": [
    "#### Считаем метрики"
   ]
  },
  {
   "cell_type": "code",
   "execution_count": 3290,
   "id": "f86b3232-1ef1-48f1-a75c-d3e9fb567bc7",
   "metadata": {
    "tags": []
   },
   "outputs": [],
   "source": [
    "# Train сет"
   ]
  },
  {
   "cell_type": "code",
   "execution_count": 3291,
   "id": "ecd99e94-3a97-4f92-9596-07c53ae7a2d5",
   "metadata": {
    "tags": []
   },
   "outputs": [],
   "source": [
    "probs = deal_model.predict_proba(X_train)[:,1]\n",
    "preds = deal_model.predict(X_train)"
   ]
  },
  {
   "cell_type": "code",
   "execution_count": 3292,
   "id": "8156a465-fcde-4d39-a672-1e5c7123f9a7",
   "metadata": {
    "tags": []
   },
   "outputs": [
    {
     "name": "stdout",
     "output_type": "stream",
     "text": [
      "\n",
      "AUC:     0.944\n",
      "Accuracy:  0.946\n",
      "Precision: 0.069\n",
      "Recall:    0.803\n",
      "F1 Score:  0.127\n"
     ]
    }
   ],
   "source": [
    "model_metrics(probs,preds,y_train)"
   ]
  },
  {
   "cell_type": "code",
   "execution_count": 3293,
   "id": "ca8fd867-c121-4371-8aae-3c7074ea49ce",
   "metadata": {
    "tags": []
   },
   "outputs": [],
   "source": [
    "# Test сет"
   ]
  },
  {
   "cell_type": "code",
   "execution_count": 3294,
   "id": "2f9272cd-bf1b-4873-82aa-74fe4dae6106",
   "metadata": {
    "tags": []
   },
   "outputs": [],
   "source": [
    "probs = deal_model.predict_proba(X_test)[:,1]\n",
    "preds = deal_model.predict(X_test)"
   ]
  },
  {
   "cell_type": "code",
   "execution_count": 3295,
   "id": "6faa0a1f-43f2-4a9a-93a6-1682e196d83a",
   "metadata": {
    "tags": []
   },
   "outputs": [
    {
     "name": "stdout",
     "output_type": "stream",
     "text": [
      "\n",
      "AUC:     0.837\n",
      "Accuracy:  0.853\n",
      "Precision: 0.052\n",
      "Recall:    0.577\n",
      "F1 Score:  0.095\n"
     ]
    }
   ],
   "source": [
    "model_metrics(probs,preds,y_test)"
   ]
  },
  {
   "cell_type": "code",
   "execution_count": 3296,
   "id": "801eafca-0e91-4b49-bcd6-0a13cf8443eb",
   "metadata": {
    "tags": []
   },
   "outputs": [
    {
     "data": {
      "image/png": "[encoded data removed]",
      "text/plain": [
       "<Figure size 640x480 with 2 Axes>"
      ]
     },
     "metadata": {},
     "output_type": "display_data"
    }
   ],
   "source": [
    "# Confusion Matrix\n",
    "cm = confusion_matrix(y_test, preds)\n",
    "cm_normalized = cm.astype('float') / cm.sum()\n",
    "\n",
    "disp = ConfusionMatrixDisplay(confusion_matrix=cm_normalized)\n",
    "disp.plot(values_format=\".2%\")  # формат процентов\n",
    "plt.title(f'TA {ta} - Normalized confusion matrix at threshold w val FNR 0.2')\n",
    "plt.show()"
   ]
  },
  {
   "cell_type": "code",
   "execution_count": 3297,
   "id": "2cf78012-ed3c-4d73-83e0-0317915e30c9",
   "metadata": {
    "tags": []
   },
   "outputs": [
    {
     "data": {
      "image/png": "[encoded data removed]",
      "text/plain": [
       "<Figure size 600x500 with 1 Axes>"
      ]
     },
     "metadata": {},
     "output_type": "display_data"
    },
    {
     "data": {
      "image/png": "[encoded data removed]",
      "text/plain": [
       "<Figure size 600x500 with 1 Axes>"
      ]
     },
     "metadata": {},
     "output_type": "display_data"
    }
   ],
   "source": [
    "# ROC-кривая\n",
    "fpr, tpr, _ = roc_curve(y_test, probs)\n",
    "plt.figure(figsize=(6, 5))\n",
    "plt.plot(fpr, tpr, label=f\"AUC = {roc_auc_score(y_test, probs):.4f}\")\n",
    "plt.plot([0, 1], [0, 1], linestyle='--', color='gray')\n",
    "plt.title(f'TA {ta} - ROC Curve')\n",
    "plt.xlabel('False Positive Rate')\n",
    "plt.ylabel('True Positive Rate')\n",
    "plt.legend()\n",
    "plt.grid()\n",
    "plt.show()\n",
    "\n",
    "# PR-кривая\n",
    "prec, rec, _ = precision_recall_curve(y_test, probs)\n",
    "plt.figure(figsize=(6, 5))\n",
    "plt.plot(rec, prec)\n",
    "plt.title(f'TA {ta} - Precision-Recall Curve')\n",
    "plt.xlabel('Recall')\n",
    "plt.ylabel('Precision')\n",
    "plt.grid()\n",
    "plt.show()\n"
   ]
  },
  {
   "cell_type": "code",
   "execution_count": null,
   "id": "06ec76dd-ad3a-44e0-a17d-08e7632bf73a",
   "metadata": {},
   "outputs": [],
   "source": []
  },
  {
   "cell_type": "markdown",
   "id": "4cf8e560-eac5-4934-9f77-02f337f0b7ab",
   "metadata": {},
   "source": [
    "# Часть 4. Валидация и результаты"
   ]
  },
  {
   "cell_type": "markdown",
   "id": "8b423dd2-8bc2-42f3-9441-dba234da4e30",
   "metadata": {},
   "source": [
    "### Предсказываю оффер для тестовой выборки"
   ]
  },
  {
   "cell_type": "markdown",
   "id": "0235ae77-09d9-42c3-a9fa-c104967d9af1",
   "metadata": {},
   "source": [
    "#### 1) Для каждого тестового юзера получаю ЦД из предсказаний модели склонностей"
   ]
  },
  {
   "cell_type": "code",
   "execution_count": 4268,
   "id": "92deed16-cd2e-4d46-a3a8-02216bc33d71",
   "metadata": {
    "tags": []
   },
   "outputs": [
    {
     "data": {
      "text/html": [
       "<div>\n",
       "<style scoped>\n",
       "    .dataframe tbody tr th:only-of-type {\n",
       "        vertical-align: middle;\n",
       "    }\n",
       "\n",
       "    .dataframe tbody tr th {\n",
       "        vertical-align: top;\n",
       "    }\n",
       "\n",
       "    .dataframe thead th {\n",
       "        text-align: right;\n",
       "    }\n",
       "</style>\n",
       "<table border=\"1\" class=\"dataframe\">\n",
       "  <thead>\n",
       "    <tr style=\"text-align: right;\">\n",
       "      <th></th>\n",
       "      <th>smt_decision_makerid</th>\n",
       "      <th>delivery_date</th>\n",
       "      <th>target_event</th>\n",
       "      <th>event_res</th>\n",
       "    </tr>\n",
       "  </thead>\n",
       "  <tbody>\n",
       "    <tr>\n",
       "      <th>0</th>\n",
       "      <td>a024eeadd2a9bc8597d91126a11df815</td>\n",
       "      <td>2024-12-18</td>\n",
       "      <td>call</td>\n",
       "      <td>call</td>\n",
       "    </tr>\n",
       "    <tr>\n",
       "      <th>1</th>\n",
       "      <td>2e06f41ab8495ef1f51c014d62fa4698</td>\n",
       "      <td>2024-12-18</td>\n",
       "      <td>call</td>\n",
       "      <td>call</td>\n",
       "    </tr>\n",
       "    <tr>\n",
       "      <th>2</th>\n",
       "      <td>45d087c08c8935951dbeca6b63c5acb7</td>\n",
       "      <td>2024-12-18</td>\n",
       "      <td>call</td>\n",
       "      <td>call</td>\n",
       "    </tr>\n",
       "    <tr>\n",
       "      <th>3</th>\n",
       "      <td>9aed9813e6881f5a58d5a8c7158771b4</td>\n",
       "      <td>2024-12-16</td>\n",
       "      <td>call</td>\n",
       "      <td>call</td>\n",
       "    </tr>\n",
       "    <tr>\n",
       "      <th>4</th>\n",
       "      <td>42358f2cf5e091a253a54259e058b855</td>\n",
       "      <td>2024-12-18</td>\n",
       "      <td>call</td>\n",
       "      <td>call</td>\n",
       "    </tr>\n",
       "    <tr>\n",
       "      <th>...</th>\n",
       "      <td>...</td>\n",
       "      <td>...</td>\n",
       "      <td>...</td>\n",
       "      <td>...</td>\n",
       "    </tr>\n",
       "    <tr>\n",
       "      <th>169064</th>\n",
       "      <td>2fafb2d053c7d717ab053a5252ad8316</td>\n",
       "      <td>2024-12-19</td>\n",
       "      <td>call</td>\n",
       "      <td>call</td>\n",
       "    </tr>\n",
       "    <tr>\n",
       "      <th>169065</th>\n",
       "      <td>3b6f4224c840b959d0ce6614a84dc6e0</td>\n",
       "      <td>2024-12-19</td>\n",
       "      <td>call</td>\n",
       "      <td>call</td>\n",
       "    </tr>\n",
       "    <tr>\n",
       "      <th>169066</th>\n",
       "      <td>c2ff7b9060dbaf6535ff43e5e7dd80e4</td>\n",
       "      <td>2024-12-19</td>\n",
       "      <td>call</td>\n",
       "      <td>call</td>\n",
       "    </tr>\n",
       "    <tr>\n",
       "      <th>169067</th>\n",
       "      <td>997d06aa5ef9ecfdd074bb3d605f1ff6</td>\n",
       "      <td>2024-12-19</td>\n",
       "      <td>call</td>\n",
       "      <td>appointment</td>\n",
       "    </tr>\n",
       "    <tr>\n",
       "      <th>169068</th>\n",
       "      <td>1b10ad1b5296148129d3cb57f5c6f7af</td>\n",
       "      <td>2024-12-19</td>\n",
       "      <td>call</td>\n",
       "      <td>call</td>\n",
       "    </tr>\n",
       "  </tbody>\n",
       "</table>\n",
       "<p>169069 rows × 4 columns</p>\n",
       "</div>"
      ],
      "text/plain": [
       "                    smt_decision_makerid delivery_date target_event  \\\n",
       "0       a024eeadd2a9bc8597d91126a11df815    2024-12-18         call   \n",
       "1       2e06f41ab8495ef1f51c014d62fa4698    2024-12-18         call   \n",
       "2       45d087c08c8935951dbeca6b63c5acb7    2024-12-18         call   \n",
       "3       9aed9813e6881f5a58d5a8c7158771b4    2024-12-16         call   \n",
       "4       42358f2cf5e091a253a54259e058b855    2024-12-18         call   \n",
       "...                                  ...           ...          ...   \n",
       "169064  2fafb2d053c7d717ab053a5252ad8316    2024-12-19         call   \n",
       "169065  3b6f4224c840b959d0ce6614a84dc6e0    2024-12-19         call   \n",
       "169066  c2ff7b9060dbaf6535ff43e5e7dd80e4    2024-12-19         call   \n",
       "169067  997d06aa5ef9ecfdd074bb3d605f1ff6    2024-12-19         call   \n",
       "169068  1b10ad1b5296148129d3cb57f5c6f7af    2024-12-19         call   \n",
       "\n",
       "          event_res  \n",
       "0              call  \n",
       "1              call  \n",
       "2              call  \n",
       "3              call  \n",
       "4              call  \n",
       "...             ...  \n",
       "169064         call  \n",
       "169065         call  \n",
       "169066         call  \n",
       "169067  appointment  \n",
       "169068         call  \n",
       "\n",
       "[169069 rows x 4 columns]"
      ]
     },
     "execution_count": 4268,
     "metadata": {},
     "output_type": "execute_result"
    }
   ],
   "source": [
    "df_res_1_step[['smt_decision_makerid','delivery_date','target_event','event_res']]"
   ]
  },
  {
   "cell_type": "markdown",
   "id": "4844c60b-d068-4b29-b747-e1a443804d2d",
   "metadata": {},
   "source": [
    "#### 2) Подготавливаю данные для скоринга - фичи клиента и комбинации фичей для коммуникаций под каждый таргет"
   ]
  },
  {
   "cell_type": "code",
   "execution_count": 4444,
   "id": "96eaf10c-f436-4f1d-b9a9-f410d5b99cf4",
   "metadata": {
    "tags": []
   },
   "outputs": [],
   "source": [
    "unique_offers = final_data[['target_event', 'tag_product', 'tag_project_type', 'tag_chain_flag', 'tag_model_flag']].drop_duplicates().reset_index(drop=True).copy()"
   ]
  },
  {
   "cell_type": "code",
   "execution_count": 4446,
   "id": "cd03c373-3cb3-404c-840d-2950ec3d2f43",
   "metadata": {
    "tags": []
   },
   "outputs": [],
   "source": [
    "df_for_scoring = df_res_1_step[df_res_1_step.target_event == df_res_1_step.event_res][['smt_decision_makerid','delivery_date','target_event']].copy()"
   ]
  },
  {
   "cell_type": "code",
   "execution_count": 4448,
   "id": "5892daf8-57a3-461c-8e99-865e7013216e",
   "metadata": {
    "tags": []
   },
   "outputs": [
    {
     "data": {
      "text/plain": [
       "target_event\n",
       "call           84569\n",
       "appointment     3356\n",
       "reservation       19\n",
       "Name: count, dtype: int64"
      ]
     },
     "execution_count": 4448,
     "metadata": {},
     "output_type": "execute_result"
    }
   ],
   "source": [
    "df_for_scoring.target_event.value_counts()"
   ]
  },
  {
   "cell_type": "code",
   "execution_count": 4450,
   "id": "7fee76f9-b454-4077-acef-e173b1416080",
   "metadata": {
    "tags": []
   },
   "outputs": [],
   "source": [
    "df_for_scoring = df_for_scoring.merge(unique_offers, left_on = 'target_event', right_on = 'target_event')"
   ]
  },
  {
   "cell_type": "code",
   "execution_count": 4452,
   "id": "1228d9c1-362b-485f-a259-bdacc8500ea7",
   "metadata": {
    "tags": []
   },
   "outputs": [],
   "source": [
    "df_for_scoring.drop_duplicates(inplace=True)"
   ]
  },
  {
   "cell_type": "code",
   "execution_count": 4454,
   "id": "ed6ca3eb-94c4-494f-832c-97b9ef75139a",
   "metadata": {
    "tags": []
   },
   "outputs": [
    {
     "data": {
      "text/plain": [
       "345022"
      ]
     },
     "execution_count": 4454,
     "metadata": {},
     "output_type": "execute_result"
    }
   ],
   "source": [
    "len(df_for_scoring)"
   ]
  },
  {
   "cell_type": "code",
   "execution_count": 4456,
   "id": "a990d677-a05f-4908-b9a5-461e8a9f9c9d",
   "metadata": {
    "tags": []
   },
   "outputs": [],
   "source": [
    "test_full = final_data[final_data.report_date > '2024-12-08'].copy()"
   ]
  },
  {
   "cell_type": "code",
   "execution_count": 4458,
   "id": "a122e9c2-f1ec-4bee-a71a-a614d89f4a1b",
   "metadata": {
    "tags": []
   },
   "outputs": [],
   "source": [
    "test_full.drop_duplicates(inplace=True)"
   ]
  },
  {
   "cell_type": "code",
   "execution_count": 4459,
   "id": "fa6ce4da-7ffe-420d-89d3-a47fd48d6ad2",
   "metadata": {
    "tags": []
   },
   "outputs": [
    {
     "data": {
      "text/plain": [
       "169066"
      ]
     },
     "execution_count": 4459,
     "metadata": {},
     "output_type": "execute_result"
    }
   ],
   "source": [
    "len(test_full)"
   ]
  },
  {
   "cell_type": "code",
   "execution_count": 4462,
   "id": "1523eacb-d3a3-4ba2-9965-e168c7bc968e",
   "metadata": {
    "tags": []
   },
   "outputs": [],
   "source": [
    "test_for_scoring_full = test_full.drop(columns = ['tag_product', 'tag_project_type', 'tag_chain_flag', 'tag_model_flag']).merge(df_for_scoring, \n",
    "                on = ['smt_decision_makerid','delivery_date','target_event']).drop_duplicates()"
   ]
  },
  {
   "cell_type": "code",
   "execution_count": 4463,
   "id": "096fbce4-6289-443a-be57-5d4535400fa9",
   "metadata": {
    "tags": []
   },
   "outputs": [
    {
     "data": {
      "text/plain": [
       "345022"
      ]
     },
     "execution_count": 4463,
     "metadata": {},
     "output_type": "execute_result"
    }
   ],
   "source": [
    "len(test_for_scoring_full)"
   ]
  },
  {
   "cell_type": "code",
   "execution_count": 4420,
   "id": "a08adaa5-a20d-4463-a095-9820c8e02fe0",
   "metadata": {
    "tags": []
   },
   "outputs": [
    {
     "data": {
      "text/plain": [
       "target_event\n",
       "call           338276\n",
       "appointment      6708\n",
       "reservation        38\n",
       "Name: count, dtype: int64"
      ]
     },
     "execution_count": 4420,
     "metadata": {},
     "output_type": "execute_result"
    }
   ],
   "source": [
    "test_for_scoring_full.target_event.value_counts()"
   ]
  },
  {
   "cell_type": "code",
   "execution_count": 4774,
   "id": "efc2c260-c8de-4651-9206-f444b9ffb0b2",
   "metadata": {
    "tags": []
   },
   "outputs": [],
   "source": [
    "X_call_scoring_full = test_for_scoring_full[test_for_scoring_full.target_event == 'call'].copy()\n",
    "\n",
    "X_appointment_scoring_full = test_for_scoring_full[test_for_scoring_full.target_event == 'appointment'].copy() \n",
    "\n",
    "X_reservation_scoring_full = test_for_scoring_full[test_for_scoring_full.target_event == 'reservation'].copy() "
   ]
  },
  {
   "cell_type": "code",
   "execution_count": 4776,
   "id": "32148896-e624-4b00-8acb-e3a883940a28",
   "metadata": {
    "tags": []
   },
   "outputs": [],
   "source": [
    "X_call_scoring = X_call_scoring_full.drop(columns=['call','appointment','deal','reservation', 'target_event'\n",
    "    ,'smt_decision_makerid','report_date','delivery_date','previous_sunday']).to_numpy()\n",
    "\n",
    "X_appointment_scoring = X_appointment_scoring_full.drop(columns=['call','appointment','deal','reservation', 'target_event'\n",
    "    ,'smt_decision_makerid','report_date','delivery_date','previous_sunday']).to_numpy()\n",
    "\n",
    "X_reservation_scoring = X_reservation_scoring_full.drop(columns=['call','appointment','deal','reservation', 'target_event'\n",
    "    ,'smt_decision_makerid','report_date','delivery_date','previous_sunday']).to_numpy()"
   ]
  },
  {
   "cell_type": "code",
   "execution_count": 4777,
   "id": "ad6eaf5a-4adb-4d00-b265-99f117055c92",
   "metadata": {
    "tags": []
   },
   "outputs": [
    {
     "data": {
      "text/plain": [
       "True"
      ]
     },
     "execution_count": 4777,
     "metadata": {},
     "output_type": "execute_result"
    }
   ],
   "source": [
    "len(X_call_scoring[0]) == len(X_train[0])"
   ]
  },
  {
   "cell_type": "markdown",
   "id": "03730c94-60a8-4e90-b918-f7d9cc73fcde",
   "metadata": {
    "tags": []
   },
   "source": [
    "#### 3) Запускаю модели, скорю юзеров и коммуникации"
   ]
  },
  {
   "cell_type": "code",
   "execution_count": 4772,
   "id": "161f68ed-e59f-4595-a22c-3eb5539b7cd0",
   "metadata": {
    "tags": []
   },
   "outputs": [],
   "source": [
    "y_scores_call = call_model.predict_proba(X_call_scoring)[:, 1]\n",
    "y_scores_appointment = ap_model.predict_proba(X_appointment_scoring)[:, 1]\n",
    "y_scores_reservation = res_model.predict_proba(X_reservation_scoring)[:, 1]"
   ]
  },
  {
   "cell_type": "code",
   "execution_count": 4784,
   "id": "a79514f2-607c-4a0b-8c72-061f57644bab",
   "metadata": {
    "tags": []
   },
   "outputs": [],
   "source": [
    "X_call_scoring_full['y_score'] = y_scores_call\n",
    "X_appointment_scoring_full['y_score'] = y_scores_appointment\n",
    "X_reservation_scoring_full['y_score'] = y_scores_reservation"
   ]
  },
  {
   "cell_type": "code",
   "execution_count": 4786,
   "id": "4f8881ee-aba7-404f-bb48-b20346b4f8f6",
   "metadata": {
    "tags": []
   },
   "outputs": [],
   "source": [
    "for df in X_call_scoring_full, X_appointment_scoring_full, X_reservation_scoring_full:\n",
    "    df['y_rn'] = df.groupby(['smt_decision_makerid', 'delivery_date'])['y_score']\\\n",
    "        .rank(method='first', ascending=False).astype(int)"
   ]
  },
  {
   "cell_type": "code",
   "execution_count": 4975,
   "id": "e9fbfa7d-f78a-40eb-a76a-dcfdd0e97445",
   "metadata": {
    "tags": []
   },
   "outputs": [],
   "source": [
    "X_best_comms = pd.concat([X_call_scoring_full[X_call_scoring_full.y_rn==1], X_appointment_scoring_full[X_appointment_scoring_full.y_rn==1],\n",
    "        X_reservation_scoring_full[X_reservation_scoring_full.y_rn==1]], ignore_index=True)"
   ]
  },
  {
   "cell_type": "code",
   "execution_count": 4981,
   "id": "62952fc8-9f43-40e4-b6d9-b604042f6cdd",
   "metadata": {
    "tags": []
   },
   "outputs": [],
   "source": [
    "# прогнозы коммуникаций с лучшими скорами\n",
    "X_best_comms = X_best_comms[['smt_decision_makerid', 'delivery_date','target_event',\n",
    "        'tag_product', 'tag_project_type', 'tag_chain_flag', 'tag_model_flag']].sort_values(by='smt_decision_makerid')"
   ]
  },
  {
   "cell_type": "code",
   "execution_count": 4983,
   "id": "286b1e02-77d0-4331-8804-f1a77c1ee0b7",
   "metadata": {
    "tags": []
   },
   "outputs": [
    {
     "data": {
      "text/html": [
       "<div>\n",
       "<style scoped>\n",
       "    .dataframe tbody tr th:only-of-type {\n",
       "        vertical-align: middle;\n",
       "    }\n",
       "\n",
       "    .dataframe tbody tr th {\n",
       "        vertical-align: top;\n",
       "    }\n",
       "\n",
       "    .dataframe thead th {\n",
       "        text-align: right;\n",
       "    }\n",
       "</style>\n",
       "<table border=\"1\" class=\"dataframe\">\n",
       "  <thead>\n",
       "    <tr style=\"text-align: right;\">\n",
       "      <th></th>\n",
       "      <th>smt_decision_makerid</th>\n",
       "      <th>delivery_date</th>\n",
       "      <th>target_event</th>\n",
       "      <th>tag_product</th>\n",
       "      <th>tag_project_type</th>\n",
       "      <th>tag_chain_flag</th>\n",
       "      <th>tag_model_flag</th>\n",
       "    </tr>\n",
       "  </thead>\n",
       "  <tbody>\n",
       "    <tr>\n",
       "      <th>60653</th>\n",
       "      <td>0001463504717134f55fecd5968138ee</td>\n",
       "      <td>2024-12-18</td>\n",
       "      <td>call</td>\n",
       "      <td>realestate</td>\n",
       "      <td>not_izhs</td>\n",
       "      <td>chain</td>\n",
       "      <td>not_model</td>\n",
       "    </tr>\n",
       "    <tr>\n",
       "      <th>76941</th>\n",
       "      <td>0001e4348a1b35205eeab60ce11502f4</td>\n",
       "      <td>2024-12-20</td>\n",
       "      <td>call</td>\n",
       "      <td>realestate</td>\n",
       "      <td>not_izhs</td>\n",
       "      <td>chain</td>\n",
       "      <td>not_model</td>\n",
       "    </tr>\n",
       "    <tr>\n",
       "      <th>84404</th>\n",
       "      <td>0002bc364f3b920afdbfeb72188fdd4c</td>\n",
       "      <td>2024-12-20</td>\n",
       "      <td>call</td>\n",
       "      <td>realestate</td>\n",
       "      <td>not_izhs</td>\n",
       "      <td>chain</td>\n",
       "      <td>not_model</td>\n",
       "    </tr>\n",
       "    <tr>\n",
       "      <th>54356</th>\n",
       "      <td>0003452a894844a4a7de026951c161a0</td>\n",
       "      <td>2024-12-18</td>\n",
       "      <td>call</td>\n",
       "      <td>realestate</td>\n",
       "      <td>not_izhs</td>\n",
       "      <td>chain</td>\n",
       "      <td>not_model</td>\n",
       "    </tr>\n",
       "    <tr>\n",
       "      <th>6163</th>\n",
       "      <td>000380b36f2861814e5403dc34da86ee</td>\n",
       "      <td>2024-12-16</td>\n",
       "      <td>call</td>\n",
       "      <td>realestate</td>\n",
       "      <td>not_izhs</td>\n",
       "      <td>chain</td>\n",
       "      <td>not_model</td>\n",
       "    </tr>\n",
       "    <tr>\n",
       "      <th>...</th>\n",
       "      <td>...</td>\n",
       "      <td>...</td>\n",
       "      <td>...</td>\n",
       "      <td>...</td>\n",
       "      <td>...</td>\n",
       "      <td>...</td>\n",
       "      <td>...</td>\n",
       "    </tr>\n",
       "    <tr>\n",
       "      <th>79833</th>\n",
       "      <td>fffba31a8402f9d3c46303111ec43a9a</td>\n",
       "      <td>2024-12-20</td>\n",
       "      <td>call</td>\n",
       "      <td>realestate</td>\n",
       "      <td>not_izhs</td>\n",
       "      <td>chain</td>\n",
       "      <td>not_model</td>\n",
       "    </tr>\n",
       "    <tr>\n",
       "      <th>19090</th>\n",
       "      <td>fffbd7ab36a12b6139cf4094f8d00499</td>\n",
       "      <td>2024-12-16</td>\n",
       "      <td>call</td>\n",
       "      <td>realestate</td>\n",
       "      <td>not_izhs</td>\n",
       "      <td>chain</td>\n",
       "      <td>not_model</td>\n",
       "    </tr>\n",
       "    <tr>\n",
       "      <th>26731</th>\n",
       "      <td>fffe5f81f2c32b01f533c1dd7e339b60</td>\n",
       "      <td>2024-12-18</td>\n",
       "      <td>call</td>\n",
       "      <td>realestate</td>\n",
       "      <td>not_izhs</td>\n",
       "      <td>chain</td>\n",
       "      <td>not_model</td>\n",
       "    </tr>\n",
       "    <tr>\n",
       "      <th>8070</th>\n",
       "      <td>fffe9e23dd7b471e69f6ad9fd82d5f80</td>\n",
       "      <td>2024-12-16</td>\n",
       "      <td>call</td>\n",
       "      <td>realestate</td>\n",
       "      <td>not_izhs</td>\n",
       "      <td>chain</td>\n",
       "      <td>not_model</td>\n",
       "    </tr>\n",
       "    <tr>\n",
       "      <th>67391</th>\n",
       "      <td>ffffca5ee293dbf0944a8179e9def61f</td>\n",
       "      <td>2024-12-18</td>\n",
       "      <td>call</td>\n",
       "      <td>realestate</td>\n",
       "      <td>not_izhs</td>\n",
       "      <td>chain</td>\n",
       "      <td>not_model</td>\n",
       "    </tr>\n",
       "  </tbody>\n",
       "</table>\n",
       "<p>87942 rows × 7 columns</p>\n",
       "</div>"
      ],
      "text/plain": [
       "                   smt_decision_makerid delivery_date target_event  \\\n",
       "60653  0001463504717134f55fecd5968138ee    2024-12-18         call   \n",
       "76941  0001e4348a1b35205eeab60ce11502f4    2024-12-20         call   \n",
       "84404  0002bc364f3b920afdbfeb72188fdd4c    2024-12-20         call   \n",
       "54356  0003452a894844a4a7de026951c161a0    2024-12-18         call   \n",
       "6163   000380b36f2861814e5403dc34da86ee    2024-12-16         call   \n",
       "...                                 ...           ...          ...   \n",
       "79833  fffba31a8402f9d3c46303111ec43a9a    2024-12-20         call   \n",
       "19090  fffbd7ab36a12b6139cf4094f8d00499    2024-12-16         call   \n",
       "26731  fffe5f81f2c32b01f533c1dd7e339b60    2024-12-18         call   \n",
       "8070   fffe9e23dd7b471e69f6ad9fd82d5f80    2024-12-16         call   \n",
       "67391  ffffca5ee293dbf0944a8179e9def61f    2024-12-18         call   \n",
       "\n",
       "      tag_product tag_project_type tag_chain_flag tag_model_flag  \n",
       "60653  realestate         not_izhs          chain      not_model  \n",
       "76941  realestate         not_izhs          chain      not_model  \n",
       "84404  realestate         not_izhs          chain      not_model  \n",
       "54356  realestate         not_izhs          chain      not_model  \n",
       "6163   realestate         not_izhs          chain      not_model  \n",
       "...           ...              ...            ...            ...  \n",
       "79833  realestate         not_izhs          chain      not_model  \n",
       "19090  realestate         not_izhs          chain      not_model  \n",
       "26731  realestate         not_izhs          chain      not_model  \n",
       "8070   realestate         not_izhs          chain      not_model  \n",
       "67391  realestate         not_izhs          chain      not_model  \n",
       "\n",
       "[87942 rows x 7 columns]"
      ]
     },
     "execution_count": 4983,
     "metadata": {},
     "output_type": "execute_result"
    }
   ],
   "source": [
    "X_best_comms"
   ]
  },
  {
   "cell_type": "code",
   "execution_count": 4985,
   "id": "7617311e-25ea-4f55-b1be-add6feacfbd7",
   "metadata": {
    "tags": []
   },
   "outputs": [
    {
     "data": {
      "text/html": [
       "<div>\n",
       "<style scoped>\n",
       "    .dataframe tbody tr th:only-of-type {\n",
       "        vertical-align: middle;\n",
       "    }\n",
       "\n",
       "    .dataframe tbody tr th {\n",
       "        vertical-align: top;\n",
       "    }\n",
       "\n",
       "    .dataframe thead th {\n",
       "        text-align: right;\n",
       "    }\n",
       "</style>\n",
       "<table border=\"1\" class=\"dataframe\">\n",
       "  <thead>\n",
       "    <tr style=\"text-align: right;\">\n",
       "      <th></th>\n",
       "      <th>smt_decision_makerid</th>\n",
       "      <th>delivery_date</th>\n",
       "      <th>target_event</th>\n",
       "      <th>tag_product</th>\n",
       "      <th>tag_project_type</th>\n",
       "      <th>tag_chain_flag</th>\n",
       "      <th>tag_model_flag</th>\n",
       "    </tr>\n",
       "  </thead>\n",
       "  <tbody>\n",
       "    <tr>\n",
       "      <th>0</th>\n",
       "      <td>a024eeadd2a9bc8597d91126a11df815</td>\n",
       "      <td>2024-12-18</td>\n",
       "      <td>call</td>\n",
       "      <td>realestate</td>\n",
       "      <td>not_izhs</td>\n",
       "      <td>chain</td>\n",
       "      <td>not_model</td>\n",
       "    </tr>\n",
       "    <tr>\n",
       "      <th>1</th>\n",
       "      <td>2e06f41ab8495ef1f51c014d62fa4698</td>\n",
       "      <td>2024-12-18</td>\n",
       "      <td>call</td>\n",
       "      <td>realestate</td>\n",
       "      <td>not_izhs</td>\n",
       "      <td>chain</td>\n",
       "      <td>not_model</td>\n",
       "    </tr>\n",
       "    <tr>\n",
       "      <th>2</th>\n",
       "      <td>45d087c08c8935951dbeca6b63c5acb7</td>\n",
       "      <td>2024-12-18</td>\n",
       "      <td>call</td>\n",
       "      <td>realestate</td>\n",
       "      <td>not_izhs</td>\n",
       "      <td>chain</td>\n",
       "      <td>not_model</td>\n",
       "    </tr>\n",
       "    <tr>\n",
       "      <th>3</th>\n",
       "      <td>9aed9813e6881f5a58d5a8c7158771b4</td>\n",
       "      <td>2024-12-16</td>\n",
       "      <td>call</td>\n",
       "      <td>realestate</td>\n",
       "      <td>not_izhs</td>\n",
       "      <td>chain</td>\n",
       "      <td>not_model</td>\n",
       "    </tr>\n",
       "    <tr>\n",
       "      <th>4</th>\n",
       "      <td>42358f2cf5e091a253a54259e058b855</td>\n",
       "      <td>2024-12-18</td>\n",
       "      <td>call</td>\n",
       "      <td>realestate</td>\n",
       "      <td>not_izhs</td>\n",
       "      <td>chain</td>\n",
       "      <td>not_model</td>\n",
       "    </tr>\n",
       "    <tr>\n",
       "      <th>...</th>\n",
       "      <td>...</td>\n",
       "      <td>...</td>\n",
       "      <td>...</td>\n",
       "      <td>...</td>\n",
       "      <td>...</td>\n",
       "      <td>...</td>\n",
       "      <td>...</td>\n",
       "    </tr>\n",
       "    <tr>\n",
       "      <th>88066</th>\n",
       "      <td>140e5c8794f09ec49131a9c965119467</td>\n",
       "      <td>2024-12-19</td>\n",
       "      <td>call</td>\n",
       "      <td>izhs</td>\n",
       "      <td>izhs</td>\n",
       "      <td>chain</td>\n",
       "      <td>not_model</td>\n",
       "    </tr>\n",
       "    <tr>\n",
       "      <th>88067</th>\n",
       "      <td>2fafb2d053c7d717ab053a5252ad8316</td>\n",
       "      <td>2024-12-19</td>\n",
       "      <td>call</td>\n",
       "      <td>izhs</td>\n",
       "      <td>izhs</td>\n",
       "      <td>chain</td>\n",
       "      <td>not_model</td>\n",
       "    </tr>\n",
       "    <tr>\n",
       "      <th>88068</th>\n",
       "      <td>3b6f4224c840b959d0ce6614a84dc6e0</td>\n",
       "      <td>2024-12-19</td>\n",
       "      <td>call</td>\n",
       "      <td>izhs</td>\n",
       "      <td>izhs</td>\n",
       "      <td>chain</td>\n",
       "      <td>not_model</td>\n",
       "    </tr>\n",
       "    <tr>\n",
       "      <th>88069</th>\n",
       "      <td>c2ff7b9060dbaf6535ff43e5e7dd80e4</td>\n",
       "      <td>2024-12-19</td>\n",
       "      <td>call</td>\n",
       "      <td>izhs</td>\n",
       "      <td>izhs</td>\n",
       "      <td>chain</td>\n",
       "      <td>not_model</td>\n",
       "    </tr>\n",
       "    <tr>\n",
       "      <th>88070</th>\n",
       "      <td>1b10ad1b5296148129d3cb57f5c6f7af</td>\n",
       "      <td>2024-12-19</td>\n",
       "      <td>call</td>\n",
       "      <td>izhs</td>\n",
       "      <td>izhs</td>\n",
       "      <td>chain</td>\n",
       "      <td>not_model</td>\n",
       "    </tr>\n",
       "  </tbody>\n",
       "</table>\n",
       "<p>88071 rows × 7 columns</p>\n",
       "</div>"
      ],
      "text/plain": [
       "                   smt_decision_makerid delivery_date target_event  \\\n",
       "0      a024eeadd2a9bc8597d91126a11df815    2024-12-18         call   \n",
       "1      2e06f41ab8495ef1f51c014d62fa4698    2024-12-18         call   \n",
       "2      45d087c08c8935951dbeca6b63c5acb7    2024-12-18         call   \n",
       "3      9aed9813e6881f5a58d5a8c7158771b4    2024-12-16         call   \n",
       "4      42358f2cf5e091a253a54259e058b855    2024-12-18         call   \n",
       "...                                 ...           ...          ...   \n",
       "88066  140e5c8794f09ec49131a9c965119467    2024-12-19         call   \n",
       "88067  2fafb2d053c7d717ab053a5252ad8316    2024-12-19         call   \n",
       "88068  3b6f4224c840b959d0ce6614a84dc6e0    2024-12-19         call   \n",
       "88069  c2ff7b9060dbaf6535ff43e5e7dd80e4    2024-12-19         call   \n",
       "88070  1b10ad1b5296148129d3cb57f5c6f7af    2024-12-19         call   \n",
       "\n",
       "      tag_product tag_project_type tag_chain_flag tag_model_flag  \n",
       "0      realestate         not_izhs          chain      not_model  \n",
       "1      realestate         not_izhs          chain      not_model  \n",
       "2      realestate         not_izhs          chain      not_model  \n",
       "3      realestate         not_izhs          chain      not_model  \n",
       "4      realestate         not_izhs          chain      not_model  \n",
       "...           ...              ...            ...            ...  \n",
       "88066        izhs             izhs          chain      not_model  \n",
       "88067        izhs             izhs          chain      not_model  \n",
       "88068        izhs             izhs          chain      not_model  \n",
       "88069        izhs             izhs          chain      not_model  \n",
       "88070        izhs             izhs          chain      not_model  \n",
       "\n",
       "[88071 rows x 7 columns]"
      ]
     },
     "execution_count": 4985,
     "metadata": {},
     "output_type": "execute_result"
    }
   ],
   "source": [
    "X_fact_comms = df_res_1_step[df_res_1_step.target_event == df_res_1_step.event_res][['smt_decision_makerid','delivery_date','target_event']].drop_duplicates() \\\n",
    "    .merge(test_full[['smt_decision_makerid','delivery_date','tag_product', 'tag_project_type', 'tag_chain_flag', 'tag_model_flag']].drop_duplicates())\n",
    "X_fact_comms"
   ]
  },
  {
   "cell_type": "code",
   "execution_count": 4846,
   "id": "069bc9be-4476-486d-be89-5e9a0f45ec64",
   "metadata": {
    "tags": []
   },
   "outputs": [
    {
     "data": {
      "text/plain": [
       "(88071, 87942)"
      ]
     },
     "execution_count": 4846,
     "metadata": {},
     "output_type": "execute_result"
    }
   ],
   "source": [
    "# разная длина, потому что могло быть отправлено >1 коммуникации\n",
    "len(X_fact_comms), len(X_best_comms)"
   ]
  },
  {
   "cell_type": "markdown",
   "id": "5b63949f-b37c-441a-8fc2-1db3658a37f6",
   "metadata": {},
   "source": [
    "#### 4) Сравнение target event"
   ]
  },
  {
   "cell_type": "code",
   "execution_count": 4864,
   "id": "38083f2f-105e-4117-9b78-5c8fbd39c395",
   "metadata": {
    "tags": []
   },
   "outputs": [],
   "source": [
    "# 1) сходимость предсказания target_event -> 52% случаев"
   ]
  },
  {
   "cell_type": "code",
   "execution_count": 4862,
   "id": "8a845036-bb8a-4916-84e5-44851084f85c",
   "metadata": {
    "tags": []
   },
   "outputs": [
    {
     "data": {
      "text/plain": [
       "0.5201663226256735"
      ]
     },
     "execution_count": 4862,
     "metadata": {},
     "output_type": "execute_result"
    }
   ],
   "source": [
    "len(df_res_1_step[df_res_1_step.target_event == df_res_1_step.event_res]) / len(df_res_1_step)"
   ]
  },
  {
   "cell_type": "code",
   "execution_count": 4856,
   "id": "84856a25-ca0c-458c-bb31-580a82022ab5",
   "metadata": {
    "tags": []
   },
   "outputs": [
    {
     "data": {
      "text/plain": [
       "target_event\n",
       "call           113611\n",
       "appointment     34217\n",
       "reservation     21241\n",
       "Name: count, dtype: int64"
      ]
     },
     "execution_count": 4856,
     "metadata": {},
     "output_type": "execute_result"
    }
   ],
   "source": [
    "df_res_1_step.target_event.value_counts()"
   ]
  },
  {
   "cell_type": "code",
   "execution_count": 4858,
   "id": "fd5e1ee9-5bfc-409a-84dc-f94e9e2555c2",
   "metadata": {
    "tags": []
   },
   "outputs": [
    {
     "data": {
      "text/plain": [
       "event_res\n",
       "call           129833\n",
       "appointment     25098\n",
       "deal            14085\n",
       "reservation        53\n",
       "Name: count, dtype: int64"
      ]
     },
     "execution_count": 4858,
     "metadata": {},
     "output_type": "execute_result"
    }
   ],
   "source": [
    "df_res_1_step.event_res.value_counts()"
   ]
  },
  {
   "cell_type": "code",
   "execution_count": 4868,
   "id": "ca13a334-169d-4400-8a81-0bd3bb47cec5",
   "metadata": {
    "tags": []
   },
   "outputs": [
    {
     "data": {
      "text/plain": [
       "event_res\n",
       "call           84569\n",
       "appointment    20511\n",
       "deal            8500\n",
       "reservation       31\n",
       "Name: count, dtype: int64"
      ]
     },
     "execution_count": 4868,
     "metadata": {},
     "output_type": "execute_result"
    }
   ],
   "source": [
    "# что мы предсказали, когда в реальности был звонок\n",
    "df_res_1_step[df_res_1_step.target_event == 'call'].event_res.value_counts()"
   ]
  },
  {
   "cell_type": "code",
   "execution_count": 4871,
   "id": "cb3cf469-7707-4a59-8a6c-e543a0b94043",
   "metadata": {
    "tags": []
   },
   "outputs": [
    {
     "data": {
      "text/plain": [
       "event_res\n",
       "call           27750\n",
       "appointment     3356\n",
       "deal            3108\n",
       "reservation        3\n",
       "Name: count, dtype: int64"
      ]
     },
     "execution_count": 4871,
     "metadata": {},
     "output_type": "execute_result"
    }
   ],
   "source": [
    "# что мы предсказали, когда в реальности была встреча\n",
    "df_res_1_step[df_res_1_step.target_event == 'appointment'].event_res.value_counts()"
   ]
  },
  {
   "cell_type": "code",
   "execution_count": 4875,
   "id": "e8dcdfb7-b6e9-44d4-8c8e-7a4826b37cc8",
   "metadata": {
    "tags": []
   },
   "outputs": [
    {
     "data": {
      "text/plain": [
       "event_res\n",
       "call           17514\n",
       "deal            2477\n",
       "appointment     1231\n",
       "reservation       19\n",
       "Name: count, dtype: int64"
      ]
     },
     "execution_count": 4875,
     "metadata": {},
     "output_type": "execute_result"
    }
   ],
   "source": [
    "# что мы предсказали, когда в реальности была бронь\n",
    "df_res_1_step[df_res_1_step.target_event == 'reservation'].event_res.value_counts()"
   ]
  },
  {
   "cell_type": "markdown",
   "id": "af16ea9a-0256-45e6-b1a5-7030c8bb12dd",
   "metadata": {},
   "source": [
    "#### 4) Сравнение всех тэгов"
   ]
  },
  {
   "cell_type": "code",
   "execution_count": 4967,
   "id": "c642958c-0d9f-47e5-98a5-b5571ce0a039",
   "metadata": {
    "tags": []
   },
   "outputs": [],
   "source": [
    "# 2) сходимость тэгов по тем коммуникациям, где сошелся таргет ивент"
   ]
  },
  {
   "cell_type": "code",
   "execution_count": 4991,
   "id": "7fe9ee7f-ebe8-45a9-bd0b-cdb55cd1e575",
   "metadata": {
    "tags": []
   },
   "outputs": [
    {
     "data": {
      "text/html": [
       "<div>\n",
       "<style scoped>\n",
       "    .dataframe tbody tr th:only-of-type {\n",
       "        vertical-align: middle;\n",
       "    }\n",
       "\n",
       "    .dataframe tbody tr th {\n",
       "        vertical-align: top;\n",
       "    }\n",
       "\n",
       "    .dataframe thead th {\n",
       "        text-align: right;\n",
       "    }\n",
       "</style>\n",
       "<table border=\"1\" class=\"dataframe\">\n",
       "  <thead>\n",
       "    <tr style=\"text-align: right;\">\n",
       "      <th></th>\n",
       "      <th>smt_decision_makerid</th>\n",
       "      <th>delivery_date</th>\n",
       "      <th>target_event</th>\n",
       "      <th>tag_product_x</th>\n",
       "      <th>tag_project_type_x</th>\n",
       "      <th>tag_chain_flag_x</th>\n",
       "      <th>tag_model_flag_x</th>\n",
       "      <th>tag_product_y</th>\n",
       "      <th>tag_project_type_y</th>\n",
       "      <th>tag_chain_flag_y</th>\n",
       "      <th>tag_model_flag_y</th>\n",
       "    </tr>\n",
       "  </thead>\n",
       "  <tbody>\n",
       "    <tr>\n",
       "      <th>0</th>\n",
       "      <td>0001463504717134f55fecd5968138ee</td>\n",
       "      <td>2024-12-18</td>\n",
       "      <td>call</td>\n",
       "      <td>realestate</td>\n",
       "      <td>not_izhs</td>\n",
       "      <td>chain</td>\n",
       "      <td>not_model</td>\n",
       "      <td>realestate</td>\n",
       "      <td>not_izhs</td>\n",
       "      <td>chain</td>\n",
       "      <td>not_model</td>\n",
       "    </tr>\n",
       "    <tr>\n",
       "      <th>1</th>\n",
       "      <td>0001e4348a1b35205eeab60ce11502f4</td>\n",
       "      <td>2024-12-20</td>\n",
       "      <td>call</td>\n",
       "      <td>realestate</td>\n",
       "      <td>not_izhs</td>\n",
       "      <td>chain</td>\n",
       "      <td>not_model</td>\n",
       "      <td>mortgage</td>\n",
       "      <td>not_izhs</td>\n",
       "      <td>not_chain</td>\n",
       "      <td>not_model</td>\n",
       "    </tr>\n",
       "    <tr>\n",
       "      <th>2</th>\n",
       "      <td>0002bc364f3b920afdbfeb72188fdd4c</td>\n",
       "      <td>2024-12-20</td>\n",
       "      <td>call</td>\n",
       "      <td>realestate</td>\n",
       "      <td>not_izhs</td>\n",
       "      <td>chain</td>\n",
       "      <td>not_model</td>\n",
       "      <td>mortgage</td>\n",
       "      <td>not_izhs</td>\n",
       "      <td>not_chain</td>\n",
       "      <td>not_model</td>\n",
       "    </tr>\n",
       "    <tr>\n",
       "      <th>3</th>\n",
       "      <td>0003452a894844a4a7de026951c161a0</td>\n",
       "      <td>2024-12-18</td>\n",
       "      <td>call</td>\n",
       "      <td>realestate</td>\n",
       "      <td>not_izhs</td>\n",
       "      <td>chain</td>\n",
       "      <td>not_model</td>\n",
       "      <td>realestate</td>\n",
       "      <td>not_izhs</td>\n",
       "      <td>chain</td>\n",
       "      <td>not_model</td>\n",
       "    </tr>\n",
       "    <tr>\n",
       "      <th>4</th>\n",
       "      <td>000380b36f2861814e5403dc34da86ee</td>\n",
       "      <td>2024-12-16</td>\n",
       "      <td>call</td>\n",
       "      <td>realestate</td>\n",
       "      <td>not_izhs</td>\n",
       "      <td>chain</td>\n",
       "      <td>not_model</td>\n",
       "      <td>realestate</td>\n",
       "      <td>not_izhs</td>\n",
       "      <td>chain</td>\n",
       "      <td>not_model</td>\n",
       "    </tr>\n",
       "    <tr>\n",
       "      <th>...</th>\n",
       "      <td>...</td>\n",
       "      <td>...</td>\n",
       "      <td>...</td>\n",
       "      <td>...</td>\n",
       "      <td>...</td>\n",
       "      <td>...</td>\n",
       "      <td>...</td>\n",
       "      <td>...</td>\n",
       "      <td>...</td>\n",
       "      <td>...</td>\n",
       "      <td>...</td>\n",
       "    </tr>\n",
       "    <tr>\n",
       "      <th>88066</th>\n",
       "      <td>fffba31a8402f9d3c46303111ec43a9a</td>\n",
       "      <td>2024-12-20</td>\n",
       "      <td>call</td>\n",
       "      <td>realestate</td>\n",
       "      <td>not_izhs</td>\n",
       "      <td>chain</td>\n",
       "      <td>not_model</td>\n",
       "      <td>mortgage</td>\n",
       "      <td>not_izhs</td>\n",
       "      <td>not_chain</td>\n",
       "      <td>not_model</td>\n",
       "    </tr>\n",
       "    <tr>\n",
       "      <th>88067</th>\n",
       "      <td>fffbd7ab36a12b6139cf4094f8d00499</td>\n",
       "      <td>2024-12-16</td>\n",
       "      <td>call</td>\n",
       "      <td>realestate</td>\n",
       "      <td>not_izhs</td>\n",
       "      <td>chain</td>\n",
       "      <td>not_model</td>\n",
       "      <td>realestate</td>\n",
       "      <td>not_izhs</td>\n",
       "      <td>chain</td>\n",
       "      <td>not_model</td>\n",
       "    </tr>\n",
       "    <tr>\n",
       "      <th>88068</th>\n",
       "      <td>fffe5f81f2c32b01f533c1dd7e339b60</td>\n",
       "      <td>2024-12-18</td>\n",
       "      <td>call</td>\n",
       "      <td>realestate</td>\n",
       "      <td>not_izhs</td>\n",
       "      <td>chain</td>\n",
       "      <td>not_model</td>\n",
       "      <td>realestate</td>\n",
       "      <td>not_izhs</td>\n",
       "      <td>chain</td>\n",
       "      <td>not_model</td>\n",
       "    </tr>\n",
       "    <tr>\n",
       "      <th>88069</th>\n",
       "      <td>fffe9e23dd7b471e69f6ad9fd82d5f80</td>\n",
       "      <td>2024-12-16</td>\n",
       "      <td>call</td>\n",
       "      <td>realestate</td>\n",
       "      <td>not_izhs</td>\n",
       "      <td>chain</td>\n",
       "      <td>not_model</td>\n",
       "      <td>realestate</td>\n",
       "      <td>not_izhs</td>\n",
       "      <td>chain</td>\n",
       "      <td>not_model</td>\n",
       "    </tr>\n",
       "    <tr>\n",
       "      <th>88070</th>\n",
       "      <td>ffffca5ee293dbf0944a8179e9def61f</td>\n",
       "      <td>2024-12-18</td>\n",
       "      <td>call</td>\n",
       "      <td>realestate</td>\n",
       "      <td>not_izhs</td>\n",
       "      <td>chain</td>\n",
       "      <td>not_model</td>\n",
       "      <td>realestate</td>\n",
       "      <td>not_izhs</td>\n",
       "      <td>chain</td>\n",
       "      <td>not_model</td>\n",
       "    </tr>\n",
       "  </tbody>\n",
       "</table>\n",
       "<p>88071 rows × 11 columns</p>\n",
       "</div>"
      ],
      "text/plain": [
       "                   smt_decision_makerid delivery_date target_event  \\\n",
       "0      0001463504717134f55fecd5968138ee    2024-12-18         call   \n",
       "1      0001e4348a1b35205eeab60ce11502f4    2024-12-20         call   \n",
       "2      0002bc364f3b920afdbfeb72188fdd4c    2024-12-20         call   \n",
       "3      0003452a894844a4a7de026951c161a0    2024-12-18         call   \n",
       "4      000380b36f2861814e5403dc34da86ee    2024-12-16         call   \n",
       "...                                 ...           ...          ...   \n",
       "88066  fffba31a8402f9d3c46303111ec43a9a    2024-12-20         call   \n",
       "88067  fffbd7ab36a12b6139cf4094f8d00499    2024-12-16         call   \n",
       "88068  fffe5f81f2c32b01f533c1dd7e339b60    2024-12-18         call   \n",
       "88069  fffe9e23dd7b471e69f6ad9fd82d5f80    2024-12-16         call   \n",
       "88070  ffffca5ee293dbf0944a8179e9def61f    2024-12-18         call   \n",
       "\n",
       "      tag_product_x tag_project_type_x tag_chain_flag_x tag_model_flag_x  \\\n",
       "0        realestate           not_izhs            chain        not_model   \n",
       "1        realestate           not_izhs            chain        not_model   \n",
       "2        realestate           not_izhs            chain        not_model   \n",
       "3        realestate           not_izhs            chain        not_model   \n",
       "4        realestate           not_izhs            chain        not_model   \n",
       "...             ...                ...              ...              ...   \n",
       "88066    realestate           not_izhs            chain        not_model   \n",
       "88067    realestate           not_izhs            chain        not_model   \n",
       "88068    realestate           not_izhs            chain        not_model   \n",
       "88069    realestate           not_izhs            chain        not_model   \n",
       "88070    realestate           not_izhs            chain        not_model   \n",
       "\n",
       "      tag_product_y tag_project_type_y tag_chain_flag_y tag_model_flag_y  \n",
       "0        realestate           not_izhs            chain        not_model  \n",
       "1          mortgage           not_izhs        not_chain        not_model  \n",
       "2          mortgage           not_izhs        not_chain        not_model  \n",
       "3        realestate           not_izhs            chain        not_model  \n",
       "4        realestate           not_izhs            chain        not_model  \n",
       "...             ...                ...              ...              ...  \n",
       "88066      mortgage           not_izhs        not_chain        not_model  \n",
       "88067    realestate           not_izhs            chain        not_model  \n",
       "88068    realestate           not_izhs            chain        not_model  \n",
       "88069    realestate           not_izhs            chain        not_model  \n",
       "88070    realestate           not_izhs            chain        not_model  \n",
       "\n",
       "[88071 rows x 11 columns]"
      ]
     },
     "execution_count": 4991,
     "metadata": {},
     "output_type": "execute_result"
    }
   ],
   "source": [
    "df_same_ta = pd.merge(X_best_comms, X_fact_comms, on = ['smt_decision_makerid','delivery_date','target_event'])\n",
    "df_same_ta"
   ]
  },
  {
   "cell_type": "code",
   "execution_count": 4993,
   "id": "f17b14ab-62f3-4691-a007-067582d56553",
   "metadata": {
    "tags": []
   },
   "outputs": [
    {
     "data": {
      "text/plain": [
       "Index(['smt_decision_makerid', 'delivery_date', 'target_event',\n",
       "       'tag_product_x', 'tag_project_type_x', 'tag_chain_flag_x',\n",
       "       'tag_model_flag_x', 'tag_product_y', 'tag_project_type_y',\n",
       "       'tag_chain_flag_y', 'tag_model_flag_y'],\n",
       "      dtype='object')"
      ]
     },
     "execution_count": 4993,
     "metadata": {},
     "output_type": "execute_result"
    }
   ],
   "source": [
    "df_same_ta.columns"
   ]
  },
  {
   "cell_type": "code",
   "execution_count": 4995,
   "id": "09fa7052-125f-42e5-b6d6-6e519c877dc2",
   "metadata": {
    "tags": []
   },
   "outputs": [],
   "source": [
    "df_same_ta['tag_product_same'] = (df_same_ta['tag_product_x'] == df_same_ta['tag_product_y']).astype(int)\n",
    "df_same_ta['tag_project_type_same'] = (df_same_ta['tag_project_type_x'] == df_same_ta['tag_project_type_y']).astype(int)\n",
    "df_same_ta['tag_chain_flag_same'] = (df_same_ta['tag_chain_flag_x'] == df_same_ta['tag_chain_flag_y']).astype(int)\n",
    "df_same_ta['tag_model_flag_same'] = (df_same_ta['tag_model_flag_x'] == df_same_ta['tag_model_flag_y']).astype(int)"
   ]
  },
  {
   "cell_type": "code",
   "execution_count": 4997,
   "id": "a258ad33-2e08-448b-8a2d-2c7a21e40aca",
   "metadata": {
    "tags": []
   },
   "outputs": [],
   "source": [
    "df_same_ta['count_same'] = df_same_ta['tag_product_same'] + df_same_ta['tag_project_type_same'] \\\n",
    "    + df_same_ta['tag_chain_flag_same'] + + df_same_ta['tag_model_flag_same']"
   ]
  },
  {
   "cell_type": "code",
   "execution_count": 5005,
   "id": "188ca163-d37d-4899-ae8f-8d1b61561bbc",
   "metadata": {
    "tags": []
   },
   "outputs": [
    {
     "data": {
      "text/plain": [
       "count_same\n",
       "4    68304\n",
       "2    16387\n",
       "3     3108\n",
       "1      272\n",
       "Name: count, dtype: int64"
      ]
     },
     "execution_count": 5005,
     "metadata": {},
     "output_type": "execute_result"
    }
   ],
   "source": [
    "df_same_ta['count_same'].value_counts()"
   ]
  },
  {
   "cell_type": "code",
   "execution_count": 5007,
   "id": "ac7ca8f5-1ffa-490a-b80c-00339fef3c6c",
   "metadata": {
    "tags": []
   },
   "outputs": [
    {
     "name": "stdout",
     "output_type": "stream",
     "text": [
      "tag_product_same\n",
      "tag_product_same\n",
      "1    0.776828\n",
      "0    0.223172\n",
      "Name: proportion, dtype: float64\n",
      "----------------------\n",
      "tag_project_type_same\n",
      "tag_project_type_same\n",
      "1    0.930034\n",
      "0    0.069966\n",
      "Name: proportion, dtype: float64\n",
      "----------------------\n",
      "tag_chain_flag_same\n",
      "tag_chain_flag_same\n",
      "1    0.876452\n",
      "0    0.123548\n",
      "Name: proportion, dtype: float64\n",
      "----------------------\n",
      "tag_model_flag_same\n",
      "tag_model_flag_same\n",
      "1    1.0\n",
      "Name: proportion, dtype: float64\n",
      "----------------------\n",
      "count_same\n",
      "count_same\n",
      "4    0.775556\n",
      "2    0.186066\n",
      "3    0.035290\n",
      "1    0.003088\n",
      "Name: proportion, dtype: float64\n",
      "----------------------\n"
     ]
    }
   ],
   "source": [
    "for col in df_same_ta.columns:\n",
    "    if 'same' in col:\n",
    "        print(col)\n",
    "        print(df_same_ta[col].value_counts(normalize = True))\n",
    "        print('----------------------')"
   ]
  },
  {
   "cell_type": "code",
   "execution_count": 647,
   "id": "cfcf807a-d02a-4fd4-acc6-3db137be5293",
   "metadata": {},
   "outputs": [],
   "source": [
    "# Фильтрую только те случаи, когда с фактом совпало 6 и более тэгов"
   ]
  },
  {
   "cell_type": "code",
   "execution_count": 5009,
   "id": "8f549b40-8cca-4dcd-9c70-110f6080a963",
   "metadata": {},
   "outputs": [
    {
     "data": {
      "text/html": [
       "<div>\n",
       "<style scoped>\n",
       "    .dataframe tbody tr th:only-of-type {\n",
       "        vertical-align: middle;\n",
       "    }\n",
       "\n",
       "    .dataframe tbody tr th {\n",
       "        vertical-align: top;\n",
       "    }\n",
       "\n",
       "    .dataframe thead th {\n",
       "        text-align: right;\n",
       "    }\n",
       "</style>\n",
       "<table border=\"1\" class=\"dataframe\">\n",
       "  <thead>\n",
       "    <tr style=\"text-align: right;\">\n",
       "      <th></th>\n",
       "      <th>smt_decision_makerid</th>\n",
       "      <th>delivery_date</th>\n",
       "      <th>target_event</th>\n",
       "    </tr>\n",
       "  </thead>\n",
       "  <tbody>\n",
       "    <tr>\n",
       "      <th>0</th>\n",
       "      <td>0001463504717134f55fecd5968138ee</td>\n",
       "      <td>2024-12-18</td>\n",
       "      <td>call</td>\n",
       "    </tr>\n",
       "    <tr>\n",
       "      <th>3</th>\n",
       "      <td>0003452a894844a4a7de026951c161a0</td>\n",
       "      <td>2024-12-18</td>\n",
       "      <td>call</td>\n",
       "    </tr>\n",
       "    <tr>\n",
       "      <th>4</th>\n",
       "      <td>000380b36f2861814e5403dc34da86ee</td>\n",
       "      <td>2024-12-16</td>\n",
       "      <td>call</td>\n",
       "    </tr>\n",
       "    <tr>\n",
       "      <th>5</th>\n",
       "      <td>00047cd660db68e9f67c7c75f2bb6bfd</td>\n",
       "      <td>2024-12-18</td>\n",
       "      <td>call</td>\n",
       "    </tr>\n",
       "    <tr>\n",
       "      <th>6</th>\n",
       "      <td>0004f4588d2f226f2aee0a9895b063b4</td>\n",
       "      <td>2024-12-18</td>\n",
       "      <td>call</td>\n",
       "    </tr>\n",
       "    <tr>\n",
       "      <th>...</th>\n",
       "      <td>...</td>\n",
       "      <td>...</td>\n",
       "      <td>...</td>\n",
       "    </tr>\n",
       "    <tr>\n",
       "      <th>88065</th>\n",
       "      <td>fffaa186cf331db23a0933960a6921e7</td>\n",
       "      <td>2024-12-16</td>\n",
       "      <td>call</td>\n",
       "    </tr>\n",
       "    <tr>\n",
       "      <th>88067</th>\n",
       "      <td>fffbd7ab36a12b6139cf4094f8d00499</td>\n",
       "      <td>2024-12-16</td>\n",
       "      <td>call</td>\n",
       "    </tr>\n",
       "    <tr>\n",
       "      <th>88068</th>\n",
       "      <td>fffe5f81f2c32b01f533c1dd7e339b60</td>\n",
       "      <td>2024-12-18</td>\n",
       "      <td>call</td>\n",
       "    </tr>\n",
       "    <tr>\n",
       "      <th>88069</th>\n",
       "      <td>fffe9e23dd7b471e69f6ad9fd82d5f80</td>\n",
       "      <td>2024-12-16</td>\n",
       "      <td>call</td>\n",
       "    </tr>\n",
       "    <tr>\n",
       "      <th>88070</th>\n",
       "      <td>ffffca5ee293dbf0944a8179e9def61f</td>\n",
       "      <td>2024-12-18</td>\n",
       "      <td>call</td>\n",
       "    </tr>\n",
       "  </tbody>\n",
       "</table>\n",
       "<p>68304 rows × 3 columns</p>\n",
       "</div>"
      ],
      "text/plain": [
       "                   smt_decision_makerid delivery_date target_event\n",
       "0      0001463504717134f55fecd5968138ee    2024-12-18         call\n",
       "3      0003452a894844a4a7de026951c161a0    2024-12-18         call\n",
       "4      000380b36f2861814e5403dc34da86ee    2024-12-16         call\n",
       "5      00047cd660db68e9f67c7c75f2bb6bfd    2024-12-18         call\n",
       "6      0004f4588d2f226f2aee0a9895b063b4    2024-12-18         call\n",
       "...                                 ...           ...          ...\n",
       "88065  fffaa186cf331db23a0933960a6921e7    2024-12-16         call\n",
       "88067  fffbd7ab36a12b6139cf4094f8d00499    2024-12-16         call\n",
       "88068  fffe5f81f2c32b01f533c1dd7e339b60    2024-12-18         call\n",
       "88069  fffe9e23dd7b471e69f6ad9fd82d5f80    2024-12-16         call\n",
       "88070  ffffca5ee293dbf0944a8179e9def61f    2024-12-18         call\n",
       "\n",
       "[68304 rows x 3 columns]"
      ]
     },
     "execution_count": 5009,
     "metadata": {},
     "output_type": "execute_result"
    }
   ],
   "source": [
    "df_for_test_check = df_same_ta[df_same_ta.count_same>=4][['smt_decision_makerid','delivery_date','target_event']]\n",
    "df_for_test_check"
   ]
  },
  {
   "cell_type": "code",
   "execution_count": 5011,
   "id": "242c9eb5-674a-4d83-ab0c-db5bca305bb3",
   "metadata": {},
   "outputs": [],
   "source": [
    "# оцениваю CR из коммуникации в TA"
   ]
  },
  {
   "cell_type": "code",
   "execution_count": 5013,
   "id": "4dfd02eb-c120-46f8-a4ab-1817ec117e40",
   "metadata": {
    "tags": []
   },
   "outputs": [],
   "source": [
    "df_for_test_check = df_for_test_check.merge(final_data[['smt_decision_makerid','report_date','delivery_date','call','appointment','reservation','deal']].copy())"
   ]
  },
  {
   "cell_type": "code",
   "execution_count": 5015,
   "id": "06152825-ad54-4404-9192-917b8b313164",
   "metadata": {},
   "outputs": [],
   "source": [
    "def get_target_value(row):\n",
    "    return row[row['target_event']]\n",
    "\n",
    "df_for_test_check['target_value'] = df_for_test_check.apply(get_target_value, axis=1)"
   ]
  },
  {
   "cell_type": "code",
   "execution_count": 5017,
   "id": "4a803e2f-9d6e-4a33-add2-0c2681edb847",
   "metadata": {
    "tags": []
   },
   "outputs": [
    {
     "data": {
      "text/html": [
       "<div>\n",
       "<style scoped>\n",
       "    .dataframe tbody tr th:only-of-type {\n",
       "        vertical-align: middle;\n",
       "    }\n",
       "\n",
       "    .dataframe tbody tr th {\n",
       "        vertical-align: top;\n",
       "    }\n",
       "\n",
       "    .dataframe thead th {\n",
       "        text-align: right;\n",
       "    }\n",
       "</style>\n",
       "<table border=\"1\" class=\"dataframe\">\n",
       "  <thead>\n",
       "    <tr style=\"text-align: right;\">\n",
       "      <th></th>\n",
       "      <th>smt_decision_makerid</th>\n",
       "      <th>delivery_date</th>\n",
       "      <th>target_event</th>\n",
       "      <th>report_date</th>\n",
       "      <th>call</th>\n",
       "      <th>appointment</th>\n",
       "      <th>reservation</th>\n",
       "      <th>deal</th>\n",
       "      <th>target_value</th>\n",
       "    </tr>\n",
       "  </thead>\n",
       "  <tbody>\n",
       "    <tr>\n",
       "      <th>0</th>\n",
       "      <td>0001463504717134f55fecd5968138ee</td>\n",
       "      <td>2024-12-18</td>\n",
       "      <td>call</td>\n",
       "      <td>2024-12-15</td>\n",
       "      <td>0</td>\n",
       "      <td>0</td>\n",
       "      <td>0</td>\n",
       "      <td>0</td>\n",
       "      <td>0</td>\n",
       "    </tr>\n",
       "    <tr>\n",
       "      <th>1</th>\n",
       "      <td>0003452a894844a4a7de026951c161a0</td>\n",
       "      <td>2024-12-18</td>\n",
       "      <td>call</td>\n",
       "      <td>2024-12-15</td>\n",
       "      <td>0</td>\n",
       "      <td>0</td>\n",
       "      <td>0</td>\n",
       "      <td>0</td>\n",
       "      <td>0</td>\n",
       "    </tr>\n",
       "    <tr>\n",
       "      <th>2</th>\n",
       "      <td>000380b36f2861814e5403dc34da86ee</td>\n",
       "      <td>2024-12-16</td>\n",
       "      <td>call</td>\n",
       "      <td>2024-12-15</td>\n",
       "      <td>0</td>\n",
       "      <td>0</td>\n",
       "      <td>0</td>\n",
       "      <td>0</td>\n",
       "      <td>0</td>\n",
       "    </tr>\n",
       "    <tr>\n",
       "      <th>3</th>\n",
       "      <td>00047cd660db68e9f67c7c75f2bb6bfd</td>\n",
       "      <td>2024-12-18</td>\n",
       "      <td>call</td>\n",
       "      <td>2024-12-15</td>\n",
       "      <td>0</td>\n",
       "      <td>0</td>\n",
       "      <td>0</td>\n",
       "      <td>0</td>\n",
       "      <td>0</td>\n",
       "    </tr>\n",
       "    <tr>\n",
       "      <th>4</th>\n",
       "      <td>0004f4588d2f226f2aee0a9895b063b4</td>\n",
       "      <td>2024-12-18</td>\n",
       "      <td>call</td>\n",
       "      <td>2024-12-15</td>\n",
       "      <td>0</td>\n",
       "      <td>0</td>\n",
       "      <td>0</td>\n",
       "      <td>0</td>\n",
       "      <td>0</td>\n",
       "    </tr>\n",
       "  </tbody>\n",
       "</table>\n",
       "</div>"
      ],
      "text/plain": [
       "               smt_decision_makerid delivery_date target_event report_date  \\\n",
       "0  0001463504717134f55fecd5968138ee    2024-12-18         call  2024-12-15   \n",
       "1  0003452a894844a4a7de026951c161a0    2024-12-18         call  2024-12-15   \n",
       "2  000380b36f2861814e5403dc34da86ee    2024-12-16         call  2024-12-15   \n",
       "3  00047cd660db68e9f67c7c75f2bb6bfd    2024-12-18         call  2024-12-15   \n",
       "4  0004f4588d2f226f2aee0a9895b063b4    2024-12-18         call  2024-12-15   \n",
       "\n",
       "   call  appointment  reservation  deal  target_value  \n",
       "0     0            0            0     0             0  \n",
       "1     0            0            0     0             0  \n",
       "2     0            0            0     0             0  \n",
       "3     0            0            0     0             0  \n",
       "4     0            0            0     0             0  "
      ]
     },
     "execution_count": 5017,
     "metadata": {},
     "output_type": "execute_result"
    }
   ],
   "source": [
    "df_for_test_check.head()"
   ]
  },
  {
   "cell_type": "code",
   "execution_count": 5019,
   "id": "f8c41716-f1de-43f7-9d42-d3b2abb4c42d",
   "metadata": {
    "tags": []
   },
   "outputs": [
    {
     "data": {
      "text/plain": [
       "target_value\n",
       "0    67926\n",
       "1      443\n",
       "Name: count, dtype: int64"
      ]
     },
     "execution_count": 5019,
     "metadata": {},
     "output_type": "execute_result"
    }
   ],
   "source": [
    "df_for_test_check['target_value'].value_counts()"
   ]
  },
  {
   "cell_type": "code",
   "execution_count": 5021,
   "id": "bfed08ae-38ca-4fde-9f8b-e67ff1729cff",
   "metadata": {},
   "outputs": [
    {
     "data": {
      "text/plain": [
       "target_event\n",
       "appointment    0.216418\n",
       "call           0.005239\n",
       "reservation    0.000000\n",
       "Name: target_value, dtype: float64"
      ]
     },
     "execution_count": 5021,
     "metadata": {},
     "output_type": "execute_result"
    }
   ],
   "source": [
    "df_for_test_check.groupby('target_event')['target_value'].mean()"
   ]
  },
  {
   "cell_type": "code",
   "execution_count": 5023,
   "id": "30e429d3-38b6-4ef1-a466-48149906ec7b",
   "metadata": {
    "tags": []
   },
   "outputs": [
    {
     "data": {
      "text/plain": [
       "target_event\n",
       "appointment    0.032549\n",
       "call           0.006351\n",
       "reservation    0.000000\n",
       "Name: target_value, dtype: float64"
      ]
     },
     "execution_count": 5023,
     "metadata": {},
     "output_type": "execute_result"
    }
   ],
   "source": [
    "all_test_cr = X_fact_comms.merge(final_data[['smt_decision_makerid','report_date',\n",
    "        'delivery_date','call','appointment','reservation','deal']])\n",
    "\n",
    "all_test_cr['target_value'] = all_test_cr.apply(get_target_value, axis=1)\n",
    "\n",
    "all_test_cr.groupby('target_event')['target_value'].mean()"
   ]
  },
  {
   "cell_type": "code",
   "execution_count": null,
   "id": "dd6dab6f-efe8-4573-af9a-6e364c1f7273",
   "metadata": {},
   "outputs": [],
   "source": []
  },
  {
   "cell_type": "markdown",
   "id": "e64b239c-3b2b-4e76-b1d6-69f0a8e8d428",
   "metadata": {},
   "source": [
    "# Выводы"
   ]
  },
  {
   "cell_type": "code",
   "execution_count": 5032,
   "id": "57cce5cb-e8a7-4b84-b1fe-c6975de77446",
   "metadata": {
    "tags": []
   },
   "outputs": [],
   "source": [
    "# Реализована система рекомендаций офферов на основании исторических данных об их успешности.\n",
    "\n",
    "# 1. Целевое действие в коммуникации сходится в 52% случаев. \n",
    "# Модель гораздо реже рекомендует коммуникации, направленные на бронь. Вместо них чаще рекомендуем коммуникации, направленные на покупку и звонок.\n",
    "\n",
    "# 2. B 78% случаев из 52 коммуникация совпадает полностью. Среди коммуникаций, которые полностью совпали, кратно выше CR во встречу, но на 10% меньше в звонок.\n",
    "\n",
    "# 3. Заметили, что часто отправляются коммуникации, направленные на целевые действия, которые уже были совершены.\n",
    "# Это либо точка роста, либо проблема разметки.\n",
    "# Так или иначе, наш подход учитывает этот фактор и рассматривает только целевые действия, продвигающие юзера по воронке.\n",
    "\n",
    "# Кажется, что в совокупности это хорошие сигналы для того, чтобы попробовать запустить модель в прод\n",
    "\n",
    "# Основной критерий валидности для меня служит именно заинтересованность со стороны коллег из Самолёта"
   ]
  },
  {
   "cell_type": "code",
   "execution_count": null,
   "id": "62429dd0-fef4-4817-8830-4a8312a5020c",
   "metadata": {},
   "outputs": [],
   "source": []
  },
  {
   "cell_type": "code",
   "execution_count": null,
   "id": "41901d2a-7aab-4e2f-a0fa-9ad44cea750b",
   "metadata": {},
   "outputs": [],
   "source": []
  }
 ],
 "metadata": {
  "kernelspec": {
   "display_name": "Python 3 (ipykernel)",
   "language": "python",
   "name": "python3"
  },
  "language_info": {
   "codemirror_mode": {
    "name": "ipython",
    "version": 3
   },
   "file_extension": ".py",
   "mimetype": "text/x-python",
   "name": "python",
   "nbconvert_exporter": "python",
   "pygments_lexer": "ipython3",
   "version": "3.11.5"
  },
  "toc-autonumbering": false
 },
 "nbformat": 4,
 "nbformat_minor": 5
}
