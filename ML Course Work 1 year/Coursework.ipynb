{
 "cells": [
  {
   "cell_type": "markdown",
   "id": "190e645c-d918-4b02-9bdc-639bf3b5bcc1",
   "metadata": {
    "tags": []
   },
   "source": [
    "# Загрузка и обработка изначального датасета"
   ]
  },
  {
   "cell_type": "markdown",
   "id": "b7d3b53a-9e4e-41b4-8185-cb7c42919813",
   "metadata": {
    "tags": []
   },
   "source": [
    "## EDA"
   ]
  },
  {
   "cell_type": "code",
   "execution_count": 3,
   "id": "40e13e7b",
   "metadata": {
    "tags": []
   },
   "outputs": [],
   "source": [
    "import pandas as pd\n",
    "import numpy as np\n",
    "import warnings\n",
    "from sklearn.metrics import confusion_matrix\n",
    "from sklearn.metrics import roc_auc_score\n",
    "\n",
    "# Ignore all warnings\n",
    "warnings.filterwarnings('ignore')"
   ]
  },
  {
   "cell_type": "code",
   "execution_count": 4,
   "id": "1633b61c",
   "metadata": {
    "tags": []
   },
   "outputs": [],
   "source": [
    "df = pd.read_feather('updated_data_communication.feather')"
   ]
  },
  {
   "cell_type": "code",
   "execution_count": 5,
   "id": "85493b2f",
   "metadata": {
    "tags": []
   },
   "outputs": [],
   "source": [
    "df.sort_values(['client_id','delivery_date','merge_date'], inplace= True)"
   ]
  },
  {
   "cell_type": "code",
   "execution_count": 6,
   "id": "6ed3838f",
   "metadata": {
    "scrolled": true,
    "tags": []
   },
   "outputs": [
    {
     "name": "stdout",
     "output_type": "stream",
     "text": [
      "<class 'pandas.core.frame.DataFrame'>\n",
      "Index: 21127 entries, 9374 to 10523\n",
      "Columns: 3911 entries, merge_date to datetimekey\n",
      "dtypes: category(1), datetime64[ns](2), float32(3408), float64(4), object(496)\n",
      "memory usage: 355.8+ MB\n"
     ]
    }
   ],
   "source": [
    "df.info()"
   ]
  },
  {
   "cell_type": "code",
   "execution_count": 7,
   "id": "084d4cb7",
   "metadata": {
    "tags": []
   },
   "outputs": [],
   "source": [
    "# основные поля\n",
    "cols = ['client_id','delivery_date', 'sp_createdon','merge_date','report_date_expon'\n",
    "        ,'report_date_crm','camp_id','agr_id','agreement_dttm']"
   ]
  },
  {
   "cell_type": "code",
   "execution_count": 8,
   "id": "638ab5b6",
   "metadata": {
    "tags": []
   },
   "outputs": [],
   "source": [
    "df['delivery_date'] = pd.to_datetime(df.delivery_date)\n",
    "df['sp_createdon'] = pd.to_datetime(df.sp_createdon)\n",
    "df['agreement_dttm'] = pd.to_datetime(df.agreement_dttm)"
   ]
  },
  {
   "cell_type": "code",
   "execution_count": 9,
   "id": "3dcb7084",
   "metadata": {
    "tags": []
   },
   "outputs": [],
   "source": [
    "df['name_of_month'] = df['sp_createdon'].dt.month_name()"
   ]
  },
  {
   "cell_type": "code",
   "execution_count": 10,
   "id": "88461111",
   "metadata": {
    "tags": []
   },
   "outputs": [
    {
     "name": "stdout",
     "output_type": "stream",
     "text": [
      "21127 строк \n",
      "3912 полей \n",
      "15903 юзеров, из которых 579 с договором\n",
      "Коммуникации с 2023-08-31 00:00:00 до 2024-04-01 00:00:00\n",
      "Сделки с 2023-01-05 21:00:00 до 2024-04-28 21:00:00\n"
     ]
    }
   ],
   "source": [
    "print(f'{len(df)} строк ')\n",
    "print(f'{len(df.columns)} полей ')\n",
    "print(f'{df.client_id.nunique()} юзеров, из которых {df[df.agreement_dttm.notna()].client_id.nunique()} с договором')\n",
    "print(f'Коммуникации с {df.delivery_date.min()} до {df.delivery_date.max()}')\n",
    "print(f'Сделки с {df.agreement_dttm.min()} до {df.agreement_dttm.max()}')"
   ]
  },
  {
   "cell_type": "markdown",
   "id": "7ee095ec",
   "metadata": {
    "tags": []
   },
   "source": [
    "## Фильтрация, убираем выбросы и готовим к виду для тренировки моделей"
   ]
  },
  {
   "cell_type": "code",
   "execution_count": 11,
   "id": "6e5e074b",
   "metadata": {
    "tags": []
   },
   "outputs": [],
   "source": [
    "# самые свежие 0-60 дней\n",
    "# 60-120,  120-180, 180 - 365"
   ]
  },
  {
   "cell_type": "code",
   "execution_count": 12,
   "id": "777d39b0",
   "metadata": {
    "tags": []
   },
   "outputs": [],
   "source": [
    "# по каким критериям оставляем\n",
    "# дата договора >= дата доставки\n",
    "df1 = df[(df.agreement_dttm.isna())|(df.agreement_dttm >= df.delivery_date)]\n",
    "\n",
    "# оставляю только строки с sp_createdon >= '2023-08-15'\n",
    "df1 = df1[df1.sp_createdon >= pd.to_datetime('2023-08-15')]\n",
    "\n",
    "# разница между датами sp и смс\n",
    "df1['date_diff'] = (df1['delivery_date'] - df1['sp_createdon']).dt.days\n",
    "# оставляю только до 3 месяцев\n",
    "# df1 = df1[df1.date_diff <= 120]\n",
    "\n",
    "# не сработает, если несколько одинаковых sp_createdon, но сейчас всё ок\n",
    "df1['max_sp_for_del_dt'] = df1.groupby(['client_id','delivery_date'])['sp_createdon'].transform(max)\n",
    "# только последний sp\n",
    "df1 = df1[df1.max_sp_for_del_dt == df1.sp_createdon]"
   ]
  },
  {
   "cell_type": "code",
   "execution_count": 13,
   "id": "5802a9ca",
   "metadata": {
    "tags": []
   },
   "outputs": [],
   "source": [
    "df1['conv_flg'] = df1.client_id.isin(df1.client_id[df1.agreement_dttm.notna()].unique())\n",
    "# 0. Выделяем дату договора\n",
    "df1['real_agr_dttm'] = df1.groupby('client_id')['agreement_dttm'].transform(max)\n",
    "# 1. Оставляем лишь строки с смс до даты подписания договора\n",
    "df1 = df1[(~df1.conv_flg)|(df1.delivery_date < df1.real_agr_dttm)]\n",
    "# 2. Берём минимальную sp за день 0\n",
    "df1['min_sp_created_on'] = df1.groupby('client_id')['sp_createdon'].transform(min)\n",
    "# 3. считаем от неё количество дней до delivery_date\n",
    "df1['date_diff_sp_del'] = (df1['delivery_date'] - df1['min_sp_created_on']).dt.days\n",
    "\n",
    "df1 = df1[df1.date_diff_sp_del <= 120]\n",
    "\n",
    "df1['n_communications'] = df1.groupby('client_id')['delivery_date'].transform(len)\n",
    "df1['previous_delivery_date'] = (df1.groupby(['client_id'])['delivery_date'].shift(1))\n",
    "df1['diff_delivery'] = df1['delivery_date'] - df1['previous_delivery_date']\n",
    "df1['diff_delivery_days'] = df1.diff_delivery.dt.days\n",
    "df1['delivery_day_of_week'] = df1['delivery_date'].dt.day_name()"
   ]
  },
  {
   "cell_type": "code",
   "execution_count": 14,
   "id": "05d6698a",
   "metadata": {
    "tags": []
   },
   "outputs": [
    {
     "name": "stdout",
     "output_type": "stream",
     "text": [
      "11383 строк \n",
      "3923 полей \n",
      "10951 юзеров, из которых 103 с договором\n",
      "Коммуникации с 2023-08-31 00:00:00 до 2024-04-01 00:00:00\n",
      "Сделки с 2023-09-14 21:00:00 до 2024-04-28 21:00:00\n"
     ]
    }
   ],
   "source": [
    "print(f'{len(df1)} строк ')\n",
    "print(f'{len(df1.columns)} полей ')\n",
    "print(f'{df1.client_id.nunique()} юзеров, из которых {df1[df1.agreement_dttm.notna()].client_id.nunique()} с договором')\n",
    "print(f'Коммуникации с {df1.delivery_date.min()} до {df1.delivery_date.max()}')\n",
    "print(f'Сделки с {df1.agreement_dttm.min()} до {df1.agreement_dttm.max()}')"
   ]
  },
  {
   "cell_type": "code",
   "execution_count": 15,
   "id": "abb3654e",
   "metadata": {
    "tags": []
   },
   "outputs": [
    {
     "data": {
      "text/plain": [
       "n_communications\n",
       "1    91\n",
       "2    12\n",
       "Name: count, dtype: int64"
      ]
     },
     "execution_count": 15,
     "metadata": {},
     "output_type": "execute_result"
    }
   ],
   "source": [
    "# с наличием договора\n",
    "df1[df1.conv_flg].groupby('client_id')['n_communications'].max().reset_index()['n_communications'].value_counts().sort_index()"
   ]
  },
  {
   "cell_type": "code",
   "execution_count": 16,
   "id": "e44da54b",
   "metadata": {
    "tags": []
   },
   "outputs": [
    {
     "data": {
      "text/plain": [
       "n_communications\n",
       "1    10448\n",
       "2      381\n",
       "3       18\n",
       "4        1\n",
       "Name: count, dtype: int64"
      ]
     },
     "execution_count": 16,
     "metadata": {},
     "output_type": "execute_result"
    }
   ],
   "source": [
    "# без договора\n",
    "df1[~df1.conv_flg].groupby('client_id')['n_communications'].max().reset_index()['n_communications'].value_counts().sort_index()"
   ]
  },
  {
   "cell_type": "code",
   "execution_count": 17,
   "id": "401d8bc4",
   "metadata": {
    "tags": []
   },
   "outputs": [
    {
     "name": "stdout",
     "output_type": "stream",
     "text": [
      " Средняя длина между коммуникациями = 49 days 04:00:00\n"
     ]
    }
   ],
   "source": [
    "print(f\" Средняя длина между коммуникациями = {(df1['diff_delivery']).mean()}\")"
   ]
  },
  {
   "cell_type": "code",
   "execution_count": 18,
   "id": "49611b94",
   "metadata": {
    "tags": []
   },
   "outputs": [
    {
     "name": "stdout",
     "output_type": "stream",
     "text": [
      " Медианная длина между коммуникациями = 46 days 00:00:00\n"
     ]
    }
   ],
   "source": [
    "print(f\" Медианная длина между коммуникациями = {(df1['diff_delivery']).median()}\")"
   ]
  },
  {
   "cell_type": "markdown",
   "id": "3e885e70-c04e-42e8-bba0-ae8ba57b3d3c",
   "metadata": {
    "tags": []
   },
   "source": [
    "## Генерим коммуникационные фичи"
   ]
  },
  {
   "cell_type": "code",
   "execution_count": 19,
   "id": "1f5ccff6",
   "metadata": {
    "tags": []
   },
   "outputs": [],
   "source": [
    "# Алгоритмы для таргета 1 и 0"
   ]
  },
  {
   "cell_type": "code",
   "execution_count": 20,
   "id": "6684cc34",
   "metadata": {
    "tags": []
   },
   "outputs": [
    {
     "data": {
      "text/html": [
       "<div>\n",
       "<style scoped>\n",
       "    .dataframe tbody tr th:only-of-type {\n",
       "        vertical-align: middle;\n",
       "    }\n",
       "\n",
       "    .dataframe tbody tr th {\n",
       "        vertical-align: top;\n",
       "    }\n",
       "\n",
       "    .dataframe thead th {\n",
       "        text-align: right;\n",
       "    }\n",
       "</style>\n",
       "<table border=\"1\" class=\"dataframe\">\n",
       "  <thead>\n",
       "    <tr style=\"text-align: right;\">\n",
       "      <th></th>\n",
       "      <th>client_id</th>\n",
       "      <th>real_agr_dttm</th>\n",
       "      <th>min_sp_created_on</th>\n",
       "      <th>date_diff_sp_del</th>\n",
       "      <th>n_communications</th>\n",
       "      <th>conv_flg</th>\n",
       "      <th>diff_delivery_days</th>\n",
       "      <th>delivery_day_of_week</th>\n",
       "      <th>delivery_date</th>\n",
       "    </tr>\n",
       "  </thead>\n",
       "  <tbody>\n",
       "    <tr>\n",
       "      <th>9374</th>\n",
       "      <td>00015b188cd3369bf0b8c75aab89a79a</td>\n",
       "      <td>NaT</td>\n",
       "      <td>2023-11-30</td>\n",
       "      <td>89</td>\n",
       "      <td>1</td>\n",
       "      <td>False</td>\n",
       "      <td>NaN</td>\n",
       "      <td>Tuesday</td>\n",
       "      <td>2024-02-27</td>\n",
       "    </tr>\n",
       "    <tr>\n",
       "      <th>9506</th>\n",
       "      <td>0002fe1622dae9bbfac81cc82588ed4c</td>\n",
       "      <td>NaT</td>\n",
       "      <td>2023-12-10</td>\n",
       "      <td>93</td>\n",
       "      <td>1</td>\n",
       "      <td>False</td>\n",
       "      <td>NaN</td>\n",
       "      <td>Tuesday</td>\n",
       "      <td>2024-03-12</td>\n",
       "    </tr>\n",
       "    <tr>\n",
       "      <th>10020</th>\n",
       "      <td>000754cc7100eba156087a1b36b1425d</td>\n",
       "      <td>NaT</td>\n",
       "      <td>2023-11-02</td>\n",
       "      <td>47</td>\n",
       "      <td>1</td>\n",
       "      <td>False</td>\n",
       "      <td>NaN</td>\n",
       "      <td>Tuesday</td>\n",
       "      <td>2023-12-19</td>\n",
       "    </tr>\n",
       "    <tr>\n",
       "      <th>8656</th>\n",
       "      <td>000c50804b9a4d4a86e135ce4f0e4611</td>\n",
       "      <td>NaT</td>\n",
       "      <td>2023-11-27</td>\n",
       "      <td>120</td>\n",
       "      <td>1</td>\n",
       "      <td>False</td>\n",
       "      <td>NaN</td>\n",
       "      <td>Tuesday</td>\n",
       "      <td>2024-03-26</td>\n",
       "    </tr>\n",
       "    <tr>\n",
       "      <th>9781</th>\n",
       "      <td>000d3ef9517568ee9870b6719ff6beed</td>\n",
       "      <td>NaT</td>\n",
       "      <td>2023-11-02</td>\n",
       "      <td>1</td>\n",
       "      <td>2</td>\n",
       "      <td>False</td>\n",
       "      <td>NaN</td>\n",
       "      <td>Friday</td>\n",
       "      <td>2023-11-03</td>\n",
       "    </tr>\n",
       "    <tr>\n",
       "      <th>...</th>\n",
       "      <td>...</td>\n",
       "      <td>...</td>\n",
       "      <td>...</td>\n",
       "      <td>...</td>\n",
       "      <td>...</td>\n",
       "      <td>...</td>\n",
       "      <td>...</td>\n",
       "      <td>...</td>\n",
       "      <td>...</td>\n",
       "    </tr>\n",
       "    <tr>\n",
       "      <th>6544</th>\n",
       "      <td>ffd8f05916de5f98b012cc6270716dfd</td>\n",
       "      <td>NaT</td>\n",
       "      <td>2023-12-05</td>\n",
       "      <td>22</td>\n",
       "      <td>1</td>\n",
       "      <td>False</td>\n",
       "      <td>NaN</td>\n",
       "      <td>Wednesday</td>\n",
       "      <td>2023-12-27</td>\n",
       "    </tr>\n",
       "    <tr>\n",
       "      <th>9482</th>\n",
       "      <td>ffe4a84c4e824ecf73bc1113103a2702</td>\n",
       "      <td>NaT</td>\n",
       "      <td>2024-02-25</td>\n",
       "      <td>20</td>\n",
       "      <td>1</td>\n",
       "      <td>False</td>\n",
       "      <td>NaN</td>\n",
       "      <td>Saturday</td>\n",
       "      <td>2024-03-16</td>\n",
       "    </tr>\n",
       "    <tr>\n",
       "      <th>18326</th>\n",
       "      <td>fff558a93f3f573fb2db724478dd291e</td>\n",
       "      <td>NaT</td>\n",
       "      <td>2023-10-26</td>\n",
       "      <td>47</td>\n",
       "      <td>1</td>\n",
       "      <td>False</td>\n",
       "      <td>NaN</td>\n",
       "      <td>Tuesday</td>\n",
       "      <td>2023-12-12</td>\n",
       "    </tr>\n",
       "    <tr>\n",
       "      <th>20758</th>\n",
       "      <td>fff98bcaf733273bcc2403103414ccee</td>\n",
       "      <td>NaT</td>\n",
       "      <td>2023-11-26</td>\n",
       "      <td>53</td>\n",
       "      <td>1</td>\n",
       "      <td>False</td>\n",
       "      <td>NaN</td>\n",
       "      <td>Thursday</td>\n",
       "      <td>2024-01-18</td>\n",
       "    </tr>\n",
       "    <tr>\n",
       "      <th>10523</th>\n",
       "      <td>fffbb4fa37ce9abec36bbc3021d9a815</td>\n",
       "      <td>NaT</td>\n",
       "      <td>2024-01-29</td>\n",
       "      <td>43</td>\n",
       "      <td>1</td>\n",
       "      <td>False</td>\n",
       "      <td>NaN</td>\n",
       "      <td>Tuesday</td>\n",
       "      <td>2024-03-12</td>\n",
       "    </tr>\n",
       "  </tbody>\n",
       "</table>\n",
       "<p>11383 rows × 9 columns</p>\n",
       "</div>"
      ],
      "text/plain": [
       "                              client_id real_agr_dttm min_sp_created_on  \\\n",
       "9374   00015b188cd3369bf0b8c75aab89a79a           NaT        2023-11-30   \n",
       "9506   0002fe1622dae9bbfac81cc82588ed4c           NaT        2023-12-10   \n",
       "10020  000754cc7100eba156087a1b36b1425d           NaT        2023-11-02   \n",
       "8656   000c50804b9a4d4a86e135ce4f0e4611           NaT        2023-11-27   \n",
       "9781   000d3ef9517568ee9870b6719ff6beed           NaT        2023-11-02   \n",
       "...                                 ...           ...               ...   \n",
       "6544   ffd8f05916de5f98b012cc6270716dfd           NaT        2023-12-05   \n",
       "9482   ffe4a84c4e824ecf73bc1113103a2702           NaT        2024-02-25   \n",
       "18326  fff558a93f3f573fb2db724478dd291e           NaT        2023-10-26   \n",
       "20758  fff98bcaf733273bcc2403103414ccee           NaT        2023-11-26   \n",
       "10523  fffbb4fa37ce9abec36bbc3021d9a815           NaT        2024-01-29   \n",
       "\n",
       "       date_diff_sp_del  n_communications  conv_flg  diff_delivery_days  \\\n",
       "9374                 89                 1     False                 NaN   \n",
       "9506                 93                 1     False                 NaN   \n",
       "10020                47                 1     False                 NaN   \n",
       "8656                120                 1     False                 NaN   \n",
       "9781                  1                 2     False                 NaN   \n",
       "...                 ...               ...       ...                 ...   \n",
       "6544                 22                 1     False                 NaN   \n",
       "9482                 20                 1     False                 NaN   \n",
       "18326                47                 1     False                 NaN   \n",
       "20758                53                 1     False                 NaN   \n",
       "10523                43                 1     False                 NaN   \n",
       "\n",
       "      delivery_day_of_week delivery_date  \n",
       "9374               Tuesday    2024-02-27  \n",
       "9506               Tuesday    2024-03-12  \n",
       "10020              Tuesday    2023-12-19  \n",
       "8656               Tuesday    2024-03-26  \n",
       "9781                Friday    2023-11-03  \n",
       "...                    ...           ...  \n",
       "6544             Wednesday    2023-12-27  \n",
       "9482              Saturday    2024-03-16  \n",
       "18326              Tuesday    2023-12-12  \n",
       "20758             Thursday    2024-01-18  \n",
       "10523              Tuesday    2024-03-12  \n",
       "\n",
       "[11383 rows x 9 columns]"
      ]
     },
     "execution_count": 20,
     "metadata": {},
     "output_type": "execute_result"
    }
   ],
   "source": [
    "# \n",
    "df_target = df1[['client_id','real_agr_dttm','min_sp_created_on'\n",
    "                 ,'date_diff_sp_del','n_communications','conv_flg','diff_delivery_days'\n",
    "                 ,'delivery_day_of_week','delivery_date']]\n",
    "df_target"
   ]
  },
  {
   "cell_type": "code",
   "execution_count": 21,
   "id": "1d5b01ac",
   "metadata": {
    "tags": []
   },
   "outputs": [],
   "source": [
    "# фичи -> количество коммуникаций, время от создания sp до первой коммуникации, среднее время между коммуникациями\n",
    "# , наличие коммуникации в день N, наличие коммуникации в неделю N, коммуникация в выходной / будний день\n",
    "# , количество коммуникаций в выходной / будний"
   ]
  },
  {
   "cell_type": "code",
   "execution_count": 22,
   "id": "84a5a670",
   "metadata": {
    "scrolled": true,
    "tags": []
   },
   "outputs": [
    {
     "data": {
      "text/html": [
       "<div>\n",
       "<style scoped>\n",
       "    .dataframe tbody tr th:only-of-type {\n",
       "        vertical-align: middle;\n",
       "    }\n",
       "\n",
       "    .dataframe tbody tr th {\n",
       "        vertical-align: top;\n",
       "    }\n",
       "\n",
       "    .dataframe thead th {\n",
       "        text-align: right;\n",
       "    }\n",
       "</style>\n",
       "<table border=\"1\" class=\"dataframe\">\n",
       "  <thead>\n",
       "    <tr style=\"text-align: right;\">\n",
       "      <th></th>\n",
       "      <th>holiday_date</th>\n",
       "      <th>holiday_name</th>\n",
       "    </tr>\n",
       "  </thead>\n",
       "  <tbody>\n",
       "    <tr>\n",
       "      <th>0</th>\n",
       "      <td>2023-01-01</td>\n",
       "      <td>New year</td>\n",
       "    </tr>\n",
       "    <tr>\n",
       "      <th>1</th>\n",
       "      <td>2023-01-02</td>\n",
       "      <td>Day After New Year</td>\n",
       "    </tr>\n",
       "    <tr>\n",
       "      <th>2</th>\n",
       "      <td>2023-01-03</td>\n",
       "      <td>Third Day after New Year</td>\n",
       "    </tr>\n",
       "    <tr>\n",
       "      <th>3</th>\n",
       "      <td>2023-01-04</td>\n",
       "      <td>Fourth Day after New Year</td>\n",
       "    </tr>\n",
       "    <tr>\n",
       "      <th>4</th>\n",
       "      <td>2023-01-05</td>\n",
       "      <td>Fifth Day after New Year</td>\n",
       "    </tr>\n",
       "    <tr>\n",
       "      <th>5</th>\n",
       "      <td>2023-01-06</td>\n",
       "      <td>Sixth Day after New Year</td>\n",
       "    </tr>\n",
       "    <tr>\n",
       "      <th>6</th>\n",
       "      <td>2023-01-07</td>\n",
       "      <td>Christmas</td>\n",
       "    </tr>\n",
       "    <tr>\n",
       "      <th>7</th>\n",
       "      <td>2023-01-08</td>\n",
       "      <td>Eighth Day after New Year</td>\n",
       "    </tr>\n",
       "    <tr>\n",
       "      <th>8</th>\n",
       "      <td>2023-02-23</td>\n",
       "      <td>Defendence of the Fatherland</td>\n",
       "    </tr>\n",
       "    <tr>\n",
       "      <th>9</th>\n",
       "      <td>2023-03-08</td>\n",
       "      <td>International Women's Day</td>\n",
       "    </tr>\n",
       "    <tr>\n",
       "      <th>10</th>\n",
       "      <td>2023-05-01</td>\n",
       "      <td>The Day of Spring and Labour</td>\n",
       "    </tr>\n",
       "    <tr>\n",
       "      <th>11</th>\n",
       "      <td>2023-05-09</td>\n",
       "      <td>Victory Day</td>\n",
       "    </tr>\n",
       "    <tr>\n",
       "      <th>12</th>\n",
       "      <td>2023-06-12</td>\n",
       "      <td>National Day</td>\n",
       "    </tr>\n",
       "    <tr>\n",
       "      <th>13</th>\n",
       "      <td>2023-11-04</td>\n",
       "      <td>Day of Unity</td>\n",
       "    </tr>\n",
       "    <tr>\n",
       "      <th>14</th>\n",
       "      <td>2023-11-06</td>\n",
       "      <td>Day of Unity shift</td>\n",
       "    </tr>\n",
       "    <tr>\n",
       "      <th>15</th>\n",
       "      <td>2024-01-01</td>\n",
       "      <td>New year</td>\n",
       "    </tr>\n",
       "    <tr>\n",
       "      <th>16</th>\n",
       "      <td>2024-01-02</td>\n",
       "      <td>Day After New Year</td>\n",
       "    </tr>\n",
       "    <tr>\n",
       "      <th>17</th>\n",
       "      <td>2024-01-03</td>\n",
       "      <td>Third Day after New Year</td>\n",
       "    </tr>\n",
       "    <tr>\n",
       "      <th>18</th>\n",
       "      <td>2024-01-04</td>\n",
       "      <td>Fourth Day after New Year</td>\n",
       "    </tr>\n",
       "    <tr>\n",
       "      <th>19</th>\n",
       "      <td>2024-01-05</td>\n",
       "      <td>Fifth Day after New Year</td>\n",
       "    </tr>\n",
       "    <tr>\n",
       "      <th>20</th>\n",
       "      <td>2024-01-06</td>\n",
       "      <td>Sixth Day after New Year</td>\n",
       "    </tr>\n",
       "    <tr>\n",
       "      <th>21</th>\n",
       "      <td>2024-01-07</td>\n",
       "      <td>Christmas</td>\n",
       "    </tr>\n",
       "    <tr>\n",
       "      <th>22</th>\n",
       "      <td>2024-01-08</td>\n",
       "      <td>Eighth Day after New Year</td>\n",
       "    </tr>\n",
       "    <tr>\n",
       "      <th>23</th>\n",
       "      <td>2024-02-23</td>\n",
       "      <td>Defendence of the Fatherland</td>\n",
       "    </tr>\n",
       "    <tr>\n",
       "      <th>24</th>\n",
       "      <td>2024-03-08</td>\n",
       "      <td>International Women's Day</td>\n",
       "    </tr>\n",
       "    <tr>\n",
       "      <th>25</th>\n",
       "      <td>2024-05-01</td>\n",
       "      <td>The Day of Spring and Labour</td>\n",
       "    </tr>\n",
       "    <tr>\n",
       "      <th>26</th>\n",
       "      <td>2024-05-09</td>\n",
       "      <td>Victory Day</td>\n",
       "    </tr>\n",
       "    <tr>\n",
       "      <th>27</th>\n",
       "      <td>2024-06-12</td>\n",
       "      <td>National Day</td>\n",
       "    </tr>\n",
       "    <tr>\n",
       "      <th>28</th>\n",
       "      <td>2024-11-04</td>\n",
       "      <td>Day of Unity</td>\n",
       "    </tr>\n",
       "  </tbody>\n",
       "</table>\n",
       "</div>"
      ],
      "text/plain": [
       "   holiday_date                  holiday_name\n",
       "0    2023-01-01                      New year\n",
       "1    2023-01-02            Day After New Year\n",
       "2    2023-01-03      Third Day after New Year\n",
       "3    2023-01-04     Fourth Day after New Year\n",
       "4    2023-01-05      Fifth Day after New Year\n",
       "5    2023-01-06      Sixth Day after New Year\n",
       "6    2023-01-07                     Christmas\n",
       "7    2023-01-08     Eighth Day after New Year\n",
       "8    2023-02-23  Defendence of the Fatherland\n",
       "9    2023-03-08     International Women's Day\n",
       "10   2023-05-01  The Day of Spring and Labour\n",
       "11   2023-05-09                   Victory Day\n",
       "12   2023-06-12                  National Day\n",
       "13   2023-11-04                  Day of Unity\n",
       "14   2023-11-06            Day of Unity shift\n",
       "15   2024-01-01                      New year\n",
       "16   2024-01-02            Day After New Year\n",
       "17   2024-01-03      Third Day after New Year\n",
       "18   2024-01-04     Fourth Day after New Year\n",
       "19   2024-01-05      Fifth Day after New Year\n",
       "20   2024-01-06      Sixth Day after New Year\n",
       "21   2024-01-07                     Christmas\n",
       "22   2024-01-08     Eighth Day after New Year\n",
       "23   2024-02-23  Defendence of the Fatherland\n",
       "24   2024-03-08     International Women's Day\n",
       "25   2024-05-01  The Day of Spring and Labour\n",
       "26   2024-05-09                   Victory Day\n",
       "27   2024-06-12                  National Day\n",
       "28   2024-11-04                  Day of Unity"
      ]
     },
     "execution_count": 22,
     "metadata": {},
     "output_type": "execute_result"
    }
   ],
   "source": [
    "from workalendar.europe import Russia\n",
    " \n",
    "calend = Russia()\n",
    "# все офиц. праздники\n",
    "holidays = pd.DataFrame(calend.holidays(2023)+calend.holidays(2024))\n",
    "holidays.columns = ['holiday_date','holiday_name']\n",
    "holidays['holiday_date'] = pd.to_datetime(holidays.holiday_date)\n",
    "holidays"
   ]
  },
  {
   "cell_type": "code",
   "execution_count": 23,
   "id": "8b8ababc",
   "metadata": {
    "tags": []
   },
   "outputs": [],
   "source": [
    "df_target = pd.merge(df_target, holidays, left_on='delivery_date',right_on = 'holiday_date', how='left')\n",
    "df_target['holiday_name'].fillna('not holiday', inplace = True)\n"
   ]
  },
  {
   "cell_type": "code",
   "execution_count": 24,
   "id": "9000736b",
   "metadata": {
    "tags": []
   },
   "outputs": [],
   "source": [
    "one_hot_encoded = pd.get_dummies(df_target['date_diff_sp_del'], prefix='day',dtype=int)\n",
    "days_nums_columns = one_hot_encoded.columns\n",
    "df_target = pd.concat([df_target, one_hot_encoded], axis=1)"
   ]
  },
  {
   "cell_type": "code",
   "execution_count": 25,
   "id": "092792ff",
   "metadata": {
    "tags": []
   },
   "outputs": [],
   "source": [
    "one_hot_encoded = pd.get_dummies(df_target['delivery_day_of_week'],dtype=int)\n",
    "days_names_columns = one_hot_encoded.columns\n",
    "df_target = pd.concat([df_target, one_hot_encoded], axis=1)"
   ]
  },
  {
   "cell_type": "code",
   "execution_count": 26,
   "id": "79985ab6",
   "metadata": {
    "tags": []
   },
   "outputs": [],
   "source": [
    "df_target['weekend_delivery'] = df_target.apply(lambda row: 1 if row['Saturday'] or row['Sunday'] or row['holiday_name'] != 'not holiday' else 0, axis=1).astype(int)"
   ]
  },
  {
   "cell_type": "code",
   "execution_count": 27,
   "id": "52779bd8",
   "metadata": {
    "tags": []
   },
   "outputs": [
    {
     "data": {
      "text/html": [
       "<div>\n",
       "<style scoped>\n",
       "    .dataframe tbody tr th:only-of-type {\n",
       "        vertical-align: middle;\n",
       "    }\n",
       "\n",
       "    .dataframe tbody tr th {\n",
       "        vertical-align: top;\n",
       "    }\n",
       "\n",
       "    .dataframe thead th {\n",
       "        text-align: right;\n",
       "    }\n",
       "</style>\n",
       "<table border=\"1\" class=\"dataframe\">\n",
       "  <thead>\n",
       "    <tr style=\"text-align: right;\">\n",
       "      <th></th>\n",
       "      <th>client_id</th>\n",
       "      <th>conv_flg</th>\n",
       "    </tr>\n",
       "  </thead>\n",
       "  <tbody>\n",
       "    <tr>\n",
       "      <th>0</th>\n",
       "      <td>00015b188cd3369bf0b8c75aab89a79a</td>\n",
       "      <td>0</td>\n",
       "    </tr>\n",
       "    <tr>\n",
       "      <th>1</th>\n",
       "      <td>0002fe1622dae9bbfac81cc82588ed4c</td>\n",
       "      <td>0</td>\n",
       "    </tr>\n",
       "    <tr>\n",
       "      <th>2</th>\n",
       "      <td>000754cc7100eba156087a1b36b1425d</td>\n",
       "      <td>0</td>\n",
       "    </tr>\n",
       "    <tr>\n",
       "      <th>3</th>\n",
       "      <td>000c50804b9a4d4a86e135ce4f0e4611</td>\n",
       "      <td>0</td>\n",
       "    </tr>\n",
       "    <tr>\n",
       "      <th>4</th>\n",
       "      <td>000d3ef9517568ee9870b6719ff6beed</td>\n",
       "      <td>0</td>\n",
       "    </tr>\n",
       "    <tr>\n",
       "      <th>...</th>\n",
       "      <td>...</td>\n",
       "      <td>...</td>\n",
       "    </tr>\n",
       "    <tr>\n",
       "      <th>11378</th>\n",
       "      <td>ffd8f05916de5f98b012cc6270716dfd</td>\n",
       "      <td>0</td>\n",
       "    </tr>\n",
       "    <tr>\n",
       "      <th>11379</th>\n",
       "      <td>ffe4a84c4e824ecf73bc1113103a2702</td>\n",
       "      <td>0</td>\n",
       "    </tr>\n",
       "    <tr>\n",
       "      <th>11380</th>\n",
       "      <td>fff558a93f3f573fb2db724478dd291e</td>\n",
       "      <td>0</td>\n",
       "    </tr>\n",
       "    <tr>\n",
       "      <th>11381</th>\n",
       "      <td>fff98bcaf733273bcc2403103414ccee</td>\n",
       "      <td>0</td>\n",
       "    </tr>\n",
       "    <tr>\n",
       "      <th>11382</th>\n",
       "      <td>fffbb4fa37ce9abec36bbc3021d9a815</td>\n",
       "      <td>0</td>\n",
       "    </tr>\n",
       "  </tbody>\n",
       "</table>\n",
       "<p>10951 rows × 2 columns</p>\n",
       "</div>"
      ],
      "text/plain": [
       "                              client_id  conv_flg\n",
       "0      00015b188cd3369bf0b8c75aab89a79a         0\n",
       "1      0002fe1622dae9bbfac81cc82588ed4c         0\n",
       "2      000754cc7100eba156087a1b36b1425d         0\n",
       "3      000c50804b9a4d4a86e135ce4f0e4611         0\n",
       "4      000d3ef9517568ee9870b6719ff6beed         0\n",
       "...                                 ...       ...\n",
       "11378  ffd8f05916de5f98b012cc6270716dfd         0\n",
       "11379  ffe4a84c4e824ecf73bc1113103a2702         0\n",
       "11380  fff558a93f3f573fb2db724478dd291e         0\n",
       "11381  fff98bcaf733273bcc2403103414ccee         0\n",
       "11382  fffbb4fa37ce9abec36bbc3021d9a815         0\n",
       "\n",
       "[10951 rows x 2 columns]"
      ]
     },
     "execution_count": 27,
     "metadata": {},
     "output_type": "execute_result"
    }
   ],
   "source": [
    "trg = df_target[['client_id','conv_flg']].drop_duplicates()\n",
    "trg['conv_flg'] = trg['conv_flg'].astype(int)\n",
    "trg"
   ]
  },
  {
   "cell_type": "code",
   "execution_count": 28,
   "id": "ba194854",
   "metadata": {
    "tags": []
   },
   "outputs": [],
   "source": [
    "# количество коммуникаций n_communications\n",
    "f1 = df_target[['client_id','n_communications']].drop_duplicates()\n",
    "# дней от создания sp до первой коммуникации\n",
    "f2 = df_target.groupby('client_id').min()['date_diff_sp_del'].reset_index()\n",
    "f2.columns = ['client_id','min_date_diff_sp_del']\n",
    "# дней от создания sp до последней коммуникации\n",
    "f3 = df_target.groupby('client_id').max()['date_diff_sp_del'].reset_index()\n",
    "f3.columns = ['client_id','max_date_diff_sp_del']\n",
    "# недель от создания sp до первой коммуникации\n",
    "f4 = df_target.groupby('client_id').min()['date_diff_sp_del']//7\n",
    "f4 = f4.reset_index()\n",
    "f4.columns = ['client_id','min_weeks_diff_sp_del']\n",
    "# недель от создания sp до последней коммуникации\n",
    "f5 = df_target.groupby('client_id').max()['date_diff_sp_del']//7\n",
    "f5 = f5.reset_index()\n",
    "f5.columns = ['client_id','max_weeks_diff_sp_del']\n",
    "# среднее число дней между коммуникациями\n",
    "f6 = df_target.groupby('client_id')['diff_delivery_days'].mean().reset_index()\n",
    "f6.columns = ['client_id','avg_days_diff_sp_del']\n",
    "# среднее число недель между коммуникациями\n",
    "f7 = df_target.groupby('client_id')['diff_delivery_days'].mean()//7\n",
    "f7 = f7.reset_index()\n",
    "f7.columns = ['client_id','avg_weeks_diff_sp_del']\n",
    "# коммуникация в день N\n",
    "# df_target.groupby('client_id')[days_nums_columns].sum().reset_index()\n",
    "# наличие коммуникаций в день недели\n",
    "f8 = df_target.groupby('client_id')[days_names_columns].max().reset_index()\n",
    "# сумма коммуникаций в день недели\n",
    "f9 = df_target.groupby('client_id')[days_names_columns].sum().reset_index()\n",
    "f9.columns = ['client_id', 'Friday_sum', 'Monday_sum', 'Saturday_sum', 'Sunday_sum', 'Thursday_sum',\n",
    "       'Tuesday_sum', 'Wednesday_sum']\n",
    "# наличие коммуникаций в выходные и праздники / будние\n",
    "f10 = df_target.groupby('client_id')['weekend_delivery'].max().reset_index()\n",
    "# сумма коммуникаций в выходные и праздники / будние\n",
    "f11 = df_target.groupby('client_id')['weekend_delivery'].sum().reset_index()\n",
    "f11.columns = ['client_id','weekend_delivery_sum']"
   ]
  },
  {
   "cell_type": "code",
   "execution_count": 29,
   "id": "0c54367a",
   "metadata": {
    "tags": []
   },
   "outputs": [
    {
     "data": {
      "text/html": [
       "<div>\n",
       "<style scoped>\n",
       "    .dataframe tbody tr th:only-of-type {\n",
       "        vertical-align: middle;\n",
       "    }\n",
       "\n",
       "    .dataframe tbody tr th {\n",
       "        vertical-align: top;\n",
       "    }\n",
       "\n",
       "    .dataframe thead th {\n",
       "        text-align: right;\n",
       "    }\n",
       "</style>\n",
       "<table border=\"1\" class=\"dataframe\">\n",
       "  <thead>\n",
       "    <tr style=\"text-align: right;\">\n",
       "      <th></th>\n",
       "      <th>client_id</th>\n",
       "      <th>conv_flg</th>\n",
       "      <th>n_communications</th>\n",
       "      <th>min_date_diff_sp_del</th>\n",
       "      <th>max_date_diff_sp_del</th>\n",
       "      <th>min_weeks_diff_sp_del</th>\n",
       "      <th>max_weeks_diff_sp_del</th>\n",
       "      <th>avg_days_diff_sp_del</th>\n",
       "      <th>avg_weeks_diff_sp_del</th>\n",
       "      <th>Friday</th>\n",
       "      <th>...</th>\n",
       "      <th>Wednesday</th>\n",
       "      <th>Friday_sum</th>\n",
       "      <th>Monday_sum</th>\n",
       "      <th>Saturday_sum</th>\n",
       "      <th>Sunday_sum</th>\n",
       "      <th>Thursday_sum</th>\n",
       "      <th>Tuesday_sum</th>\n",
       "      <th>Wednesday_sum</th>\n",
       "      <th>weekend_delivery</th>\n",
       "      <th>weekend_delivery_sum</th>\n",
       "    </tr>\n",
       "  </thead>\n",
       "  <tbody>\n",
       "    <tr>\n",
       "      <th>0</th>\n",
       "      <td>00015b188cd3369bf0b8c75aab89a79a</td>\n",
       "      <td>0</td>\n",
       "      <td>1</td>\n",
       "      <td>89</td>\n",
       "      <td>89</td>\n",
       "      <td>12</td>\n",
       "      <td>12</td>\n",
       "      <td>NaN</td>\n",
       "      <td>NaN</td>\n",
       "      <td>0</td>\n",
       "      <td>...</td>\n",
       "      <td>0</td>\n",
       "      <td>0</td>\n",
       "      <td>0</td>\n",
       "      <td>0</td>\n",
       "      <td>0</td>\n",
       "      <td>0</td>\n",
       "      <td>1</td>\n",
       "      <td>0</td>\n",
       "      <td>0</td>\n",
       "      <td>0</td>\n",
       "    </tr>\n",
       "    <tr>\n",
       "      <th>1</th>\n",
       "      <td>0002fe1622dae9bbfac81cc82588ed4c</td>\n",
       "      <td>0</td>\n",
       "      <td>1</td>\n",
       "      <td>93</td>\n",
       "      <td>93</td>\n",
       "      <td>13</td>\n",
       "      <td>13</td>\n",
       "      <td>NaN</td>\n",
       "      <td>NaN</td>\n",
       "      <td>0</td>\n",
       "      <td>...</td>\n",
       "      <td>0</td>\n",
       "      <td>0</td>\n",
       "      <td>0</td>\n",
       "      <td>0</td>\n",
       "      <td>0</td>\n",
       "      <td>0</td>\n",
       "      <td>1</td>\n",
       "      <td>0</td>\n",
       "      <td>0</td>\n",
       "      <td>0</td>\n",
       "    </tr>\n",
       "    <tr>\n",
       "      <th>2</th>\n",
       "      <td>000754cc7100eba156087a1b36b1425d</td>\n",
       "      <td>0</td>\n",
       "      <td>1</td>\n",
       "      <td>47</td>\n",
       "      <td>47</td>\n",
       "      <td>6</td>\n",
       "      <td>6</td>\n",
       "      <td>NaN</td>\n",
       "      <td>NaN</td>\n",
       "      <td>0</td>\n",
       "      <td>...</td>\n",
       "      <td>0</td>\n",
       "      <td>0</td>\n",
       "      <td>0</td>\n",
       "      <td>0</td>\n",
       "      <td>0</td>\n",
       "      <td>0</td>\n",
       "      <td>1</td>\n",
       "      <td>0</td>\n",
       "      <td>0</td>\n",
       "      <td>0</td>\n",
       "    </tr>\n",
       "    <tr>\n",
       "      <th>3</th>\n",
       "      <td>000c50804b9a4d4a86e135ce4f0e4611</td>\n",
       "      <td>0</td>\n",
       "      <td>1</td>\n",
       "      <td>120</td>\n",
       "      <td>120</td>\n",
       "      <td>17</td>\n",
       "      <td>17</td>\n",
       "      <td>NaN</td>\n",
       "      <td>NaN</td>\n",
       "      <td>0</td>\n",
       "      <td>...</td>\n",
       "      <td>0</td>\n",
       "      <td>0</td>\n",
       "      <td>0</td>\n",
       "      <td>0</td>\n",
       "      <td>0</td>\n",
       "      <td>0</td>\n",
       "      <td>1</td>\n",
       "      <td>0</td>\n",
       "      <td>0</td>\n",
       "      <td>0</td>\n",
       "    </tr>\n",
       "    <tr>\n",
       "      <th>4</th>\n",
       "      <td>000d3ef9517568ee9870b6719ff6beed</td>\n",
       "      <td>0</td>\n",
       "      <td>2</td>\n",
       "      <td>1</td>\n",
       "      <td>88</td>\n",
       "      <td>0</td>\n",
       "      <td>12</td>\n",
       "      <td>87.0</td>\n",
       "      <td>12.0</td>\n",
       "      <td>1</td>\n",
       "      <td>...</td>\n",
       "      <td>0</td>\n",
       "      <td>1</td>\n",
       "      <td>1</td>\n",
       "      <td>0</td>\n",
       "      <td>0</td>\n",
       "      <td>0</td>\n",
       "      <td>0</td>\n",
       "      <td>0</td>\n",
       "      <td>0</td>\n",
       "      <td>0</td>\n",
       "    </tr>\n",
       "    <tr>\n",
       "      <th>...</th>\n",
       "      <td>...</td>\n",
       "      <td>...</td>\n",
       "      <td>...</td>\n",
       "      <td>...</td>\n",
       "      <td>...</td>\n",
       "      <td>...</td>\n",
       "      <td>...</td>\n",
       "      <td>...</td>\n",
       "      <td>...</td>\n",
       "      <td>...</td>\n",
       "      <td>...</td>\n",
       "      <td>...</td>\n",
       "      <td>...</td>\n",
       "      <td>...</td>\n",
       "      <td>...</td>\n",
       "      <td>...</td>\n",
       "      <td>...</td>\n",
       "      <td>...</td>\n",
       "      <td>...</td>\n",
       "      <td>...</td>\n",
       "      <td>...</td>\n",
       "    </tr>\n",
       "    <tr>\n",
       "      <th>10946</th>\n",
       "      <td>ffd8f05916de5f98b012cc6270716dfd</td>\n",
       "      <td>0</td>\n",
       "      <td>1</td>\n",
       "      <td>22</td>\n",
       "      <td>22</td>\n",
       "      <td>3</td>\n",
       "      <td>3</td>\n",
       "      <td>NaN</td>\n",
       "      <td>NaN</td>\n",
       "      <td>0</td>\n",
       "      <td>...</td>\n",
       "      <td>1</td>\n",
       "      <td>0</td>\n",
       "      <td>0</td>\n",
       "      <td>0</td>\n",
       "      <td>0</td>\n",
       "      <td>0</td>\n",
       "      <td>0</td>\n",
       "      <td>1</td>\n",
       "      <td>0</td>\n",
       "      <td>0</td>\n",
       "    </tr>\n",
       "    <tr>\n",
       "      <th>10947</th>\n",
       "      <td>ffe4a84c4e824ecf73bc1113103a2702</td>\n",
       "      <td>0</td>\n",
       "      <td>1</td>\n",
       "      <td>20</td>\n",
       "      <td>20</td>\n",
       "      <td>2</td>\n",
       "      <td>2</td>\n",
       "      <td>NaN</td>\n",
       "      <td>NaN</td>\n",
       "      <td>0</td>\n",
       "      <td>...</td>\n",
       "      <td>0</td>\n",
       "      <td>0</td>\n",
       "      <td>0</td>\n",
       "      <td>1</td>\n",
       "      <td>0</td>\n",
       "      <td>0</td>\n",
       "      <td>0</td>\n",
       "      <td>0</td>\n",
       "      <td>1</td>\n",
       "      <td>1</td>\n",
       "    </tr>\n",
       "    <tr>\n",
       "      <th>10948</th>\n",
       "      <td>fff558a93f3f573fb2db724478dd291e</td>\n",
       "      <td>0</td>\n",
       "      <td>1</td>\n",
       "      <td>47</td>\n",
       "      <td>47</td>\n",
       "      <td>6</td>\n",
       "      <td>6</td>\n",
       "      <td>NaN</td>\n",
       "      <td>NaN</td>\n",
       "      <td>0</td>\n",
       "      <td>...</td>\n",
       "      <td>0</td>\n",
       "      <td>0</td>\n",
       "      <td>0</td>\n",
       "      <td>0</td>\n",
       "      <td>0</td>\n",
       "      <td>0</td>\n",
       "      <td>1</td>\n",
       "      <td>0</td>\n",
       "      <td>0</td>\n",
       "      <td>0</td>\n",
       "    </tr>\n",
       "    <tr>\n",
       "      <th>10949</th>\n",
       "      <td>fff98bcaf733273bcc2403103414ccee</td>\n",
       "      <td>0</td>\n",
       "      <td>1</td>\n",
       "      <td>53</td>\n",
       "      <td>53</td>\n",
       "      <td>7</td>\n",
       "      <td>7</td>\n",
       "      <td>NaN</td>\n",
       "      <td>NaN</td>\n",
       "      <td>0</td>\n",
       "      <td>...</td>\n",
       "      <td>0</td>\n",
       "      <td>0</td>\n",
       "      <td>0</td>\n",
       "      <td>0</td>\n",
       "      <td>0</td>\n",
       "      <td>1</td>\n",
       "      <td>0</td>\n",
       "      <td>0</td>\n",
       "      <td>0</td>\n",
       "      <td>0</td>\n",
       "    </tr>\n",
       "    <tr>\n",
       "      <th>10950</th>\n",
       "      <td>fffbb4fa37ce9abec36bbc3021d9a815</td>\n",
       "      <td>0</td>\n",
       "      <td>1</td>\n",
       "      <td>43</td>\n",
       "      <td>43</td>\n",
       "      <td>6</td>\n",
       "      <td>6</td>\n",
       "      <td>NaN</td>\n",
       "      <td>NaN</td>\n",
       "      <td>0</td>\n",
       "      <td>...</td>\n",
       "      <td>0</td>\n",
       "      <td>0</td>\n",
       "      <td>0</td>\n",
       "      <td>0</td>\n",
       "      <td>0</td>\n",
       "      <td>0</td>\n",
       "      <td>1</td>\n",
       "      <td>0</td>\n",
       "      <td>0</td>\n",
       "      <td>0</td>\n",
       "    </tr>\n",
       "  </tbody>\n",
       "</table>\n",
       "<p>10951 rows × 25 columns</p>\n",
       "</div>"
      ],
      "text/plain": [
       "                              client_id  conv_flg  n_communications  \\\n",
       "0      00015b188cd3369bf0b8c75aab89a79a         0                 1   \n",
       "1      0002fe1622dae9bbfac81cc82588ed4c         0                 1   \n",
       "2      000754cc7100eba156087a1b36b1425d         0                 1   \n",
       "3      000c50804b9a4d4a86e135ce4f0e4611         0                 1   \n",
       "4      000d3ef9517568ee9870b6719ff6beed         0                 2   \n",
       "...                                 ...       ...               ...   \n",
       "10946  ffd8f05916de5f98b012cc6270716dfd         0                 1   \n",
       "10947  ffe4a84c4e824ecf73bc1113103a2702         0                 1   \n",
       "10948  fff558a93f3f573fb2db724478dd291e         0                 1   \n",
       "10949  fff98bcaf733273bcc2403103414ccee         0                 1   \n",
       "10950  fffbb4fa37ce9abec36bbc3021d9a815         0                 1   \n",
       "\n",
       "       min_date_diff_sp_del  max_date_diff_sp_del  min_weeks_diff_sp_del  \\\n",
       "0                        89                    89                     12   \n",
       "1                        93                    93                     13   \n",
       "2                        47                    47                      6   \n",
       "3                       120                   120                     17   \n",
       "4                         1                    88                      0   \n",
       "...                     ...                   ...                    ...   \n",
       "10946                    22                    22                      3   \n",
       "10947                    20                    20                      2   \n",
       "10948                    47                    47                      6   \n",
       "10949                    53                    53                      7   \n",
       "10950                    43                    43                      6   \n",
       "\n",
       "       max_weeks_diff_sp_del  avg_days_diff_sp_del  avg_weeks_diff_sp_del  \\\n",
       "0                         12                   NaN                    NaN   \n",
       "1                         13                   NaN                    NaN   \n",
       "2                          6                   NaN                    NaN   \n",
       "3                         17                   NaN                    NaN   \n",
       "4                         12                  87.0                   12.0   \n",
       "...                      ...                   ...                    ...   \n",
       "10946                      3                   NaN                    NaN   \n",
       "10947                      2                   NaN                    NaN   \n",
       "10948                      6                   NaN                    NaN   \n",
       "10949                      7                   NaN                    NaN   \n",
       "10950                      6                   NaN                    NaN   \n",
       "\n",
       "       Friday  ...  Wednesday  Friday_sum  Monday_sum  Saturday_sum  \\\n",
       "0           0  ...          0           0           0             0   \n",
       "1           0  ...          0           0           0             0   \n",
       "2           0  ...          0           0           0             0   \n",
       "3           0  ...          0           0           0             0   \n",
       "4           1  ...          0           1           1             0   \n",
       "...       ...  ...        ...         ...         ...           ...   \n",
       "10946       0  ...          1           0           0             0   \n",
       "10947       0  ...          0           0           0             1   \n",
       "10948       0  ...          0           0           0             0   \n",
       "10949       0  ...          0           0           0             0   \n",
       "10950       0  ...          0           0           0             0   \n",
       "\n",
       "       Sunday_sum  Thursday_sum  Tuesday_sum  Wednesday_sum  weekend_delivery  \\\n",
       "0               0             0            1              0                 0   \n",
       "1               0             0            1              0                 0   \n",
       "2               0             0            1              0                 0   \n",
       "3               0             0            1              0                 0   \n",
       "4               0             0            0              0                 0   \n",
       "...           ...           ...          ...            ...               ...   \n",
       "10946           0             0            0              1                 0   \n",
       "10947           0             0            0              0                 1   \n",
       "10948           0             0            1              0                 0   \n",
       "10949           0             1            0              0                 0   \n",
       "10950           0             0            1              0                 0   \n",
       "\n",
       "       weekend_delivery_sum  \n",
       "0                         0  \n",
       "1                         0  \n",
       "2                         0  \n",
       "3                         0  \n",
       "4                         0  \n",
       "...                     ...  \n",
       "10946                     0  \n",
       "10947                     1  \n",
       "10948                     0  \n",
       "10949                     0  \n",
       "10950                     0  \n",
       "\n",
       "[10951 rows x 25 columns]"
      ]
     },
     "execution_count": 29,
     "metadata": {},
     "output_type": "execute_result"
    }
   ],
   "source": [
    "df_res = pd.merge(trg,f1).merge(f2).merge(f3).merge(f4).merge(f5).merge(f6).merge(f7).merge(f8).merge(f9).merge(f10).merge(f11)\n",
    "df_res"
   ]
  },
  {
   "cell_type": "code",
   "execution_count": 30,
   "id": "1ba4bf11-2b95-4941-8aa3-557f8865147a",
   "metadata": {
    "tags": []
   },
   "outputs": [
    {
     "data": {
      "text/plain": [
       "Index(['client_id', 'conv_flg', 'n_communications', 'min_date_diff_sp_del',\n",
       "       'max_date_diff_sp_del', 'min_weeks_diff_sp_del',\n",
       "       'max_weeks_diff_sp_del', 'avg_days_diff_sp_del',\n",
       "       'avg_weeks_diff_sp_del', 'Friday', 'Monday', 'Saturday', 'Sunday',\n",
       "       'Thursday', 'Tuesday', 'Wednesday', 'Friday_sum', 'Monday_sum',\n",
       "       'Saturday_sum', 'Sunday_sum', 'Thursday_sum', 'Tuesday_sum',\n",
       "       'Wednesday_sum', 'weekend_delivery', 'weekend_delivery_sum'],\n",
       "      dtype='object')"
      ]
     },
     "execution_count": 30,
     "metadata": {},
     "output_type": "execute_result"
    }
   ],
   "source": [
    "df_res.columns"
   ]
  },
  {
   "cell_type": "markdown",
   "id": "708c81d0-fbea-4f66-8269-53ab7b6c341c",
   "metadata": {
    "tags": []
   },
   "source": [
    "# Обучаем и тестируем модели классификации"
   ]
  },
  {
   "cell_type": "markdown",
   "id": "a365bb49-f241-414a-998c-962fca998651",
   "metadata": {
    "tags": []
   },
   "source": [
    "## Классификатор только на коммуникационных признаках"
   ]
  },
  {
   "cell_type": "code",
   "execution_count": 31,
   "id": "612f1a1d",
   "metadata": {
    "tags": []
   },
   "outputs": [],
   "source": [
    "from sklearn.feature_selection import SelectFromModel\n",
    "from sklearn.model_selection import train_test_split\n",
    "\n",
    "# Split your data into features and target\n",
    "X = df_res.drop(['conv_flg','client_id'], axis=1)\n",
    "y = df_res['conv_flg']"
   ]
  },
  {
   "cell_type": "code",
   "execution_count": 32,
   "id": "dfb02b56",
   "metadata": {
    "scrolled": true,
    "tags": []
   },
   "outputs": [
    {
     "name": "stdout",
     "output_type": "stream",
     "text": [
      "<class 'pandas.core.frame.DataFrame'>\n",
      "RangeIndex: 10951 entries, 0 to 10950\n",
      "Data columns (total 23 columns):\n",
      " #   Column                 Non-Null Count  Dtype  \n",
      "---  ------                 --------------  -----  \n",
      " 0   n_communications       10951 non-null  int64  \n",
      " 1   min_date_diff_sp_del   10951 non-null  int64  \n",
      " 2   max_date_diff_sp_del   10951 non-null  int64  \n",
      " 3   min_weeks_diff_sp_del  10951 non-null  int64  \n",
      " 4   max_weeks_diff_sp_del  10951 non-null  int64  \n",
      " 5   avg_days_diff_sp_del   412 non-null    float64\n",
      " 6   avg_weeks_diff_sp_del  412 non-null    float64\n",
      " 7   Friday                 10951 non-null  int64  \n",
      " 8   Monday                 10951 non-null  int64  \n",
      " 9   Saturday               10951 non-null  int64  \n",
      " 10  Sunday                 10951 non-null  int64  \n",
      " 11  Thursday               10951 non-null  int64  \n",
      " 12  Tuesday                10951 non-null  int64  \n",
      " 13  Wednesday              10951 non-null  int64  \n",
      " 14  Friday_sum             10951 non-null  int64  \n",
      " 15  Monday_sum             10951 non-null  int64  \n",
      " 16  Saturday_sum           10951 non-null  int64  \n",
      " 17  Sunday_sum             10951 non-null  int64  \n",
      " 18  Thursday_sum           10951 non-null  int64  \n",
      " 19  Tuesday_sum            10951 non-null  int64  \n",
      " 20  Wednesday_sum          10951 non-null  int64  \n",
      " 21  weekend_delivery       10951 non-null  int64  \n",
      " 22  weekend_delivery_sum   10951 non-null  int64  \n",
      "dtypes: float64(2), int64(21)\n",
      "memory usage: 1.9 MB\n"
     ]
    }
   ],
   "source": [
    "X.info()"
   ]
  },
  {
   "cell_type": "code",
   "execution_count": 33,
   "id": "f1074f75",
   "metadata": {
    "scrolled": true,
    "tags": []
   },
   "outputs": [
    {
     "data": {
      "text/plain": [
       "n_communications             0\n",
       "min_date_diff_sp_del         0\n",
       "max_date_diff_sp_del         0\n",
       "min_weeks_diff_sp_del        0\n",
       "max_weeks_diff_sp_del        0\n",
       "avg_days_diff_sp_del     10539\n",
       "avg_weeks_diff_sp_del    10539\n",
       "Friday                       0\n",
       "Monday                       0\n",
       "Saturday                     0\n",
       "Sunday                       0\n",
       "Thursday                     0\n",
       "Tuesday                      0\n",
       "Wednesday                    0\n",
       "Friday_sum                   0\n",
       "Monday_sum                   0\n",
       "Saturday_sum                 0\n",
       "Sunday_sum                   0\n",
       "Thursday_sum                 0\n",
       "Tuesday_sum                  0\n",
       "Wednesday_sum                0\n",
       "weekend_delivery             0\n",
       "weekend_delivery_sum         0\n",
       "dtype: int64"
      ]
     },
     "execution_count": 33,
     "metadata": {},
     "output_type": "execute_result"
    }
   ],
   "source": [
    "X.isna().sum()"
   ]
  },
  {
   "cell_type": "code",
   "execution_count": 34,
   "id": "4df1584d",
   "metadata": {
    "tags": []
   },
   "outputs": [],
   "source": [
    "X.fillna(0, inplace=True)"
   ]
  },
  {
   "cell_type": "code",
   "execution_count": 35,
   "id": "4ba6a3b2",
   "metadata": {
    "tags": []
   },
   "outputs": [],
   "source": [
    "from catboost import Pool,CatBoostClassifier"
   ]
  },
  {
   "cell_type": "code",
   "execution_count": 36,
   "id": "ad9d29ff",
   "metadata": {
    "tags": []
   },
   "outputs": [],
   "source": [
    "X_train, X_test, y_train, y_test = train_test_split(X, y, test_size=0.2, random_state=1)"
   ]
  },
  {
   "cell_type": "code",
   "execution_count": 37,
   "id": "255a393a-fdca-4660-aba3-1fa90c7e9766",
   "metadata": {
    "tags": []
   },
   "outputs": [],
   "source": [
    "cat_features = []"
   ]
  },
  {
   "cell_type": "code",
   "execution_count": 38,
   "id": "2b4696a9-5d0d-4bb4-9651-b8044687c33b",
   "metadata": {
    "tags": []
   },
   "outputs": [
    {
     "data": {
      "application/vnd.jupyter.widget-view+json": {
       "model_id": "cd62d1d4615143739fe0857c359e720f",
       "version_major": 2,
       "version_minor": 0
      },
      "text/plain": [
       "MetricVisualizer(layout=Layout(align_self='stretch', height='500px'))"
      ]
     },
     "metadata": {},
     "output_type": "display_data"
    },
    {
     "name": "stdout",
     "output_type": "stream",
     "text": [
      "Training on fold [0/5]\n",
      "\n",
      "bestTest = 0.5270882576\n",
      "bestIteration = 430\n",
      "\n",
      "Training on fold [1/5]\n",
      "\n",
      "bestTest = 0.5962857712\n",
      "bestIteration = 208\n",
      "\n",
      "Training on fold [2/5]\n",
      "\n",
      "bestTest = 0.5067557224\n",
      "bestIteration = 360\n",
      "\n",
      "Training on fold [3/5]\n",
      "\n",
      "bestTest = 0.5832558617\n",
      "bestIteration = 211\n",
      "\n",
      "Training on fold [4/5]\n",
      "\n",
      "bestTest = 0.6408204248\n",
      "bestIteration = 132\n",
      "\n"
     ]
    }
   ],
   "source": [
    "from catboost import cv\n",
    "\n",
    "params = {\n",
    "    'loss_function': 'Logloss',\n",
    "    'iterations': 1000,\n",
    "    'custom_loss': ['AUC','Recall'],\n",
    "    'random_seed': 1,\n",
    "    'learning_rate': 0.005,\n",
    "    'use_best_model' : True,\n",
    "    'auto_class_weights' : 'Balanced',\n",
    "}\n",
    "\n",
    "cv_data, models = cv(\n",
    "    params=params,\n",
    "    pool=Pool(X_train, label=y_train, cat_features=cat_features),\n",
    "    fold_count=5,\n",
    "    shuffle=True, \n",
    "    partition_random_seed=1,\n",
    "    plot=True,\n",
    "    early_stopping_rounds = 50,\n",
    "    stratified=True, \n",
    "    verbose=False,\n",
    "    return_models=True\n",
    ")"
   ]
  },
  {
   "cell_type": "code",
   "execution_count": 39,
   "id": "1f8ae887-e62a-4642-8e93-1d864ff5cb94",
   "metadata": {
    "tags": []
   },
   "outputs": [],
   "source": [
    "# Эффекты довольно стабильные, расхождения в пределах 15%\n",
    "# Возьмём модель с fold[0] как наиболее стабильную и лучшую по AUC и Recall"
   ]
  },
  {
   "cell_type": "code",
   "execution_count": 40,
   "id": "6e95d4c8-131c-4eed-96d2-3485eec260d4",
   "metadata": {
    "tags": []
   },
   "outputs": [],
   "source": [
    "from catboost import Pool, to_classifier, CatBoost"
   ]
  },
  {
   "cell_type": "code",
   "execution_count": 41,
   "id": "05543c4f-73e5-45e5-92e3-ea8a8ef2a998",
   "metadata": {
    "tags": []
   },
   "outputs": [],
   "source": [
    "model = to_classifier(models[0])"
   ]
  },
  {
   "cell_type": "code",
   "execution_count": 42,
   "id": "c26a2ca0-eeb3-4fe2-ac2b-685a6020df2a",
   "metadata": {
    "tags": []
   },
   "outputs": [],
   "source": [
    "# подбираем нужный порог по FNR"
   ]
  },
  {
   "cell_type": "code",
   "execution_count": 43,
   "id": "55276af9-892e-45fd-8c7f-e60a5fcc44a9",
   "metadata": {
    "tags": []
   },
   "outputs": [],
   "source": [
    "# confusion_matrix(y_test, model.predict(X_test))\n",
    "\n",
    "# [tn, fp\n",
    "# fn, tp]\n",
    "\n",
    "# [[0,0],[0,1]\n",
    "#  [1,0],[1,1]]\n",
    "\n",
    "# [было, предсказано]\n",
    "# => хотим максимизировать recall или "
   ]
  },
  {
   "cell_type": "code",
   "execution_count": 44,
   "id": "9a49ef8b-a495-491f-91eb-5ddeb12830ec",
   "metadata": {
    "tags": []
   },
   "outputs": [],
   "source": [
    "from catboost.utils import get_roc_curve\n",
    "import sklearn\n",
    "from sklearn import metrics\n",
    "\n",
    "eval_pool = Pool(X_test, y_test, cat_features=cat_features)\n",
    "curve = get_roc_curve(model, eval_pool)\n",
    "(fpr, tpr, thresholds)=curve\n",
    "roc_auc=sklearn.metrics.auc(fpr, tpr)"
   ]
  },
  {
   "cell_type": "code",
   "execution_count": 45,
   "id": "f1292102-948a-42e2-92cb-3e67334f1f45",
   "metadata": {
    "tags": []
   },
   "outputs": [
    {
     "data": {
      "image/png": "[encoded data removed]",
      "text/plain": [
       "<Figure size 1600x800 with 1 Axes>"
      ]
     },
     "metadata": {},
     "output_type": "display_data"
    }
   ],
   "source": [
    "import matplotlib.pyplot as plt\n",
    "\n",
    "plt.figure(figsize=(16, 8))\n",
    "lw=2\n",
    "\n",
    "plt.plot(fpr, tpr, color='darkorange',\n",
    "         lw=lw, label='ROC curve (area = %0.2f)' % roc_auc, alpha=0.5)\n",
    "\n",
    "plt.plot([0, 1], [0, 1], color='navy', lw=lw, linestyle='--', alpha=0.5)\n",
    "\n",
    "plt.xlim([0.0, 1.0])\n",
    "plt.ylim([0.0, 1.05])\n",
    "plt.xticks(fontsize=16)\n",
    "plt.yticks(fontsize=16)\n",
    "plt.grid(True)\n",
    "plt.xlabel('False Positive Rate', fontsize=16)\n",
    "plt.ylabel('True Positive Rate', fontsize=16)\n",
    "plt.title('Receiver operating characteristic', fontsize=20)\n",
    "plt.legend(loc=\"lower right\", fontsize=16)\n",
    "plt.show()"
   ]
  },
  {
   "cell_type": "code",
   "execution_count": 46,
   "id": "23146203-fcc4-4169-a5eb-b23f19195fd0",
   "metadata": {
    "tags": []
   },
   "outputs": [],
   "source": [
    "# и это без подбора порога по вероятности"
   ]
  },
  {
   "cell_type": "code",
   "execution_count": 47,
   "id": "37f48fb6-402d-4268-8873-6e7a88ec2670",
   "metadata": {
    "tags": []
   },
   "outputs": [],
   "source": [
    "from catboost.utils import get_fpr_curve\n",
    "from catboost.utils import get_fnr_curve\n",
    "\n",
    "(thresholds, fpr) = get_fpr_curve(curve=curve)\n",
    "(thresholds, fnr) = get_fnr_curve(curve=curve)"
   ]
  },
  {
   "cell_type": "code",
   "execution_count": 48,
   "id": "c9f70426-372a-4445-b674-6336fb550529",
   "metadata": {
    "tags": []
   },
   "outputs": [
    {
     "data": {
      "image/png": "[encoded data removed]",
      "text/plain": [
       "<Figure size 1600x800 with 1 Axes>"
      ]
     },
     "metadata": {},
     "output_type": "display_data"
    }
   ],
   "source": [
    "plt.figure(figsize=(16, 8))\n",
    "lw=2\n",
    "\n",
    "plt.plot(thresholds, fpr, color='blue', lw=lw, label='FPR', alpha=0.5)\n",
    "plt.plot(thresholds, fnr, color='green', lw=lw, label='FNR', alpha=0.5)\n",
    "\n",
    "plt.xlim([0.0, 1.0])\n",
    "plt.ylim([0.0, 1.05])\n",
    "plt.xticks(fontsize=16)\n",
    "plt.yticks(fontsize=16)\n",
    "plt.grid(True)\n",
    "plt.xlabel('Thresholds', fontsize=16)\n",
    "plt.ylabel('Error rate', fontsize=16)\n",
    "plt.title('FPR-FNR curves', fontsize=16)\n",
    "plt.legend(loc='lower left', fontsize=16)\n",
    "plt.show()"
   ]
  },
  {
   "cell_type": "code",
   "execution_count": 49,
   "id": "97407dbd-ab1d-420e-bb81-c2aa47fac108",
   "metadata": {
    "tags": []
   },
   "outputs": [
    {
     "name": "stdout",
     "output_type": "stream",
     "text": [
      "0.2346328818402823\n",
      "0.7037868099576967\n"
     ]
    }
   ],
   "source": [
    "from catboost.utils import select_threshold\n",
    "\n",
    "fnr_boundary = select_threshold(model=model, data=eval_pool, FNR=0.1)\n",
    "\n",
    "print(fnr_boundary)\n",
    "print(select_threshold(model=model, data=eval_pool, FPR=0.1))"
   ]
  },
  {
   "cell_type": "code",
   "execution_count": 50,
   "id": "86493011-9e7e-4634-82cc-f3353956d8e9",
   "metadata": {
    "tags": []
   },
   "outputs": [],
   "source": [
    "## считаем метрики"
   ]
  },
  {
   "cell_type": "code",
   "execution_count": 51,
   "id": "a10d8b3f-e67f-4aec-a64a-da3073cbddf1",
   "metadata": {
    "tags": []
   },
   "outputs": [],
   "source": [
    "def model_metrics(model, test_sample, y_test, boundary):\n",
    "\n",
    "    probabilities_pred = model.predict_proba(test_sample)[:,1]\n",
    "    auc_roc = roc_auc_score(y_test, probabilities_pred)\n",
    "    print(f'Roc Auc {auc_roc}')\n",
    "\n",
    "    y_pred = np.where(probabilities_pred > boundary, 1, 0)\n",
    "    tn, fp, fn, tp = confusion_matrix(y_test, y_pred).ravel()\n",
    "    accuracy = (tn + tp) / (tn + fp + fn + tp)\n",
    "    precision = tp / (tp + fp)\n",
    "    recall = tp / (tp + fn)\n",
    "    \n",
    "\n",
    "    FPR = fp / (fp + tn)\n",
    "    FNR = fn / (tp + fn)\n",
    "    \n",
    "    print(f'FPR {FPR:.2f}')\n",
    "    \n",
    "    print(f'FNR {FNR:.2f}')\n",
    "\n",
    "    print(f'Accuracy {accuracy:.2f}')\n",
    "    print(f'Precision {precision:.2f}')\n",
    "    print(f'Recall {recall:.2f}')"
   ]
  },
  {
   "cell_type": "code",
   "execution_count": 52,
   "id": "37f615e4-b92f-4320-aeef-6d78f5f3497c",
   "metadata": {
    "tags": []
   },
   "outputs": [
    {
     "name": "stdout",
     "output_type": "stream",
     "text": [
      "Roc Auc 0.7546942453581458\n",
      "FPR 0.61\n",
      "FNR 0.09\n",
      "Accuracy 0.39\n",
      "Precision 0.01\n",
      "Recall 0.91\n"
     ]
    }
   ],
   "source": [
    "model_metrics(model, X_test, y_test,fnr_boundary)"
   ]
  },
  {
   "cell_type": "code",
   "execution_count": 53,
   "id": "dbf5e72e-de0c-4f89-8867-4f34ed62eaba",
   "metadata": {
    "tags": []
   },
   "outputs": [],
   "source": [
    "# мы хотим максимизировать recall -> лучше предсказывать 1 там, где будет 0, чем предсказывать 0 там, где будет 1\n",
    "# поэтому нам ок такие значения"
   ]
  },
  {
   "cell_type": "markdown",
   "id": "b81b80b6-f9b7-427a-9f36-7599730a6248",
   "metadata": {
    "tags": []
   },
   "source": [
    "### Отбор коммуникационных фичей"
   ]
  },
  {
   "cell_type": "code",
   "execution_count": 54,
   "id": "3ba36247",
   "metadata": {
    "tags": []
   },
   "outputs": [],
   "source": [
    "import matplotlib.pyplot as plt\n",
    "import shap"
   ]
  },
  {
   "cell_type": "code",
   "execution_count": 55,
   "id": "30f94707",
   "metadata": {
    "tags": []
   },
   "outputs": [],
   "source": [
    "# feature impotance(сплит и гейн),\n",
    "# permutatioon importance\n",
    "# shap (интерпретация)\n",
    "# -> почитать и углубиться"
   ]
  },
  {
   "cell_type": "code",
   "execution_count": 56,
   "id": "6702a417-ab02-4f2e-bfaa-992586d77f3d",
   "metadata": {
    "tags": []
   },
   "outputs": [
    {
     "data": {
      "text/html": [
       "<div>\n",
       "<style scoped>\n",
       "    .dataframe tbody tr th:only-of-type {\n",
       "        vertical-align: middle;\n",
       "    }\n",
       "\n",
       "    .dataframe tbody tr th {\n",
       "        vertical-align: top;\n",
       "    }\n",
       "\n",
       "    .dataframe thead th {\n",
       "        text-align: right;\n",
       "    }\n",
       "</style>\n",
       "<table border=\"1\" class=\"dataframe\">\n",
       "  <thead>\n",
       "    <tr style=\"text-align: right;\">\n",
       "      <th></th>\n",
       "      <th>Feature Id</th>\n",
       "      <th>Importances</th>\n",
       "    </tr>\n",
       "  </thead>\n",
       "  <tbody>\n",
       "    <tr>\n",
       "      <th>0</th>\n",
       "      <td>min_weeks_diff_sp_del</td>\n",
       "      <td>18.369770</td>\n",
       "    </tr>\n",
       "    <tr>\n",
       "      <th>1</th>\n",
       "      <td>min_date_diff_sp_del</td>\n",
       "      <td>17.683725</td>\n",
       "    </tr>\n",
       "    <tr>\n",
       "      <th>2</th>\n",
       "      <td>max_weeks_diff_sp_del</td>\n",
       "      <td>13.637285</td>\n",
       "    </tr>\n",
       "    <tr>\n",
       "      <th>3</th>\n",
       "      <td>max_date_diff_sp_del</td>\n",
       "      <td>13.116536</td>\n",
       "    </tr>\n",
       "    <tr>\n",
       "      <th>4</th>\n",
       "      <td>weekend_delivery_sum</td>\n",
       "      <td>4.709911</td>\n",
       "    </tr>\n",
       "    <tr>\n",
       "      <th>5</th>\n",
       "      <td>n_communications</td>\n",
       "      <td>4.012964</td>\n",
       "    </tr>\n",
       "    <tr>\n",
       "      <th>6</th>\n",
       "      <td>Friday_sum</td>\n",
       "      <td>3.843588</td>\n",
       "    </tr>\n",
       "    <tr>\n",
       "      <th>7</th>\n",
       "      <td>Tuesday_sum</td>\n",
       "      <td>3.437676</td>\n",
       "    </tr>\n",
       "    <tr>\n",
       "      <th>8</th>\n",
       "      <td>avg_days_diff_sp_del</td>\n",
       "      <td>2.896509</td>\n",
       "    </tr>\n",
       "    <tr>\n",
       "      <th>9</th>\n",
       "      <td>Thursday_sum</td>\n",
       "      <td>2.722557</td>\n",
       "    </tr>\n",
       "  </tbody>\n",
       "</table>\n",
       "</div>"
      ],
      "text/plain": [
       "              Feature Id  Importances\n",
       "0  min_weeks_diff_sp_del    18.369770\n",
       "1   min_date_diff_sp_del    17.683725\n",
       "2  max_weeks_diff_sp_del    13.637285\n",
       "3   max_date_diff_sp_del    13.116536\n",
       "4   weekend_delivery_sum     4.709911\n",
       "5       n_communications     4.012964\n",
       "6             Friday_sum     3.843588\n",
       "7            Tuesday_sum     3.437676\n",
       "8   avg_days_diff_sp_del     2.896509\n",
       "9           Thursday_sum     2.722557"
      ]
     },
     "execution_count": 56,
     "metadata": {},
     "output_type": "execute_result"
    }
   ],
   "source": [
    "model.get_feature_importance(prettified=True, type = 'PredictionValuesChange')[:10]"
   ]
  },
  {
   "cell_type": "code",
   "execution_count": 57,
   "id": "181bde51",
   "metadata": {
    "tags": []
   },
   "outputs": [
    {
     "data": {
      "text/plain": [
       "Text(0.5, 1.0, 'SHAP Importance')"
      ]
     },
     "execution_count": 57,
     "metadata": {},
     "output_type": "execute_result"
    },
    {
     "data": {
      "image/png": "[encoded data removed]",
      "text/plain": [
       "<Figure size 1200x600 with 1 Axes>"
      ]
     },
     "metadata": {},
     "output_type": "display_data"
    }
   ],
   "source": [
    "explainer = shap.Explainer(model)\n",
    "shap_values = explainer(X_test)\n",
    "shap_importance = shap_values.abs.mean(0).values\n",
    "sorted_idx = shap_importance.argsort()\n",
    "fig = plt.figure(figsize=(12, 6))\n",
    "plt.barh(range(len(sorted_idx)), shap_importance[sorted_idx], align='center')\n",
    "plt.yticks(range(len(sorted_idx)), np.array(X_test.columns)[sorted_idx])\n",
    "plt.title('SHAP Importance')\n"
   ]
  },
  {
   "cell_type": "code",
   "execution_count": 58,
   "id": "618c103c",
   "metadata": {
    "tags": []
   },
   "outputs": [],
   "source": [
    "# => отбираем фичи:\n",
    "# min_weeks_diff_sp_del\n",
    "# friday_sum\n",
    "# tuesday_sum\n",
    "# weekend_delivery_sum"
   ]
  },
  {
   "cell_type": "markdown",
   "id": "d4cdd0a6",
   "metadata": {
    "tags": []
   },
   "source": [
    "## Классификатор на всех изначальных + топ коммуникационных фичей"
   ]
  },
  {
   "cell_type": "code",
   "execution_count": 59,
   "id": "63c8c67c",
   "metadata": {
    "tags": []
   },
   "outputs": [],
   "source": [
    "# собираю датасет -> все фичи на первую дату delivery + отобранные коммуникационные фичи"
   ]
  },
  {
   "cell_type": "code",
   "execution_count": 60,
   "id": "86d16364-e252-426c-ae52-47f52a11bbb9",
   "metadata": {
    "tags": []
   },
   "outputs": [],
   "source": [
    "# => отбираем фичи:\n",
    "# min_weeks_diff_sp_del\n",
    "# friday_sum\n",
    "# tuesday_sum\n",
    "# weekend_delivery_sum"
   ]
  },
  {
   "cell_type": "code",
   "execution_count": 61,
   "id": "94da5772",
   "metadata": {
    "tags": []
   },
   "outputs": [],
   "source": [
    "df_new = df1[df1.previous_delivery_date.isna()].copy()"
   ]
  },
  {
   "cell_type": "code",
   "execution_count": 62,
   "id": "250515c4",
   "metadata": {
    "tags": []
   },
   "outputs": [],
   "source": [
    "float_columns = df.select_dtypes(include=float).columns\n",
    "# 'name_of_month'\n",
    "selected_columns = ['client_id'] + list(float_columns)\n",
    "df_new = df_new[selected_columns].merge(f4).merge(f11).merge(f9[['client_id','Friday_sum','Tuesday_sum']]).merge(trg)\n",
    "# df_new"
   ]
  },
  {
   "cell_type": "code",
   "execution_count": 63,
   "id": "efc0c2d2",
   "metadata": {
    "scrolled": true,
    "tags": []
   },
   "outputs": [],
   "source": [
    "# Split your data into features and target\n",
    "X = df_new.drop(['conv_flg'], axis=1)\n",
    "y = df_new['conv_flg']\n",
    "X.fillna(0,inplace = True)"
   ]
  },
  {
   "cell_type": "code",
   "execution_count": 64,
   "id": "03f39b98",
   "metadata": {
    "tags": []
   },
   "outputs": [],
   "source": [
    "X_train_, X_test_, y_train, y_test = train_test_split(X, y, test_size=0.2, random_state = 0)"
   ]
  },
  {
   "cell_type": "code",
   "execution_count": 65,
   "id": "ae8d91e8",
   "metadata": {
    "tags": []
   },
   "outputs": [],
   "source": [
    "X_train, X_test = X_train_.drop(['client_id'], axis=1), X_test_.drop(['client_id'], axis=1)"
   ]
  },
  {
   "cell_type": "code",
   "execution_count": 66,
   "id": "5305dedb-485a-4f72-bacb-bd083a7d8bf8",
   "metadata": {
    "tags": []
   },
   "outputs": [],
   "source": [
    "cat_features = []"
   ]
  },
  {
   "cell_type": "code",
   "execution_count": 67,
   "id": "e016b9af-41ba-4aaf-9b8b-5471df3d4691",
   "metadata": {
    "tags": []
   },
   "outputs": [
    {
     "data": {
      "application/vnd.jupyter.widget-view+json": {
       "model_id": "62575fea738544d392e8867c3ca2edbd",
       "version_major": 2,
       "version_minor": 0
      },
      "text/plain": [
       "MetricVisualizer(layout=Layout(align_self='stretch', height='500px'))"
      ]
     },
     "metadata": {},
     "output_type": "display_data"
    },
    {
     "name": "stdout",
     "output_type": "stream",
     "text": [
      "Training on fold [0/5]\n",
      "\n",
      "bestTest = 0.6386281493\n",
      "bestIteration = 79\n",
      "\n",
      "Training on fold [1/5]\n",
      "\n",
      "bestTest = 0.6180754246\n",
      "bestIteration = 151\n",
      "\n",
      "Training on fold [2/5]\n",
      "\n",
      "bestTest = 0.6326281209\n",
      "bestIteration = 121\n",
      "\n",
      "Training on fold [3/5]\n",
      "\n",
      "bestTest = 0.5662319477\n",
      "bestIteration = 393\n",
      "\n",
      "Training on fold [4/5]\n",
      "\n",
      "bestTest = 0.6062262453\n",
      "bestIteration = 188\n",
      "\n"
     ]
    }
   ],
   "source": [
    "params = {\n",
    "    'loss_function': 'Logloss',\n",
    "    'iterations': 1000,\n",
    "    'custom_loss': ['AUC','Recall'],\n",
    "    'random_seed': 1,\n",
    "    'learning_rate': 0.01,\n",
    "    'use_best_model' : True,\n",
    "    'auto_class_weights' : 'Balanced',\n",
    "}\n",
    "\n",
    "cv_data, models = cv(\n",
    "    params=params,\n",
    "    pool=Pool(X_train, label=y_train, cat_features=cat_features),\n",
    "    fold_count=5,\n",
    "    shuffle=True, \n",
    "    partition_random_seed=10,\n",
    "    plot=True,\n",
    "    early_stopping_rounds = 50,\n",
    "    stratified=True, \n",
    "    verbose=False,\n",
    "    return_models=True\n",
    ")"
   ]
  },
  {
   "cell_type": "code",
   "execution_count": 68,
   "id": "87409e8e-a7f4-4efa-82df-0767c20cd057",
   "metadata": {
    "tags": []
   },
   "outputs": [],
   "source": [
    "model = to_classifier(models[3])"
   ]
  },
  {
   "cell_type": "code",
   "execution_count": 69,
   "id": "3679f79e-a868-4850-a9cf-aa4cccf2f044",
   "metadata": {
    "tags": []
   },
   "outputs": [],
   "source": [
    "eval_pool = Pool(X_test, y_test, cat_features=cat_features)\n",
    "curve = get_roc_curve(model, eval_pool)"
   ]
  },
  {
   "cell_type": "code",
   "execution_count": 70,
   "id": "2a86bd9c-9561-4cb3-ab92-75df2664a328",
   "metadata": {
    "tags": []
   },
   "outputs": [],
   "source": [
    "(thresholds, fpr) = get_fpr_curve(curve=curve)\n",
    "(thresholds, fnr) = get_fnr_curve(curve=curve)"
   ]
  },
  {
   "cell_type": "code",
   "execution_count": 71,
   "id": "aa42cf60-0a8a-4ebe-8fc1-864361d40b5f",
   "metadata": {
    "tags": []
   },
   "outputs": [
    {
     "data": {
      "image/png": "[encoded data removed]",
      "text/plain": [
       "<Figure size 1600x800 with 1 Axes>"
      ]
     },
     "metadata": {},
     "output_type": "display_data"
    }
   ],
   "source": [
    "plt.figure(figsize=(16, 8))\n",
    "lw=2\n",
    "\n",
    "plt.plot(thresholds, fpr, color='blue', lw=lw, label='FPR', alpha=0.5)\n",
    "plt.plot(thresholds, fnr, color='green', lw=lw, label='FNR', alpha=0.5)\n",
    "\n",
    "plt.xlim([0.0, 1.0])\n",
    "plt.ylim([0.0, 1.05])\n",
    "plt.xticks(fontsize=16)\n",
    "plt.yticks(fontsize=16)\n",
    "plt.grid(True)\n",
    "plt.xlabel('Thresholds', fontsize=16)\n",
    "plt.ylabel('Error rate', fontsize=16)\n",
    "plt.title('FPR-FNR curves', fontsize=16)\n",
    "plt.legend(loc='lower left', fontsize=16)\n",
    "plt.show()"
   ]
  },
  {
   "cell_type": "code",
   "execution_count": 72,
   "id": "86eaa99e-6655-4cf9-a855-15402b2467e3",
   "metadata": {
    "tags": []
   },
   "outputs": [
    {
     "name": "stdout",
     "output_type": "stream",
     "text": [
      "0.14077117573270492\n"
     ]
    }
   ],
   "source": [
    "fnr_boundary = select_threshold(model=model, data=eval_pool, FNR=0.1)\n",
    "\n",
    "print(fnr_boundary)"
   ]
  },
  {
   "cell_type": "code",
   "execution_count": 73,
   "id": "150a2313-a047-4fe8-8e78-c59238a40429",
   "metadata": {
    "tags": []
   },
   "outputs": [
    {
     "name": "stdout",
     "output_type": "stream",
     "text": [
      "Roc Auc 0.7295255459155874\n",
      "FPR 0.87\n",
      "FNR 0.09\n",
      "Accuracy 0.13\n",
      "Precision 0.01\n",
      "Recall 0.91\n"
     ]
    }
   ],
   "source": [
    "model_metrics(model, X_test, y_test,fnr_boundary)"
   ]
  },
  {
   "cell_type": "markdown",
   "id": "7e96492d-117d-4081-8ba0-6cfc4ba56e36",
   "metadata": {
    "tags": []
   },
   "source": [
    "### Отбор важнейших фичей"
   ]
  },
  {
   "cell_type": "code",
   "execution_count": 74,
   "id": "57930287-927e-4132-9a51-5d7d57455735",
   "metadata": {
    "tags": []
   },
   "outputs": [
    {
     "data": {
      "text/html": [
       "<div>\n",
       "<style scoped>\n",
       "    .dataframe tbody tr th:only-of-type {\n",
       "        vertical-align: middle;\n",
       "    }\n",
       "\n",
       "    .dataframe tbody tr th {\n",
       "        vertical-align: top;\n",
       "    }\n",
       "\n",
       "    .dataframe thead th {\n",
       "        text-align: right;\n",
       "    }\n",
       "</style>\n",
       "<table border=\"1\" class=\"dataframe\">\n",
       "  <thead>\n",
       "    <tr style=\"text-align: right;\">\n",
       "      <th></th>\n",
       "      <th>Feature Id</th>\n",
       "      <th>Importances</th>\n",
       "    </tr>\n",
       "  </thead>\n",
       "  <tbody>\n",
       "    <tr>\n",
       "      <th>0</th>\n",
       "      <td>min_weeks_diff_sp_del</td>\n",
       "      <td>35.182862</td>\n",
       "    </tr>\n",
       "    <tr>\n",
       "      <th>1</th>\n",
       "      <td>specific_picks__g_client__sp_region_msc_obl__c...</td>\n",
       "      <td>1.379996</td>\n",
       "    </tr>\n",
       "    <tr>\n",
       "      <th>2</th>\n",
       "      <td>specific_picks__g_client__sp_buy_rent__count__...</td>\n",
       "      <td>1.325030</td>\n",
       "    </tr>\n",
       "    <tr>\n",
       "      <th>3</th>\n",
       "      <td>calls__g_client__call_date__min__365D</td>\n",
       "      <td>1.079235</td>\n",
       "    </tr>\n",
       "    <tr>\n",
       "      <th>4</th>\n",
       "      <td>specific_picks__g_client__sp_acquisition_mysel...</td>\n",
       "      <td>1.069699</td>\n",
       "    </tr>\n",
       "  </tbody>\n",
       "</table>\n",
       "</div>"
      ],
      "text/plain": [
       "                                          Feature Id  Importances\n",
       "0                              min_weeks_diff_sp_del    35.182862\n",
       "1  specific_picks__g_client__sp_region_msc_obl__c...     1.379996\n",
       "2  specific_picks__g_client__sp_buy_rent__count__...     1.325030\n",
       "3              calls__g_client__call_date__min__365D     1.079235\n",
       "4  specific_picks__g_client__sp_acquisition_mysel...     1.069699"
      ]
     },
     "execution_count": 74,
     "metadata": {},
     "output_type": "execute_result"
    }
   ],
   "source": [
    "model.get_feature_importance(prettified=True)[:5]"
   ]
  },
  {
   "cell_type": "code",
   "execution_count": 75,
   "id": "5e939ff0-af2c-438c-b38e-db192a4a911a",
   "metadata": {
    "tags": []
   },
   "outputs": [],
   "source": [
    "# model.get_feature_importance(prettified=True)[:30]['Feature Id'].values"
   ]
  },
  {
   "cell_type": "code",
   "execution_count": 76,
   "id": "e05d6148-f233-493d-941f-4348ef246ad1",
   "metadata": {
    "tags": []
   },
   "outputs": [],
   "source": [
    "imp_initial_features = [feature for feature in model.get_feature_importance(prettified=True)[:24]['Feature Id'].values if feature not in (\n",
    "    'min_weeks_diff_sp_del',\n",
    "    'Friday_sum',\n",
    "    'Tuesday_sum')]\n",
    "\n",
    "imp_com_features = ['min_weeks_diff_sp_del',\n",
    "    'Friday_sum',\n",
    "    'Tuesday_sum']"
   ]
  },
  {
   "cell_type": "code",
   "execution_count": 77,
   "id": "523f7aa4",
   "metadata": {
    "tags": []
   },
   "outputs": [
    {
     "data": {
      "text/html": [
       "        <script type=\"text/javascript\">\n",
       "        window.PlotlyConfig = {MathJaxConfig: 'local'};\n",
       "        if (window.MathJax && window.MathJax.Hub && window.MathJax.Hub.Config) {window.MathJax.Hub.Config({SVG: {font: \"STIX-Web\"}});}\n",
       "        if (typeof require !== 'undefined') {\n",
       "        require.undef(\"plotly\");\n",
       "        requirejs.config({\n",
       "            paths: {\n",
       "                'plotly': ['https://cdn.plot.ly/plotly-2.12.1.min']\n",
       "            }\n",
       "        });\n",
       "        require(['plotly'], function(Plotly) {\n",
       "            window._Plotly = Plotly;\n",
       "        });\n",
       "        }\n",
       "        </script>\n",
       "        "
      ]
     },
     "metadata": {},
     "output_type": "display_data"
    },
    {
     "data": {
      "application/vnd.plotly.v1+json": {
       "config": {
        "linkText": "Export to plot.ly",
        "plotlyServerURL": "https://plot.ly",
        "showLink": false
       },
       "data": [
        {
         "mode": "lines+markers",
         "name": "Mean target",
         "type": "scatter",
         "xaxis": "x",
         "y": [
          0.0391349121928215,
          0.01673101633787155,
          0.009859154932200909,
          0.007334963418543339,
          0.00401606410741806,
          0.004411764908581972,
          0.004838709719479084,
          0.006968641187995672,
          0.0019379844889044762,
          0.0045045046135783195,
          0.0025510203558951616,
          0,
          0,
          0,
          0
         ],
         "yaxis": "y"
        },
        {
         "line": {
          "dash": "dash"
         },
         "mode": "lines+markers",
         "name": "Mean prediction on each segment of feature values",
         "type": "scatter",
         "xaxis": "x",
         "y": [
          0.342277854681015,
          0.04593714326620102,
          -0.40328797698020935,
          -0.6642003655433655,
          -0.8266661167144775,
          -0.8216291666030884,
          -0.8834349513053894,
          -0.9000138640403748,
          -0.9825651049613953,
          -0.9594575762748718,
          -1.2281543016433716,
          -1.515549898147583,
          -1.7061313390731812,
          -1.738221526145935,
          -1.730322003364563
         ],
         "yaxis": "y"
        },
        {
         "line": {
          "dash": "dot"
         },
         "mode": "lines+markers",
         "name": "Mean weighted target",
         "type": "scatter",
         "xaxis": "x",
         "y": [
          0.8154451251029968,
          0.6486220359802246,
          0.5192803144454956,
          0.4449405074119568,
          0.30431732535362244,
          0.3246566951274872,
          0.3453255295753479,
          0.43223556876182556,
          0.1739969402551651,
          0.32925498485565186,
          0.21719272434711456,
          0,
          0,
          0,
          0
         ],
         "yaxis": "y"
        },
        {
         "marker": {
          "color": "rgba(30, 150, 30, 0.4)"
         },
         "name": "Objects per bin",
         "type": "bar",
         "width": 0.8,
         "xaxis": "x",
         "y": [
          971,
          777,
          710,
          818,
          747,
          680,
          620,
          574,
          516,
          444,
          392,
          310,
          283,
          270,
          648
         ],
         "yaxis": "y2"
        },
        {
         "line": {
          "dash": "dashdot"
         },
         "mode": "lines+markers",
         "name": "Mean prediction with substituted feature",
         "type": "scatter",
         "xaxis": "x",
         "y": [
          0.4332898338399332,
          0.10025688072751782,
          -0.33906676010603426,
          -0.6197266439146535,
          -0.8221493107596183,
          -0.8691159270947899,
          -0.9195894796429572,
          -0.9806963214750761,
          -1.0336992614309577,
          -1.073101451382985,
          -1.2232146416367873,
          -1.5558553221955205,
          -1.6763517804809496,
          -1.7294183742255145,
          -1.7759793015849978
         ],
         "yaxis": "y"
        }
       ],
       "layout": {
        "annotations": [
         {
          "align": "left",
          "showarrow": false,
          "text": "Statistics for feature",
          "x": 0,
          "xref": "paper",
          "y": 1.05,
          "yref": "paper"
         }
        ],
        "autosize": true,
        "legend": {
         "bgcolor": "rgba(0, 0, 0, 0)",
         "x": 1.07,
         "y": 1
        },
        "template": {
         "data": {
          "bar": [
           {
            "error_x": {
             "color": "#2a3f5f"
            },
            "error_y": {
             "color": "#2a3f5f"
            },
            "marker": {
             "line": {
              "color": "#E5ECF6",
              "width": 0.5
             },
             "pattern": {
              "fillmode": "overlay",
              "size": 10,
              "solidity": 0.2
             }
            },
            "type": "bar"
           }
          ],
          "barpolar": [
           {
            "marker": {
             "line": {
              "color": "#E5ECF6",
              "width": 0.5
             },
             "pattern": {
              "fillmode": "overlay",
              "size": 10,
              "solidity": 0.2
             }
            },
            "type": "barpolar"
           }
          ],
          "carpet": [
           {
            "aaxis": {
             "endlinecolor": "#2a3f5f",
             "gridcolor": "white",
             "linecolor": "white",
             "minorgridcolor": "white",
             "startlinecolor": "#2a3f5f"
            },
            "baxis": {
             "endlinecolor": "#2a3f5f",
             "gridcolor": "white",
             "linecolor": "white",
             "minorgridcolor": "white",
             "startlinecolor": "#2a3f5f"
            },
            "type": "carpet"
           }
          ],
          "choropleth": [
           {
            "colorbar": {
             "outlinewidth": 0,
             "ticks": ""
            },
            "type": "choropleth"
           }
          ],
          "contour": [
           {
            "colorbar": {
             "outlinewidth": 0,
             "ticks": ""
            },
            "colorscale": [
             [
              0,
              "#0d0887"
             ],
             [
              0.1111111111111111,
              "#46039f"
             ],
             [
              0.2222222222222222,
              "#7201a8"
             ],
             [
              0.3333333333333333,
              "#9c179e"
             ],
             [
              0.4444444444444444,
              "#bd3786"
             ],
             [
              0.5555555555555556,
              "#d8576b"
             ],
             [
              0.6666666666666666,
              "#ed7953"
             ],
             [
              0.7777777777777778,
              "#fb9f3a"
             ],
             [
              0.8888888888888888,
              "#fdca26"
             ],
             [
              1,
              "#f0f921"
             ]
            ],
            "type": "contour"
           }
          ],
          "contourcarpet": [
           {
            "colorbar": {
             "outlinewidth": 0,
             "ticks": ""
            },
            "type": "contourcarpet"
           }
          ],
          "heatmap": [
           {
            "colorbar": {
             "outlinewidth": 0,
             "ticks": ""
            },
            "colorscale": [
             [
              0,
              "#0d0887"
             ],
             [
              0.1111111111111111,
              "#46039f"
             ],
             [
              0.2222222222222222,
              "#7201a8"
             ],
             [
              0.3333333333333333,
              "#9c179e"
             ],
             [
              0.4444444444444444,
              "#bd3786"
             ],
             [
              0.5555555555555556,
              "#d8576b"
             ],
             [
              0.6666666666666666,
              "#ed7953"
             ],
             [
              0.7777777777777778,
              "#fb9f3a"
             ],
             [
              0.8888888888888888,
              "#fdca26"
             ],
             [
              1,
              "#f0f921"
             ]
            ],
            "type": "heatmap"
           }
          ],
          "heatmapgl": [
           {
            "colorbar": {
             "outlinewidth": 0,
             "ticks": ""
            },
            "colorscale": [
             [
              0,
              "#0d0887"
             ],
             [
              0.1111111111111111,
              "#46039f"
             ],
             [
              0.2222222222222222,
              "#7201a8"
             ],
             [
              0.3333333333333333,
              "#9c179e"
             ],
             [
              0.4444444444444444,
              "#bd3786"
             ],
             [
              0.5555555555555556,
              "#d8576b"
             ],
             [
              0.6666666666666666,
              "#ed7953"
             ],
             [
              0.7777777777777778,
              "#fb9f3a"
             ],
             [
              0.8888888888888888,
              "#fdca26"
             ],
             [
              1,
              "#f0f921"
             ]
            ],
            "type": "heatmapgl"
           }
          ],
          "histogram": [
           {
            "marker": {
             "pattern": {
              "fillmode": "overlay",
              "size": 10,
              "solidity": 0.2
             }
            },
            "type": "histogram"
           }
          ],
          "histogram2d": [
           {
            "colorbar": {
             "outlinewidth": 0,
             "ticks": ""
            },
            "colorscale": [
             [
              0,
              "#0d0887"
             ],
             [
              0.1111111111111111,
              "#46039f"
             ],
             [
              0.2222222222222222,
              "#7201a8"
             ],
             [
              0.3333333333333333,
              "#9c179e"
             ],
             [
              0.4444444444444444,
              "#bd3786"
             ],
             [
              0.5555555555555556,
              "#d8576b"
             ],
             [
              0.6666666666666666,
              "#ed7953"
             ],
             [
              0.7777777777777778,
              "#fb9f3a"
             ],
             [
              0.8888888888888888,
              "#fdca26"
             ],
             [
              1,
              "#f0f921"
             ]
            ],
            "type": "histogram2d"
           }
          ],
          "histogram2dcontour": [
           {
            "colorbar": {
             "outlinewidth": 0,
             "ticks": ""
            },
            "colorscale": [
             [
              0,
              "#0d0887"
             ],
             [
              0.1111111111111111,
              "#46039f"
             ],
             [
              0.2222222222222222,
              "#7201a8"
             ],
             [
              0.3333333333333333,
              "#9c179e"
             ],
             [
              0.4444444444444444,
              "#bd3786"
             ],
             [
              0.5555555555555556,
              "#d8576b"
             ],
             [
              0.6666666666666666,
              "#ed7953"
             ],
             [
              0.7777777777777778,
              "#fb9f3a"
             ],
             [
              0.8888888888888888,
              "#fdca26"
             ],
             [
              1,
              "#f0f921"
             ]
            ],
            "type": "histogram2dcontour"
           }
          ],
          "mesh3d": [
           {
            "colorbar": {
             "outlinewidth": 0,
             "ticks": ""
            },
            "type": "mesh3d"
           }
          ],
          "parcoords": [
           {
            "line": {
             "colorbar": {
              "outlinewidth": 0,
              "ticks": ""
             }
            },
            "type": "parcoords"
           }
          ],
          "pie": [
           {
            "automargin": true,
            "type": "pie"
           }
          ],
          "scatter": [
           {
            "fillpattern": {
             "fillmode": "overlay",
             "size": 10,
             "solidity": 0.2
            },
            "type": "scatter"
           }
          ],
          "scatter3d": [
           {
            "line": {
             "colorbar": {
              "outlinewidth": 0,
              "ticks": ""
             }
            },
            "marker": {
             "colorbar": {
              "outlinewidth": 0,
              "ticks": ""
             }
            },
            "type": "scatter3d"
           }
          ],
          "scattercarpet": [
           {
            "marker": {
             "colorbar": {
              "outlinewidth": 0,
              "ticks": ""
             }
            },
            "type": "scattercarpet"
           }
          ],
          "scattergeo": [
           {
            "marker": {
             "colorbar": {
              "outlinewidth": 0,
              "ticks": ""
             }
            },
            "type": "scattergeo"
           }
          ],
          "scattergl": [
           {
            "marker": {
             "colorbar": {
              "outlinewidth": 0,
              "ticks": ""
             }
            },
            "type": "scattergl"
           }
          ],
          "scattermapbox": [
           {
            "marker": {
             "colorbar": {
              "outlinewidth": 0,
              "ticks": ""
             }
            },
            "type": "scattermapbox"
           }
          ],
          "scatterpolar": [
           {
            "marker": {
             "colorbar": {
              "outlinewidth": 0,
              "ticks": ""
             }
            },
            "type": "scatterpolar"
           }
          ],
          "scatterpolargl": [
           {
            "marker": {
             "colorbar": {
              "outlinewidth": 0,
              "ticks": ""
             }
            },
            "type": "scatterpolargl"
           }
          ],
          "scatterternary": [
           {
            "marker": {
             "colorbar": {
              "outlinewidth": 0,
              "ticks": ""
             }
            },
            "type": "scatterternary"
           }
          ],
          "surface": [
           {
            "colorbar": {
             "outlinewidth": 0,
             "ticks": ""
            },
            "colorscale": [
             [
              0,
              "#0d0887"
             ],
             [
              0.1111111111111111,
              "#46039f"
             ],
             [
              0.2222222222222222,
              "#7201a8"
             ],
             [
              0.3333333333333333,
              "#9c179e"
             ],
             [
              0.4444444444444444,
              "#bd3786"
             ],
             [
              0.5555555555555556,
              "#d8576b"
             ],
             [
              0.6666666666666666,
              "#ed7953"
             ],
             [
              0.7777777777777778,
              "#fb9f3a"
             ],
             [
              0.8888888888888888,
              "#fdca26"
             ],
             [
              1,
              "#f0f921"
             ]
            ],
            "type": "surface"
           }
          ],
          "table": [
           {
            "cells": {
             "fill": {
              "color": "#EBF0F8"
             },
             "line": {
              "color": "white"
             }
            },
            "header": {
             "fill": {
              "color": "#C8D4E3"
             },
             "line": {
              "color": "white"
             }
            },
            "type": "table"
           }
          ]
         },
         "layout": {
          "annotationdefaults": {
           "arrowcolor": "#2a3f5f",
           "arrowhead": 0,
           "arrowwidth": 1
          },
          "autotypenumbers": "strict",
          "coloraxis": {
           "colorbar": {
            "outlinewidth": 0,
            "ticks": ""
           }
          },
          "colorscale": {
           "diverging": [
            [
             0,
             "#8e0152"
            ],
            [
             0.1,
             "#c51b7d"
            ],
            [
             0.2,
             "#de77ae"
            ],
            [
             0.3,
             "#f1b6da"
            ],
            [
             0.4,
             "#fde0ef"
            ],
            [
             0.5,
             "#f7f7f7"
            ],
            [
             0.6,
             "#e6f5d0"
            ],
            [
             0.7,
             "#b8e186"
            ],
            [
             0.8,
             "#7fbc41"
            ],
            [
             0.9,
             "#4d9221"
            ],
            [
             1,
             "#276419"
            ]
           ],
           "sequential": [
            [
             0,
             "#0d0887"
            ],
            [
             0.1111111111111111,
             "#46039f"
            ],
            [
             0.2222222222222222,
             "#7201a8"
            ],
            [
             0.3333333333333333,
             "#9c179e"
            ],
            [
             0.4444444444444444,
             "#bd3786"
            ],
            [
             0.5555555555555556,
             "#d8576b"
            ],
            [
             0.6666666666666666,
             "#ed7953"
            ],
            [
             0.7777777777777778,
             "#fb9f3a"
            ],
            [
             0.8888888888888888,
             "#fdca26"
            ],
            [
             1,
             "#f0f921"
            ]
           ],
           "sequentialminus": [
            [
             0,
             "#0d0887"
            ],
            [
             0.1111111111111111,
             "#46039f"
            ],
            [
             0.2222222222222222,
             "#7201a8"
            ],
            [
             0.3333333333333333,
             "#9c179e"
            ],
            [
             0.4444444444444444,
             "#bd3786"
            ],
            [
             0.5555555555555556,
             "#d8576b"
            ],
            [
             0.6666666666666666,
             "#ed7953"
            ],
            [
             0.7777777777777778,
             "#fb9f3a"
            ],
            [
             0.8888888888888888,
             "#fdca26"
            ],
            [
             1,
             "#f0f921"
            ]
           ]
          },
          "colorway": [
           "#636efa",
           "#EF553B",
           "#00cc96",
           "#ab63fa",
           "#FFA15A",
           "#19d3f3",
           "#FF6692",
           "#B6E880",
           "#FF97FF",
           "#FECB52"
          ],
          "font": {
           "color": "#2a3f5f"
          },
          "geo": {
           "bgcolor": "white",
           "lakecolor": "white",
           "landcolor": "#E5ECF6",
           "showlakes": true,
           "showland": true,
           "subunitcolor": "white"
          },
          "hoverlabel": {
           "align": "left"
          },
          "hovermode": "closest",
          "mapbox": {
           "style": "light"
          },
          "paper_bgcolor": "white",
          "plot_bgcolor": "#E5ECF6",
          "polar": {
           "angularaxis": {
            "gridcolor": "white",
            "linecolor": "white",
            "ticks": ""
           },
           "bgcolor": "#E5ECF6",
           "radialaxis": {
            "gridcolor": "white",
            "linecolor": "white",
            "ticks": ""
           }
          },
          "scene": {
           "xaxis": {
            "backgroundcolor": "#E5ECF6",
            "gridcolor": "white",
            "gridwidth": 2,
            "linecolor": "white",
            "showbackground": true,
            "ticks": "",
            "zerolinecolor": "white"
           },
           "yaxis": {
            "backgroundcolor": "#E5ECF6",
            "gridcolor": "white",
            "gridwidth": 2,
            "linecolor": "white",
            "showbackground": true,
            "ticks": "",
            "zerolinecolor": "white"
           },
           "zaxis": {
            "backgroundcolor": "#E5ECF6",
            "gridcolor": "white",
            "gridwidth": 2,
            "linecolor": "white",
            "showbackground": true,
            "ticks": "",
            "zerolinecolor": "white"
           }
          },
          "shapedefaults": {
           "line": {
            "color": "#2a3f5f"
           }
          },
          "ternary": {
           "aaxis": {
            "gridcolor": "white",
            "linecolor": "white",
            "ticks": ""
           },
           "baxis": {
            "gridcolor": "white",
            "linecolor": "white",
            "ticks": ""
           },
           "bgcolor": "#E5ECF6",
           "caxis": {
            "gridcolor": "white",
            "linecolor": "white",
            "ticks": ""
           }
          },
          "title": {
           "x": 0.05
          },
          "xaxis": {
           "automargin": true,
           "gridcolor": "white",
           "linecolor": "white",
           "ticks": "",
           "title": {
            "standoff": 15
           },
           "zerolinecolor": "white",
           "zerolinewidth": 2
          },
          "yaxis": {
           "automargin": true,
           "gridcolor": "white",
           "linecolor": "white",
           "ticks": "",
           "title": {
            "standoff": 15
           },
           "zerolinecolor": "white",
           "zerolinewidth": 2
          }
         }
        },
        "updatemenus": [
         {
          "buttons": [
           {
            "args": [
             {
              "y": [
               [
                0.0391349121928215,
                0.01673101633787155,
                0.009859154932200909,
                0.007334963418543339,
                0.00401606410741806,
                0.004411764908581972,
                0.004838709719479084,
                0.006968641187995672,
                0.0019379844889044762,
                0.0045045046135783195,
                0.0025510203558951616,
                0,
                0,
                0,
                0
               ],
               [
                0.342277854681015,
                0.04593714326620102,
                -0.40328797698020935,
                -0.6642003655433655,
                -0.8266661167144775,
                -0.8216291666030884,
                -0.8834349513053894,
                -0.9000138640403748,
                -0.9825651049613953,
                -0.9594575762748718,
                -1.2281543016433716,
                -1.515549898147583,
                -1.7061313390731812,
                -1.738221526145935,
                -1.730322003364563
               ],
               [
                0.8154451251029968,
                0.6486220359802246,
                0.5192803144454956,
                0.4449405074119568,
                0.30431732535362244,
                0.3246566951274872,
                0.3453255295753479,
                0.43223556876182556,
                0.1739969402551651,
                0.32925498485565186,
                0.21719272434711456,
                0,
                0,
                0,
                0
               ],
               [
                971,
                777,
                710,
                818,
                747,
                680,
                620,
                574,
                516,
                444,
                392,
                310,
                283,
                270,
                648
               ],
               [
                0.4332898338399332,
                0.10025688072751782,
                -0.33906676010603426,
                -0.6197266439146535,
                -0.8221493107596183,
                -0.8691159270947899,
                -0.9195894796429572,
                -0.9806963214750761,
                -1.0336992614309577,
                -1.073101451382985,
                -1.2232146416367873,
                -1.5558553221955205,
                -1.6763517804809496,
                -1.7294183742255145,
                -1.7759793015849978
               ]
              ]
             },
             {
              "xaxis": {
               "showticklabels": false,
               "tickmode": "array",
               "ticktext": [
                "(-inf, 0.5000]",
                "(0.5000, 1.5000]",
                "(1.5000, 2.5000]",
                "(2.5000, 3.5000]",
                "(3.5000, 4.5000]",
                "(4.5000, 5.5000]",
                "(5.5000, 6.5000]",
                "(6.5000, 7.5000]",
                "(7.5000, 8.5000]",
                "(8.5000, 9.5000]",
                "(9.5000, 10.5000]",
                "(10.5000, 11.5000]",
                "(11.5000, 12.5000]",
                "(12.5000, 13.5000]",
                "(13.5000, +inf)"
               ],
               "tickvals": [
                0,
                1,
                2,
                3,
                4,
                5,
                6,
                7,
                8,
                9,
                10,
                11,
                12,
                13,
                14
               ],
               "title": {
                "text": "Bins"
               }
              }
             }
            ],
            "label": "min_weeks_diff_sp_del",
            "method": "update"
           },
           {
            "args": [
             {
              "y": [
               [
                0.010366477072238922,
                0.005268703680485487,
                0
               ],
               [
                -0.7215803265571594,
                -0.900413990020752,
                -0.6710577607154846
               ],
               [
                0.5319187045097351,
                0.3649178445339203,
                0
               ],
               [
                6849,
                1898,
                13
               ],
               [
                -0.7345349487211292,
                -0.8515542894116411,
                -0.8763790422002448
               ]
              ]
             },
             {
              "xaxis": {
               "showticklabels": false,
               "tickmode": "array",
               "ticktext": [
                "(-inf, 0.5000]",
                "(0.5000, 1.5000]",
                "(1.5000, +inf)"
               ],
               "tickvals": [
                0,
                1,
                2
               ],
               "title": {
                "text": "Bins"
               }
              }
             }
            ],
            "label": "Friday_sum",
            "method": "update"
           },
           {
            "args": [
             {
              "y": [
               [
                0.008947006426751614,
                0.010094212368130684,
                0.1111111119389534
               ],
               [
                -0.7421817779541016,
                -0.8516695499420166,
                -0.2541061043739319
               ],
               [
                0.4947894811630249,
                0.5252182483673096,
                0.9313212633132935
               ],
               [
                7265,
                1486,
                9
               ],
               [
                -0.7619996132905404,
                -0.7519313555006485,
                -0.7039403781240968
               ]
              ]
             },
             {
              "xaxis": {
               "showticklabels": false,
               "tickmode": "array",
               "ticktext": [
                "(-inf, 0.5000]",
                "(0.5000, 1.5000]",
                "(1.5000, +inf)"
               ],
               "tickvals": [
                0,
                1,
                2
               ],
               "title": {
                "text": "Bins"
               }
              }
             }
            ],
            "label": "Tuesday_sum",
            "method": "update"
           }
          ],
          "direction": "down",
          "pad": {
           "r": 10,
           "t": 10
          },
          "showactive": true,
          "x": 0.25,
          "xanchor": "left",
          "y": 1.09,
          "yanchor": "top"
         }
        ],
        "xaxis": {
         "autorange": true,
         "range": [
          -0.8603794958935146,
          14.860379495893515
         ],
         "showticklabels": false,
         "tickmode": "array",
         "ticktext": [
          "(-inf, 0.5000]",
          "(0.5000, 1.5000]",
          "(1.5000, 2.5000]",
          "(2.5000, 3.5000]",
          "(3.5000, 4.5000]",
          "(4.5000, 5.5000]",
          "(5.5000, 6.5000]",
          "(6.5000, 7.5000]",
          "(7.5000, 8.5000]",
          "(8.5000, 9.5000]",
          "(9.5000, 10.5000]",
          "(10.5000, 11.5000]",
          "(11.5000, 12.5000]",
          "(12.5000, 13.5000]",
          "(13.5000, +inf)"
         ],
         "tickvals": [
          0,
          1,
          2,
          3,
          4,
          5,
          6,
          7,
          8,
          9,
          10,
          11,
          12,
          13,
          14
         ],
         "title": {
          "text": "Bins"
         }
        },
        "yaxis": {
         "autorange": true,
         "overlaying": "y2",
         "range": [
          -1.9898347154378906,
          1.0293005389558896
         ],
         "side": "left",
         "title": {
          "text": "Prediction and target"
         },
         "type": "linear"
        },
        "yaxis2": {
         "autorange": true,
         "position": 1,
         "range": [
          0,
          1022.1052631578947
         ],
         "side": "right",
         "title": {
          "text": "Objects per bin"
         },
         "type": "linear"
        }
       }
      },
      "image/png": "[encoded data removed]",
      "text/html": [
       "<div>                            <div id=\"9eae8e00-e755-4744-a95a-191452de9903\" class=\"plotly-graph-div\" style=\"height:525px; width:100%;\"></div>            <script type=\"text/javascript\">                require([\"plotly\"], function(Plotly) {                    window.PLOTLYENV=window.PLOTLYENV || {};                                    if (document.getElementById(\"9eae8e00-e755-4744-a95a-191452de9903\")) {                    Plotly.newPlot(                        \"9eae8e00-e755-4744-a95a-191452de9903\",                        [{\"mode\":\"lines+markers\",\"name\":\"Mean target\",\"xaxis\":\"x\",\"y\":[0.0391349121928215,0.01673101633787155,0.009859154932200909,0.007334963418543339,0.00401606410741806,0.004411764908581972,0.004838709719479084,0.006968641187995672,0.0019379844889044762,0.0045045046135783195,0.0025510203558951616,0.0,0.0,0.0,0.0],\"yaxis\":\"y\",\"type\":\"scatter\"},{\"line\":{\"dash\":\"dash\"},\"mode\":\"lines+markers\",\"name\":\"Mean prediction on each segment of feature values\",\"xaxis\":\"x\",\"y\":[0.342277854681015,0.04593714326620102,-0.40328797698020935,-0.6642003655433655,-0.8266661167144775,-0.8216291666030884,-0.8834349513053894,-0.9000138640403748,-0.9825651049613953,-0.9594575762748718,-1.2281543016433716,-1.515549898147583,-1.7061313390731812,-1.738221526145935,-1.730322003364563],\"yaxis\":\"y\",\"type\":\"scatter\"},{\"line\":{\"dash\":\"dot\"},\"mode\":\"lines+markers\",\"name\":\"Mean weighted target\",\"xaxis\":\"x\",\"y\":[0.8154451251029968,0.6486220359802246,0.5192803144454956,0.4449405074119568,0.30431732535362244,0.3246566951274872,0.3453255295753479,0.43223556876182556,0.1739969402551651,0.32925498485565186,0.21719272434711456,0.0,0.0,0.0,0.0],\"yaxis\":\"y\",\"type\":\"scatter\"},{\"marker\":{\"color\":\"rgba(30, 150, 30, 0.4)\"},\"name\":\"Objects per bin\",\"width\":0.8,\"xaxis\":\"x\",\"y\":[971,777,710,818,747,680,620,574,516,444,392,310,283,270,648],\"yaxis\":\"y2\",\"type\":\"bar\"},{\"line\":{\"dash\":\"dashdot\"},\"mode\":\"lines+markers\",\"name\":\"Mean prediction with substituted feature\",\"xaxis\":\"x\",\"y\":[0.4332898338399332,0.10025688072751782,-0.33906676010603426,-0.6197266439146535,-0.8221493107596183,-0.8691159270947899,-0.9195894796429572,-0.9806963214750761,-1.0336992614309577,-1.073101451382985,-1.2232146416367873,-1.5558553221955205,-1.6763517804809496,-1.7294183742255145,-1.7759793015849978],\"yaxis\":\"y\",\"type\":\"scatter\"}],                        {\"annotations\":[{\"align\":\"left\",\"showarrow\":false,\"text\":\"Statistics for feature\",\"x\":0,\"xref\":\"paper\",\"y\":1.05,\"yref\":\"paper\"}],\"legend\":{\"bgcolor\":\"rgba(0,0,0,0)\",\"x\":1.07},\"template\":{\"data\":{\"barpolar\":[{\"marker\":{\"line\":{\"color\":\"#E5ECF6\",\"width\":0.5},\"pattern\":{\"fillmode\":\"overlay\",\"size\":10,\"solidity\":0.2}},\"type\":\"barpolar\"}],\"bar\":[{\"error_x\":{\"color\":\"#2a3f5f\"},\"error_y\":{\"color\":\"#2a3f5f\"},\"marker\":{\"line\":{\"color\":\"#E5ECF6\",\"width\":0.5},\"pattern\":{\"fillmode\":\"overlay\",\"size\":10,\"solidity\":0.2}},\"type\":\"bar\"}],\"carpet\":[{\"aaxis\":{\"endlinecolor\":\"#2a3f5f\",\"gridcolor\":\"white\",\"linecolor\":\"white\",\"minorgridcolor\":\"white\",\"startlinecolor\":\"#2a3f5f\"},\"baxis\":{\"endlinecolor\":\"#2a3f5f\",\"gridcolor\":\"white\",\"linecolor\":\"white\",\"minorgridcolor\":\"white\",\"startlinecolor\":\"#2a3f5f\"},\"type\":\"carpet\"}],\"choropleth\":[{\"colorbar\":{\"outlinewidth\":0,\"ticks\":\"\"},\"type\":\"choropleth\"}],\"contourcarpet\":[{\"colorbar\":{\"outlinewidth\":0,\"ticks\":\"\"},\"type\":\"contourcarpet\"}],\"contour\":[{\"colorbar\":{\"outlinewidth\":0,\"ticks\":\"\"},\"colorscale\":[[0.0,\"#0d0887\"],[0.1111111111111111,\"#46039f\"],[0.2222222222222222,\"#7201a8\"],[0.3333333333333333,\"#9c179e\"],[0.4444444444444444,\"#bd3786\"],[0.5555555555555556,\"#d8576b\"],[0.6666666666666666,\"#ed7953\"],[0.7777777777777778,\"#fb9f3a\"],[0.8888888888888888,\"#fdca26\"],[1.0,\"#f0f921\"]],\"type\":\"contour\"}],\"heatmapgl\":[{\"colorbar\":{\"outlinewidth\":0,\"ticks\":\"\"},\"colorscale\":[[0.0,\"#0d0887\"],[0.1111111111111111,\"#46039f\"],[0.2222222222222222,\"#7201a8\"],[0.3333333333333333,\"#9c179e\"],[0.4444444444444444,\"#bd3786\"],[0.5555555555555556,\"#d8576b\"],[0.6666666666666666,\"#ed7953\"],[0.7777777777777778,\"#fb9f3a\"],[0.8888888888888888,\"#fdca26\"],[1.0,\"#f0f921\"]],\"type\":\"heatmapgl\"}],\"heatmap\":[{\"colorbar\":{\"outlinewidth\":0,\"ticks\":\"\"},\"colorscale\":[[0.0,\"#0d0887\"],[0.1111111111111111,\"#46039f\"],[0.2222222222222222,\"#7201a8\"],[0.3333333333333333,\"#9c179e\"],[0.4444444444444444,\"#bd3786\"],[0.5555555555555556,\"#d8576b\"],[0.6666666666666666,\"#ed7953\"],[0.7777777777777778,\"#fb9f3a\"],[0.8888888888888888,\"#fdca26\"],[1.0,\"#f0f921\"]],\"type\":\"heatmap\"}],\"histogram2dcontour\":[{\"colorbar\":{\"outlinewidth\":0,\"ticks\":\"\"},\"colorscale\":[[0.0,\"#0d0887\"],[0.1111111111111111,\"#46039f\"],[0.2222222222222222,\"#7201a8\"],[0.3333333333333333,\"#9c179e\"],[0.4444444444444444,\"#bd3786\"],[0.5555555555555556,\"#d8576b\"],[0.6666666666666666,\"#ed7953\"],[0.7777777777777778,\"#fb9f3a\"],[0.8888888888888888,\"#fdca26\"],[1.0,\"#f0f921\"]],\"type\":\"histogram2dcontour\"}],\"histogram2d\":[{\"colorbar\":{\"outlinewidth\":0,\"ticks\":\"\"},\"colorscale\":[[0.0,\"#0d0887\"],[0.1111111111111111,\"#46039f\"],[0.2222222222222222,\"#7201a8\"],[0.3333333333333333,\"#9c179e\"],[0.4444444444444444,\"#bd3786\"],[0.5555555555555556,\"#d8576b\"],[0.6666666666666666,\"#ed7953\"],[0.7777777777777778,\"#fb9f3a\"],[0.8888888888888888,\"#fdca26\"],[1.0,\"#f0f921\"]],\"type\":\"histogram2d\"}],\"histogram\":[{\"marker\":{\"pattern\":{\"fillmode\":\"overlay\",\"size\":10,\"solidity\":0.2}},\"type\":\"histogram\"}],\"mesh3d\":[{\"colorbar\":{\"outlinewidth\":0,\"ticks\":\"\"},\"type\":\"mesh3d\"}],\"parcoords\":[{\"line\":{\"colorbar\":{\"outlinewidth\":0,\"ticks\":\"\"}},\"type\":\"parcoords\"}],\"pie\":[{\"automargin\":true,\"type\":\"pie\"}],\"scatter3d\":[{\"line\":{\"colorbar\":{\"outlinewidth\":0,\"ticks\":\"\"}},\"marker\":{\"colorbar\":{\"outlinewidth\":0,\"ticks\":\"\"}},\"type\":\"scatter3d\"}],\"scattercarpet\":[{\"marker\":{\"colorbar\":{\"outlinewidth\":0,\"ticks\":\"\"}},\"type\":\"scattercarpet\"}],\"scattergeo\":[{\"marker\":{\"colorbar\":{\"outlinewidth\":0,\"ticks\":\"\"}},\"type\":\"scattergeo\"}],\"scattergl\":[{\"marker\":{\"colorbar\":{\"outlinewidth\":0,\"ticks\":\"\"}},\"type\":\"scattergl\"}],\"scattermapbox\":[{\"marker\":{\"colorbar\":{\"outlinewidth\":0,\"ticks\":\"\"}},\"type\":\"scattermapbox\"}],\"scatterpolargl\":[{\"marker\":{\"colorbar\":{\"outlinewidth\":0,\"ticks\":\"\"}},\"type\":\"scatterpolargl\"}],\"scatterpolar\":[{\"marker\":{\"colorbar\":{\"outlinewidth\":0,\"ticks\":\"\"}},\"type\":\"scatterpolar\"}],\"scatter\":[{\"fillpattern\":{\"fillmode\":\"overlay\",\"size\":10,\"solidity\":0.2},\"type\":\"scatter\"}],\"scatterternary\":[{\"marker\":{\"colorbar\":{\"outlinewidth\":0,\"ticks\":\"\"}},\"type\":\"scatterternary\"}],\"surface\":[{\"colorbar\":{\"outlinewidth\":0,\"ticks\":\"\"},\"colorscale\":[[0.0,\"#0d0887\"],[0.1111111111111111,\"#46039f\"],[0.2222222222222222,\"#7201a8\"],[0.3333333333333333,\"#9c179e\"],[0.4444444444444444,\"#bd3786\"],[0.5555555555555556,\"#d8576b\"],[0.6666666666666666,\"#ed7953\"],[0.7777777777777778,\"#fb9f3a\"],[0.8888888888888888,\"#fdca26\"],[1.0,\"#f0f921\"]],\"type\":\"surface\"}],\"table\":[{\"cells\":{\"fill\":{\"color\":\"#EBF0F8\"},\"line\":{\"color\":\"white\"}},\"header\":{\"fill\":{\"color\":\"#C8D4E3\"},\"line\":{\"color\":\"white\"}},\"type\":\"table\"}]},\"layout\":{\"annotationdefaults\":{\"arrowcolor\":\"#2a3f5f\",\"arrowhead\":0,\"arrowwidth\":1},\"autotypenumbers\":\"strict\",\"coloraxis\":{\"colorbar\":{\"outlinewidth\":0,\"ticks\":\"\"}},\"colorscale\":{\"diverging\":[[0,\"#8e0152\"],[0.1,\"#c51b7d\"],[0.2,\"#de77ae\"],[0.3,\"#f1b6da\"],[0.4,\"#fde0ef\"],[0.5,\"#f7f7f7\"],[0.6,\"#e6f5d0\"],[0.7,\"#b8e186\"],[0.8,\"#7fbc41\"],[0.9,\"#4d9221\"],[1,\"#276419\"]],\"sequential\":[[0.0,\"#0d0887\"],[0.1111111111111111,\"#46039f\"],[0.2222222222222222,\"#7201a8\"],[0.3333333333333333,\"#9c179e\"],[0.4444444444444444,\"#bd3786\"],[0.5555555555555556,\"#d8576b\"],[0.6666666666666666,\"#ed7953\"],[0.7777777777777778,\"#fb9f3a\"],[0.8888888888888888,\"#fdca26\"],[1.0,\"#f0f921\"]],\"sequentialminus\":[[0.0,\"#0d0887\"],[0.1111111111111111,\"#46039f\"],[0.2222222222222222,\"#7201a8\"],[0.3333333333333333,\"#9c179e\"],[0.4444444444444444,\"#bd3786\"],[0.5555555555555556,\"#d8576b\"],[0.6666666666666666,\"#ed7953\"],[0.7777777777777778,\"#fb9f3a\"],[0.8888888888888888,\"#fdca26\"],[1.0,\"#f0f921\"]]},\"colorway\":[\"#636efa\",\"#EF553B\",\"#00cc96\",\"#ab63fa\",\"#FFA15A\",\"#19d3f3\",\"#FF6692\",\"#B6E880\",\"#FF97FF\",\"#FECB52\"],\"font\":{\"color\":\"#2a3f5f\"},\"geo\":{\"bgcolor\":\"white\",\"lakecolor\":\"white\",\"landcolor\":\"#E5ECF6\",\"showlakes\":true,\"showland\":true,\"subunitcolor\":\"white\"},\"hoverlabel\":{\"align\":\"left\"},\"hovermode\":\"closest\",\"mapbox\":{\"style\":\"light\"},\"paper_bgcolor\":\"white\",\"plot_bgcolor\":\"#E5ECF6\",\"polar\":{\"angularaxis\":{\"gridcolor\":\"white\",\"linecolor\":\"white\",\"ticks\":\"\"},\"bgcolor\":\"#E5ECF6\",\"radialaxis\":{\"gridcolor\":\"white\",\"linecolor\":\"white\",\"ticks\":\"\"}},\"scene\":{\"xaxis\":{\"backgroundcolor\":\"#E5ECF6\",\"gridcolor\":\"white\",\"gridwidth\":2,\"linecolor\":\"white\",\"showbackground\":true,\"ticks\":\"\",\"zerolinecolor\":\"white\"},\"yaxis\":{\"backgroundcolor\":\"#E5ECF6\",\"gridcolor\":\"white\",\"gridwidth\":2,\"linecolor\":\"white\",\"showbackground\":true,\"ticks\":\"\",\"zerolinecolor\":\"white\"},\"zaxis\":{\"backgroundcolor\":\"#E5ECF6\",\"gridcolor\":\"white\",\"gridwidth\":2,\"linecolor\":\"white\",\"showbackground\":true,\"ticks\":\"\",\"zerolinecolor\":\"white\"}},\"shapedefaults\":{\"line\":{\"color\":\"#2a3f5f\"}},\"ternary\":{\"aaxis\":{\"gridcolor\":\"white\",\"linecolor\":\"white\",\"ticks\":\"\"},\"baxis\":{\"gridcolor\":\"white\",\"linecolor\":\"white\",\"ticks\":\"\"},\"bgcolor\":\"#E5ECF6\",\"caxis\":{\"gridcolor\":\"white\",\"linecolor\":\"white\",\"ticks\":\"\"}},\"title\":{\"x\":0.05},\"xaxis\":{\"automargin\":true,\"gridcolor\":\"white\",\"linecolor\":\"white\",\"ticks\":\"\",\"title\":{\"standoff\":15},\"zerolinecolor\":\"white\",\"zerolinewidth\":2},\"yaxis\":{\"automargin\":true,\"gridcolor\":\"white\",\"linecolor\":\"white\",\"ticks\":\"\",\"title\":{\"standoff\":15},\"zerolinecolor\":\"white\",\"zerolinewidth\":2}}},\"updatemenus\":[{\"buttons\":[{\"args\":[{\"y\":[[0.0391349121928215,0.01673101633787155,0.009859154932200909,0.007334963418543339,0.00401606410741806,0.004411764908581972,0.004838709719479084,0.006968641187995672,0.0019379844889044762,0.0045045046135783195,0.0025510203558951616,0.0,0.0,0.0,0.0],[0.342277854681015,0.04593714326620102,-0.40328797698020935,-0.6642003655433655,-0.8266661167144775,-0.8216291666030884,-0.8834349513053894,-0.9000138640403748,-0.9825651049613953,-0.9594575762748718,-1.2281543016433716,-1.515549898147583,-1.7061313390731812,-1.738221526145935,-1.730322003364563],[0.8154451251029968,0.6486220359802246,0.5192803144454956,0.4449405074119568,0.30431732535362244,0.3246566951274872,0.3453255295753479,0.43223556876182556,0.1739969402551651,0.32925498485565186,0.21719272434711456,0.0,0.0,0.0,0.0],[971,777,710,818,747,680,620,574,516,444,392,310,283,270,648],[0.4332898338399332,0.10025688072751782,-0.33906676010603426,-0.6197266439146535,-0.8221493107596183,-0.8691159270947899,-0.9195894796429572,-0.9806963214750761,-1.0336992614309577,-1.073101451382985,-1.2232146416367873,-1.5558553221955205,-1.6763517804809496,-1.7294183742255145,-1.7759793015849978]]},{\"xaxis\":{\"showticklabels\":false,\"tickmode\":\"array\",\"ticktext\":[\"(-inf, 0.5000]\",\"(0.5000, 1.5000]\",\"(1.5000, 2.5000]\",\"(2.5000, 3.5000]\",\"(3.5000, 4.5000]\",\"(4.5000, 5.5000]\",\"(5.5000, 6.5000]\",\"(6.5000, 7.5000]\",\"(7.5000, 8.5000]\",\"(8.5000, 9.5000]\",\"(9.5000, 10.5000]\",\"(10.5000, 11.5000]\",\"(11.5000, 12.5000]\",\"(12.5000, 13.5000]\",\"(13.5000, +inf)\"],\"tickvals\":[0,1,2,3,4,5,6,7,8,9,10,11,12,13,14],\"title\":{\"text\":\"Bins\"}}}],\"label\":\"min_weeks_diff_sp_del\",\"method\":\"update\"},{\"args\":[{\"y\":[[0.010366477072238922,0.005268703680485487,0.0],[-0.7215803265571594,-0.900413990020752,-0.6710577607154846],[0.5319187045097351,0.3649178445339203,0.0],[6849,1898,13],[-0.7345349487211292,-0.8515542894116411,-0.8763790422002448]]},{\"xaxis\":{\"showticklabels\":false,\"tickmode\":\"array\",\"ticktext\":[\"(-inf, 0.5000]\",\"(0.5000, 1.5000]\",\"(1.5000, +inf)\"],\"tickvals\":[0,1,2],\"title\":{\"text\":\"Bins\"}}}],\"label\":\"Friday_sum\",\"method\":\"update\"},{\"args\":[{\"y\":[[0.008947006426751614,0.010094212368130684,0.1111111119389534],[-0.7421817779541016,-0.8516695499420166,-0.2541061043739319],[0.4947894811630249,0.5252182483673096,0.9313212633132935],[7265,1486,9],[-0.7619996132905404,-0.7519313555006485,-0.7039403781240968]]},{\"xaxis\":{\"showticklabels\":false,\"tickmode\":\"array\",\"ticktext\":[\"(-inf, 0.5000]\",\"(0.5000, 1.5000]\",\"(1.5000, +inf)\"],\"tickvals\":[0,1,2],\"title\":{\"text\":\"Bins\"}}}],\"label\":\"Tuesday_sum\",\"method\":\"update\"}],\"direction\":\"down\",\"pad\":{\"r\":10,\"t\":10},\"showactive\":true,\"x\":0.25,\"xanchor\":\"left\",\"y\":1.09,\"yanchor\":\"top\"}],\"xaxis\":{\"showticklabels\":false,\"tickmode\":\"array\",\"ticktext\":[\"(-inf, 0.5000]\",\"(0.5000, 1.5000]\",\"(1.5000, 2.5000]\",\"(2.5000, 3.5000]\",\"(3.5000, 4.5000]\",\"(4.5000, 5.5000]\",\"(5.5000, 6.5000]\",\"(6.5000, 7.5000]\",\"(7.5000, 8.5000]\",\"(8.5000, 9.5000]\",\"(9.5000, 10.5000]\",\"(10.5000, 11.5000]\",\"(11.5000, 12.5000]\",\"(12.5000, 13.5000]\",\"(13.5000, +inf)\"],\"tickvals\":[0,1,2,3,4,5,6,7,8,9,10,11,12,13,14],\"title\":{\"text\":\"Bins\"}},\"yaxis\":{\"overlaying\":\"y2\",\"side\":\"left\",\"title\":{\"text\":\"Prediction and target\"}},\"yaxis2\":{\"position\":1.0,\"side\":\"right\",\"title\":{\"text\":\"Objects per bin\"}}},                        {\"responsive\": true}                    ).then(function(){\n",
       "                            \n",
       "var gd = document.getElementById('9eae8e00-e755-4744-a95a-191452de9903');\n",
       "var x = new MutationObserver(function (mutations, observer) {{\n",
       "        var display = window.getComputedStyle(gd).display;\n",
       "        if (!display || display === 'none') {{\n",
       "            console.log([gd, 'removed!']);\n",
       "            Plotly.purge(gd);\n",
       "            observer.disconnect();\n",
       "        }}\n",
       "}});\n",
       "\n",
       "// Listen for the removal of the full notebook cells\n",
       "var notebookContainer = gd.closest('#notebook-container');\n",
       "if (notebookContainer) {{\n",
       "    x.observe(notebookContainer, {childList: true});\n",
       "}}\n",
       "\n",
       "// Listen for the clearing of the current output cell\n",
       "var outputEl = gd.closest('.output');\n",
       "if (outputEl) {{\n",
       "    x.observe(outputEl, {childList: true});\n",
       "}}\n",
       "\n",
       "                        })                };                });            </script>        </div>"
      ]
     },
     "metadata": {},
     "output_type": "display_data"
    },
    {
     "data": {
      "text/plain": [
       "{'min_weeks_diff_sp_del': {'borders': array([ 0.5,  1.5,  2.5,  3.5,  4.5,  5.5,  6.5,  7.5,  8.5,  9.5, 10.5,\n",
       "         11.5, 12.5, 13.5], dtype=float32),\n",
       "  'binarized_feature': array([ 5,  4,  0, ...,  3,  4, 14]),\n",
       "  'mean_target': array([0.03913491, 0.01673102, 0.00985915, 0.00733496, 0.00401606,\n",
       "         0.00441176, 0.00483871, 0.00696864, 0.00193798, 0.0045045 ,\n",
       "         0.00255102, 0.        , 0.        , 0.        , 0.        ],\n",
       "        dtype=float32),\n",
       "  'mean_weighted_target': array([0.8154451 , 0.64862204, 0.5192803 , 0.4449405 , 0.30431733,\n",
       "         0.3246567 , 0.34532553, 0.43223557, 0.17399694, 0.32925498,\n",
       "         0.21719272, 0.        , 0.        , 0.        , 0.        ],\n",
       "        dtype=float32),\n",
       "  'mean_prediction': array([ 0.34227785,  0.04593714, -0.40328798, -0.66420037, -0.8266661 ,\n",
       "         -0.82162917, -0.88343495, -0.90001386, -0.9825651 , -0.9594576 ,\n",
       "         -1.2281543 , -1.5155499 , -1.7061313 , -1.7382215 , -1.730322  ],\n",
       "        dtype=float32),\n",
       "  'objects_per_bin': array([971, 777, 710, 818, 747, 680, 620, 574, 516, 444, 392, 310, 283,\n",
       "         270, 648], dtype=uint32),\n",
       "  'predictions_on_varying_feature': array([ 0.43328983,  0.10025688, -0.33906676, -0.61972664, -0.82214931,\n",
       "         -0.86911593, -0.91958948, -0.98069632, -1.03369926, -1.07310145,\n",
       "         -1.22321464, -1.55585532, -1.67635178, -1.72941837, -1.7759793 ])},\n",
       " 'Friday_sum': {'borders': array([0.5, 1.5], dtype=float32),\n",
       "  'binarized_feature': array([0, 0, 1, ..., 1, 0, 0]),\n",
       "  'mean_target': array([0.01036648, 0.0052687 , 0.        ], dtype=float32),\n",
       "  'mean_weighted_target': array([0.5319187 , 0.36491784, 0.        ], dtype=float32),\n",
       "  'mean_prediction': array([-0.7215803 , -0.900414  , -0.67105776], dtype=float32),\n",
       "  'objects_per_bin': array([6849, 1898,   13], dtype=uint32),\n",
       "  'predictions_on_varying_feature': array([-0.73453495, -0.85155429, -0.87637904])},\n",
       " 'Tuesday_sum': {'borders': array([0.5, 1.5], dtype=float32),\n",
       "  'binarized_feature': array([0, 0, 0, ..., 0, 0, 0]),\n",
       "  'mean_target': array([0.00894701, 0.01009421, 0.11111111], dtype=float32),\n",
       "  'mean_weighted_target': array([0.49478948, 0.52521825, 0.93132126], dtype=float32),\n",
       "  'mean_prediction': array([-0.7421818 , -0.85166955, -0.2541061 ], dtype=float32),\n",
       "  'objects_per_bin': array([7265, 1486,    9], dtype=uint32),\n",
       "  'predictions_on_varying_feature': array([-0.76199961, -0.75193136, -0.70394038])}}"
      ]
     },
     "execution_count": 77,
     "metadata": {},
     "output_type": "execute_result"
    }
   ],
   "source": [
    "model.calc_feature_statistics(X_train, y_train, feature = imp_com_features)"
   ]
  },
  {
   "cell_type": "code",
   "execution_count": 78,
   "id": "9ff98051",
   "metadata": {},
   "outputs": [],
   "source": [
    "# max_date_diff_sp_del\n",
    "# min_date_diff_sp_del\n",
    "# weekend_delivery_sum\n",
    "# tuesday_sum\n",
    "# Friday_sum"
   ]
  },
  {
   "cell_type": "markdown",
   "id": "415d5dd9",
   "metadata": {
    "tags": []
   },
   "source": [
    "## Переходим к скорингу, оставили только топ признаки, перебираем коммуникационные"
   ]
  },
  {
   "cell_type": "markdown",
   "id": "283f5d26-8cb3-48bb-90ef-2f041b73162e",
   "metadata": {
    "tags": []
   },
   "source": [
    "### Фитим и калибруем модель"
   ]
  },
  {
   "cell_type": "code",
   "execution_count": 79,
   "id": "b1ef51cc-8b2a-473b-b6a3-22f9b5996bb8",
   "metadata": {
    "tags": []
   },
   "outputs": [],
   "source": [
    "df_final = df_new[['client_id','conv_flg'] + imp_initial_features + imp_com_features].copy()\n",
    "# df_final.head()"
   ]
  },
  {
   "cell_type": "code",
   "execution_count": 80,
   "id": "59125655-5c4a-4480-972c-b6885fd76743",
   "metadata": {
    "tags": []
   },
   "outputs": [],
   "source": [
    "# Split your data into features and target\n",
    "X = df_final.drop(['conv_flg'], axis=1)\n",
    "y = df_final['conv_flg']\n",
    "X.fillna(0,inplace = True)"
   ]
  },
  {
   "cell_type": "code",
   "execution_count": 81,
   "id": "efc647a0-adff-4392-a992-f2fbd50eb302",
   "metadata": {
    "tags": []
   },
   "outputs": [],
   "source": [
    "X_train_, X_test_, y_train, y_test = train_test_split(X, y, test_size=0.2, random_state = 10)"
   ]
  },
  {
   "cell_type": "code",
   "execution_count": 82,
   "id": "e3d98403-b85d-4cab-9cc9-063e83fd6cf8",
   "metadata": {
    "tags": []
   },
   "outputs": [],
   "source": [
    "X_train, X_test = X_train_.drop(['client_id'], axis=1), X_test_.drop(['client_id'], axis=1)"
   ]
  },
  {
   "cell_type": "code",
   "execution_count": 83,
   "id": "84b9c3b8-dfb3-4ce0-8c3c-c6b620d7b50a",
   "metadata": {
    "tags": []
   },
   "outputs": [],
   "source": [
    "cat_features = []"
   ]
  },
  {
   "cell_type": "code",
   "execution_count": 84,
   "id": "272d7526-7602-4f4a-8f01-d8162306e0b6",
   "metadata": {
    "tags": []
   },
   "outputs": [
    {
     "data": {
      "application/vnd.jupyter.widget-view+json": {
       "model_id": "b514f6934f2044dcb5cbdd84647f2351",
       "version_major": 2,
       "version_minor": 0
      },
      "text/plain": [
       "MetricVisualizer(layout=Layout(align_self='stretch', height='500px'))"
      ]
     },
     "metadata": {},
     "output_type": "display_data"
    },
    {
     "name": "stdout",
     "output_type": "stream",
     "text": [
      "Training on fold [0/5]\n",
      "\n",
      "bestTest = 0.5842792849\n",
      "bestIteration = 237\n",
      "\n",
      "Training on fold [1/5]\n",
      "\n",
      "bestTest = 0.5985971239\n",
      "bestIteration = 206\n",
      "\n",
      "Training on fold [2/5]\n",
      "\n",
      "bestTest = 0.6107444829\n",
      "bestIteration = 216\n",
      "\n",
      "Training on fold [3/5]\n",
      "\n",
      "bestTest = 0.6140524373\n",
      "bestIteration = 186\n",
      "\n",
      "Training on fold [4/5]\n",
      "\n",
      "bestTest = 0.5437679828\n",
      "bestIteration = 344\n",
      "\n"
     ]
    }
   ],
   "source": [
    "params = {\n",
    "    'loss_function': 'Logloss',\n",
    "    'iterations': 1000,\n",
    "    'custom_loss': ['AUC','Recall'],\n",
    "    'random_seed': 1,\n",
    "    'learning_rate': 0.005,\n",
    "    'use_best_model' : True,\n",
    "    'auto_class_weights' : 'Balanced',\n",
    "}\n",
    "\n",
    "cv_data, models = cv(\n",
    "    params=params,\n",
    "    pool=Pool(X_train, label=y_train, cat_features=cat_features),\n",
    "    fold_count=5,\n",
    "    shuffle=True, \n",
    "    partition_random_seed=10,\n",
    "    plot=True,\n",
    "    early_stopping_rounds = 50,\n",
    "    stratified=True, \n",
    "    verbose=False,\n",
    "    return_models=True\n",
    ")"
   ]
  },
  {
   "cell_type": "code",
   "execution_count": 85,
   "id": "6ec3e83e-77fa-48fb-a94a-f9e589bd5a43",
   "metadata": {
    "tags": []
   },
   "outputs": [],
   "source": [
    "model = to_classifier(models[4])"
   ]
  },
  {
   "cell_type": "code",
   "execution_count": 86,
   "id": "c92dc786-73f1-4f46-8fde-53be4c26f73f",
   "metadata": {
    "tags": []
   },
   "outputs": [],
   "source": [
    "eval_pool = Pool(X_test, y_test, cat_features=cat_features)\n",
    "curve = get_roc_curve(model, eval_pool)"
   ]
  },
  {
   "cell_type": "code",
   "execution_count": 87,
   "id": "2598d201-a438-46bc-9cdb-b5eb3bf2bbe9",
   "metadata": {
    "tags": []
   },
   "outputs": [],
   "source": [
    "(thresholds, fpr) = get_fpr_curve(curve=curve)\n",
    "(thresholds, fnr) = get_fnr_curve(curve=curve)"
   ]
  },
  {
   "cell_type": "code",
   "execution_count": 88,
   "id": "da76c180-4723-4b64-a03e-ba6fcd4e38fc",
   "metadata": {
    "tags": []
   },
   "outputs": [
    {
     "data": {
      "image/png": "[encoded data removed]",
      "text/plain": [
       "<Figure size 1600x800 with 1 Axes>"
      ]
     },
     "metadata": {},
     "output_type": "display_data"
    }
   ],
   "source": [
    "plt.figure(figsize=(16, 8))\n",
    "lw=2\n",
    "\n",
    "plt.plot(thresholds, fpr, color='blue', lw=lw, label='FPR', alpha=0.5)\n",
    "plt.plot(thresholds, fnr, color='green', lw=lw, label='FNR', alpha=0.5)\n",
    "\n",
    "plt.xlim([0.0, 1.0])\n",
    "plt.ylim([0.0, 1.05])\n",
    "plt.xticks(fontsize=16)\n",
    "plt.yticks(fontsize=16)\n",
    "plt.grid(True)\n",
    "plt.xlabel('Thresholds', fontsize=16)\n",
    "plt.ylabel('Error rate', fontsize=16)\n",
    "plt.title('FPR-FNR curves', fontsize=16)\n",
    "plt.legend(loc='lower left', fontsize=16)\n",
    "plt.show()"
   ]
  },
  {
   "cell_type": "code",
   "execution_count": 89,
   "id": "c03242cf-603c-4c21-a75b-58b407dd1029",
   "metadata": {
    "tags": []
   },
   "outputs": [
    {
     "name": "stdout",
     "output_type": "stream",
     "text": [
      "0.276849991153118\n"
     ]
    }
   ],
   "source": [
    "fnr_boundary = select_threshold(model=model, data=eval_pool, FNR=0.1)\n",
    "\n",
    "print(fnr_boundary)"
   ]
  },
  {
   "cell_type": "code",
   "execution_count": 90,
   "id": "0573b9c5-6faf-4aec-95a1-d073bf34ba37",
   "metadata": {
    "tags": []
   },
   "outputs": [
    {
     "name": "stdout",
     "output_type": "stream",
     "text": [
      "Roc Auc 0.8393229166666667\n",
      "FPR 0.55\n",
      "FNR 0.07\n",
      "Accuracy 0.45\n",
      "Precision 0.01\n",
      "Recall 0.93\n"
     ]
    }
   ],
   "source": [
    "model_metrics(model, X_test, y_test,fnr_boundary)"
   ]
  },
  {
   "cell_type": "code",
   "execution_count": 91,
   "id": "ee64145f-d552-418c-ad53-5c0b9ec40141",
   "metadata": {
    "tags": []
   },
   "outputs": [],
   "source": [
    "# Калибровка моделей по вероятностям\n",
    "# https://scikit-learn.org/stable/modules/calibration.html"
   ]
  },
  {
   "cell_type": "code",
   "execution_count": 92,
   "id": "64fcd880-3ddd-4f19-827b-1911874523e7",
   "metadata": {
    "tags": []
   },
   "outputs": [],
   "source": [
    "from sklearn.calibration import calibration_curve, CalibratedClassifierCV"
   ]
  },
  {
   "cell_type": "code",
   "execution_count": 93,
   "id": "6fda3f48-c29b-4662-8188-11b6636e0a51",
   "metadata": {
    "tags": []
   },
   "outputs": [
    {
     "data": {
      "image/png": "[encoded data removed]",
      "text/plain": [
       "<Figure size 640x480 with 1 Axes>"
      ]
     },
     "metadata": {},
     "output_type": "display_data"
    }
   ],
   "source": [
    "# До калибровки\n",
    "y_pred_proba = model.predict_proba(X_test)[:, 1]\n",
    "\n",
    "# Plot the calibration curve\n",
    "fraction_of_positives, mean_predicted_value = calibration_curve(y_test, y_pred_proba, n_bins=10)\n",
    "plt.plot(mean_predicted_value, fraction_of_positives)\n",
    "plt.xlabel(\"Mean Predicted Value\")\n",
    "plt.ylabel(\"Fraction of Positives\")\n",
    "plt.show()"
   ]
  },
  {
   "cell_type": "code",
   "execution_count": 94,
   "id": "ec574fc2-3bfd-4a7e-bfab-80bc183274d0",
   "metadata": {
    "scrolled": true,
    "tags": []
   },
   "outputs": [],
   "source": [
    "# Create a calibrated classifier\n",
    "calibrated_clf = CalibratedClassifierCV(model, method=\"isotonic\", cv='prefit')\n",
    "calibrated_clf.fit(X_train, y_train)\n",
    "\n",
    "# Evaluate the calibrated classifier\n",
    "y_pred = calibrated_clf.predict(X_test)\n",
    "y_pred_proba = calibrated_clf.predict_proba(X_test)[:, 1]"
   ]
  },
  {
   "cell_type": "code",
   "execution_count": 95,
   "id": "c856ef1b-7815-456f-b5d8-77ec745d9aee",
   "metadata": {
    "tags": []
   },
   "outputs": [
    {
     "data": {
      "image/png": "[encoded data removed]",
      "text/plain": [
       "<Figure size 640x480 with 1 Axes>"
      ]
     },
     "metadata": {},
     "output_type": "display_data"
    }
   ],
   "source": [
    "# После калибровки\n",
    "\n",
    "# Plot the calibration curve\n",
    "fraction_of_positives, mean_predicted_value = calibration_curve(y_test, y_pred_proba, n_bins=10)\n",
    "plt.plot(mean_predicted_value, fraction_of_positives)\n",
    "plt.xlabel(\"Mean Predicted Value\")\n",
    "plt.ylabel(\"Fraction of Positives\")\n",
    "plt.show()"
   ]
  },
  {
   "cell_type": "code",
   "execution_count": 96,
   "id": "18f81a60-3c94-497c-9f75-3e3bf516d571",
   "metadata": {
    "tags": []
   },
   "outputs": [],
   "source": [
    "# Нашли порог FNR <= 0.1\n",
    "fnr_boundary = 0.0009"
   ]
  },
  {
   "cell_type": "code",
   "execution_count": 97,
   "id": "13e5cd85-1dac-4df5-b98c-d2454bf3f245",
   "metadata": {
    "tags": []
   },
   "outputs": [],
   "source": [
    "final_model = calibrated_clf"
   ]
  },
  {
   "cell_type": "code",
   "execution_count": 98,
   "id": "061e2554-cd68-40ab-ac72-154b7da41a4f",
   "metadata": {
    "tags": []
   },
   "outputs": [
    {
     "name": "stdout",
     "output_type": "stream",
     "text": [
      "Roc Auc 0.8388786764705882\n",
      "FPR 0.55\n",
      "FNR 0.07\n",
      "Accuracy 0.45\n",
      "Precision 0.01\n",
      "Recall 0.93\n"
     ]
    }
   ],
   "source": [
    "# метрики не изменились после калибровки, всё ок\n",
    "model_metrics(final_model, X_test, y_test,fnr_boundary)"
   ]
  },
  {
   "cell_type": "code",
   "execution_count": 99,
   "id": "451647b8-7e2b-4889-87e4-84347ad46296",
   "metadata": {
    "tags": []
   },
   "outputs": [
    {
     "name": "stdout",
     "output_type": "stream",
     "text": [
      "Roc Auc 0.9077451463435088\n",
      "FPR 0.55\n",
      "FNR 0.01\n",
      "Accuracy 0.46\n",
      "Precision 0.02\n",
      "Recall 0.99\n"
     ]
    }
   ],
   "source": [
    "# метрики на трейне\n",
    "# метрики не изменились после калибровки, всё ок\n",
    "model_metrics(final_model, X_train, y_train,fnr_boundary)"
   ]
  },
  {
   "cell_type": "markdown",
   "id": "e6bf7def-1db9-4fc7-92ab-e1838c8402ed",
   "metadata": {
    "tags": []
   },
   "source": [
    "### BASELINE"
   ]
  },
  {
   "cell_type": "code",
   "execution_count": 100,
   "id": "c1e3fd3a-3701-4435-a49f-4fa31ebace1c",
   "metadata": {
    "tags": []
   },
   "outputs": [],
   "source": [
    "## BASELINE\n",
    "# Коммуникация в 1 день после sp\n",
    "# найти для каждого клиента из df_new дату sp\n",
    "df_upd = df1[['client_id','min_sp_created_on']].drop_duplicates().copy()\n",
    "df_upd.reset_index(inplace=True)\n",
    "\n",
    "df_upd['min_weeks_diff_sp_del'] = 0\n",
    "\n",
    "df_upd['first_com'] = df_upd.min_sp_created_on + pd.Timedelta(days=1)\n",
    "df_upd['first_com_dow'] = df_upd['first_com'].dt.day_name()\n",
    "\n",
    "df_upd['Tuesday_sum'] = df_upd.apply(lambda row: 1 if row['first_com_dow'] == 'Tuesday' else 0, axis=1).astype(int)\n",
    "df_upd['Friday_sum'] = df_upd.apply(lambda row: 1 if row['first_com_dow'] == 'Friday' else 0, axis=1).astype(int)"
   ]
  },
  {
   "cell_type": "code",
   "execution_count": 101,
   "id": "b53684ed-41de-49f5-9ec0-b7bec260859b",
   "metadata": {
    "tags": []
   },
   "outputs": [],
   "source": [
    "X_test_baseline_ = pd.merge(X_test_.drop(['min_weeks_diff_sp_del','Friday_sum', 'Tuesday_sum'], axis = 1),\n",
    "    df_upd[['client_id','min_weeks_diff_sp_del','Friday_sum','Tuesday_sum']],on = 'client_id')\n",
    "X_test_baseline = X_test_baseline_.drop('client_id', axis=1)"
   ]
  },
  {
   "cell_type": "code",
   "execution_count": 102,
   "id": "27e8456a-1fef-4ecf-9551-67d48d7dd2f9",
   "metadata": {
    "tags": []
   },
   "outputs": [
    {
     "data": {
      "text/plain": [
       "0.03902441935262816"
      ]
     },
     "execution_count": 102,
     "metadata": {},
     "output_type": "execute_result"
    }
   ],
   "source": [
    "# BASELINE RESULTS\n",
    "baseline_results = final_model.predict_proba(X_test_baseline)[:,1]\n",
    "baseline_mean = np.mean(baseline_results)\n",
    "baseline_mean"
   ]
  },
  {
   "cell_type": "code",
   "execution_count": 103,
   "id": "334296a9-3e4f-488b-8b6d-d8b3d750a266",
   "metadata": {
    "tags": []
   },
   "outputs": [
    {
     "data": {
      "text/html": [
       "<div>\n",
       "<style scoped>\n",
       "    .dataframe tbody tr th:only-of-type {\n",
       "        vertical-align: middle;\n",
       "    }\n",
       "\n",
       "    .dataframe tbody tr th {\n",
       "        vertical-align: top;\n",
       "    }\n",
       "\n",
       "    .dataframe thead th {\n",
       "        text-align: right;\n",
       "    }\n",
       "</style>\n",
       "<table border=\"1\" class=\"dataframe\">\n",
       "  <thead>\n",
       "    <tr style=\"text-align: right;\">\n",
       "      <th></th>\n",
       "      <th>client_id</th>\n",
       "      <th>predicted_prob</th>\n",
       "    </tr>\n",
       "  </thead>\n",
       "  <tbody>\n",
       "    <tr>\n",
       "      <th>0</th>\n",
       "      <td>f83491a897698313dc423f90dbf55daa</td>\n",
       "      <td>0.056122</td>\n",
       "    </tr>\n",
       "    <tr>\n",
       "      <th>1</th>\n",
       "      <td>bf0e54981f9add5be5230a4b0565e83f</td>\n",
       "      <td>0.000446</td>\n",
       "    </tr>\n",
       "    <tr>\n",
       "      <th>2</th>\n",
       "      <td>73eeed8d1da8e32e630ba0ecde0bc6c6</td>\n",
       "      <td>0.015075</td>\n",
       "    </tr>\n",
       "    <tr>\n",
       "      <th>3</th>\n",
       "      <td>8490611803d5d99dcbbcd1ec8cf4f690</td>\n",
       "      <td>0.168831</td>\n",
       "    </tr>\n",
       "    <tr>\n",
       "      <th>4</th>\n",
       "      <td>5cd0aa1cc454e3983c17757a59264cd5</td>\n",
       "      <td>0.000446</td>\n",
       "    </tr>\n",
       "    <tr>\n",
       "      <th>...</th>\n",
       "      <td>...</td>\n",
       "      <td>...</td>\n",
       "    </tr>\n",
       "    <tr>\n",
       "      <th>2186</th>\n",
       "      <td>69d744bae3771e52a43312558f04e3f7</td>\n",
       "      <td>0.028322</td>\n",
       "    </tr>\n",
       "    <tr>\n",
       "      <th>2187</th>\n",
       "      <td>d4ab6ae422103ce46c5766cca82a11d3</td>\n",
       "      <td>0.056122</td>\n",
       "    </tr>\n",
       "    <tr>\n",
       "      <th>2188</th>\n",
       "      <td>b077bc91d484239d13115c4d645ae81e</td>\n",
       "      <td>0.056122</td>\n",
       "    </tr>\n",
       "    <tr>\n",
       "      <th>2189</th>\n",
       "      <td>544a8e9867e4f6b58efe39bf0330d601</td>\n",
       "      <td>0.035897</td>\n",
       "    </tr>\n",
       "    <tr>\n",
       "      <th>2190</th>\n",
       "      <td>d172500d2af908acd8ec950abad70121</td>\n",
       "      <td>0.035897</td>\n",
       "    </tr>\n",
       "  </tbody>\n",
       "</table>\n",
       "<p>2191 rows × 2 columns</p>\n",
       "</div>"
      ],
      "text/plain": [
       "                             client_id  predicted_prob\n",
       "0     f83491a897698313dc423f90dbf55daa        0.056122\n",
       "1     bf0e54981f9add5be5230a4b0565e83f        0.000446\n",
       "2     73eeed8d1da8e32e630ba0ecde0bc6c6        0.015075\n",
       "3     8490611803d5d99dcbbcd1ec8cf4f690        0.168831\n",
       "4     5cd0aa1cc454e3983c17757a59264cd5        0.000446\n",
       "...                                ...             ...\n",
       "2186  69d744bae3771e52a43312558f04e3f7        0.028322\n",
       "2187  d4ab6ae422103ce46c5766cca82a11d3        0.056122\n",
       "2188  b077bc91d484239d13115c4d645ae81e        0.056122\n",
       "2189  544a8e9867e4f6b58efe39bf0330d601        0.035897\n",
       "2190  d172500d2af908acd8ec950abad70121        0.035897\n",
       "\n",
       "[2191 rows x 2 columns]"
      ]
     },
     "execution_count": 103,
     "metadata": {},
     "output_type": "execute_result"
    }
   ],
   "source": [
    "# client_id predicted_prob_baseline\n",
    "baseline_res_per_client = pd.DataFrame({'client_id':X_test_baseline_['client_id'],\n",
    "              'predicted_prob':baseline_results})\n",
    "baseline_res_per_client"
   ]
  },
  {
   "cell_type": "code",
   "execution_count": null,
   "id": "ff4039eb-d765-42bb-95cf-aace9d9df8f8",
   "metadata": {},
   "outputs": [],
   "source": []
  },
  {
   "cell_type": "markdown",
   "id": "aa25d299-371b-417b-8891-fab8dcbf4921",
   "metadata": {
    "tags": []
   },
   "source": [
    "### Скоринг"
   ]
  },
  {
   "cell_type": "code",
   "execution_count": 104,
   "id": "29713bc4-836d-41c8-baaf-0998d418fd43",
   "metadata": {
    "tags": []
   },
   "outputs": [],
   "source": [
    "# min_weeks_diff_sp_del от 0 до 17\n",
    "# Friday_sum 0 1 2\n",
    "# Tuesday_sum 0 1 2"
   ]
  },
  {
   "cell_type": "code",
   "execution_count": 105,
   "id": "206b730a-f137-452f-8d5a-ba68cd897799",
   "metadata": {
    "tags": []
   },
   "outputs": [],
   "source": [
    "min_weeks = np.arange(0,18)\n",
    "friday = np.arange(0,2)\n",
    "tuesday = np.arange(0,2)"
   ]
  },
  {
   "cell_type": "code",
   "execution_count": 106,
   "id": "41f53434-f540-48e0-9ee7-197b73bacc1b",
   "metadata": {
    "tags": []
   },
   "outputs": [],
   "source": [
    "df1 = pd.DataFrame({'min_weeks_diff_sp_del': min_weeks,})\n",
    "df2 = pd.DataFrame({'Friday_sum': friday,})\n",
    "df3 = pd.DataFrame({'Tuesday_sum': tuesday,})"
   ]
  },
  {
   "cell_type": "code",
   "execution_count": 107,
   "id": "92e5b2f7-819c-4cea-8bd1-cabcbacd6433",
   "metadata": {
    "tags": []
   },
   "outputs": [
    {
     "data": {
      "text/html": [
       "<div>\n",
       "<style scoped>\n",
       "    .dataframe tbody tr th:only-of-type {\n",
       "        vertical-align: middle;\n",
       "    }\n",
       "\n",
       "    .dataframe tbody tr th {\n",
       "        vertical-align: top;\n",
       "    }\n",
       "\n",
       "    .dataframe thead th {\n",
       "        text-align: right;\n",
       "    }\n",
       "</style>\n",
       "<table border=\"1\" class=\"dataframe\">\n",
       "  <thead>\n",
       "    <tr style=\"text-align: right;\">\n",
       "      <th></th>\n",
       "      <th>min_weeks_diff_sp_del</th>\n",
       "      <th>Friday_sum</th>\n",
       "      <th>Tuesday_sum</th>\n",
       "    </tr>\n",
       "  </thead>\n",
       "  <tbody>\n",
       "    <tr>\n",
       "      <th>0</th>\n",
       "      <td>0</td>\n",
       "      <td>0</td>\n",
       "      <td>0</td>\n",
       "    </tr>\n",
       "    <tr>\n",
       "      <th>1</th>\n",
       "      <td>0</td>\n",
       "      <td>0</td>\n",
       "      <td>1</td>\n",
       "    </tr>\n",
       "    <tr>\n",
       "      <th>2</th>\n",
       "      <td>0</td>\n",
       "      <td>1</td>\n",
       "      <td>0</td>\n",
       "    </tr>\n",
       "    <tr>\n",
       "      <th>3</th>\n",
       "      <td>0</td>\n",
       "      <td>1</td>\n",
       "      <td>1</td>\n",
       "    </tr>\n",
       "    <tr>\n",
       "      <th>4</th>\n",
       "      <td>1</td>\n",
       "      <td>0</td>\n",
       "      <td>0</td>\n",
       "    </tr>\n",
       "    <tr>\n",
       "      <th>...</th>\n",
       "      <td>...</td>\n",
       "      <td>...</td>\n",
       "      <td>...</td>\n",
       "    </tr>\n",
       "    <tr>\n",
       "      <th>67</th>\n",
       "      <td>16</td>\n",
       "      <td>1</td>\n",
       "      <td>1</td>\n",
       "    </tr>\n",
       "    <tr>\n",
       "      <th>68</th>\n",
       "      <td>17</td>\n",
       "      <td>0</td>\n",
       "      <td>0</td>\n",
       "    </tr>\n",
       "    <tr>\n",
       "      <th>69</th>\n",
       "      <td>17</td>\n",
       "      <td>0</td>\n",
       "      <td>1</td>\n",
       "    </tr>\n",
       "    <tr>\n",
       "      <th>70</th>\n",
       "      <td>17</td>\n",
       "      <td>1</td>\n",
       "      <td>0</td>\n",
       "    </tr>\n",
       "    <tr>\n",
       "      <th>71</th>\n",
       "      <td>17</td>\n",
       "      <td>1</td>\n",
       "      <td>1</td>\n",
       "    </tr>\n",
       "  </tbody>\n",
       "</table>\n",
       "<p>72 rows × 3 columns</p>\n",
       "</div>"
      ],
      "text/plain": [
       "    min_weeks_diff_sp_del  Friday_sum  Tuesday_sum\n",
       "0                       0           0            0\n",
       "1                       0           0            1\n",
       "2                       0           1            0\n",
       "3                       0           1            1\n",
       "4                       1           0            0\n",
       "..                    ...         ...          ...\n",
       "67                     16           1            1\n",
       "68                     17           0            0\n",
       "69                     17           0            1\n",
       "70                     17           1            0\n",
       "71                     17           1            1\n",
       "\n",
       "[72 rows x 3 columns]"
      ]
     },
     "execution_count": 107,
     "metadata": {},
     "output_type": "execute_result"
    }
   ],
   "source": [
    "# Perform cross join\n",
    "df_cross = pd.merge(df1, df2, how='cross')\n",
    "df_cross = pd.merge(df_cross, df3, how='cross')\n",
    "df_cross"
   ]
  },
  {
   "cell_type": "code",
   "execution_count": 108,
   "id": "345c15b9-2c7d-4e8c-a70e-98834ec77e1c",
   "metadata": {
    "tags": []
   },
   "outputs": [],
   "source": [
    "X_test_scoring_ = pd.merge(X_test_.drop(['min_weeks_diff_sp_del','Friday_sum', 'Tuesday_sum'], axis = 1), df_cross, how='cross')\n",
    "X_test_scoring = X_test_scoring_.drop('client_id', axis=1)"
   ]
  },
  {
   "cell_type": "code",
   "execution_count": 109,
   "id": "00057b03-0123-4045-af43-215ff10b11ae",
   "metadata": {
    "tags": []
   },
   "outputs": [],
   "source": [
    "# Scoring RESULTS\n",
    "scor_results = final_model.predict_proba(X_test_scoring)[:,1]"
   ]
  },
  {
   "cell_type": "code",
   "execution_count": 110,
   "id": "ead42b1d-5184-4320-9028-add8483b7b79",
   "metadata": {
    "tags": []
   },
   "outputs": [
    {
     "data": {
      "text/html": [
       "<div>\n",
       "<style scoped>\n",
       "    .dataframe tbody tr th:only-of-type {\n",
       "        vertical-align: middle;\n",
       "    }\n",
       "\n",
       "    .dataframe tbody tr th {\n",
       "        vertical-align: top;\n",
       "    }\n",
       "\n",
       "    .dataframe thead th {\n",
       "        text-align: right;\n",
       "    }\n",
       "</style>\n",
       "<table border=\"1\" class=\"dataframe\">\n",
       "  <thead>\n",
       "    <tr style=\"text-align: right;\">\n",
       "      <th></th>\n",
       "      <th>client_id</th>\n",
       "      <th>predicted_prob</th>\n",
       "    </tr>\n",
       "  </thead>\n",
       "  <tbody>\n",
       "    <tr>\n",
       "      <th>0</th>\n",
       "      <td>f83491a897698313dc423f90dbf55daa</td>\n",
       "      <td>0.056122</td>\n",
       "    </tr>\n",
       "    <tr>\n",
       "      <th>1</th>\n",
       "      <td>f83491a897698313dc423f90dbf55daa</td>\n",
       "      <td>0.168831</td>\n",
       "    </tr>\n",
       "    <tr>\n",
       "      <th>2</th>\n",
       "      <td>f83491a897698313dc423f90dbf55daa</td>\n",
       "      <td>0.035897</td>\n",
       "    </tr>\n",
       "    <tr>\n",
       "      <th>3</th>\n",
       "      <td>f83491a897698313dc423f90dbf55daa</td>\n",
       "      <td>0.035897</td>\n",
       "    </tr>\n",
       "    <tr>\n",
       "      <th>4</th>\n",
       "      <td>f83491a897698313dc423f90dbf55daa</td>\n",
       "      <td>0.028322</td>\n",
       "    </tr>\n",
       "    <tr>\n",
       "      <th>...</th>\n",
       "      <td>...</td>\n",
       "      <td>...</td>\n",
       "    </tr>\n",
       "    <tr>\n",
       "      <th>157747</th>\n",
       "      <td>d172500d2af908acd8ec950abad70121</td>\n",
       "      <td>0.000000</td>\n",
       "    </tr>\n",
       "    <tr>\n",
       "      <th>157748</th>\n",
       "      <td>d172500d2af908acd8ec950abad70121</td>\n",
       "      <td>0.000000</td>\n",
       "    </tr>\n",
       "    <tr>\n",
       "      <th>157749</th>\n",
       "      <td>d172500d2af908acd8ec950abad70121</td>\n",
       "      <td>0.000446</td>\n",
       "    </tr>\n",
       "    <tr>\n",
       "      <th>157750</th>\n",
       "      <td>d172500d2af908acd8ec950abad70121</td>\n",
       "      <td>0.000000</td>\n",
       "    </tr>\n",
       "    <tr>\n",
       "      <th>157751</th>\n",
       "      <td>d172500d2af908acd8ec950abad70121</td>\n",
       "      <td>0.000000</td>\n",
       "    </tr>\n",
       "  </tbody>\n",
       "</table>\n",
       "<p>157752 rows × 2 columns</p>\n",
       "</div>"
      ],
      "text/plain": [
       "                               client_id  predicted_prob\n",
       "0       f83491a897698313dc423f90dbf55daa        0.056122\n",
       "1       f83491a897698313dc423f90dbf55daa        0.168831\n",
       "2       f83491a897698313dc423f90dbf55daa        0.035897\n",
       "3       f83491a897698313dc423f90dbf55daa        0.035897\n",
       "4       f83491a897698313dc423f90dbf55daa        0.028322\n",
       "...                                  ...             ...\n",
       "157747  d172500d2af908acd8ec950abad70121        0.000000\n",
       "157748  d172500d2af908acd8ec950abad70121        0.000000\n",
       "157749  d172500d2af908acd8ec950abad70121        0.000446\n",
       "157750  d172500d2af908acd8ec950abad70121        0.000000\n",
       "157751  d172500d2af908acd8ec950abad70121        0.000000\n",
       "\n",
       "[157752 rows x 2 columns]"
      ]
     },
     "execution_count": 110,
     "metadata": {},
     "output_type": "execute_result"
    }
   ],
   "source": [
    "# client_id predicted_prob_baseline\n",
    "scoring_res_per_client = pd.DataFrame({'client_id':X_test_scoring_['client_id'],\n",
    "              'predicted_prob':scor_results})\n",
    "scoring_res_per_client"
   ]
  },
  {
   "cell_type": "code",
   "execution_count": 111,
   "id": "389b263c-7f4c-4ef5-ba17-7242b306353e",
   "metadata": {
    "tags": []
   },
   "outputs": [
    {
     "data": {
      "text/html": [
       "<div>\n",
       "<style scoped>\n",
       "    .dataframe tbody tr th:only-of-type {\n",
       "        vertical-align: middle;\n",
       "    }\n",
       "\n",
       "    .dataframe tbody tr th {\n",
       "        vertical-align: top;\n",
       "    }\n",
       "\n",
       "    .dataframe thead th {\n",
       "        text-align: right;\n",
       "    }\n",
       "</style>\n",
       "<table border=\"1\" class=\"dataframe\">\n",
       "  <thead>\n",
       "    <tr style=\"text-align: right;\">\n",
       "      <th></th>\n",
       "      <th>client_id</th>\n",
       "      <th>predicted_prob</th>\n",
       "    </tr>\n",
       "  </thead>\n",
       "  <tbody>\n",
       "    <tr>\n",
       "      <th>0</th>\n",
       "      <td>00015b188cd3369bf0b8c75aab89a79a</td>\n",
       "      <td>0.028322</td>\n",
       "    </tr>\n",
       "    <tr>\n",
       "      <th>1</th>\n",
       "      <td>002de237c7c88b4cb65ddb11d0862d65</td>\n",
       "      <td>0.168831</td>\n",
       "    </tr>\n",
       "    <tr>\n",
       "      <th>2</th>\n",
       "      <td>00561c58043d666ab123124eb72517c7</td>\n",
       "      <td>0.035897</td>\n",
       "    </tr>\n",
       "    <tr>\n",
       "      <th>3</th>\n",
       "      <td>0075477d7ee6f071bffa666fa582d08f</td>\n",
       "      <td>0.028322</td>\n",
       "    </tr>\n",
       "    <tr>\n",
       "      <th>4</th>\n",
       "      <td>00b2c220ac7a748bc343b131b38f3687</td>\n",
       "      <td>0.056122</td>\n",
       "    </tr>\n",
       "    <tr>\n",
       "      <th>...</th>\n",
       "      <td>...</td>\n",
       "      <td>...</td>\n",
       "    </tr>\n",
       "    <tr>\n",
       "      <th>2186</th>\n",
       "      <td>ff97001f696ecbd35abad01b4448e7f8</td>\n",
       "      <td>0.013314</td>\n",
       "    </tr>\n",
       "    <tr>\n",
       "      <th>2187</th>\n",
       "      <td>ff9c1096e960aa2eefddec857ab79143</td>\n",
       "      <td>0.015075</td>\n",
       "    </tr>\n",
       "    <tr>\n",
       "      <th>2188</th>\n",
       "      <td>ffa151362bed279666a596b332f47d46</td>\n",
       "      <td>0.168831</td>\n",
       "    </tr>\n",
       "    <tr>\n",
       "      <th>2189</th>\n",
       "      <td>ffbf2a80951cf8557f75a67d2b393a47</td>\n",
       "      <td>0.028322</td>\n",
       "    </tr>\n",
       "    <tr>\n",
       "      <th>2190</th>\n",
       "      <td>ffc6a4278edda5401780a9ad2217a3e0</td>\n",
       "      <td>0.002915</td>\n",
       "    </tr>\n",
       "  </tbody>\n",
       "</table>\n",
       "<p>2191 rows × 2 columns</p>\n",
       "</div>"
      ],
      "text/plain": [
       "                             client_id  predicted_prob\n",
       "0     00015b188cd3369bf0b8c75aab89a79a        0.028322\n",
       "1     002de237c7c88b4cb65ddb11d0862d65        0.168831\n",
       "2     00561c58043d666ab123124eb72517c7        0.035897\n",
       "3     0075477d7ee6f071bffa666fa582d08f        0.028322\n",
       "4     00b2c220ac7a748bc343b131b38f3687        0.056122\n",
       "...                                ...             ...\n",
       "2186  ff97001f696ecbd35abad01b4448e7f8        0.013314\n",
       "2187  ff9c1096e960aa2eefddec857ab79143        0.015075\n",
       "2188  ffa151362bed279666a596b332f47d46        0.168831\n",
       "2189  ffbf2a80951cf8557f75a67d2b393a47        0.028322\n",
       "2190  ffc6a4278edda5401780a9ad2217a3e0        0.002915\n",
       "\n",
       "[2191 rows x 2 columns]"
      ]
     },
     "execution_count": 111,
     "metadata": {},
     "output_type": "execute_result"
    }
   ],
   "source": [
    "best_scores = scoring_res_per_client.groupby('client_id').max('predicted_prob').reset_index()\n",
    "best_scores"
   ]
  },
  {
   "cell_type": "code",
   "execution_count": 112,
   "id": "bf2c8744-c2bd-4094-98c9-79f573360e26",
   "metadata": {
    "tags": []
   },
   "outputs": [
    {
     "data": {
      "text/plain": [
       "(0.07698946699476146, 0.0379650476421333)"
      ]
     },
     "execution_count": 112,
     "metadata": {},
     "output_type": "execute_result"
    }
   ],
   "source": [
    "best_scores_mean = np.mean(best_scores['predicted_prob'])\n",
    "\n",
    "best_scores_mean, best_scores_mean - baseline_mean"
   ]
  },
  {
   "cell_type": "markdown",
   "id": "0978249e-d395-4a63-af7c-f08e413b33c4",
   "metadata": {
    "tags": []
   },
   "source": [
    "### Рассчёт аплифтов в деньгах"
   ]
  },
  {
   "cell_type": "code",
   "execution_count": 113,
   "id": "b0e24bf2-1b35-4e07-8d9f-60a5e55245d0",
   "metadata": {
    "tags": []
   },
   "outputs": [],
   "source": [
    "fnr_boundary = 0.0009"
   ]
  },
  {
   "cell_type": "code",
   "execution_count": 114,
   "id": "89189414-606d-4d51-b312-594fa40e1472",
   "metadata": {
    "tags": []
   },
   "outputs": [],
   "source": [
    "# Смотрю по тестовой выборке\n",
    "# Отбираю юзеров, которым мы предсказали 1в финальной модели\n",
    "# Знаю, у кого из них реально 1, смотрю долю реальных 1 (TPR или Precision) и ошибок  (FPR)\n",
    "# Количество предсказанных 1 * TPR = количество договоров\n",
    "# (за скобками оставляем FNR, потому что по этой границе принимали решение)\n",
    "\n",
    "# Теперь перехожу к бейзлайну и скорингу\n",
    "# Предполагаю, что TPR не изменится\n",
    "# С той же границой по FNR<=0.1, которую использовал на откалиброванной модели, делаю предсказания 0 и 1\n",
    "\n",
    "# Теперь Baseline Pred 1 * Precision = Baseline договоров\n",
    "# Теперь Best Scoring Pred 1 * Precision = После скоринга договоров\n",
    "\n",
    "# Нормирую на количество юзеров в тесте => \n",
    "# Baseline конверсия в покупку = Baseline договоров / Юзеров в тесте\n",
    "# После скоринга конверсия в покупку = Baseline договоров / Юзеров в тесте"
   ]
  },
  {
   "cell_type": "code",
   "execution_count": 115,
   "id": "aa4c49b5-1be4-486d-b60f-ca68101288e7",
   "metadata": {
    "tags": []
   },
   "outputs": [],
   "source": [
    "# юзеров в тесте 2191"
   ]
  },
  {
   "cell_type": "code",
   "execution_count": 116,
   "id": "819dca17-3e4f-465c-be01-16888639ce9b",
   "metadata": {
    "tags": []
   },
   "outputs": [
    {
     "data": {
      "text/plain": [
       "1    2096\n",
       "0      95\n",
       "Name: count, dtype: int64"
      ]
     },
     "execution_count": 116,
     "metadata": {},
     "output_type": "execute_result"
    }
   ],
   "source": [
    "probabilities_pred = final_model.predict_proba(X_test_baseline)[:,1]\n",
    "y_pred = np.where(probabilities_pred > fnr_boundary, 1, 0)\n",
    "pd.Series(y_pred).value_counts()\n",
    "# => 2096 Pred 1 Baseline"
   ]
  },
  {
   "cell_type": "code",
   "execution_count": 117,
   "id": "f442f081",
   "metadata": {},
   "outputs": [
    {
     "data": {
      "text/plain": [
       "2116"
      ]
     },
     "execution_count": 117,
     "metadata": {},
     "output_type": "execute_result"
    }
   ],
   "source": [
    "best_scores[best_scores.predicted_prob > fnr_boundary]['predicted_prob'].count()\n",
    "# => 2116 Pred 1 Baseline"
   ]
  },
  {
   "cell_type": "code",
   "execution_count": 118,
   "id": "ecd27b60-2a88-4549-96b8-6a5928ae8d01",
   "metadata": {
    "tags": []
   },
   "outputs": [
    {
     "data": {
      "text/plain": [
       "0.96"
      ]
     },
     "execution_count": 118,
     "metadata": {},
     "output_type": "execute_result"
    }
   ],
   "source": [
    "round(100 * 0.01 * 2096 / 2191,2)"
   ]
  },
  {
   "cell_type": "code",
   "execution_count": 119,
   "id": "f4cfa17f-5338-4f2b-96ed-6e05d3c73f0d",
   "metadata": {
    "tags": []
   },
   "outputs": [
    {
     "data": {
      "text/plain": [
       "0.97"
      ]
     },
     "execution_count": 119,
     "metadata": {},
     "output_type": "execute_result"
    }
   ],
   "source": [
    "round(100 * 0.01 * 2116 / 2191,2)"
   ]
  },
  {
   "cell_type": "code",
   "execution_count": 120,
   "id": "8a452699-6310-42ed-979f-05a4473fcfb0",
   "metadata": {
    "tags": []
   },
   "outputs": [],
   "source": [
    "# => повышение конверсии на 0.01% => дополнительно 1 квартира из 10_000 пришедших пользователей"
   ]
  },
  {
   "cell_type": "code",
   "execution_count": 121,
   "id": "371c09e6-96cd-47e2-b291-add98a8ed92a",
   "metadata": {},
   "outputs": [],
   "source": [
    "# Если допустить, что MAU самолёта 1000000, то в месяц сможем продать больше на 100 квартир"
   ]
  },
  {
   "cell_type": "code",
   "execution_count": null,
   "id": "bfe024ff-e0c2-4367-a039-d13a07ee6318",
   "metadata": {},
   "outputs": [],
   "source": []
  },
  {
   "cell_type": "code",
   "execution_count": null,
   "id": "fafaf003-7ffd-408c-a195-5cf53d86a685",
   "metadata": {},
   "outputs": [],
   "source": []
  }
 ],
 "metadata": {
  "kernelspec": {
   "display_name": "Python 3 (ipykernel)",
   "language": "python",
   "name": "python3"
  },
  "language_info": {
   "codemirror_mode": {
    "name": "ipython",
    "version": 3
   },
   "file_extension": ".py",
   "mimetype": "text/x-python",
   "name": "python",
   "nbconvert_exporter": "python",
   "pygments_lexer": "ipython3",
   "version": "3.11.5"
  },
  "toc-autonumbering": true,
  "toc-showcode": false,
  "toc-showmarkdowntxt": false,
  "toc-showtags": false
 },
 "nbformat": 4,
 "nbformat_minor": 5
}
