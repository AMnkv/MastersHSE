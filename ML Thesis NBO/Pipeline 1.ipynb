{
 "cells": [
  {
   "cell_type": "markdown",
   "id": "897f0ad7-efc3-44d9-9bf0-cb62c1413a36",
   "metadata": {
    "tags": []
   },
   "source": [
    "# Imports and data extracting"
   ]
  },
  {
   "cell_type": "code",
   "execution_count": 1,
   "id": "1bbaa5d1-0dc4-42cd-b46e-3b549cfc5b2a",
   "metadata": {
    "tags": []
   },
   "outputs": [],
   "source": [
    "import pandas as pd\n",
    "import numpy as np\n",
    "\n",
    "from sklearn.model_selection import train_test_split\n",
    "\n",
    "from catboost import CatBoostClassifier, Pool\n",
    "from sklearn.multioutput import MultiOutputClassifier\n",
    "\n",
    "from sklearn.metrics import roc_auc_score, accuracy_score, precision_score, recall_score, f1_score, roc_curve, precision_recall_curve\n",
    "import matplotlib.pyplot as plt\n",
    "\n",
    "from sklearn.model_selection import StratifiedKFold, GridSearchCV\n",
    "\n",
    "from sklearn.metrics import confusion_matrix, ConfusionMatrixDisplay\n",
    "from catboost.utils import eval_metric\n",
    "import pickle"
   ]
  },
  {
   "cell_type": "markdown",
   "id": "786abf1c-a326-4c5c-8d47-e6a8a07bbeca",
   "metadata": {
    "tags": []
   },
   "source": [
    "### df_сampaigns -> факт коммуникаций с баерами"
   ]
  },
  {
   "cell_type": "code",
   "execution_count": 4,
   "id": "33ab17d9-d348-431e-a328-fca093c0ec71",
   "metadata": {
    "tags": []
   },
   "outputs": [
    {
     "data": {
      "text/html": [
       "<div>\n",
       "<style scoped>\n",
       "    .dataframe tbody tr th:only-of-type {\n",
       "        vertical-align: middle;\n",
       "    }\n",
       "\n",
       "    .dataframe tbody tr th {\n",
       "        vertical-align: top;\n",
       "    }\n",
       "\n",
       "    .dataframe thead th {\n",
       "        text-align: right;\n",
       "    }\n",
       "</style>\n",
       "<table border=\"1\" class=\"dataframe\">\n",
       "  <thead>\n",
       "    <tr style=\"text-align: right;\">\n",
       "      <th></th>\n",
       "      <th>smt_decision_makerid</th>\n",
       "      <th>delivery_date</th>\n",
       "      <th>hash</th>\n",
       "      <th>campaign_name</th>\n",
       "      <th>segment_name</th>\n",
       "      <th>ab_group</th>\n",
       "      <th>tag_channel</th>\n",
       "      <th>tag_category</th>\n",
       "      <th>tag_campaign_type</th>\n",
       "      <th>tag_product</th>\n",
       "      <th>tag_project_type</th>\n",
       "      <th>tag_project_region</th>\n",
       "      <th>tag_discount_flag</th>\n",
       "      <th>tag_chain_flag</th>\n",
       "      <th>tag_model_flag</th>\n",
       "      <th>target_event</th>\n",
       "      <th>tag_realestate_flag</th>\n",
       "    </tr>\n",
       "  </thead>\n",
       "  <tbody>\n",
       "    <tr>\n",
       "      <th>0</th>\n",
       "      <td>d07201565c46a7ff8544574ad3410cc8</td>\n",
       "      <td>2024-12-05</td>\n",
       "      <td>91e093035c50c368832552e8b174e740</td>\n",
       "      <td>[prod] [batch] [241204] [SMS] Первичная недвиж...</td>\n",
       "      <td>DSML-1844</td>\n",
       "      <td>target</td>\n",
       "      <td>sms</td>\n",
       "      <td>RealEstate</td>\n",
       "      <td>Active</td>\n",
       "      <td>realestate</td>\n",
       "      <td>not_izhs</td>\n",
       "      <td>mimo</td>\n",
       "      <td>not_discount</td>\n",
       "      <td>not_chain</td>\n",
       "      <td>model</td>\n",
       "      <td>sale</td>\n",
       "      <td>realestate</td>\n",
       "    </tr>\n",
       "    <tr>\n",
       "      <th>1</th>\n",
       "      <td>d07201565c46a7ff8544574ad3410cc8</td>\n",
       "      <td>2024-12-03</td>\n",
       "      <td>91e093035c50c368832552e8b174e740</td>\n",
       "      <td>[run] [241031] Первичная недвижимость После зв...</td>\n",
       "      <td>None</td>\n",
       "      <td>target</td>\n",
       "      <td>wa</td>\n",
       "      <td>RealEstate</td>\n",
       "      <td>Active</td>\n",
       "      <td>realestate</td>\n",
       "      <td>not_izhs</td>\n",
       "      <td>all</td>\n",
       "      <td>not_discount</td>\n",
       "      <td>not_chain</td>\n",
       "      <td>not_model</td>\n",
       "      <td>appointment</td>\n",
       "      <td>realestate</td>\n",
       "    </tr>\n",
       "    <tr>\n",
       "      <th>2</th>\n",
       "      <td>cd71ba6d85a7e0c379e54892a6b931de</td>\n",
       "      <td>2024-10-02</td>\n",
       "      <td>4df189d22038fd188fef0ec54a9cba6c</td>\n",
       "      <td>[batch] [241002] [SMS] Первичная недвижимость ...</td>\n",
       "      <td>DSML-1814</td>\n",
       "      <td>target</td>\n",
       "      <td>sms</td>\n",
       "      <td>RealEstate</td>\n",
       "      <td>Active</td>\n",
       "      <td>realestate</td>\n",
       "      <td>not_izhs</td>\n",
       "      <td>all</td>\n",
       "      <td>not_discount</td>\n",
       "      <td>not_chain</td>\n",
       "      <td>model</td>\n",
       "      <td>appointment</td>\n",
       "      <td>realestate</td>\n",
       "    </tr>\n",
       "    <tr>\n",
       "      <th>3</th>\n",
       "      <td>340dd300a3093e8120264d701ca9f73c</td>\n",
       "      <td>2024-12-03</td>\n",
       "      <td>ef401fc6177a7592861c437cb6ce728b</td>\n",
       "      <td>[batch] [241203] [SMS] [МСК] Первичная недвижи...</td>\n",
       "      <td>CMPG-3843</td>\n",
       "      <td>control</td>\n",
       "      <td>sms</td>\n",
       "      <td>RealEstate</td>\n",
       "      <td>Active</td>\n",
       "      <td>realestate</td>\n",
       "      <td>not_izhs</td>\n",
       "      <td>mimo</td>\n",
       "      <td>not_discount</td>\n",
       "      <td>chain</td>\n",
       "      <td>not_model</td>\n",
       "      <td>call</td>\n",
       "      <td>realestate</td>\n",
       "    </tr>\n",
       "    <tr>\n",
       "      <th>4</th>\n",
       "      <td>340dd300a3093e8120264d701ca9f73c</td>\n",
       "      <td>2024-12-10</td>\n",
       "      <td>ef401fc6177a7592861c437cb6ce728b</td>\n",
       "      <td>[batch] [241203] [SMS] [МСК] Первичная недвижи...</td>\n",
       "      <td>CMPG-3843</td>\n",
       "      <td>control</td>\n",
       "      <td>sms</td>\n",
       "      <td>RealEstate</td>\n",
       "      <td>Active</td>\n",
       "      <td>realestate</td>\n",
       "      <td>not_izhs</td>\n",
       "      <td>mimo</td>\n",
       "      <td>not_discount</td>\n",
       "      <td>chain</td>\n",
       "      <td>not_model</td>\n",
       "      <td>call</td>\n",
       "      <td>realestate</td>\n",
       "    </tr>\n",
       "  </tbody>\n",
       "</table>\n",
       "</div>"
      ],
      "text/plain": [
       "               smt_decision_makerid delivery_date  \\\n",
       "0  d07201565c46a7ff8544574ad3410cc8    2024-12-05   \n",
       "1  d07201565c46a7ff8544574ad3410cc8    2024-12-03   \n",
       "2  cd71ba6d85a7e0c379e54892a6b931de    2024-10-02   \n",
       "3  340dd300a3093e8120264d701ca9f73c    2024-12-03   \n",
       "4  340dd300a3093e8120264d701ca9f73c    2024-12-10   \n",
       "\n",
       "                               hash  \\\n",
       "0  91e093035c50c368832552e8b174e740   \n",
       "1  91e093035c50c368832552e8b174e740   \n",
       "2  4df189d22038fd188fef0ec54a9cba6c   \n",
       "3  ef401fc6177a7592861c437cb6ce728b   \n",
       "4  ef401fc6177a7592861c437cb6ce728b   \n",
       "\n",
       "                                       campaign_name segment_name ab_group  \\\n",
       "0  [prod] [batch] [241204] [SMS] Первичная недвиж...    DSML-1844   target   \n",
       "1  [run] [241031] Первичная недвижимость После зв...         None   target   \n",
       "2  [batch] [241002] [SMS] Первичная недвижимость ...    DSML-1814   target   \n",
       "3  [batch] [241203] [SMS] [МСК] Первичная недвижи...    CMPG-3843  control   \n",
       "4  [batch] [241203] [SMS] [МСК] Первичная недвижи...    CMPG-3843  control   \n",
       "\n",
       "  tag_channel tag_category tag_campaign_type tag_product tag_project_type  \\\n",
       "0         sms   RealEstate            Active  realestate         not_izhs   \n",
       "1          wa   RealEstate            Active  realestate         not_izhs   \n",
       "2         sms   RealEstate            Active  realestate         not_izhs   \n",
       "3         sms   RealEstate            Active  realestate         not_izhs   \n",
       "4         sms   RealEstate            Active  realestate         not_izhs   \n",
       "\n",
       "  tag_project_region tag_discount_flag tag_chain_flag tag_model_flag  \\\n",
       "0               mimo      not_discount      not_chain          model   \n",
       "1                all      not_discount      not_chain      not_model   \n",
       "2                all      not_discount      not_chain          model   \n",
       "3               mimo      not_discount          chain      not_model   \n",
       "4               mimo      not_discount          chain      not_model   \n",
       "\n",
       "  target_event tag_realestate_flag  \n",
       "0         sale          realestate  \n",
       "1  appointment          realestate  \n",
       "2  appointment          realestate  \n",
       "3         call          realestate  \n",
       "4         call          realestate  "
      ]
     },
     "execution_count": 4,
     "metadata": {},
     "output_type": "execute_result"
    }
   ],
   "source": [
    "df_campaigns = pd.read_feather('campaigns.feather')\n",
    "df_campaigns.head()"
   ]
  },
  {
   "cell_type": "code",
   "execution_count": 6,
   "id": "204b9ff5-8b18-40fb-a4e7-5a5c89290d10",
   "metadata": {
    "tags": []
   },
   "outputs": [],
   "source": [
    "df_campaigns.drop_duplicates(inplace = True)"
   ]
  },
  {
   "cell_type": "code",
   "execution_count": 7,
   "id": "fa5fcef8-fc0b-4eb2-8981-f25b7425476c",
   "metadata": {
    "tags": []
   },
   "outputs": [
    {
     "name": "stdout",
     "output_type": "stream",
     "text": [
      "<class 'pandas.core.frame.DataFrame'>\n",
      "Index: 1428378 entries, 0 to 1999635\n",
      "Data columns (total 17 columns):\n",
      " #   Column                Non-Null Count    Dtype \n",
      "---  ------                --------------    ----- \n",
      " 0   smt_decision_makerid  1428378 non-null  object\n",
      " 1   delivery_date         1428378 non-null  object\n",
      " 2   hash                  1428378 non-null  object\n",
      " 3   campaign_name         1428378 non-null  object\n",
      " 4   segment_name          1428378 non-null  object\n",
      " 5   ab_group              1428378 non-null  object\n",
      " 6   tag_channel           1428378 non-null  object\n",
      " 7   tag_category          1428378 non-null  object\n",
      " 8   tag_campaign_type     1428378 non-null  object\n",
      " 9   tag_product           1428378 non-null  object\n",
      " 10  tag_project_type      1428378 non-null  object\n",
      " 11  tag_project_region    1428378 non-null  object\n",
      " 12  tag_discount_flag     1428378 non-null  object\n",
      " 13  tag_chain_flag        1428378 non-null  object\n",
      " 14  tag_model_flag        1428378 non-null  object\n",
      " 15  target_event          1428378 non-null  object\n",
      " 16  tag_realestate_flag   1428378 non-null  object\n",
      "dtypes: object(17)\n",
      "memory usage: 196.2+ MB\n"
     ]
    }
   ],
   "source": [
    "df_campaigns.info()"
   ]
  },
  {
   "cell_type": "code",
   "execution_count": 10,
   "id": "b0f8d077-2b6f-4b83-aaf0-dc61ada809e0",
   "metadata": {
    "tags": []
   },
   "outputs": [],
   "source": [
    "df_campaigns['delivery_date'] = pd.to_datetime(df_campaigns['delivery_date'])"
   ]
  },
  {
   "cell_type": "code",
   "execution_count": 12,
   "id": "0e988a55-936a-4e2f-9d32-bcf976bb92dc",
   "metadata": {
    "tags": []
   },
   "outputs": [
    {
     "data": {
      "text/plain": [
       "target_event\n",
       "call           934124\n",
       "appointment    231710\n",
       "sale            95000\n",
       "reservation     86139\n",
       "клик            81405\n",
       "Name: count, dtype: int64"
      ]
     },
     "execution_count": 12,
     "metadata": {},
     "output_type": "execute_result"
    }
   ],
   "source": [
    "df_campaigns.target_event.value_counts()"
   ]
  },
  {
   "cell_type": "code",
   "execution_count": 14,
   "id": "cf4e021c-8f27-4296-825c-c58a018eb607",
   "metadata": {},
   "outputs": [],
   "source": [
    "# sale = deal ???\n",
    "df_campaigns['target_event'] = df_campaigns['target_event'].replace({'sale': 'deal'})"
   ]
  },
  {
   "cell_type": "code",
   "execution_count": 16,
   "id": "d34f741a-5f87-4e5b-81af-433aee96d8d1",
   "metadata": {
    "tags": []
   },
   "outputs": [],
   "source": [
    "df_campaigns = df_campaigns[df_campaigns.target_event.isin(['call','appointment','reservation','deal'])]"
   ]
  },
  {
   "cell_type": "code",
   "execution_count": 18,
   "id": "346a07f1-eb73-40b8-9179-cc087058577f",
   "metadata": {
    "tags": []
   },
   "outputs": [],
   "source": [
    "df_campaigns['previous_sunday'] = df_campaigns['delivery_date'].apply(lambda x: x - pd.to_timedelta((x.weekday() + 1) % 7, unit='D'))"
   ]
  },
  {
   "cell_type": "code",
   "execution_count": 19,
   "id": "2f4371a3-4ca3-4248-8250-714aa8149560",
   "metadata": {
    "tags": []
   },
   "outputs": [
    {
     "name": "stdout",
     "output_type": "stream",
     "text": [
      " Уникальных клиентов в датасете 443774\n"
     ]
    }
   ],
   "source": [
    "print(f' Уникальных клиентов в датасете {df_campaigns.smt_decision_makerid.nunique()}')"
   ]
  },
  {
   "cell_type": "code",
   "execution_count": 20,
   "id": "a3da077c-3fa4-4894-8a46-df828e20b696",
   "metadata": {
    "tags": []
   },
   "outputs": [
    {
     "name": "stdout",
     "output_type": "stream",
     "text": [
      " Уникальных коммуникаций в датасете 1346973\n"
     ]
    }
   ],
   "source": [
    "print(f' Уникальных коммуникаций в датасете {len(df_campaigns)}')"
   ]
  },
  {
   "cell_type": "code",
   "execution_count": 21,
   "id": "c126e758-f20d-4119-b3c3-bba1be881164",
   "metadata": {
    "tags": []
   },
   "outputs": [
    {
     "name": "stdout",
     "output_type": "stream",
     "text": [
      " Коммуникации собраны с 2024-09-02 00:00:00 до 2024-12-31 00:00:00\n"
     ]
    }
   ],
   "source": [
    "print(f' Коммуникации собраны с {df_campaigns.delivery_date.min()} до {df_campaigns.delivery_date.max()}')"
   ]
  },
  {
   "cell_type": "markdown",
   "id": "8b07903e-40d9-4e98-bc0a-77331beaca21",
   "metadata": {
    "tags": []
   },
   "source": [
    "### df_targets - действия баеров по воронке"
   ]
  },
  {
   "cell_type": "code",
   "execution_count": 56,
   "id": "a6c39a4c-aed1-4a28-8e67-b86ad3278278",
   "metadata": {
    "tags": []
   },
   "outputs": [
    {
     "data": {
      "text/html": [
       "<div>\n",
       "<style scoped>\n",
       "    .dataframe tbody tr th:only-of-type {\n",
       "        vertical-align: middle;\n",
       "    }\n",
       "\n",
       "    .dataframe tbody tr th {\n",
       "        vertical-align: top;\n",
       "    }\n",
       "\n",
       "    .dataframe thead th {\n",
       "        text-align: right;\n",
       "    }\n",
       "</style>\n",
       "<table border=\"1\" class=\"dataframe\">\n",
       "  <thead>\n",
       "    <tr style=\"text-align: right;\">\n",
       "      <th></th>\n",
       "      <th>smt_decision_makerid</th>\n",
       "      <th>report_date</th>\n",
       "      <th>event</th>\n",
       "      <th>tag_event_feature</th>\n",
       "      <th>tag_event_project_type</th>\n",
       "      <th>tag_event_project_region</th>\n",
       "    </tr>\n",
       "  </thead>\n",
       "  <tbody>\n",
       "    <tr>\n",
       "      <th>23</th>\n",
       "      <td>4f9080e1ab09fba6dcbbda752005bde9</td>\n",
       "      <td>2024-10-21 07:52:33</td>\n",
       "      <td>call</td>\n",
       "      <td>outgoing__unknown__secondary</td>\n",
       "      <td>None</td>\n",
       "      <td>None</td>\n",
       "    </tr>\n",
       "    <tr>\n",
       "      <th>24</th>\n",
       "      <td>4f9080e1ab09fba6dcbbda752005bde9</td>\n",
       "      <td>2024-10-19 13:39:08</td>\n",
       "      <td>call</td>\n",
       "      <td>outgoing__unknown__secondary</td>\n",
       "      <td>None</td>\n",
       "      <td>None</td>\n",
       "    </tr>\n",
       "    <tr>\n",
       "      <th>25</th>\n",
       "      <td>4f9080e1ab09fba6dcbbda752005bde9</td>\n",
       "      <td>2024-10-19 13:35:00</td>\n",
       "      <td>call</td>\n",
       "      <td>ingoing__unknown__primary</td>\n",
       "      <td>None</td>\n",
       "      <td>None</td>\n",
       "    </tr>\n",
       "    <tr>\n",
       "      <th>26</th>\n",
       "      <td>4f9080e1ab09fba6dcbbda752005bde9</td>\n",
       "      <td>2024-10-19 13:39:05</td>\n",
       "      <td>decision_maker</td>\n",
       "      <td>None</td>\n",
       "      <td>None</td>\n",
       "      <td>None</td>\n",
       "    </tr>\n",
       "    <tr>\n",
       "      <th>28</th>\n",
       "      <td>8c7a245f36d9d5104f14c0edb900d5f5</td>\n",
       "      <td>2024-09-26 12:13:32</td>\n",
       "      <td>decision_maker</td>\n",
       "      <td>None</td>\n",
       "      <td>None</td>\n",
       "      <td>None</td>\n",
       "    </tr>\n",
       "  </tbody>\n",
       "</table>\n",
       "</div>"
      ],
      "text/plain": [
       "                smt_decision_makerid         report_date           event  \\\n",
       "23  4f9080e1ab09fba6dcbbda752005bde9 2024-10-21 07:52:33            call   \n",
       "24  4f9080e1ab09fba6dcbbda752005bde9 2024-10-19 13:39:08            call   \n",
       "25  4f9080e1ab09fba6dcbbda752005bde9 2024-10-19 13:35:00            call   \n",
       "26  4f9080e1ab09fba6dcbbda752005bde9 2024-10-19 13:39:05  decision_maker   \n",
       "28  8c7a245f36d9d5104f14c0edb900d5f5 2024-09-26 12:13:32  decision_maker   \n",
       "\n",
       "               tag_event_feature tag_event_project_type  \\\n",
       "23  outgoing__unknown__secondary                   None   \n",
       "24  outgoing__unknown__secondary                   None   \n",
       "25     ingoing__unknown__primary                   None   \n",
       "26                          None                   None   \n",
       "28                          None                   None   \n",
       "\n",
       "   tag_event_project_region  \n",
       "23                     None  \n",
       "24                     None  \n",
       "25                     None  \n",
       "26                     None  \n",
       "28                     None  "
      ]
     },
     "execution_count": 56,
     "metadata": {},
     "output_type": "execute_result"
    }
   ],
   "source": [
    "df_targets = pd.read_feather('targets.feather')\n",
    "df_targets.head()"
   ]
  },
  {
   "cell_type": "code",
   "execution_count": 58,
   "id": "13a14fc0-2668-432a-98cb-d520882255b5",
   "metadata": {
    "tags": []
   },
   "outputs": [
    {
     "name": "stdout",
     "output_type": "stream",
     "text": [
      "<class 'pandas.core.frame.DataFrame'>\n",
      "Index: 1671854 entries, 23 to 7761312\n",
      "Data columns (total 6 columns):\n",
      " #   Column                    Non-Null Count    Dtype         \n",
      "---  ------                    --------------    -----         \n",
      " 0   smt_decision_makerid      1671854 non-null  object        \n",
      " 1   report_date               1671854 non-null  datetime64[ns]\n",
      " 2   event                     1671854 non-null  object        \n",
      " 3   tag_event_feature         1303597 non-null  object        \n",
      " 4   tag_event_project_type    857872 non-null   object        \n",
      " 5   tag_event_project_region  857872 non-null   object        \n",
      "dtypes: datetime64[ns](1), object(5)\n",
      "memory usage: 89.3+ MB\n"
     ]
    }
   ],
   "source": [
    "df_targets.info()"
   ]
  },
  {
   "cell_type": "code",
   "execution_count": 60,
   "id": "f9231f69-4dae-4e96-ace3-527572a2a0d1",
   "metadata": {
    "tags": []
   },
   "outputs": [],
   "source": [
    "df_targets['event_dt'] = pd.to_datetime(df_targets['report_date']).dt.date"
   ]
  },
  {
   "cell_type": "code",
   "execution_count": 62,
   "id": "76db7b9c-7c09-4780-a62d-7c4f833fa605",
   "metadata": {
    "tags": []
   },
   "outputs": [],
   "source": [
    "df_targets.drop_duplicates(inplace = True)"
   ]
  },
  {
   "cell_type": "code",
   "execution_count": 63,
   "id": "8c0cd09e-969c-44b1-b14c-3ebf8ba4bd91",
   "metadata": {
    "tags": []
   },
   "outputs": [
    {
     "name": "stdout",
     "output_type": "stream",
     "text": [
      "Всего ЦД в датасете 1662142\n"
     ]
    }
   ],
   "source": [
    "print(f'Всего ЦД в датасете {len(df_targets)}')"
   ]
  },
  {
   "cell_type": "code",
   "execution_count": 64,
   "id": "69e84c03-6b0c-4924-8ecb-61e334a38ecc",
   "metadata": {
    "tags": []
   },
   "outputs": [
    {
     "name": "stdout",
     "output_type": "stream",
     "text": [
      "Уникальных клиентов в датасете 401628\n"
     ]
    }
   ],
   "source": [
    "print(f'Уникальных клиентов в датасете {df_targets.smt_decision_makerid.nunique()}')"
   ]
  },
  {
   "cell_type": "code",
   "execution_count": 68,
   "id": "74332675-e783-4eb5-a136-f514f305d849",
   "metadata": {
    "tags": []
   },
   "outputs": [
    {
     "name": "stdout",
     "output_type": "stream",
     "text": [
      "Уникальных цд в датасете 13\n"
     ]
    }
   ],
   "source": [
    "print(f'Уникальных цд в датасете {df_targets.event.nunique()}')"
   ]
  },
  {
   "cell_type": "code",
   "execution_count": 70,
   "id": "29db0c28-d084-4bd8-a62a-ce126bdbaeca",
   "metadata": {
    "tags": []
   },
   "outputs": [
    {
     "name": "stdout",
     "output_type": "stream",
     "text": [
      " ЦД собраны с 2024-09-01 00:03:59 до 2024-12-31 23:49:47\n"
     ]
    }
   ],
   "source": [
    "print(f' ЦД собраны с {df_targets.report_date.min()} до {df_targets.report_date.max()}')"
   ]
  },
  {
   "cell_type": "code",
   "execution_count": 72,
   "id": "16b96d1f-b7ba-4895-b143-0a45cd58a516",
   "metadata": {
    "tags": []
   },
   "outputs": [
    {
     "data": {
      "text/plain": [
       "event\n",
       "call              1044409\n",
       "decision_maker     271063\n",
       "specific_pick      134872\n",
       "appointment         71377\n",
       "wishlist            66628\n",
       "reservation         20043\n",
       "deal                16961\n",
       "sale                14100\n",
       "residential          8706\n",
       "mortgage_app         8099\n",
       "web_app              2977\n",
       "tradein_app          2841\n",
       "levelup_app            66\n",
       "Name: count, dtype: int64"
      ]
     },
     "execution_count": 72,
     "metadata": {},
     "output_type": "execute_result"
    }
   ],
   "source": [
    "df_targets.event.value_counts()"
   ]
  },
  {
   "cell_type": "code",
   "execution_count": 74,
   "id": "08a175a7-161c-40e5-a3ae-33cf015e5d49",
   "metadata": {
    "tags": []
   },
   "outputs": [],
   "source": [
    "# нам нужны только 4 -> звонок, встреча, бронь, покупка (?)\n",
    "# call, appointment, reservation, deal"
   ]
  },
  {
   "cell_type": "code",
   "execution_count": 76,
   "id": "8fb6ea3d-a10a-4d54-87b3-46617a8de56b",
   "metadata": {
    "tags": []
   },
   "outputs": [],
   "source": [
    "# фильтруем df_targets, оставляя только нужные цд"
   ]
  },
  {
   "cell_type": "code",
   "execution_count": 78,
   "id": "5eb7729a-a72f-4d62-aa51-3286fd626c36",
   "metadata": {
    "tags": []
   },
   "outputs": [],
   "source": [
    "# объединяю sale и deal\n",
    "df_targets['event'] = df_targets['event'].replace({'sale': 'deal'})"
   ]
  },
  {
   "cell_type": "code",
   "execution_count": 80,
   "id": "6df9cb98-9e38-4a3c-a50e-b9d2097d9a4c",
   "metadata": {
    "tags": []
   },
   "outputs": [],
   "source": [
    "df_targets = df_targets[df_targets.event.isin(['call', 'appointment','reservation','deal'])]"
   ]
  },
  {
   "cell_type": "code",
   "execution_count": 82,
   "id": "70d0f429-f526-4b81-b9b3-c2e0f08134c3",
   "metadata": {
    "tags": []
   },
   "outputs": [
    {
     "name": "stdout",
     "output_type": "stream",
     "text": [
      "Всего ЦД в датасете 1166890\n"
     ]
    }
   ],
   "source": [
    "print(f'Всего ЦД в датасете {len(df_targets)}')"
   ]
  },
  {
   "cell_type": "code",
   "execution_count": 84,
   "id": "29b25f3a-1f6b-4667-bdd3-04db2ac65d49",
   "metadata": {
    "tags": []
   },
   "outputs": [
    {
     "name": "stdout",
     "output_type": "stream",
     "text": [
      "Уникальных клиентов в датасете 343719\n"
     ]
    }
   ],
   "source": [
    "print(f'Уникальных клиентов в датасете {df_targets.smt_decision_makerid.nunique()}')"
   ]
  },
  {
   "cell_type": "code",
   "execution_count": 86,
   "id": "841f5523-9934-42bd-916f-be929b5b62ae",
   "metadata": {
    "tags": []
   },
   "outputs": [
    {
     "name": "stdout",
     "output_type": "stream",
     "text": [
      "Уникальных цд в датасете 4\n"
     ]
    }
   ],
   "source": [
    "print(f'Уникальных цд в датасете {df_targets.event.nunique()}')"
   ]
  },
  {
   "cell_type": "code",
   "execution_count": 88,
   "id": "e44c3673-a2a7-4ee6-8f6f-329b165b8be5",
   "metadata": {
    "tags": []
   },
   "outputs": [
    {
     "name": "stdout",
     "output_type": "stream",
     "text": [
      " ЦД собраны с 2024-09-01 00:03:59 до 2024-12-31 23:36:16\n"
     ]
    }
   ],
   "source": [
    "print(f' ЦД собраны с {df_targets.report_date.min()} до {df_targets.report_date.max()}')"
   ]
  },
  {
   "cell_type": "code",
   "execution_count": 379,
   "id": "dfd2f3be-4331-4139-b48f-986bf449c149",
   "metadata": {
    "tags": []
   },
   "outputs": [
    {
     "data": {
      "image/png": "[encoded data removed]",
      "text/plain": [
       "<Figure size 600x600 with 1 Axes>"
      ]
     },
     "metadata": {},
     "output_type": "display_data"
    }
   ],
   "source": [
    "import matplotlib.pyplot as plt\n",
    "from matplotlib.patches import Polygon\n",
    "\n",
    "# Шаги воронки и относительные ширины\n",
    "levels = [\"Звонок\", \"Встреча\", \"Бронирование\", \"Покупка\"]\n",
    "widths = [1.5, 0.8, 0.5, 0.25]  # относительные ширины слоёв\n",
    "y_positions = [0, 1, 2, 3]  # расположение слоёв (0 сверху, 3 снизу)\n",
    "\n",
    "# Приятный пастельный цвет\n",
    "fill_color = \"#6CA6CD\"  # небесно-голубой\n",
    "\n",
    "fig, ax = plt.subplots(figsize=(6, 6))\n",
    "\n",
    "# Рисуем слои воронки сверху вниз\n",
    "for y, width, label in zip(y_positions, widths, levels):\n",
    "    left = (1 - width) / 2\n",
    "    right = left + width\n",
    "    polygon = Polygon([[left, y], [right, y], [right, y+1], [left, y+1]],\n",
    "                       closed=True, facecolor=fill_color, edgecolor='black')\n",
    "    ax.add_patch(polygon)\n",
    "    ax.text(0.5, y + 0.5, label, va='center', ha='center', fontsize=12, color='white')\n",
    "\n",
    "# Инвертируем ось Y, чтобы слой y=0 был сверху\n",
    "ax.set_xlim(0, 1)\n",
    "ax.set_ylim(0, 4)\n",
    "ax.invert_yaxis()\n",
    "ax.axis('off')\n",
    "plt.title(\"Воронка продаж в ГК Самолёт\", pad=20)\n",
    "plt.tight_layout()\n",
    "plt.show()\n"
   ]
  },
  {
   "cell_type": "markdown",
   "id": "549fc310-afd6-4b49-980f-3fe42d27a531",
   "metadata": {
    "tags": []
   },
   "source": [
    "### duf -> dataframe user features"
   ]
  },
  {
   "cell_type": "code",
   "execution_count": 90,
   "id": "f69f45c2-220d-426f-b169-52aabb9292ca",
   "metadata": {
    "tags": []
   },
   "outputs": [
    {
     "data": {
      "text/html": [
       "<div>\n",
       "<style scoped>\n",
       "    .dataframe tbody tr th:only-of-type {\n",
       "        vertical-align: middle;\n",
       "    }\n",
       "\n",
       "    .dataframe tbody tr th {\n",
       "        vertical-align: top;\n",
       "    }\n",
       "\n",
       "    .dataframe thead th {\n",
       "        text-align: right;\n",
       "    }\n",
       "</style>\n",
       "<table border=\"1\" class=\"dataframe\">\n",
       "  <thead>\n",
       "    <tr style=\"text-align: right;\">\n",
       "      <th></th>\n",
       "      <th>specific_picks__g_client__specific_picks__count__180D</th>\n",
       "      <th>specific_picks__g_client__specific_picks__count__365D</th>\n",
       "      <th>specific_picks__g_client__specific_picks__count__THIS_MONTH</th>\n",
       "      <th>specific_picks__g_client__specific_picks__count__ALL_TIME</th>\n",
       "      <th>specific_picks__g_client__sp_buy_rent__count__60D</th>\n",
       "      <th>specific_picks__g_client__sp_buy_rent__count__90D</th>\n",
       "      <th>specific_picks__g_client__sp_buy_rent__count__180D</th>\n",
       "      <th>specific_picks__g_client__sp_buy_rent__count__365D</th>\n",
       "      <th>specific_picks__g_client__sp_buy_rent__count__THIS_MONTH</th>\n",
       "      <th>specific_picks__g_client__sp_buy_rent__count__ALL_TIME</th>\n",
       "      <th>...</th>\n",
       "      <th>wishlists__g_client__crm_objects__smt_sale_price_rooms_2__avg__avg__180D</th>\n",
       "      <th>wishlists__g_client__crm_objects__flag_finishing__avg__avg__180D</th>\n",
       "      <th>wishlists__g_client__crm_objects__flag_finishing__avg__avg__365D</th>\n",
       "      <th>wishlists__g_client__crm_objects__flag_finishing__avg__avg__ALL_TIME</th>\n",
       "      <th>wishlists__g_client__wl_createdon__min__ALL_TIME</th>\n",
       "      <th>wishlists__g_client__wl_createdon__max__180D</th>\n",
       "      <th>wishlists__g_client__wl_createdon__max__ALL_TIME</th>\n",
       "      <th>smt_decision_makerid_hash</th>\n",
       "      <th>delivery_date</th>\n",
       "      <th>report_date</th>\n",
       "    </tr>\n",
       "  </thead>\n",
       "  <tbody>\n",
       "    <tr>\n",
       "      <th>0</th>\n",
       "      <td>1.0</td>\n",
       "      <td>1.0</td>\n",
       "      <td>0.0</td>\n",
       "      <td>2.0</td>\n",
       "      <td>0.0</td>\n",
       "      <td>0.0</td>\n",
       "      <td>1.0</td>\n",
       "      <td>1.0</td>\n",
       "      <td>0.0</td>\n",
       "      <td>2.0</td>\n",
       "      <td>...</td>\n",
       "      <td>NaN</td>\n",
       "      <td>NaN</td>\n",
       "      <td>NaN</td>\n",
       "      <td>NaN</td>\n",
       "      <td>NaN</td>\n",
       "      <td>NaN</td>\n",
       "      <td>NaN</td>\n",
       "      <td>cf95f46d6f8c1c08090402da8bcc8866</td>\n",
       "      <td>2024-10-16</td>\n",
       "      <td>2024-10-13</td>\n",
       "    </tr>\n",
       "    <tr>\n",
       "      <th>1</th>\n",
       "      <td>NaN</td>\n",
       "      <td>NaN</td>\n",
       "      <td>NaN</td>\n",
       "      <td>NaN</td>\n",
       "      <td>NaN</td>\n",
       "      <td>NaN</td>\n",
       "      <td>NaN</td>\n",
       "      <td>NaN</td>\n",
       "      <td>NaN</td>\n",
       "      <td>NaN</td>\n",
       "      <td>...</td>\n",
       "      <td>NaN</td>\n",
       "      <td>NaN</td>\n",
       "      <td>NaN</td>\n",
       "      <td>NaN</td>\n",
       "      <td>NaN</td>\n",
       "      <td>NaN</td>\n",
       "      <td>NaN</td>\n",
       "      <td>a024eeadd2a9bc8597d91126a11df815</td>\n",
       "      <td>2024-12-18</td>\n",
       "      <td>2024-12-15</td>\n",
       "    </tr>\n",
       "    <tr>\n",
       "      <th>2</th>\n",
       "      <td>1.0</td>\n",
       "      <td>1.0</td>\n",
       "      <td>0.0</td>\n",
       "      <td>1.0</td>\n",
       "      <td>0.0</td>\n",
       "      <td>1.0</td>\n",
       "      <td>1.0</td>\n",
       "      <td>1.0</td>\n",
       "      <td>0.0</td>\n",
       "      <td>1.0</td>\n",
       "      <td>...</td>\n",
       "      <td>NaN</td>\n",
       "      <td>NaN</td>\n",
       "      <td>NaN</td>\n",
       "      <td>NaN</td>\n",
       "      <td>NaN</td>\n",
       "      <td>NaN</td>\n",
       "      <td>NaN</td>\n",
       "      <td>823fc0f3c42feb6fdfa437ef138f71af</td>\n",
       "      <td>2024-12-09</td>\n",
       "      <td>2024-12-08</td>\n",
       "    </tr>\n",
       "    <tr>\n",
       "      <th>3</th>\n",
       "      <td>NaN</td>\n",
       "      <td>NaN</td>\n",
       "      <td>NaN</td>\n",
       "      <td>NaN</td>\n",
       "      <td>NaN</td>\n",
       "      <td>NaN</td>\n",
       "      <td>NaN</td>\n",
       "      <td>NaN</td>\n",
       "      <td>NaN</td>\n",
       "      <td>NaN</td>\n",
       "      <td>...</td>\n",
       "      <td>NaN</td>\n",
       "      <td>NaN</td>\n",
       "      <td>NaN</td>\n",
       "      <td>NaN</td>\n",
       "      <td>NaN</td>\n",
       "      <td>NaN</td>\n",
       "      <td>NaN</td>\n",
       "      <td>29d749a479f6a50c12f66a66e74f873f</td>\n",
       "      <td>2024-10-29</td>\n",
       "      <td>2024-10-27</td>\n",
       "    </tr>\n",
       "    <tr>\n",
       "      <th>4</th>\n",
       "      <td>NaN</td>\n",
       "      <td>NaN</td>\n",
       "      <td>NaN</td>\n",
       "      <td>NaN</td>\n",
       "      <td>NaN</td>\n",
       "      <td>NaN</td>\n",
       "      <td>NaN</td>\n",
       "      <td>NaN</td>\n",
       "      <td>NaN</td>\n",
       "      <td>NaN</td>\n",
       "      <td>...</td>\n",
       "      <td>NaN</td>\n",
       "      <td>NaN</td>\n",
       "      <td>NaN</td>\n",
       "      <td>NaN</td>\n",
       "      <td>NaN</td>\n",
       "      <td>NaN</td>\n",
       "      <td>NaN</td>\n",
       "      <td>17f4b76507545dab3ace58ecee673269</td>\n",
       "      <td>2024-10-11</td>\n",
       "      <td>2024-10-06</td>\n",
       "    </tr>\n",
       "  </tbody>\n",
       "</table>\n",
       "<p>5 rows × 363 columns</p>\n",
       "</div>"
      ],
      "text/plain": [
       "   specific_picks__g_client__specific_picks__count__180D  \\\n",
       "0                                                1.0       \n",
       "1                                                NaN       \n",
       "2                                                1.0       \n",
       "3                                                NaN       \n",
       "4                                                NaN       \n",
       "\n",
       "   specific_picks__g_client__specific_picks__count__365D  \\\n",
       "0                                                1.0       \n",
       "1                                                NaN       \n",
       "2                                                1.0       \n",
       "3                                                NaN       \n",
       "4                                                NaN       \n",
       "\n",
       "   specific_picks__g_client__specific_picks__count__THIS_MONTH  \\\n",
       "0                                                0.0             \n",
       "1                                                NaN             \n",
       "2                                                0.0             \n",
       "3                                                NaN             \n",
       "4                                                NaN             \n",
       "\n",
       "   specific_picks__g_client__specific_picks__count__ALL_TIME  \\\n",
       "0                                                2.0           \n",
       "1                                                NaN           \n",
       "2                                                1.0           \n",
       "3                                                NaN           \n",
       "4                                                NaN           \n",
       "\n",
       "   specific_picks__g_client__sp_buy_rent__count__60D  \\\n",
       "0                                                0.0   \n",
       "1                                                NaN   \n",
       "2                                                0.0   \n",
       "3                                                NaN   \n",
       "4                                                NaN   \n",
       "\n",
       "   specific_picks__g_client__sp_buy_rent__count__90D  \\\n",
       "0                                                0.0   \n",
       "1                                                NaN   \n",
       "2                                                1.0   \n",
       "3                                                NaN   \n",
       "4                                                NaN   \n",
       "\n",
       "   specific_picks__g_client__sp_buy_rent__count__180D  \\\n",
       "0                                                1.0    \n",
       "1                                                NaN    \n",
       "2                                                1.0    \n",
       "3                                                NaN    \n",
       "4                                                NaN    \n",
       "\n",
       "   specific_picks__g_client__sp_buy_rent__count__365D  \\\n",
       "0                                                1.0    \n",
       "1                                                NaN    \n",
       "2                                                1.0    \n",
       "3                                                NaN    \n",
       "4                                                NaN    \n",
       "\n",
       "   specific_picks__g_client__sp_buy_rent__count__THIS_MONTH  \\\n",
       "0                                                0.0          \n",
       "1                                                NaN          \n",
       "2                                                0.0          \n",
       "3                                                NaN          \n",
       "4                                                NaN          \n",
       "\n",
       "   specific_picks__g_client__sp_buy_rent__count__ALL_TIME  ...  \\\n",
       "0                                                2.0       ...   \n",
       "1                                                NaN       ...   \n",
       "2                                                1.0       ...   \n",
       "3                                                NaN       ...   \n",
       "4                                                NaN       ...   \n",
       "\n",
       "   wishlists__g_client__crm_objects__smt_sale_price_rooms_2__avg__avg__180D  \\\n",
       "0                                                NaN                          \n",
       "1                                                NaN                          \n",
       "2                                                NaN                          \n",
       "3                                                NaN                          \n",
       "4                                                NaN                          \n",
       "\n",
       "   wishlists__g_client__crm_objects__flag_finishing__avg__avg__180D  \\\n",
       "0                                                NaN                  \n",
       "1                                                NaN                  \n",
       "2                                                NaN                  \n",
       "3                                                NaN                  \n",
       "4                                                NaN                  \n",
       "\n",
       "   wishlists__g_client__crm_objects__flag_finishing__avg__avg__365D  \\\n",
       "0                                                NaN                  \n",
       "1                                                NaN                  \n",
       "2                                                NaN                  \n",
       "3                                                NaN                  \n",
       "4                                                NaN                  \n",
       "\n",
       "   wishlists__g_client__crm_objects__flag_finishing__avg__avg__ALL_TIME  \\\n",
       "0                                                NaN                      \n",
       "1                                                NaN                      \n",
       "2                                                NaN                      \n",
       "3                                                NaN                      \n",
       "4                                                NaN                      \n",
       "\n",
       "   wishlists__g_client__wl_createdon__min__ALL_TIME  \\\n",
       "0                                               NaN   \n",
       "1                                               NaN   \n",
       "2                                               NaN   \n",
       "3                                               NaN   \n",
       "4                                               NaN   \n",
       "\n",
       "   wishlists__g_client__wl_createdon__max__180D  \\\n",
       "0                                           NaN   \n",
       "1                                           NaN   \n",
       "2                                           NaN   \n",
       "3                                           NaN   \n",
       "4                                           NaN   \n",
       "\n",
       "   wishlists__g_client__wl_createdon__max__ALL_TIME  \\\n",
       "0                                               NaN   \n",
       "1                                               NaN   \n",
       "2                                               NaN   \n",
       "3                                               NaN   \n",
       "4                                               NaN   \n",
       "\n",
       "          smt_decision_makerid_hash  delivery_date  report_date  \n",
       "0  cf95f46d6f8c1c08090402da8bcc8866     2024-10-16   2024-10-13  \n",
       "1  a024eeadd2a9bc8597d91126a11df815     2024-12-18   2024-12-15  \n",
       "2  823fc0f3c42feb6fdfa437ef138f71af     2024-12-09   2024-12-08  \n",
       "3  29d749a479f6a50c12f66a66e74f873f     2024-10-29   2024-10-27  \n",
       "4  17f4b76507545dab3ace58ecee673269     2024-10-11   2024-10-06  \n",
       "\n",
       "[5 rows x 363 columns]"
      ]
     },
     "execution_count": 90,
     "metadata": {},
     "output_type": "execute_result"
    }
   ],
   "source": [
    "# до 400 важных фичей на клиента\n",
    "duf = pd.read_feather('data_for_students_features_sample_400cols.feather')\n",
    "duf.head()"
   ]
  },
  {
   "cell_type": "code",
   "execution_count": 91,
   "id": "d4fa77f7-e293-435a-84cc-345bf399dd86",
   "metadata": {
    "tags": []
   },
   "outputs": [],
   "source": [
    "# меняем название на привычный user_id\n",
    "duf.rename(columns={'smt_decision_makerid_hash': 'smt_decision_makerid'}, inplace=True)"
   ]
  },
  {
   "cell_type": "code",
   "execution_count": 92,
   "id": "777d52bd-b1b9-412c-b9a3-262996108e8f",
   "metadata": {
    "tags": []
   },
   "outputs": [],
   "source": [
    "# duf['previous_sunday'] = duf['delivery_date'].apply(lambda x: x - pd.to_timedelta((x.weekday() + 1) % 7, unit='D'))"
   ]
  },
  {
   "cell_type": "code",
   "execution_count": 96,
   "id": "eaa5b348-222d-40f9-a8e3-8034f6a01706",
   "metadata": {
    "tags": []
   },
   "outputs": [],
   "source": [
    "duf['report_date'] = pd.to_datetime(duf['report_date'])\n",
    "duf['delivery_date'] = pd.to_datetime(duf['delivery_date'])"
   ]
  },
  {
   "cell_type": "code",
   "execution_count": 98,
   "id": "3d7e61b6-3b8c-4c4a-af16-53f0de79b20e",
   "metadata": {
    "tags": []
   },
   "outputs": [],
   "source": [
    "# берём строки из duf только до 15.12, потому что таргет до конца 24\n",
    "duf = duf[duf.report_date<='2024-12-15']"
   ]
  },
  {
   "cell_type": "code",
   "execution_count": 99,
   "id": "9b6b7038-2a67-4acc-a3ad-d88bc7ac10bd",
   "metadata": {
    "tags": []
   },
   "outputs": [],
   "source": [
    "# убираем повторяющиеся фичи юзера, которые получились в датасете в результате нескольких рассылок\n",
    "duf.drop_duplicates(subset=['smt_decision_makerid', 'report_date'], inplace=True)"
   ]
  },
  {
   "cell_type": "code",
   "execution_count": 101,
   "id": "447259c3-996d-4157-a41a-4a100a17407f",
   "metadata": {
    "tags": []
   },
   "outputs": [],
   "source": [
    "# duf - фичи клиентов на воскресенье, предшествующее коммуникации из df_campaigns\n",
    "# одна строка - клиент + фичи на дату"
   ]
  },
  {
   "cell_type": "code",
   "execution_count": 104,
   "id": "d5155b18-6f54-4821-9449-dca54f870521",
   "metadata": {
    "tags": []
   },
   "outputs": [
    {
     "name": "stdout",
     "output_type": "stream",
     "text": [
      "<class 'pandas.core.frame.DataFrame'>\n",
      "Index: 1143647 entries, 0 to 1390846\n",
      "Columns: 363 entries, specific_picks__g_client__specific_picks__count__180D to report_date\n",
      "dtypes: datetime64[ns](2), float32(360), object(1)\n",
      "memory usage: 1.6+ GB\n"
     ]
    }
   ],
   "source": [
    "duf.info()"
   ]
  },
  {
   "cell_type": "code",
   "execution_count": 106,
   "id": "9b711810-8383-42c6-9b57-eef24949077f",
   "metadata": {
    "tags": []
   },
   "outputs": [
    {
     "name": "stdout",
     "output_type": "stream",
     "text": [
      " Всего строк в датасете 1143647\n"
     ]
    }
   ],
   "source": [
    "print(f' Всего строк в датасете {len(duf)}')"
   ]
  },
  {
   "cell_type": "code",
   "execution_count": 108,
   "id": "950b16b5-fb94-4e12-aa72-ce76bfa61884",
   "metadata": {
    "tags": []
   },
   "outputs": [
    {
     "name": "stdout",
     "output_type": "stream",
     "text": [
      " Уникальных клиентов в датасете 435515\n"
     ]
    }
   ],
   "source": [
    "print(f' Уникальных клиентов в датасете {duf.smt_decision_makerid.nunique()}')"
   ]
  },
  {
   "cell_type": "code",
   "execution_count": 110,
   "id": "1e17dd55-48a2-4ba5-8772-6b7200e97b17",
   "metadata": {
    "tags": []
   },
   "outputs": [
    {
     "name": "stdout",
     "output_type": "stream",
     "text": [
      " Фичи собраны с 2024-09-01 00:00:00 до 2024-12-15 00:00:00\n"
     ]
    }
   ],
   "source": [
    "print(f' Фичи собраны с {duf.report_date.min()} до {duf.report_date.max()}')"
   ]
  },
  {
   "cell_type": "code",
   "execution_count": 112,
   "id": "f561d3d2-e701-45a6-ac26-a4aea917042b",
   "metadata": {
    "tags": []
   },
   "outputs": [],
   "source": [
    "duf.drop(columns = 'delivery_date', inplace = True)"
   ]
  },
  {
   "cell_type": "markdown",
   "id": "c83e7622-5045-4433-a4fe-a258445d7cf3",
   "metadata": {},
   "source": [
    "#### Делю на VAL и TEST датасеты"
   ]
  },
  {
   "cell_type": "code",
   "execution_count": 114,
   "id": "676b3e4d-6e8e-4264-b452-087dd500d312",
   "metadata": {
    "tags": []
   },
   "outputs": [],
   "source": [
    "# Датасет для подбора гиперпараметров"
   ]
  },
  {
   "cell_type": "code",
   "execution_count": 116,
   "id": "b3c72260-f4d4-4c83-a303-ef6780e67d3b",
   "metadata": {
    "tags": []
   },
   "outputs": [
    {
     "data": {
      "text/plain": [
       "1143647"
      ]
     },
     "execution_count": 116,
     "metadata": {},
     "output_type": "execute_result"
    }
   ],
   "source": [
    "# всего 1.1 млн -> тысяч по 150 на выборки\n",
    "len(duf)"
   ]
  },
  {
   "cell_type": "code",
   "execution_count": 118,
   "id": "5b861d22-cec1-4e4b-91db-03c2717a9e15",
   "metadata": {
    "tags": []
   },
   "outputs": [],
   "source": [
    "val_data = duf[(duf.report_date == '2024-12-08')][['smt_decision_makerid','report_date']]"
   ]
  },
  {
   "cell_type": "code",
   "execution_count": 120,
   "id": "8437b841-b1a9-48bf-9d3a-113efd8269fc",
   "metadata": {
    "tags": []
   },
   "outputs": [],
   "source": [
    "val_data.to_excel('x_val_set_for_params_tuning.xlsx')"
   ]
  },
  {
   "cell_type": "code",
   "execution_count": 121,
   "id": "f8bfd53c-3aad-40e7-989c-9b96ed195384",
   "metadata": {
    "tags": []
   },
   "outputs": [],
   "source": [
    "# Датасет для финальной проверки"
   ]
  },
  {
   "cell_type": "code",
   "execution_count": 122,
   "id": "b22cf83c-c15d-48ef-91fc-c06d3996299e",
   "metadata": {
    "tags": []
   },
   "outputs": [],
   "source": [
    "test_data = duf[(duf.report_date == '2024-12-15')][['smt_decision_makerid','report_date']]"
   ]
  },
  {
   "cell_type": "code",
   "execution_count": 123,
   "id": "937b6612-cd5d-4dc0-8a8f-0296a958f63f",
   "metadata": {
    "tags": []
   },
   "outputs": [],
   "source": [
    "test_data.to_excel('x_test_set_for_metrics_check.xlsx')"
   ]
  },
  {
   "cell_type": "markdown",
   "id": "7beeb5ee-b2ec-4187-b158-55be5a0a299d",
   "metadata": {},
   "source": [
    "## Логика"
   ]
  },
  {
   "cell_type": "code",
   "execution_count": 132,
   "id": "116cf05e-4e32-4ca4-8c9a-7367f08bc062",
   "metadata": {
    "tags": []
   },
   "outputs": [],
   "source": [
    "# Делаю скоринг для коммуникаций\n",
    "\n",
    "# На входе -> фичи пользователя + тэги коммуникации\n",
    "# На выходе -> вероятность каждого целевого действия (звонок, встреча, бронь, покупка)\n"
   ]
  },
  {
   "cell_type": "code",
   "execution_count": 133,
   "id": "061eed6a-223e-4d78-91cd-6c4d91dd627a",
   "metadata": {
    "tags": []
   },
   "outputs": [],
   "source": [
    "# Обучение:\n",
    "# X - пользователь + коммуникация\n",
    "# y_i - факт цд в окне 7/14 дней от delivery_date"
   ]
  },
  {
   "cell_type": "markdown",
   "id": "6756c963-61ac-40cf-967d-723b038fb8b4",
   "metadata": {},
   "source": [
    "## Готовлю данные"
   ]
  },
  {
   "cell_type": "code",
   "execution_count": 130,
   "id": "2e6b8452-a097-4746-bc7b-8bbba6132954",
   "metadata": {
    "tags": []
   },
   "outputs": [],
   "source": [
    "tags = ['tag_channel', 'tag_category',\n",
    "       'tag_campaign_type', 'tag_product', 'tag_project_type',\n",
    "       'tag_project_region', 'tag_discount_flag', 'tag_chain_flag',\n",
    "       'tag_model_flag', 'tag_realestate_flag']\n",
    "all_camp_features = ['target_event'] + tags"
   ]
  },
  {
   "cell_type": "code",
   "execution_count": 176,
   "id": "70ae364e-3d40-4fae-bb0a-3a8f8c64f30b",
   "metadata": {
    "tags": []
   },
   "outputs": [],
   "source": [
    "main_camp_features = ['target_event', 'tag_product', 'tag_project_type', 'tag_chain_flag', 'tag_model_flag']"
   ]
  },
  {
   "cell_type": "code",
   "execution_count": 178,
   "id": "4da0e5d8-48c3-40fb-a33c-0657dfbfb8c1",
   "metadata": {
    "tags": []
   },
   "outputs": [],
   "source": [
    "# user features with communication\n",
    "# одна строка - smt_decision_makerid+report_date+delivery_date\n",
    "\n",
    "df_uf_w_com = duf.merge(df_campaigns[['smt_decision_makerid','delivery_date','previous_sunday']+main_camp_features],\n",
    "        left_on = ['smt_decision_makerid','report_date'], right_on = ['smt_decision_makerid','previous_sunday'])"
   ]
  },
  {
   "cell_type": "code",
   "execution_count": 180,
   "id": "4196f3e2-8068-449c-bfb2-f07df202494a",
   "metadata": {
    "tags": []
   },
   "outputs": [],
   "source": [
    "# теперь надо посчитать факт целевого действия в окнах от delivery_date\n",
    "df_del = df_uf_w_com[['smt_decision_makerid','delivery_date']].copy()\n",
    "\n",
    "df_del['end_date_7'] = df_del['delivery_date'] + pd.Timedelta(days=7)\n",
    "df_del['end_date_14'] = df_del['delivery_date'] + pd.Timedelta(days=14)\n",
    "\n",
    "# Переименуем поля, чтобы не было конфликтов при merge\n",
    "df_targets_renamed = df_targets.rename(columns={'report_date': 'event_date'})"
   ]
  },
  {
   "cell_type": "code",
   "execution_count": 182,
   "id": "0be91c5b-03dd-41c4-a602-f76520f8fe78",
   "metadata": {
    "tags": []
   },
   "outputs": [],
   "source": [
    "# Сделаем merge по user_id, затем отфильтруем по диапазону дат\n",
    "merged = df_del.merge(df_targets_renamed, on='smt_decision_makerid', how='left')\n",
    "merged = merged[\n",
    "    # цд после коммуникации\n",
    "    (merged['event_date'] >= merged['delivery_date']) & \n",
    "    # для звонка и встречи окно 7 дней\n",
    "    (((merged['event'].isin(['call','appointment'])) & (merged['event_date'] <= merged['end_date_7'])) | \n",
    "    # для брони и сделки 14 дней\n",
    "    ((merged['event'].isin(['reservation','deal'])) & (merged['event_date'] <= merged['end_date_14'])))\n",
    "]"
   ]
  },
  {
   "cell_type": "code",
   "execution_count": 184,
   "id": "27a71fa6-3176-4a6e-b1c4-041b6b41559e",
   "metadata": {
    "tags": []
   },
   "outputs": [],
   "source": [
    "# Создадим сводную таблицу, где по каждой записи в df_del будет указано наличие события\n",
    "event_flags = (\n",
    "    merged.groupby(['smt_decision_makerid', 'delivery_date', 'event']).size()\n",
    "    .unstack(fill_value=0) # в df \n",
    "    .clip(upper=1)  # превращаем количество в 1/0\n",
    "    .reset_index()\n",
    ")"
   ]
  },
  {
   "cell_type": "code",
   "execution_count": 186,
   "id": "2efdff7b-d02f-41bf-9e9f-6a5971517795",
   "metadata": {
    "tags": []
   },
   "outputs": [
    {
     "data": {
      "text/html": [
       "<div>\n",
       "<style scoped>\n",
       "    .dataframe tbody tr th:only-of-type {\n",
       "        vertical-align: middle;\n",
       "    }\n",
       "\n",
       "    .dataframe tbody tr th {\n",
       "        vertical-align: top;\n",
       "    }\n",
       "\n",
       "    .dataframe thead th {\n",
       "        text-align: right;\n",
       "    }\n",
       "</style>\n",
       "<table border=\"1\" class=\"dataframe\">\n",
       "  <thead>\n",
       "    <tr style=\"text-align: right;\">\n",
       "      <th></th>\n",
       "      <th>specific_picks__g_client__specific_picks__count__180D</th>\n",
       "      <th>specific_picks__g_client__specific_picks__count__365D</th>\n",
       "      <th>specific_picks__g_client__specific_picks__count__THIS_MONTH</th>\n",
       "      <th>specific_picks__g_client__specific_picks__count__ALL_TIME</th>\n",
       "      <th>specific_picks__g_client__sp_buy_rent__count__60D</th>\n",
       "      <th>specific_picks__g_client__sp_buy_rent__count__90D</th>\n",
       "      <th>specific_picks__g_client__sp_buy_rent__count__180D</th>\n",
       "      <th>specific_picks__g_client__sp_buy_rent__count__365D</th>\n",
       "      <th>specific_picks__g_client__sp_buy_rent__count__THIS_MONTH</th>\n",
       "      <th>specific_picks__g_client__sp_buy_rent__count__ALL_TIME</th>\n",
       "      <th>...</th>\n",
       "      <th>previous_sunday</th>\n",
       "      <th>target_event</th>\n",
       "      <th>tag_product</th>\n",
       "      <th>tag_project_type</th>\n",
       "      <th>tag_chain_flag</th>\n",
       "      <th>tag_model_flag</th>\n",
       "      <th>appointment</th>\n",
       "      <th>call</th>\n",
       "      <th>deal</th>\n",
       "      <th>reservation</th>\n",
       "    </tr>\n",
       "  </thead>\n",
       "  <tbody>\n",
       "    <tr>\n",
       "      <th>0</th>\n",
       "      <td>1.0</td>\n",
       "      <td>1.0</td>\n",
       "      <td>0.0</td>\n",
       "      <td>2.0</td>\n",
       "      <td>0.0</td>\n",
       "      <td>0.0</td>\n",
       "      <td>1.0</td>\n",
       "      <td>1.0</td>\n",
       "      <td>0.0</td>\n",
       "      <td>2.0</td>\n",
       "      <td>...</td>\n",
       "      <td>2024-10-13</td>\n",
       "      <td>call</td>\n",
       "      <td>nbo</td>\n",
       "      <td>not_izhs</td>\n",
       "      <td>not_chain</td>\n",
       "      <td>not_model</td>\n",
       "      <td>0</td>\n",
       "      <td>0</td>\n",
       "      <td>0</td>\n",
       "      <td>0</td>\n",
       "    </tr>\n",
       "    <tr>\n",
       "      <th>1</th>\n",
       "      <td>NaN</td>\n",
       "      <td>NaN</td>\n",
       "      <td>NaN</td>\n",
       "      <td>NaN</td>\n",
       "      <td>NaN</td>\n",
       "      <td>NaN</td>\n",
       "      <td>NaN</td>\n",
       "      <td>NaN</td>\n",
       "      <td>NaN</td>\n",
       "      <td>NaN</td>\n",
       "      <td>...</td>\n",
       "      <td>2024-12-15</td>\n",
       "      <td>call</td>\n",
       "      <td>realestate</td>\n",
       "      <td>not_izhs</td>\n",
       "      <td>chain</td>\n",
       "      <td>not_model</td>\n",
       "      <td>0</td>\n",
       "      <td>0</td>\n",
       "      <td>0</td>\n",
       "      <td>0</td>\n",
       "    </tr>\n",
       "    <tr>\n",
       "      <th>2</th>\n",
       "      <td>1.0</td>\n",
       "      <td>1.0</td>\n",
       "      <td>0.0</td>\n",
       "      <td>1.0</td>\n",
       "      <td>0.0</td>\n",
       "      <td>1.0</td>\n",
       "      <td>1.0</td>\n",
       "      <td>1.0</td>\n",
       "      <td>0.0</td>\n",
       "      <td>1.0</td>\n",
       "      <td>...</td>\n",
       "      <td>2024-12-08</td>\n",
       "      <td>deal</td>\n",
       "      <td>mortgage</td>\n",
       "      <td>not_izhs</td>\n",
       "      <td>not_chain</td>\n",
       "      <td>model</td>\n",
       "      <td>0</td>\n",
       "      <td>0</td>\n",
       "      <td>0</td>\n",
       "      <td>0</td>\n",
       "    </tr>\n",
       "    <tr>\n",
       "      <th>3</th>\n",
       "      <td>NaN</td>\n",
       "      <td>NaN</td>\n",
       "      <td>NaN</td>\n",
       "      <td>NaN</td>\n",
       "      <td>NaN</td>\n",
       "      <td>NaN</td>\n",
       "      <td>NaN</td>\n",
       "      <td>NaN</td>\n",
       "      <td>NaN</td>\n",
       "      <td>NaN</td>\n",
       "      <td>...</td>\n",
       "      <td>2024-10-27</td>\n",
       "      <td>call</td>\n",
       "      <td>realestate</td>\n",
       "      <td>not_izhs</td>\n",
       "      <td>chain</td>\n",
       "      <td>not_model</td>\n",
       "      <td>0</td>\n",
       "      <td>0</td>\n",
       "      <td>0</td>\n",
       "      <td>0</td>\n",
       "    </tr>\n",
       "    <tr>\n",
       "      <th>4</th>\n",
       "      <td>NaN</td>\n",
       "      <td>NaN</td>\n",
       "      <td>NaN</td>\n",
       "      <td>NaN</td>\n",
       "      <td>NaN</td>\n",
       "      <td>NaN</td>\n",
       "      <td>NaN</td>\n",
       "      <td>NaN</td>\n",
       "      <td>NaN</td>\n",
       "      <td>NaN</td>\n",
       "      <td>...</td>\n",
       "      <td>2024-10-06</td>\n",
       "      <td>call</td>\n",
       "      <td>realestate</td>\n",
       "      <td>not_izhs</td>\n",
       "      <td>chain</td>\n",
       "      <td>not_model</td>\n",
       "      <td>0</td>\n",
       "      <td>0</td>\n",
       "      <td>0</td>\n",
       "      <td>0</td>\n",
       "    </tr>\n",
       "    <tr>\n",
       "      <th>...</th>\n",
       "      <td>...</td>\n",
       "      <td>...</td>\n",
       "      <td>...</td>\n",
       "      <td>...</td>\n",
       "      <td>...</td>\n",
       "      <td>...</td>\n",
       "      <td>...</td>\n",
       "      <td>...</td>\n",
       "      <td>...</td>\n",
       "      <td>...</td>\n",
       "      <td>...</td>\n",
       "      <td>...</td>\n",
       "      <td>...</td>\n",
       "      <td>...</td>\n",
       "      <td>...</td>\n",
       "      <td>...</td>\n",
       "      <td>...</td>\n",
       "      <td>...</td>\n",
       "      <td>...</td>\n",
       "      <td>...</td>\n",
       "      <td>...</td>\n",
       "    </tr>\n",
       "    <tr>\n",
       "      <th>1136107</th>\n",
       "      <td>1.0</td>\n",
       "      <td>1.0</td>\n",
       "      <td>1.0</td>\n",
       "      <td>1.0</td>\n",
       "      <td>1.0</td>\n",
       "      <td>1.0</td>\n",
       "      <td>1.0</td>\n",
       "      <td>1.0</td>\n",
       "      <td>1.0</td>\n",
       "      <td>1.0</td>\n",
       "      <td>...</td>\n",
       "      <td>2024-09-29</td>\n",
       "      <td>deal</td>\n",
       "      <td>realestate</td>\n",
       "      <td>not_izhs</td>\n",
       "      <td>not_chain</td>\n",
       "      <td>model</td>\n",
       "      <td>0</td>\n",
       "      <td>0</td>\n",
       "      <td>0</td>\n",
       "      <td>0</td>\n",
       "    </tr>\n",
       "    <tr>\n",
       "      <th>1136108</th>\n",
       "      <td>1.0</td>\n",
       "      <td>1.0</td>\n",
       "      <td>1.0</td>\n",
       "      <td>1.0</td>\n",
       "      <td>1.0</td>\n",
       "      <td>1.0</td>\n",
       "      <td>1.0</td>\n",
       "      <td>1.0</td>\n",
       "      <td>1.0</td>\n",
       "      <td>1.0</td>\n",
       "      <td>...</td>\n",
       "      <td>2024-09-29</td>\n",
       "      <td>call</td>\n",
       "      <td>realestate</td>\n",
       "      <td>not_izhs</td>\n",
       "      <td>not_chain</td>\n",
       "      <td>not_model</td>\n",
       "      <td>0</td>\n",
       "      <td>0</td>\n",
       "      <td>0</td>\n",
       "      <td>0</td>\n",
       "    </tr>\n",
       "    <tr>\n",
       "      <th>1136109</th>\n",
       "      <td>1.0</td>\n",
       "      <td>1.0</td>\n",
       "      <td>0.0</td>\n",
       "      <td>1.0</td>\n",
       "      <td>1.0</td>\n",
       "      <td>1.0</td>\n",
       "      <td>1.0</td>\n",
       "      <td>1.0</td>\n",
       "      <td>0.0</td>\n",
       "      <td>1.0</td>\n",
       "      <td>...</td>\n",
       "      <td>2024-10-06</td>\n",
       "      <td>call</td>\n",
       "      <td>nbo</td>\n",
       "      <td>not_izhs</td>\n",
       "      <td>not_chain</td>\n",
       "      <td>not_model</td>\n",
       "      <td>0</td>\n",
       "      <td>0</td>\n",
       "      <td>0</td>\n",
       "      <td>0</td>\n",
       "    </tr>\n",
       "    <tr>\n",
       "      <th>1136110</th>\n",
       "      <td>2.0</td>\n",
       "      <td>2.0</td>\n",
       "      <td>0.0</td>\n",
       "      <td>2.0</td>\n",
       "      <td>0.0</td>\n",
       "      <td>0.0</td>\n",
       "      <td>2.0</td>\n",
       "      <td>2.0</td>\n",
       "      <td>0.0</td>\n",
       "      <td>2.0</td>\n",
       "      <td>...</td>\n",
       "      <td>2024-12-15</td>\n",
       "      <td>call</td>\n",
       "      <td>realestate</td>\n",
       "      <td>not_izhs</td>\n",
       "      <td>chain</td>\n",
       "      <td>not_model</td>\n",
       "      <td>0</td>\n",
       "      <td>0</td>\n",
       "      <td>0</td>\n",
       "      <td>0</td>\n",
       "    </tr>\n",
       "    <tr>\n",
       "      <th>1136111</th>\n",
       "      <td>0.0</td>\n",
       "      <td>2.0</td>\n",
       "      <td>0.0</td>\n",
       "      <td>8.0</td>\n",
       "      <td>0.0</td>\n",
       "      <td>0.0</td>\n",
       "      <td>0.0</td>\n",
       "      <td>2.0</td>\n",
       "      <td>0.0</td>\n",
       "      <td>8.0</td>\n",
       "      <td>...</td>\n",
       "      <td>2024-10-06</td>\n",
       "      <td>call</td>\n",
       "      <td>izhs</td>\n",
       "      <td>izhs</td>\n",
       "      <td>chain</td>\n",
       "      <td>not_model</td>\n",
       "      <td>0</td>\n",
       "      <td>0</td>\n",
       "      <td>0</td>\n",
       "      <td>0</td>\n",
       "    </tr>\n",
       "  </tbody>\n",
       "</table>\n",
       "<p>1136112 rows × 373 columns</p>\n",
       "</div>"
      ],
      "text/plain": [
       "         specific_picks__g_client__specific_picks__count__180D  \\\n",
       "0                                                      1.0       \n",
       "1                                                      NaN       \n",
       "2                                                      1.0       \n",
       "3                                                      NaN       \n",
       "4                                                      NaN       \n",
       "...                                                    ...       \n",
       "1136107                                                1.0       \n",
       "1136108                                                1.0       \n",
       "1136109                                                1.0       \n",
       "1136110                                                2.0       \n",
       "1136111                                                0.0       \n",
       "\n",
       "         specific_picks__g_client__specific_picks__count__365D  \\\n",
       "0                                                      1.0       \n",
       "1                                                      NaN       \n",
       "2                                                      1.0       \n",
       "3                                                      NaN       \n",
       "4                                                      NaN       \n",
       "...                                                    ...       \n",
       "1136107                                                1.0       \n",
       "1136108                                                1.0       \n",
       "1136109                                                1.0       \n",
       "1136110                                                2.0       \n",
       "1136111                                                2.0       \n",
       "\n",
       "         specific_picks__g_client__specific_picks__count__THIS_MONTH  \\\n",
       "0                                                      0.0             \n",
       "1                                                      NaN             \n",
       "2                                                      0.0             \n",
       "3                                                      NaN             \n",
       "4                                                      NaN             \n",
       "...                                                    ...             \n",
       "1136107                                                1.0             \n",
       "1136108                                                1.0             \n",
       "1136109                                                0.0             \n",
       "1136110                                                0.0             \n",
       "1136111                                                0.0             \n",
       "\n",
       "         specific_picks__g_client__specific_picks__count__ALL_TIME  \\\n",
       "0                                                      2.0           \n",
       "1                                                      NaN           \n",
       "2                                                      1.0           \n",
       "3                                                      NaN           \n",
       "4                                                      NaN           \n",
       "...                                                    ...           \n",
       "1136107                                                1.0           \n",
       "1136108                                                1.0           \n",
       "1136109                                                1.0           \n",
       "1136110                                                2.0           \n",
       "1136111                                                8.0           \n",
       "\n",
       "         specific_picks__g_client__sp_buy_rent__count__60D  \\\n",
       "0                                                      0.0   \n",
       "1                                                      NaN   \n",
       "2                                                      0.0   \n",
       "3                                                      NaN   \n",
       "4                                                      NaN   \n",
       "...                                                    ...   \n",
       "1136107                                                1.0   \n",
       "1136108                                                1.0   \n",
       "1136109                                                1.0   \n",
       "1136110                                                0.0   \n",
       "1136111                                                0.0   \n",
       "\n",
       "         specific_picks__g_client__sp_buy_rent__count__90D  \\\n",
       "0                                                      0.0   \n",
       "1                                                      NaN   \n",
       "2                                                      1.0   \n",
       "3                                                      NaN   \n",
       "4                                                      NaN   \n",
       "...                                                    ...   \n",
       "1136107                                                1.0   \n",
       "1136108                                                1.0   \n",
       "1136109                                                1.0   \n",
       "1136110                                                0.0   \n",
       "1136111                                                0.0   \n",
       "\n",
       "         specific_picks__g_client__sp_buy_rent__count__180D  \\\n",
       "0                                                      1.0    \n",
       "1                                                      NaN    \n",
       "2                                                      1.0    \n",
       "3                                                      NaN    \n",
       "4                                                      NaN    \n",
       "...                                                    ...    \n",
       "1136107                                                1.0    \n",
       "1136108                                                1.0    \n",
       "1136109                                                1.0    \n",
       "1136110                                                2.0    \n",
       "1136111                                                0.0    \n",
       "\n",
       "         specific_picks__g_client__sp_buy_rent__count__365D  \\\n",
       "0                                                      1.0    \n",
       "1                                                      NaN    \n",
       "2                                                      1.0    \n",
       "3                                                      NaN    \n",
       "4                                                      NaN    \n",
       "...                                                    ...    \n",
       "1136107                                                1.0    \n",
       "1136108                                                1.0    \n",
       "1136109                                                1.0    \n",
       "1136110                                                2.0    \n",
       "1136111                                                2.0    \n",
       "\n",
       "         specific_picks__g_client__sp_buy_rent__count__THIS_MONTH  \\\n",
       "0                                                      0.0          \n",
       "1                                                      NaN          \n",
       "2                                                      0.0          \n",
       "3                                                      NaN          \n",
       "4                                                      NaN          \n",
       "...                                                    ...          \n",
       "1136107                                                1.0          \n",
       "1136108                                                1.0          \n",
       "1136109                                                0.0          \n",
       "1136110                                                0.0          \n",
       "1136111                                                0.0          \n",
       "\n",
       "         specific_picks__g_client__sp_buy_rent__count__ALL_TIME  ...  \\\n",
       "0                                                      2.0       ...   \n",
       "1                                                      NaN       ...   \n",
       "2                                                      1.0       ...   \n",
       "3                                                      NaN       ...   \n",
       "4                                                      NaN       ...   \n",
       "...                                                    ...       ...   \n",
       "1136107                                                1.0       ...   \n",
       "1136108                                                1.0       ...   \n",
       "1136109                                                1.0       ...   \n",
       "1136110                                                2.0       ...   \n",
       "1136111                                                8.0       ...   \n",
       "\n",
       "         previous_sunday  target_event  tag_product  tag_project_type  \\\n",
       "0             2024-10-13          call          nbo          not_izhs   \n",
       "1             2024-12-15          call   realestate          not_izhs   \n",
       "2             2024-12-08          deal     mortgage          not_izhs   \n",
       "3             2024-10-27          call   realestate          not_izhs   \n",
       "4             2024-10-06          call   realestate          not_izhs   \n",
       "...                  ...           ...          ...               ...   \n",
       "1136107       2024-09-29          deal   realestate          not_izhs   \n",
       "1136108       2024-09-29          call   realestate          not_izhs   \n",
       "1136109       2024-10-06          call          nbo          not_izhs   \n",
       "1136110       2024-12-15          call   realestate          not_izhs   \n",
       "1136111       2024-10-06          call         izhs              izhs   \n",
       "\n",
       "         tag_chain_flag  tag_model_flag  appointment  call  deal  reservation  \n",
       "0             not_chain       not_model            0     0     0            0  \n",
       "1                 chain       not_model            0     0     0            0  \n",
       "2             not_chain           model            0     0     0            0  \n",
       "3                 chain       not_model            0     0     0            0  \n",
       "4                 chain       not_model            0     0     0            0  \n",
       "...                 ...             ...          ...   ...   ...          ...  \n",
       "1136107       not_chain           model            0     0     0            0  \n",
       "1136108       not_chain       not_model            0     0     0            0  \n",
       "1136109       not_chain       not_model            0     0     0            0  \n",
       "1136110           chain       not_model            0     0     0            0  \n",
       "1136111           chain       not_model            0     0     0            0  \n",
       "\n",
       "[1136112 rows x 373 columns]"
      ]
     },
     "execution_count": 186,
     "metadata": {},
     "output_type": "execute_result"
    }
   ],
   "source": [
    "# Объединим с исходной таблицей\n",
    "final_data = df_uf_w_com.merge(event_flags, on=['smt_decision_makerid', 'delivery_date'], how='left')\n",
    "\n",
    "# final_data NaN на 0 — там, где не было совпадений\n",
    "final_data[['call', 'appointment', 'reservation', 'deal']] = final_data[\n",
    "    ['call', 'appointment', 'reservation', 'deal']\n",
    "].fillna(0).astype(int)\n",
    "\n",
    "final_data"
   ]
  },
  {
   "cell_type": "code",
   "execution_count": 216,
   "id": "66fb06cd-f096-4add-ad07-6214823acddb",
   "metadata": {
    "tags": []
   },
   "outputs": [],
   "source": [
    "# оставляю коммуникации только как в filtered_camps\n",
    "\n",
    "# Делю на 2 ноута:\n",
    "\n",
    "# 1. Этот - тупо скоринг по вероятности сделки \n",
    "\n",
    "# 2. По юзеру предсказываю склонность, дальше бизнес-правила и выбираю оффер по цд"
   ]
  },
  {
   "cell_type": "code",
   "execution_count": 190,
   "id": "d559ac1c-36e4-43bb-bc82-dc9833674d73",
   "metadata": {
    "tags": []
   },
   "outputs": [],
   "source": [
    "# campaign_filters = (final_data.tag_channel == 'sms')&(final_data.target_event != 'reservation')"
   ]
  },
  {
   "cell_type": "code",
   "execution_count": 192,
   "id": "37ce2163-70b7-4461-9998-055b79b74c91",
   "metadata": {
    "tags": []
   },
   "outputs": [],
   "source": [
    "main_camp_features = ['target_event', 'tag_product', 'tag_project_type', 'tag_chain_flag', 'tag_model_flag']"
   ]
  },
  {
   "cell_type": "code",
   "execution_count": 194,
   "id": "1e6a924f-a1ea-407c-98fc-0cfaf1158fb0",
   "metadata": {
    "tags": []
   },
   "outputs": [],
   "source": [
    "# res_camps = final_data.groupby(all_camp_features)[['delivery_date']].agg(['max', 'min','count']).reset_index()\n",
    "res_camps = final_data.groupby(main_camp_features)[['delivery_date']].agg(['max', 'min','count']).reset_index()"
   ]
  },
  {
   "cell_type": "code",
   "execution_count": 196,
   "id": "14325238-3e58-4dc8-affd-c7884c614f91",
   "metadata": {
    "tags": []
   },
   "outputs": [],
   "source": [
    "res_camps.rename(columns={'min': 'min_dt', \n",
    "                        'max': 'max_dt',\n",
    "                        'count': 'camps'}, inplace = True)"
   ]
  },
  {
   "cell_type": "code",
   "execution_count": 198,
   "id": "2d4397f7-af23-4162-9ff0-013ba0a22807",
   "metadata": {
    "tags": []
   },
   "outputs": [
    {
     "data": {
      "text/plain": [
       "720778"
      ]
     },
     "execution_count": 198,
     "metadata": {},
     "output_type": "execute_result"
    }
   ],
   "source": [
    "res_camps[(res_camps.delivery_date.max_dt >= '2024-12-15')&(res_camps.delivery_date.min_dt < '2024-12-08')].delivery_date.camps.sum()"
   ]
  },
  {
   "cell_type": "code",
   "execution_count": 200,
   "id": "e5d277d4-28db-47e2-b32b-96be04c6a67b",
   "metadata": {
    "tags": []
   },
   "outputs": [
    {
     "name": "stderr",
     "output_type": "stream",
     "text": [
      "/var/folders/z2/2_vkl0857zddhqnj2vn7yx440000gn/T/ipykernel_20504/3436734710.py:3: PerformanceWarning: dropping on a non-lexsorted multi-index without a level parameter may impact performance.\n",
      "  & (res_camps.tag_product != 'lost_leads')].drop('delivery_date', axis = 1)\n"
     ]
    }
   ],
   "source": [
    "filtered_camps = res_camps[(((res_camps.delivery_date.max_dt >= '2024-12-08')&(res_camps.delivery_date.min_dt < '2024-12-08'))\\\n",
    "            | ((res_camps.target_event == 'deal')&(res_camps.tag_product == 'realestate')))\n",
    "            & (res_camps.tag_product != 'lost_leads')].drop('delivery_date', axis = 1)"
   ]
  },
  {
   "cell_type": "code",
   "execution_count": 202,
   "id": "70e0a4b8-5888-4a9d-b005-05c71438f01e",
   "metadata": {
    "tags": []
   },
   "outputs": [
    {
     "data": {
      "text/html": [
       "<div>\n",
       "<style scoped>\n",
       "    .dataframe tbody tr th:only-of-type {\n",
       "        vertical-align: middle;\n",
       "    }\n",
       "\n",
       "    .dataframe tbody tr th {\n",
       "        vertical-align: top;\n",
       "    }\n",
       "\n",
       "    .dataframe thead tr th {\n",
       "        text-align: left;\n",
       "    }\n",
       "</style>\n",
       "<table border=\"1\" class=\"dataframe\">\n",
       "  <thead>\n",
       "    <tr>\n",
       "      <th></th>\n",
       "      <th>target_event</th>\n",
       "      <th>tag_product</th>\n",
       "      <th>tag_project_type</th>\n",
       "      <th>tag_chain_flag</th>\n",
       "      <th>tag_model_flag</th>\n",
       "    </tr>\n",
       "    <tr>\n",
       "      <th></th>\n",
       "      <th></th>\n",
       "      <th></th>\n",
       "      <th></th>\n",
       "      <th></th>\n",
       "      <th></th>\n",
       "    </tr>\n",
       "  </thead>\n",
       "  <tbody>\n",
       "    <tr>\n",
       "      <th>2</th>\n",
       "      <td>appointment</td>\n",
       "      <td>nbo</td>\n",
       "      <td>not_izhs</td>\n",
       "      <td>not_chain</td>\n",
       "      <td>not_model</td>\n",
       "    </tr>\n",
       "    <tr>\n",
       "      <th>5</th>\n",
       "      <td>appointment</td>\n",
       "      <td>realestate</td>\n",
       "      <td>not_izhs</td>\n",
       "      <td>not_chain</td>\n",
       "      <td>not_model</td>\n",
       "    </tr>\n",
       "    <tr>\n",
       "      <th>8</th>\n",
       "      <td>call</td>\n",
       "      <td>commercial</td>\n",
       "      <td>not_izhs</td>\n",
       "      <td>chain</td>\n",
       "      <td>not_model</td>\n",
       "    </tr>\n",
       "    <tr>\n",
       "      <th>10</th>\n",
       "      <td>call</td>\n",
       "      <td>izhs</td>\n",
       "      <td>izhs</td>\n",
       "      <td>chain</td>\n",
       "      <td>not_model</td>\n",
       "    </tr>\n",
       "    <tr>\n",
       "      <th>11</th>\n",
       "      <td>call</td>\n",
       "      <td>mortgage</td>\n",
       "      <td>not_izhs</td>\n",
       "      <td>not_chain</td>\n",
       "      <td>not_model</td>\n",
       "    </tr>\n",
       "    <tr>\n",
       "      <th>14</th>\n",
       "      <td>call</td>\n",
       "      <td>realestate</td>\n",
       "      <td>not_izhs</td>\n",
       "      <td>chain</td>\n",
       "      <td>not_model</td>\n",
       "    </tr>\n",
       "    <tr>\n",
       "      <th>18</th>\n",
       "      <td>deal</td>\n",
       "      <td>mortgage</td>\n",
       "      <td>not_izhs</td>\n",
       "      <td>not_chain</td>\n",
       "      <td>model</td>\n",
       "    </tr>\n",
       "    <tr>\n",
       "      <th>19</th>\n",
       "      <td>deal</td>\n",
       "      <td>realestate</td>\n",
       "      <td>not_izhs</td>\n",
       "      <td>not_chain</td>\n",
       "      <td>model</td>\n",
       "    </tr>\n",
       "    <tr>\n",
       "      <th>22</th>\n",
       "      <td>reservation</td>\n",
       "      <td>not_defined</td>\n",
       "      <td>not_izhs</td>\n",
       "      <td>not_chain</td>\n",
       "      <td>not_model</td>\n",
       "    </tr>\n",
       "    <tr>\n",
       "      <th>23</th>\n",
       "      <td>reservation</td>\n",
       "      <td>realestate</td>\n",
       "      <td>not_izhs</td>\n",
       "      <td>not_chain</td>\n",
       "      <td>model</td>\n",
       "    </tr>\n",
       "  </tbody>\n",
       "</table>\n",
       "</div>"
      ],
      "text/plain": [
       "   target_event  tag_product tag_project_type tag_chain_flag tag_model_flag\n",
       "                                                                           \n",
       "2   appointment          nbo         not_izhs      not_chain      not_model\n",
       "5   appointment   realestate         not_izhs      not_chain      not_model\n",
       "8          call   commercial         not_izhs          chain      not_model\n",
       "10         call         izhs             izhs          chain      not_model\n",
       "11         call     mortgage         not_izhs      not_chain      not_model\n",
       "14         call   realestate         not_izhs          chain      not_model\n",
       "18         deal     mortgage         not_izhs      not_chain          model\n",
       "19         deal   realestate         not_izhs      not_chain          model\n",
       "22  reservation  not_defined         not_izhs      not_chain      not_model\n",
       "23  reservation   realestate         not_izhs      not_chain          model"
      ]
     },
     "execution_count": 202,
     "metadata": {},
     "output_type": "execute_result"
    }
   ],
   "source": [
    "filtered_camps"
   ]
  },
  {
   "cell_type": "code",
   "execution_count": 204,
   "id": "a7de7dc4-0222-4d35-99c8-407599d473d9",
   "metadata": {
    "tags": []
   },
   "outputs": [],
   "source": [
    "filtered_camps.columns = filtered_camps.columns.droplevel(1)"
   ]
  },
  {
   "cell_type": "code",
   "execution_count": 206,
   "id": "e036657e-1b8b-4c20-9586-e246152619ed",
   "metadata": {
    "tags": []
   },
   "outputs": [],
   "source": [
    "filtered_camps.reset_index(drop=True, inplace = True)"
   ]
  },
  {
   "cell_type": "code",
   "execution_count": 208,
   "id": "fe3c2d9c-8501-424d-ad59-3271663599cc",
   "metadata": {
    "tags": []
   },
   "outputs": [
    {
     "data": {
      "text/html": [
       "<div>\n",
       "<style scoped>\n",
       "    .dataframe tbody tr th:only-of-type {\n",
       "        vertical-align: middle;\n",
       "    }\n",
       "\n",
       "    .dataframe tbody tr th {\n",
       "        vertical-align: top;\n",
       "    }\n",
       "\n",
       "    .dataframe thead th {\n",
       "        text-align: right;\n",
       "    }\n",
       "</style>\n",
       "<table border=\"1\" class=\"dataframe\">\n",
       "  <thead>\n",
       "    <tr style=\"text-align: right;\">\n",
       "      <th></th>\n",
       "      <th>target_event</th>\n",
       "      <th>tag_product</th>\n",
       "      <th>tag_project_type</th>\n",
       "      <th>tag_chain_flag</th>\n",
       "      <th>tag_model_flag</th>\n",
       "    </tr>\n",
       "  </thead>\n",
       "  <tbody>\n",
       "    <tr>\n",
       "      <th>0</th>\n",
       "      <td>appointment</td>\n",
       "      <td>nbo</td>\n",
       "      <td>not_izhs</td>\n",
       "      <td>not_chain</td>\n",
       "      <td>not_model</td>\n",
       "    </tr>\n",
       "    <tr>\n",
       "      <th>1</th>\n",
       "      <td>appointment</td>\n",
       "      <td>realestate</td>\n",
       "      <td>not_izhs</td>\n",
       "      <td>not_chain</td>\n",
       "      <td>not_model</td>\n",
       "    </tr>\n",
       "    <tr>\n",
       "      <th>2</th>\n",
       "      <td>call</td>\n",
       "      <td>commercial</td>\n",
       "      <td>not_izhs</td>\n",
       "      <td>chain</td>\n",
       "      <td>not_model</td>\n",
       "    </tr>\n",
       "    <tr>\n",
       "      <th>3</th>\n",
       "      <td>call</td>\n",
       "      <td>izhs</td>\n",
       "      <td>izhs</td>\n",
       "      <td>chain</td>\n",
       "      <td>not_model</td>\n",
       "    </tr>\n",
       "    <tr>\n",
       "      <th>4</th>\n",
       "      <td>call</td>\n",
       "      <td>mortgage</td>\n",
       "      <td>not_izhs</td>\n",
       "      <td>not_chain</td>\n",
       "      <td>not_model</td>\n",
       "    </tr>\n",
       "    <tr>\n",
       "      <th>5</th>\n",
       "      <td>call</td>\n",
       "      <td>realestate</td>\n",
       "      <td>not_izhs</td>\n",
       "      <td>chain</td>\n",
       "      <td>not_model</td>\n",
       "    </tr>\n",
       "    <tr>\n",
       "      <th>6</th>\n",
       "      <td>deal</td>\n",
       "      <td>mortgage</td>\n",
       "      <td>not_izhs</td>\n",
       "      <td>not_chain</td>\n",
       "      <td>model</td>\n",
       "    </tr>\n",
       "    <tr>\n",
       "      <th>7</th>\n",
       "      <td>deal</td>\n",
       "      <td>realestate</td>\n",
       "      <td>not_izhs</td>\n",
       "      <td>not_chain</td>\n",
       "      <td>model</td>\n",
       "    </tr>\n",
       "    <tr>\n",
       "      <th>8</th>\n",
       "      <td>reservation</td>\n",
       "      <td>not_defined</td>\n",
       "      <td>not_izhs</td>\n",
       "      <td>not_chain</td>\n",
       "      <td>not_model</td>\n",
       "    </tr>\n",
       "    <tr>\n",
       "      <th>9</th>\n",
       "      <td>reservation</td>\n",
       "      <td>realestate</td>\n",
       "      <td>not_izhs</td>\n",
       "      <td>not_chain</td>\n",
       "      <td>model</td>\n",
       "    </tr>\n",
       "  </tbody>\n",
       "</table>\n",
       "</div>"
      ],
      "text/plain": [
       "  target_event  tag_product tag_project_type tag_chain_flag tag_model_flag\n",
       "0  appointment          nbo         not_izhs      not_chain      not_model\n",
       "1  appointment   realestate         not_izhs      not_chain      not_model\n",
       "2         call   commercial         not_izhs          chain      not_model\n",
       "3         call         izhs             izhs          chain      not_model\n",
       "4         call     mortgage         not_izhs      not_chain      not_model\n",
       "5         call   realestate         not_izhs          chain      not_model\n",
       "6         deal     mortgage         not_izhs      not_chain          model\n",
       "7         deal   realestate         not_izhs      not_chain          model\n",
       "8  reservation  not_defined         not_izhs      not_chain      not_model\n",
       "9  reservation   realestate         not_izhs      not_chain          model"
      ]
     },
     "execution_count": 208,
     "metadata": {},
     "output_type": "execute_result"
    }
   ],
   "source": [
    "filtered_camps"
   ]
  },
  {
   "cell_type": "code",
   "execution_count": 210,
   "id": "084112dc-bfbd-4190-b327-5e698f348c85",
   "metadata": {
    "tags": []
   },
   "outputs": [],
   "source": [
    "final_data = final_data.merge(filtered_camps)"
   ]
  },
  {
   "cell_type": "code",
   "execution_count": 214,
   "id": "57d38f7c-e986-42e6-ac7d-3732cdf9c03e",
   "metadata": {
    "tags": []
   },
   "outputs": [
    {
     "data": {
      "text/plain": [
       "Index(['smt_decision_makerid', 'report_date', 'delivery_date',\n",
       "       'previous_sunday', 'target_event', 'tag_product', 'tag_project_type',\n",
       "       'tag_chain_flag', 'tag_model_flag', 'appointment', 'call', 'deal',\n",
       "       'reservation'],\n",
       "      dtype='object')"
      ]
     },
     "execution_count": 214,
     "metadata": {},
     "output_type": "execute_result"
    }
   ],
   "source": [
    "final_data.columns[360:]"
   ]
  },
  {
   "cell_type": "code",
   "execution_count": null,
   "id": "2953ce41-014d-46ff-894c-1f391602ada0",
   "metadata": {},
   "outputs": [],
   "source": []
  },
  {
   "cell_type": "code",
   "execution_count": 182,
   "id": "e633dea8-fe84-47ef-8f25-2f869a94ac40",
   "metadata": {
    "tags": []
   },
   "outputs": [],
   "source": [
    "# final_data = final_data.drop(columns = ['target_event', 'tag_channel', 'tag_campaign_type'\n",
    "#             ,'tag_product', 'tag_project_type', 'tag_discount_flag','tag_chain_flag'])"
   ]
  },
  {
   "cell_type": "code",
   "execution_count": 236,
   "id": "03d90b72-5cfd-43d9-9b93-3935906b896d",
   "metadata": {
    "tags": []
   },
   "outputs": [],
   "source": [
    "train_full = final_data[final_data.report_date < '2024-12-08']\n",
    "\n",
    "X_train = train_full.drop(columns=['call','appointment','deal','reservation','smt_decision_makerid','report_date','delivery_date','previous_sunday']).to_numpy()\n",
    "\n",
    "y_train = train_full[['call','appointment','reservation','deal']].to_numpy()"
   ]
  },
  {
   "cell_type": "code",
   "execution_count": 237,
   "id": "9dac797e-0c03-475d-958f-c72ca50cb3d3",
   "metadata": {
    "tags": []
   },
   "outputs": [
    {
     "data": {
      "text/plain": [
       "call           0.057921\n",
       "appointment    0.013944\n",
       "reservation    0.004647\n",
       "deal           0.003848\n",
       "dtype: float64"
      ]
     },
     "execution_count": 237,
     "metadata": {},
     "output_type": "execute_result"
    }
   ],
   "source": [
    "train_full[['call','appointment','reservation','deal']].mean()"
   ]
  },
  {
   "cell_type": "code",
   "execution_count": 238,
   "id": "79d9a294-049a-49ab-bf60-e02566daca36",
   "metadata": {
    "tags": []
   },
   "outputs": [],
   "source": [
    "val_full = final_data[final_data.report_date == '2024-12-08']\n",
    "\n",
    "X_val = val_full.drop(columns=['call','appointment','deal','reservation','smt_decision_makerid','report_date','delivery_date','previous_sunday']).to_numpy()\n",
    "y_val = val_full[['call','appointment','reservation','deal']].to_numpy()"
   ]
  },
  {
   "cell_type": "code",
   "execution_count": 239,
   "id": "48245913-6f39-4d16-bb58-08a6442a111f",
   "metadata": {
    "tags": []
   },
   "outputs": [
    {
     "data": {
      "text/plain": [
       "call           0.050911\n",
       "appointment    0.012710\n",
       "reservation    0.004132\n",
       "deal           0.003496\n",
       "dtype: float64"
      ]
     },
     "execution_count": 239,
     "metadata": {},
     "output_type": "execute_result"
    }
   ],
   "source": [
    "val_full[['call','appointment','reservation','deal']].mean()"
   ]
  },
  {
   "cell_type": "code",
   "execution_count": 240,
   "id": "87473315-05c1-43f2-8e85-d2518ceef587",
   "metadata": {
    "tags": []
   },
   "outputs": [],
   "source": [
    "test_full = final_data[final_data.report_date > '2024-12-08']\n",
    "\n",
    "X_test = test_full.drop(columns=['call','appointment','deal','reservation','smt_decision_makerid','report_date','delivery_date','previous_sunday']).to_numpy()\n",
    "y_test = test_full[['call','appointment','reservation','deal']].to_numpy()"
   ]
  },
  {
   "cell_type": "code",
   "execution_count": 241,
   "id": "877d3e1a-09d0-41ee-be18-e1276c34895f",
   "metadata": {
    "tags": []
   },
   "outputs": [
    {
     "data": {
      "text/plain": [
       "call           0.032880\n",
       "appointment    0.006589\n",
       "reservation    0.002543\n",
       "deal           0.002739\n",
       "dtype: float64"
      ]
     },
     "execution_count": 241,
     "metadata": {},
     "output_type": "execute_result"
    }
   ],
   "source": [
    "# меньше CR на тесте, близко к нг - праздники\n",
    "test_full[['call','appointment','reservation','deal']].mean()"
   ]
  },
  {
   "cell_type": "code",
   "execution_count": 242,
   "id": "ecd8956c-883c-46a4-aa5f-a92b60d21f9e",
   "metadata": {
    "tags": []
   },
   "outputs": [
    {
     "data": {
      "text/plain": [
       "(534557, 114711, 169069)"
      ]
     },
     "execution_count": 242,
     "metadata": {},
     "output_type": "execute_result"
    }
   ],
   "source": [
    "len(X_train), len(X_val), len(X_test)"
   ]
  },
  {
   "cell_type": "code",
   "execution_count": 252,
   "id": "194a18ce-6f1a-4e86-bbf4-89ead3f6ca09",
   "metadata": {
    "tags": []
   },
   "outputs": [
    {
     "data": {
      "text/html": [
       "<div>\n",
       "<style scoped>\n",
       "    .dataframe tbody tr th:only-of-type {\n",
       "        vertical-align: middle;\n",
       "    }\n",
       "\n",
       "    .dataframe tbody tr th {\n",
       "        vertical-align: top;\n",
       "    }\n",
       "\n",
       "    .dataframe thead tr th {\n",
       "        text-align: left;\n",
       "    }\n",
       "\n",
       "    .dataframe thead tr:last-of-type th {\n",
       "        text-align: right;\n",
       "    }\n",
       "</style>\n",
       "<table border=\"1\" class=\"dataframe\">\n",
       "  <thead>\n",
       "    <tr>\n",
       "      <th></th>\n",
       "      <th></th>\n",
       "      <th></th>\n",
       "      <th></th>\n",
       "      <th></th>\n",
       "      <th colspan=\"2\" halign=\"left\">call</th>\n",
       "      <th colspan=\"2\" halign=\"left\">appointment</th>\n",
       "      <th colspan=\"2\" halign=\"left\">reservation</th>\n",
       "      <th colspan=\"2\" halign=\"left\">deal</th>\n",
       "    </tr>\n",
       "    <tr>\n",
       "      <th></th>\n",
       "      <th></th>\n",
       "      <th></th>\n",
       "      <th></th>\n",
       "      <th></th>\n",
       "      <th>mean</th>\n",
       "      <th>count</th>\n",
       "      <th>mean</th>\n",
       "      <th>count</th>\n",
       "      <th>mean</th>\n",
       "      <th>count</th>\n",
       "      <th>mean</th>\n",
       "      <th>count</th>\n",
       "    </tr>\n",
       "    <tr>\n",
       "      <th>target_event</th>\n",
       "      <th>tag_product</th>\n",
       "      <th>tag_project_type</th>\n",
       "      <th>tag_chain_flag</th>\n",
       "      <th>tag_model_flag</th>\n",
       "      <th></th>\n",
       "      <th></th>\n",
       "      <th></th>\n",
       "      <th></th>\n",
       "      <th></th>\n",
       "      <th></th>\n",
       "      <th></th>\n",
       "      <th></th>\n",
       "    </tr>\n",
       "  </thead>\n",
       "  <tbody>\n",
       "    <tr>\n",
       "      <th rowspan=\"2\" valign=\"top\">appointment</th>\n",
       "      <th>nbo</th>\n",
       "      <th>not_izhs</th>\n",
       "      <th>not_chain</th>\n",
       "      <th>not_model</th>\n",
       "      <td>0.028557</td>\n",
       "      <td>39815</td>\n",
       "      <td>0.004496</td>\n",
       "      <td>39815</td>\n",
       "      <td>0.003215</td>\n",
       "      <td>39815</td>\n",
       "      <td>0.003441</td>\n",
       "      <td>39815</td>\n",
       "    </tr>\n",
       "    <tr>\n",
       "      <th>realestate</th>\n",
       "      <th>not_izhs</th>\n",
       "      <th>not_chain</th>\n",
       "      <th>not_model</th>\n",
       "      <td>0.327950</td>\n",
       "      <td>53688</td>\n",
       "      <td>0.106039</td>\n",
       "      <td>53688</td>\n",
       "      <td>0.020656</td>\n",
       "      <td>53688</td>\n",
       "      <td>0.014938</td>\n",
       "      <td>53688</td>\n",
       "    </tr>\n",
       "    <tr>\n",
       "      <th rowspan=\"4\" valign=\"top\">call</th>\n",
       "      <th>commercial</th>\n",
       "      <th>not_izhs</th>\n",
       "      <th>chain</th>\n",
       "      <th>not_model</th>\n",
       "      <td>0.013220</td>\n",
       "      <td>5068</td>\n",
       "      <td>0.001579</td>\n",
       "      <td>5068</td>\n",
       "      <td>0.002368</td>\n",
       "      <td>5068</td>\n",
       "      <td>0.001579</td>\n",
       "      <td>5068</td>\n",
       "    </tr>\n",
       "    <tr>\n",
       "      <th>izhs</th>\n",
       "      <th>izhs</th>\n",
       "      <th>chain</th>\n",
       "      <th>not_model</th>\n",
       "      <td>0.016691</td>\n",
       "      <td>32891</td>\n",
       "      <td>0.002980</td>\n",
       "      <td>32891</td>\n",
       "      <td>0.001247</td>\n",
       "      <td>32891</td>\n",
       "      <td>0.000821</td>\n",
       "      <td>32891</td>\n",
       "    </tr>\n",
       "    <tr>\n",
       "      <th>mortgage</th>\n",
       "      <th>not_izhs</th>\n",
       "      <th>not_chain</th>\n",
       "      <th>not_model</th>\n",
       "      <td>0.023392</td>\n",
       "      <td>31549</td>\n",
       "      <td>0.004342</td>\n",
       "      <td>31549</td>\n",
       "      <td>0.001680</td>\n",
       "      <td>31549</td>\n",
       "      <td>0.001521</td>\n",
       "      <td>31549</td>\n",
       "    </tr>\n",
       "    <tr>\n",
       "      <th>realestate</th>\n",
       "      <th>not_izhs</th>\n",
       "      <th>chain</th>\n",
       "      <th>not_model</th>\n",
       "      <td>0.020649</td>\n",
       "      <td>540122</td>\n",
       "      <td>0.003660</td>\n",
       "      <td>540122</td>\n",
       "      <td>0.001892</td>\n",
       "      <td>540122</td>\n",
       "      <td>0.001707</td>\n",
       "      <td>540122</td>\n",
       "    </tr>\n",
       "    <tr>\n",
       "      <th rowspan=\"2\" valign=\"top\">deal</th>\n",
       "      <th>mortgage</th>\n",
       "      <th>not_izhs</th>\n",
       "      <th>not_chain</th>\n",
       "      <th>model</th>\n",
       "      <td>0.147616</td>\n",
       "      <td>17261</td>\n",
       "      <td>0.019813</td>\n",
       "      <td>17261</td>\n",
       "      <td>0.012050</td>\n",
       "      <td>17261</td>\n",
       "      <td>0.012630</td>\n",
       "      <td>17261</td>\n",
       "    </tr>\n",
       "    <tr>\n",
       "      <th>realestate</th>\n",
       "      <th>not_izhs</th>\n",
       "      <th>not_chain</th>\n",
       "      <th>model</th>\n",
       "      <td>0.066095</td>\n",
       "      <td>49232</td>\n",
       "      <td>0.009750</td>\n",
       "      <td>49232</td>\n",
       "      <td>0.004855</td>\n",
       "      <td>49232</td>\n",
       "      <td>0.004387</td>\n",
       "      <td>49232</td>\n",
       "    </tr>\n",
       "    <tr>\n",
       "      <th rowspan=\"2\" valign=\"top\">reservation</th>\n",
       "      <th>not_defined</th>\n",
       "      <th>not_izhs</th>\n",
       "      <th>not_chain</th>\n",
       "      <th>not_model</th>\n",
       "      <td>0.088275</td>\n",
       "      <td>22713</td>\n",
       "      <td>0.031480</td>\n",
       "      <td>22713</td>\n",
       "      <td>0.012064</td>\n",
       "      <td>22713</td>\n",
       "      <td>0.010611</td>\n",
       "      <td>22713</td>\n",
       "    </tr>\n",
       "    <tr>\n",
       "      <th>realestate</th>\n",
       "      <th>not_izhs</th>\n",
       "      <th>not_chain</th>\n",
       "      <th>model</th>\n",
       "      <td>0.127048</td>\n",
       "      <td>25998</td>\n",
       "      <td>0.015270</td>\n",
       "      <td>25998</td>\n",
       "      <td>0.011616</td>\n",
       "      <td>25998</td>\n",
       "      <td>0.011616</td>\n",
       "      <td>25998</td>\n",
       "    </tr>\n",
       "  </tbody>\n",
       "</table>\n",
       "</div>"
      ],
      "text/plain": [
       "                                                                             call  \\\n",
       "                                                                             mean   \n",
       "target_event tag_product tag_project_type tag_chain_flag tag_model_flag             \n",
       "appointment  nbo         not_izhs         not_chain      not_model       0.028557   \n",
       "             realestate  not_izhs         not_chain      not_model       0.327950   \n",
       "call         commercial  not_izhs         chain          not_model       0.013220   \n",
       "             izhs        izhs             chain          not_model       0.016691   \n",
       "             mortgage    not_izhs         not_chain      not_model       0.023392   \n",
       "             realestate  not_izhs         chain          not_model       0.020649   \n",
       "deal         mortgage    not_izhs         not_chain      model           0.147616   \n",
       "             realestate  not_izhs         not_chain      model           0.066095   \n",
       "reservation  not_defined not_izhs         not_chain      not_model       0.088275   \n",
       "             realestate  not_izhs         not_chain      model           0.127048   \n",
       "\n",
       "                                                                                 \\\n",
       "                                                                          count   \n",
       "target_event tag_product tag_project_type tag_chain_flag tag_model_flag           \n",
       "appointment  nbo         not_izhs         not_chain      not_model        39815   \n",
       "             realestate  not_izhs         not_chain      not_model        53688   \n",
       "call         commercial  not_izhs         chain          not_model         5068   \n",
       "             izhs        izhs             chain          not_model        32891   \n",
       "             mortgage    not_izhs         not_chain      not_model        31549   \n",
       "             realestate  not_izhs         chain          not_model       540122   \n",
       "deal         mortgage    not_izhs         not_chain      model            17261   \n",
       "             realestate  not_izhs         not_chain      model            49232   \n",
       "reservation  not_defined not_izhs         not_chain      not_model        22713   \n",
       "             realestate  not_izhs         not_chain      model            25998   \n",
       "\n",
       "                                                                        appointment  \\\n",
       "                                                                               mean   \n",
       "target_event tag_product tag_project_type tag_chain_flag tag_model_flag               \n",
       "appointment  nbo         not_izhs         not_chain      not_model         0.004496   \n",
       "             realestate  not_izhs         not_chain      not_model         0.106039   \n",
       "call         commercial  not_izhs         chain          not_model         0.001579   \n",
       "             izhs        izhs             chain          not_model         0.002980   \n",
       "             mortgage    not_izhs         not_chain      not_model         0.004342   \n",
       "             realestate  not_izhs         chain          not_model         0.003660   \n",
       "deal         mortgage    not_izhs         not_chain      model             0.019813   \n",
       "             realestate  not_izhs         not_chain      model             0.009750   \n",
       "reservation  not_defined not_izhs         not_chain      not_model         0.031480   \n",
       "             realestate  not_izhs         not_chain      model             0.015270   \n",
       "\n",
       "                                                                                 \\\n",
       "                                                                          count   \n",
       "target_event tag_product tag_project_type tag_chain_flag tag_model_flag           \n",
       "appointment  nbo         not_izhs         not_chain      not_model        39815   \n",
       "             realestate  not_izhs         not_chain      not_model        53688   \n",
       "call         commercial  not_izhs         chain          not_model         5068   \n",
       "             izhs        izhs             chain          not_model        32891   \n",
       "             mortgage    not_izhs         not_chain      not_model        31549   \n",
       "             realestate  not_izhs         chain          not_model       540122   \n",
       "deal         mortgage    not_izhs         not_chain      model            17261   \n",
       "             realestate  not_izhs         not_chain      model            49232   \n",
       "reservation  not_defined not_izhs         not_chain      not_model        22713   \n",
       "             realestate  not_izhs         not_chain      model            25998   \n",
       "\n",
       "                                                                        reservation  \\\n",
       "                                                                               mean   \n",
       "target_event tag_product tag_project_type tag_chain_flag tag_model_flag               \n",
       "appointment  nbo         not_izhs         not_chain      not_model         0.003215   \n",
       "             realestate  not_izhs         not_chain      not_model         0.020656   \n",
       "call         commercial  not_izhs         chain          not_model         0.002368   \n",
       "             izhs        izhs             chain          not_model         0.001247   \n",
       "             mortgage    not_izhs         not_chain      not_model         0.001680   \n",
       "             realestate  not_izhs         chain          not_model         0.001892   \n",
       "deal         mortgage    not_izhs         not_chain      model             0.012050   \n",
       "             realestate  not_izhs         not_chain      model             0.004855   \n",
       "reservation  not_defined not_izhs         not_chain      not_model         0.012064   \n",
       "             realestate  not_izhs         not_chain      model             0.011616   \n",
       "\n",
       "                                                                                 \\\n",
       "                                                                          count   \n",
       "target_event tag_product tag_project_type tag_chain_flag tag_model_flag           \n",
       "appointment  nbo         not_izhs         not_chain      not_model        39815   \n",
       "             realestate  not_izhs         not_chain      not_model        53688   \n",
       "call         commercial  not_izhs         chain          not_model         5068   \n",
       "             izhs        izhs             chain          not_model        32891   \n",
       "             mortgage    not_izhs         not_chain      not_model        31549   \n",
       "             realestate  not_izhs         chain          not_model       540122   \n",
       "deal         mortgage    not_izhs         not_chain      model            17261   \n",
       "             realestate  not_izhs         not_chain      model            49232   \n",
       "reservation  not_defined not_izhs         not_chain      not_model        22713   \n",
       "             realestate  not_izhs         not_chain      model            25998   \n",
       "\n",
       "                                                                             deal  \\\n",
       "                                                                             mean   \n",
       "target_event tag_product tag_project_type tag_chain_flag tag_model_flag             \n",
       "appointment  nbo         not_izhs         not_chain      not_model       0.003441   \n",
       "             realestate  not_izhs         not_chain      not_model       0.014938   \n",
       "call         commercial  not_izhs         chain          not_model       0.001579   \n",
       "             izhs        izhs             chain          not_model       0.000821   \n",
       "             mortgage    not_izhs         not_chain      not_model       0.001521   \n",
       "             realestate  not_izhs         chain          not_model       0.001707   \n",
       "deal         mortgage    not_izhs         not_chain      model           0.012630   \n",
       "             realestate  not_izhs         not_chain      model           0.004387   \n",
       "reservation  not_defined not_izhs         not_chain      not_model       0.010611   \n",
       "             realestate  not_izhs         not_chain      model           0.011616   \n",
       "\n",
       "                                                                                 \n",
       "                                                                          count  \n",
       "target_event tag_product tag_project_type tag_chain_flag tag_model_flag          \n",
       "appointment  nbo         not_izhs         not_chain      not_model        39815  \n",
       "             realestate  not_izhs         not_chain      not_model        53688  \n",
       "call         commercial  not_izhs         chain          not_model         5068  \n",
       "             izhs        izhs             chain          not_model        32891  \n",
       "             mortgage    not_izhs         not_chain      not_model        31549  \n",
       "             realestate  not_izhs         chain          not_model       540122  \n",
       "deal         mortgage    not_izhs         not_chain      model            17261  \n",
       "             realestate  not_izhs         not_chain      model            49232  \n",
       "reservation  not_defined not_izhs         not_chain      not_model        22713  \n",
       "             realestate  not_izhs         not_chain      model            25998  "
      ]
     },
     "execution_count": 252,
     "metadata": {},
     "output_type": "execute_result"
    }
   ],
   "source": [
    "final_data.groupby(main_camp_features)[['call','appointment','reservation','deal']].agg(['mean', 'count'])"
   ]
  },
  {
   "cell_type": "markdown",
   "id": "24e6d150-25cf-4d6b-9b60-b39f63b7dc95",
   "metadata": {},
   "source": [
    "## Multi-label модель"
   ]
  },
  {
   "cell_type": "code",
   "execution_count": 272,
   "id": "9150a95f-0364-43c6-9224-266b043981d5",
   "metadata": {
    "tags": []
   },
   "outputs": [],
   "source": [
    "campaigns_features_idx = [360,361,362,363,364]"
   ]
  },
  {
   "cell_type": "code",
   "execution_count": 292,
   "id": "18609a94-7059-44c5-afa3-3a78637e4b94",
   "metadata": {
    "tags": []
   },
   "outputs": [],
   "source": [
    "params = {\n",
    "    # база для любой модели\n",
    "    'iterations':    500,\n",
    "    'learning_rate': 0.05,\n",
    "    'random_state':42,\n",
    "    'early_stopping_rounds': 100,\n",
    "    'verbose':100,\n",
    "    'cat_features':campaigns_features_idx,\n",
    "    # метрики для предсказания нескольких классов \n",
    "    'loss_function': 'MultiCrossEntropy',\n",
    "    'eval_metric':   'MultiCrossEntropy',\n",
    "    # боремся с переобучением\n",
    "    'depth':         6,\n",
    "    'l2_leaf_reg':   2,\n",
    "    # 'bootstrap_type':'Bernoulli',\n",
    "    # 'subsample':     0.8,\n",
    "    # для лучшей работы с несколькими классами\n",
    "    'use_best_model': True,\n",
    "    'class_names':['call', 'appointment', 'reservation', 'deal']\n",
    "}"
   ]
  },
  {
   "cell_type": "code",
   "execution_count": 294,
   "id": "5a9a2f5c-95e7-4907-8983-27aa48684e82",
   "metadata": {
    "tags": []
   },
   "outputs": [],
   "source": [
    "target_action_model = CatBoostClassifier(**params)"
   ]
  },
  {
   "cell_type": "code",
   "execution_count": 296,
   "id": "f8182307-4847-447a-a641-02bb65c4ce14",
   "metadata": {
    "tags": []
   },
   "outputs": [
    {
     "data": {
      "application/vnd.jupyter.widget-view+json": {
       "model_id": "e1fc5e4aa940427699ab8d5ec8b7c33d",
       "version_major": 2,
       "version_minor": 0
      },
      "text/plain": [
       "MetricVisualizer(layout=Layout(align_self='stretch', height='500px'))"
      ]
     },
     "metadata": {},
     "output_type": "display_data"
    },
    {
     "name": "stdout",
     "output_type": "stream",
     "text": [
      "0:\tlearn: 0.5832298\ttest: 0.5830302\tbest: 0.5830302 (0)\ttotal: 757ms\tremaining: 6m 17s\n",
      "100:\tlearn: 0.0503329\ttest: 0.0444981\tbest: 0.0444981 (100)\ttotal: 1m 11s\tremaining: 4m 42s\n",
      "200:\tlearn: 0.0485050\ttest: 0.0433667\tbest: 0.0433667 (200)\ttotal: 2m 20s\tremaining: 3m 28s\n",
      "300:\tlearn: 0.0474213\ttest: 0.0429865\tbest: 0.0429865 (300)\ttotal: 3m 28s\tremaining: 2m 17s\n",
      "400:\tlearn: 0.0467487\ttest: 0.0427751\tbest: 0.0427751 (400)\ttotal: 4m 36s\tremaining: 1m 8s\n",
      "499:\tlearn: 0.0461205\ttest: 0.0426392\tbest: 0.0426392 (499)\ttotal: 5m 42s\tremaining: 0us\n",
      "\n",
      "bestTest = 0.04263923314\n",
      "bestIteration = 499\n",
      "\n"
     ]
    },
    {
     "data": {
      "text/plain": [
       "<catboost.core.CatBoostClassifier at 0x7a5a23e90>"
      ]
     },
     "execution_count": 296,
     "metadata": {},
     "output_type": "execute_result"
    }
   ],
   "source": [
    "target_action_model.fit(X_train, y_train,\n",
    "        eval_set=(X_val, y_val),\n",
    "        plot=True)"
   ]
  },
  {
   "cell_type": "code",
   "execution_count": 297,
   "id": "794cd1c4-bf08-4956-a330-b00ec7a35a60",
   "metadata": {
    "tags": []
   },
   "outputs": [],
   "source": [
    "test_predict = target_action_model.predict(X_test)\n",
    "probs = target_action_model.predict_proba(X_test)"
   ]
  },
  {
   "cell_type": "code",
   "execution_count": 298,
   "id": "86ccae83-2779-45ab-9987-e74664f85841",
   "metadata": {
    "tags": []
   },
   "outputs": [],
   "source": [
    "target_action_model.save_model('target_action_model.bin')"
   ]
  },
  {
   "cell_type": "code",
   "execution_count": 299,
   "id": "a67bfa12-6055-41e5-9049-6a2fded4f808",
   "metadata": {
    "tags": []
   },
   "outputs": [],
   "source": [
    "# target_action_model.load_model('target_action_model.bin')\n",
    "# print(target_action_model.get_params())\n",
    "# print(target_action_model.random_seed_)"
   ]
  },
  {
   "cell_type": "code",
   "execution_count": 300,
   "id": "72a70e5a-25b3-4748-9001-a828be6ed26e",
   "metadata": {
    "tags": []
   },
   "outputs": [],
   "source": [
    "# теперь считаем метрики для каждого класса"
   ]
  },
  {
   "cell_type": "code",
   "execution_count": 301,
   "id": "d6e5bc9e-5d05-4262-a037-13216702055d",
   "metadata": {
    "tags": []
   },
   "outputs": [],
   "source": [
    "# подбираем трешхолды по единому правилу"
   ]
  },
  {
   "cell_type": "code",
   "execution_count": 302,
   "id": "f233ebd9-0e7a-4ee0-8ed9-63b1ad479b46",
   "metadata": {
    "tags": []
   },
   "outputs": [
    {
     "data": {
      "text/html": [
       "<div>\n",
       "<style scoped>\n",
       "    .dataframe tbody tr th:only-of-type {\n",
       "        vertical-align: middle;\n",
       "    }\n",
       "\n",
       "    .dataframe tbody tr th {\n",
       "        vertical-align: top;\n",
       "    }\n",
       "\n",
       "    .dataframe thead th {\n",
       "        text-align: right;\n",
       "    }\n",
       "</style>\n",
       "<table border=\"1\" class=\"dataframe\">\n",
       "  <thead>\n",
       "    <tr style=\"text-align: right;\">\n",
       "      <th></th>\n",
       "      <th>Feature Id</th>\n",
       "      <th>Importances</th>\n",
       "    </tr>\n",
       "  </thead>\n",
       "  <tbody>\n",
       "    <tr>\n",
       "      <th>0</th>\n",
       "      <td>363</td>\n",
       "      <td>14.692076</td>\n",
       "    </tr>\n",
       "    <tr>\n",
       "      <th>1</th>\n",
       "      <td>360</td>\n",
       "      <td>10.007610</td>\n",
       "    </tr>\n",
       "    <tr>\n",
       "      <th>2</th>\n",
       "      <td>24</td>\n",
       "      <td>4.983170</td>\n",
       "    </tr>\n",
       "    <tr>\n",
       "      <th>3</th>\n",
       "      <td>26</td>\n",
       "      <td>4.109664</td>\n",
       "    </tr>\n",
       "    <tr>\n",
       "      <th>4</th>\n",
       "      <td>361</td>\n",
       "      <td>3.695311</td>\n",
       "    </tr>\n",
       "    <tr>\n",
       "      <th>5</th>\n",
       "      <td>315</td>\n",
       "      <td>2.751852</td>\n",
       "    </tr>\n",
       "    <tr>\n",
       "      <th>6</th>\n",
       "      <td>364</td>\n",
       "      <td>2.613589</td>\n",
       "    </tr>\n",
       "    <tr>\n",
       "      <th>7</th>\n",
       "      <td>148</td>\n",
       "      <td>2.421908</td>\n",
       "    </tr>\n",
       "    <tr>\n",
       "      <th>8</th>\n",
       "      <td>167</td>\n",
       "      <td>2.131272</td>\n",
       "    </tr>\n",
       "    <tr>\n",
       "      <th>9</th>\n",
       "      <td>139</td>\n",
       "      <td>1.600345</td>\n",
       "    </tr>\n",
       "  </tbody>\n",
       "</table>\n",
       "</div>"
      ],
      "text/plain": [
       "  Feature Id  Importances\n",
       "0        363    14.692076\n",
       "1        360    10.007610\n",
       "2         24     4.983170\n",
       "3         26     4.109664\n",
       "4        361     3.695311\n",
       "5        315     2.751852\n",
       "6        364     2.613589\n",
       "7        148     2.421908\n",
       "8        167     2.131272\n",
       "9        139     1.600345"
      ]
     },
     "execution_count": 302,
     "metadata": {},
     "output_type": "execute_result"
    }
   ],
   "source": [
    "target_action_model.get_feature_importance(prettified=True)[:10]"
   ]
  },
  {
   "cell_type": "code",
   "execution_count": null,
   "id": "9169b52f-4565-4230-939a-eb64ef819718",
   "metadata": {},
   "outputs": [],
   "source": []
  },
  {
   "cell_type": "code",
   "execution_count": 304,
   "id": "2eda9dca-34b0-4653-9486-0aa773bbafea",
   "metadata": {
    "tags": []
   },
   "outputs": [
    {
     "name": "stdout",
     "output_type": "stream",
     "text": [
      "\n",
      "Target: call\n",
      "AUC       : 0.810\n",
      "Trashhold = default 0.5\n",
      "Accuracy  : 0.826\n",
      "Precision : 0.099\n",
      "Recall    : 0.529\n",
      "F1-score  : 0.166\n",
      "\n",
      "Target: appointment\n",
      "AUC       : 0.768\n",
      "Trashhold = default 0.5\n",
      "Accuracy  : 0.954\n",
      "Precision : 0.008\n",
      "Recall    : 0.048\n",
      "F1-score  : 0.014\n",
      "\n",
      "Target: reservation\n",
      "AUC       : 0.765\n",
      "Trashhold = default 0.5\n",
      "Accuracy  : 0.997\n",
      "Precision : 0.000\n",
      "Recall    : 0.000\n",
      "F1-score  : 0.000\n",
      "\n",
      "Target: deal\n",
      "AUC       : 0.819\n",
      "Trashhold = default 0.5\n",
      "Accuracy  : 0.997\n",
      "Precision : 0.333\n",
      "Recall    : 0.004\n",
      "F1-score  : 0.009\n",
      "\n",
      "Average Metrics:\n",
      "AUC       : 0.7904\n",
      "Accuracy  : 0.9436\n",
      "Precision : 0.1100\n",
      "Recall    : 0.1456\n",
      "F1-score  : 0.0472\n"
     ]
    },
    {
     "data": {
      "image/png": "[encoded data removed]",
      "text/plain": [
       "<Figure size 1000x700 with 1 Axes>"
      ]
     },
     "metadata": {},
     "output_type": "display_data"
    }
   ],
   "source": [
    "# Метрики и графики для каждого таргета\n",
    "def plot_roc_curve(y_true, y_pred, label):\n",
    "    fpr, tpr, _ = roc_curve(y_true, y_pred)\n",
    "    plt.plot(fpr, tpr, label=f'{label} (AUC = {roc_auc_score(y_true, y_pred):.3f})')\n",
    "\n",
    "test_auc, test_acc, test_prec, test_rec, test_f1 = [], [], [], [], []\n",
    "\n",
    "plt.figure(figsize=(10, 7))\n",
    "for i, target in enumerate(target_action_model.classes_):\n",
    "    y_true = y_test[:,i]\n",
    "    y_prob = probs[:,i]\n",
    "    y_pred = (y_prob >= 0.5).astype(int)\n",
    "\n",
    "    # Метрики \n",
    "    auc = roc_auc_score(y_true, y_prob)\n",
    "    acc = accuracy_score(y_true, y_pred)\n",
    "    prec = precision_score(y_true, y_pred, zero_division=0)\n",
    "    rec = recall_score(y_true, y_pred, zero_division=0)\n",
    "    f1 = f1_score(y_true, y_pred, zero_division=0)\n",
    "\n",
    "    test_auc.append(auc)\n",
    "    test_acc.append(acc)\n",
    "    test_prec.append(prec)\n",
    "    test_rec.append(rec)\n",
    "    test_f1.append(f1)\n",
    "\n",
    "    print(f\"\\nTarget: {target}\")\n",
    "    print(f\"AUC       : {auc:.3f}\")\n",
    "    print(f\"Trashhold = default 0.5\")\n",
    "    print(f\"Accuracy  : {acc:.3f}\")\n",
    "    print(f\"Precision : {prec:.3f}\")\n",
    "    print(f\"Recall    : {rec:.3f}\")\n",
    "    print(f\"F1-score  : {f1:.3f}\")\n",
    "\n",
    "    # Рисуем ROC\n",
    "    plot_roc_curve(y_true, y_prob, target)\n",
    "    \n",
    "# Общий вывод\n",
    "print(\"\\nAverage Metrics:\")\n",
    "print(f\"AUC       : {np.mean(test_auc):.4f}\")\n",
    "print(f\"Accuracy  : {np.mean(test_acc):.4f}\")\n",
    "print(f\"Precision : {np.mean(test_prec):.4f}\")\n",
    "print(f\"Recall    : {np.mean(test_rec):.4f}\")\n",
    "print(f\"F1-score  : {np.mean(test_f1):.4f}\")\n",
    "\n",
    "plt.plot([0, 1], [0, 1], linestyle='--', color='gray')\n",
    "plt.xlabel('False Positive Rate')\n",
    "plt.ylabel('True Positive Rate')\n",
    "plt.title('ROC Curves for Each Target')\n",
    "plt.legend()\n",
    "plt.grid(True)\n",
    "plt.show()"
   ]
  },
  {
   "cell_type": "code",
   "execution_count": null,
   "id": "a2427f8d-d395-4beb-9325-a6f2d7d2596b",
   "metadata": {},
   "outputs": [],
   "source": []
  },
  {
   "cell_type": "markdown",
   "id": "855a2b88-8b24-4d64-bbf8-ead87a8aae31",
   "metadata": {
    "tags": []
   },
   "source": [
    "## Предсказания"
   ]
  },
  {
   "cell_type": "code",
   "execution_count": 212,
   "id": "62cc5c04-7841-4691-9b71-564878f7d8e2",
   "metadata": {
    "tags": []
   },
   "outputs": [],
   "source": [
    "# test_predict = target_action_model.predict(X_test)\n",
    "# probs = target_action_model.predict_proba(X_test)"
   ]
  },
  {
   "cell_type": "code",
   "execution_count": 769,
   "id": "82fc95a5-133c-4c48-a88f-a7d334aba72e",
   "metadata": {
    "tags": []
   },
   "outputs": [],
   "source": [
    "# критерий - наибольший скор в сделку"
   ]
  },
  {
   "cell_type": "code",
   "execution_count": null,
   "id": "ecbe2dff-9311-4823-902e-5e6b7a05e9b0",
   "metadata": {},
   "outputs": [],
   "source": [
    "# все комбинации фичей коммуникации"
   ]
  },
  {
   "cell_type": "code",
   "execution_count": 218,
   "id": "4dfc184f-7a76-4e71-9fd7-5df3741e2e91",
   "metadata": {
    "tags": []
   },
   "outputs": [
    {
     "data": {
      "text/plain": [
       "Index(['smt_decision_makerid', 'report_date', 'delivery_date',\n",
       "       'previous_sunday', 'target_event', 'tag_channel', 'tag_campaign_type',\n",
       "       'tag_product', 'tag_project_type', 'tag_discount_flag',\n",
       "       'tag_chain_flag', 'appointment', 'call', 'deal', 'reservation'],\n",
       "      dtype='object')"
      ]
     },
     "execution_count": 218,
     "metadata": {},
     "output_type": "execute_result"
    }
   ],
   "source": [
    "train_full.columns[360:]"
   ]
  },
  {
   "cell_type": "code",
   "execution_count": 306,
   "id": "4dce177c-9e78-47a2-93ac-9636145abfbe",
   "metadata": {
    "tags": []
   },
   "outputs": [],
   "source": [
    "unique_offers = final_data[main_camp_features].drop_duplicates().reset_index(drop=True)"
   ]
  },
  {
   "cell_type": "code",
   "execution_count": null,
   "id": "cbc1b4ca-7fb7-4265-a0d4-6839fd52f773",
   "metadata": {},
   "outputs": [],
   "source": [
    " # ['target_event', 'tag_product', 'tag_project_type', 'tag_chain_flag', 'tag_model_flag']"
   ]
  },
  {
   "cell_type": "code",
   "execution_count": 305,
   "id": "1de86577-a9b0-4cf3-9880-f2c7d22c5f58",
   "metadata": {
    "tags": []
   },
   "outputs": [],
   "source": [
    "test_for_scoring = test_full.drop(columns=['report_date','delivery_date','previous_sunday','call','appointment','deal','reservation'\n",
    "    ,'target_event', 'tag_product', 'tag_project_type', 'tag_chain_flag','tag_model_flag']).copy()\n",
    "# test_for_scoring"
   ]
  },
  {
   "cell_type": "code",
   "execution_count": 307,
   "id": "794d0089-739d-4773-a56a-79ae45d6f009",
   "metadata": {
    "tags": []
   },
   "outputs": [
    {
     "data": {
      "text/html": [
       "<div>\n",
       "<style scoped>\n",
       "    .dataframe tbody tr th:only-of-type {\n",
       "        vertical-align: middle;\n",
       "    }\n",
       "\n",
       "    .dataframe tbody tr th {\n",
       "        vertical-align: top;\n",
       "    }\n",
       "\n",
       "    .dataframe thead th {\n",
       "        text-align: right;\n",
       "    }\n",
       "</style>\n",
       "<table border=\"1\" class=\"dataframe\">\n",
       "  <thead>\n",
       "    <tr style=\"text-align: right;\">\n",
       "      <th></th>\n",
       "      <th>target_event</th>\n",
       "      <th>tag_product</th>\n",
       "      <th>tag_project_type</th>\n",
       "      <th>tag_chain_flag</th>\n",
       "      <th>tag_model_flag</th>\n",
       "    </tr>\n",
       "  </thead>\n",
       "  <tbody>\n",
       "    <tr>\n",
       "      <th>0</th>\n",
       "      <td>call</td>\n",
       "      <td>realestate</td>\n",
       "      <td>not_izhs</td>\n",
       "      <td>chain</td>\n",
       "      <td>not_model</td>\n",
       "    </tr>\n",
       "    <tr>\n",
       "      <th>1</th>\n",
       "      <td>deal</td>\n",
       "      <td>mortgage</td>\n",
       "      <td>not_izhs</td>\n",
       "      <td>not_chain</td>\n",
       "      <td>model</td>\n",
       "    </tr>\n",
       "    <tr>\n",
       "      <th>2</th>\n",
       "      <td>call</td>\n",
       "      <td>mortgage</td>\n",
       "      <td>not_izhs</td>\n",
       "      <td>not_chain</td>\n",
       "      <td>not_model</td>\n",
       "    </tr>\n",
       "    <tr>\n",
       "      <th>3</th>\n",
       "      <td>appointment</td>\n",
       "      <td>realestate</td>\n",
       "      <td>not_izhs</td>\n",
       "      <td>not_chain</td>\n",
       "      <td>not_model</td>\n",
       "    </tr>\n",
       "    <tr>\n",
       "      <th>4</th>\n",
       "      <td>deal</td>\n",
       "      <td>realestate</td>\n",
       "      <td>not_izhs</td>\n",
       "      <td>not_chain</td>\n",
       "      <td>model</td>\n",
       "    </tr>\n",
       "    <tr>\n",
       "      <th>5</th>\n",
       "      <td>appointment</td>\n",
       "      <td>nbo</td>\n",
       "      <td>not_izhs</td>\n",
       "      <td>not_chain</td>\n",
       "      <td>not_model</td>\n",
       "    </tr>\n",
       "    <tr>\n",
       "      <th>6</th>\n",
       "      <td>reservation</td>\n",
       "      <td>not_defined</td>\n",
       "      <td>not_izhs</td>\n",
       "      <td>not_chain</td>\n",
       "      <td>not_model</td>\n",
       "    </tr>\n",
       "    <tr>\n",
       "      <th>7</th>\n",
       "      <td>call</td>\n",
       "      <td>izhs</td>\n",
       "      <td>izhs</td>\n",
       "      <td>chain</td>\n",
       "      <td>not_model</td>\n",
       "    </tr>\n",
       "    <tr>\n",
       "      <th>8</th>\n",
       "      <td>reservation</td>\n",
       "      <td>realestate</td>\n",
       "      <td>not_izhs</td>\n",
       "      <td>not_chain</td>\n",
       "      <td>model</td>\n",
       "    </tr>\n",
       "    <tr>\n",
       "      <th>9</th>\n",
       "      <td>call</td>\n",
       "      <td>commercial</td>\n",
       "      <td>not_izhs</td>\n",
       "      <td>chain</td>\n",
       "      <td>not_model</td>\n",
       "    </tr>\n",
       "  </tbody>\n",
       "</table>\n",
       "</div>"
      ],
      "text/plain": [
       "  target_event  tag_product tag_project_type tag_chain_flag tag_model_flag\n",
       "0         call   realestate         not_izhs          chain      not_model\n",
       "1         deal     mortgage         not_izhs      not_chain          model\n",
       "2         call     mortgage         not_izhs      not_chain      not_model\n",
       "3  appointment   realestate         not_izhs      not_chain      not_model\n",
       "4         deal   realestate         not_izhs      not_chain          model\n",
       "5  appointment          nbo         not_izhs      not_chain      not_model\n",
       "6  reservation  not_defined         not_izhs      not_chain      not_model\n",
       "7         call         izhs             izhs          chain      not_model\n",
       "8  reservation   realestate         not_izhs      not_chain          model\n",
       "9         call   commercial         not_izhs          chain      not_model"
      ]
     },
     "execution_count": 307,
     "metadata": {},
     "output_type": "execute_result"
    }
   ],
   "source": [
    "unique_offers"
   ]
  },
  {
   "cell_type": "code",
   "execution_count": 308,
   "id": "cc9d4df9-d9bb-4173-88a8-f1515efcfa64",
   "metadata": {
    "tags": []
   },
   "outputs": [],
   "source": [
    "test_for_scoring = test_for_scoring.merge(unique_offers, how='cross')"
   ]
  },
  {
   "cell_type": "code",
   "execution_count": 309,
   "id": "408070ea-5000-4890-8388-e00ee1742a03",
   "metadata": {},
   "outputs": [
    {
     "data": {
      "text/plain": [
       "1690690"
      ]
     },
     "execution_count": 309,
     "metadata": {},
     "output_type": "execute_result"
    }
   ],
   "source": [
    "len(test_for_scoring)"
   ]
  },
  {
   "cell_type": "code",
   "execution_count": 310,
   "id": "78234b7a-46d2-4527-b5a1-116695dec8bc",
   "metadata": {},
   "outputs": [],
   "source": [
    "X_scoring = test_for_scoring.drop(columns='smt_decision_makerid').to_numpy()"
   ]
  },
  {
   "cell_type": "code",
   "execution_count": 311,
   "id": "ac13161c-9a94-4d5d-9fc5-90648ac0a3e5",
   "metadata": {
    "tags": []
   },
   "outputs": [],
   "source": [
    "probs_scoring = target_action_model.predict_proba(X_scoring)"
   ]
  },
  {
   "cell_type": "code",
   "execution_count": 312,
   "id": "b92eb272-2867-4fb1-9a23-aa696ba6ca09",
   "metadata": {},
   "outputs": [],
   "source": [
    "test_for_scoring['prob_ta'] = probs_scoring[:,3]"
   ]
  },
  {
   "cell_type": "code",
   "execution_count": 313,
   "id": "037928cc-e1f2-49a5-acce-d297fbb99900",
   "metadata": {
    "tags": []
   },
   "outputs": [],
   "source": [
    "test_for_scoring['group_num'] = (test_for_scoring.index // 9) + 1"
   ]
  },
  {
   "cell_type": "code",
   "execution_count": 314,
   "id": "8867921e-37a8-4c0e-b6b3-7c6cfe7b8418",
   "metadata": {
    "tags": []
   },
   "outputs": [],
   "source": [
    "# test_for_scoring.rank??"
   ]
  },
  {
   "cell_type": "code",
   "execution_count": 315,
   "id": "d463a285-e0c0-4ce0-bf38-a186b88016d0",
   "metadata": {
    "tags": []
   },
   "outputs": [],
   "source": [
    "test_for_scoring['prob_ta_rn'] = test_for_scoring.groupby('group_num')['prob_ta']\\\n",
    "        .rank(method='first', ascending=False).astype(int)"
   ]
  },
  {
   "cell_type": "code",
   "execution_count": 316,
   "id": "d475228a-9bc7-4adb-a7b6-9c0d1702b683",
   "metadata": {
    "tags": []
   },
   "outputs": [],
   "source": [
    "test_best_tags = test_for_scoring[test_for_scoring.prob_ta_rn==1].reset_index(drop=True).copy()"
   ]
  },
  {
   "cell_type": "code",
   "execution_count": 317,
   "id": "7ee3fd63-9b8d-478c-8f1d-5078c6d4dd82",
   "metadata": {
    "tags": []
   },
   "outputs": [
    {
     "data": {
      "text/plain": [
       "Index(['smt_decision_makerid', 'target_event', 'tag_product',\n",
       "       'tag_project_type', 'tag_chain_flag', 'tag_model_flag', 'prob_ta',\n",
       "       'group_num', 'prob_ta_rn'],\n",
       "      dtype='object')"
      ]
     },
     "execution_count": 317,
     "metadata": {},
     "output_type": "execute_result"
    }
   ],
   "source": [
    "test_best_tags.columns[360:]"
   ]
  },
  {
   "cell_type": "code",
   "execution_count": 318,
   "id": "c3083c38-95f0-4581-9f51-fb5a47eca93d",
   "metadata": {
    "tags": []
   },
   "outputs": [
    {
     "data": {
      "text/plain": [
       "target_event\n",
       "reservation    151151\n",
       "deal            21562\n",
       "appointment     13965\n",
       "call             1177\n",
       "Name: count, dtype: int64"
      ]
     },
     "execution_count": 318,
     "metadata": {},
     "output_type": "execute_result"
    }
   ],
   "source": [
    "test_best_tags.target_event.value_counts()"
   ]
  },
  {
   "cell_type": "code",
   "execution_count": 328,
   "id": "fdc99256-8382-4337-bef3-eeb4d11aa951",
   "metadata": {
    "tags": []
   },
   "outputs": [
    {
     "data": {
      "text/html": [
       "<div>\n",
       "<style scoped>\n",
       "    .dataframe tbody tr th:only-of-type {\n",
       "        vertical-align: middle;\n",
       "    }\n",
       "\n",
       "    .dataframe tbody tr th {\n",
       "        vertical-align: top;\n",
       "    }\n",
       "\n",
       "    .dataframe thead th {\n",
       "        text-align: right;\n",
       "    }\n",
       "</style>\n",
       "<table border=\"1\" class=\"dataframe\">\n",
       "  <thead>\n",
       "    <tr style=\"text-align: right;\">\n",
       "      <th></th>\n",
       "      <th>smt_decision_makerid</th>\n",
       "      <th>target_event</th>\n",
       "      <th>tag_product</th>\n",
       "      <th>tag_project_type</th>\n",
       "      <th>tag_chain_flag</th>\n",
       "      <th>tag_model_flag</th>\n",
       "    </tr>\n",
       "  </thead>\n",
       "  <tbody>\n",
       "    <tr>\n",
       "      <th>0</th>\n",
       "      <td>a024eeadd2a9bc8597d91126a11df815</td>\n",
       "      <td>reservation</td>\n",
       "      <td>not_defined</td>\n",
       "      <td>not_izhs</td>\n",
       "      <td>not_chain</td>\n",
       "      <td>not_model</td>\n",
       "    </tr>\n",
       "    <tr>\n",
       "      <th>1</th>\n",
       "      <td>2e06f41ab8495ef1f51c014d62fa4698</td>\n",
       "      <td>reservation</td>\n",
       "      <td>not_defined</td>\n",
       "      <td>not_izhs</td>\n",
       "      <td>not_chain</td>\n",
       "      <td>not_model</td>\n",
       "    </tr>\n",
       "    <tr>\n",
       "      <th>2</th>\n",
       "      <td>45d087c08c8935951dbeca6b63c5acb7</td>\n",
       "      <td>reservation</td>\n",
       "      <td>not_defined</td>\n",
       "      <td>not_izhs</td>\n",
       "      <td>not_chain</td>\n",
       "      <td>not_model</td>\n",
       "    </tr>\n",
       "    <tr>\n",
       "      <th>3</th>\n",
       "      <td>9aed9813e6881f5a58d5a8c7158771b4</td>\n",
       "      <td>appointment</td>\n",
       "      <td>realestate</td>\n",
       "      <td>not_izhs</td>\n",
       "      <td>not_chain</td>\n",
       "      <td>not_model</td>\n",
       "    </tr>\n",
       "    <tr>\n",
       "      <th>4</th>\n",
       "      <td>9aed9813e6881f5a58d5a8c7158771b4</td>\n",
       "      <td>reservation</td>\n",
       "      <td>not_defined</td>\n",
       "      <td>not_izhs</td>\n",
       "      <td>not_chain</td>\n",
       "      <td>not_model</td>\n",
       "    </tr>\n",
       "    <tr>\n",
       "      <th>...</th>\n",
       "      <td>...</td>\n",
       "      <td>...</td>\n",
       "      <td>...</td>\n",
       "      <td>...</td>\n",
       "      <td>...</td>\n",
       "      <td>...</td>\n",
       "    </tr>\n",
       "    <tr>\n",
       "      <th>187850</th>\n",
       "      <td>3b6f4224c840b959d0ce6614a84dc6e0</td>\n",
       "      <td>reservation</td>\n",
       "      <td>not_defined</td>\n",
       "      <td>not_izhs</td>\n",
       "      <td>not_chain</td>\n",
       "      <td>not_model</td>\n",
       "    </tr>\n",
       "    <tr>\n",
       "      <th>187851</th>\n",
       "      <td>c2ff7b9060dbaf6535ff43e5e7dd80e4</td>\n",
       "      <td>appointment</td>\n",
       "      <td>realestate</td>\n",
       "      <td>not_izhs</td>\n",
       "      <td>not_chain</td>\n",
       "      <td>not_model</td>\n",
       "    </tr>\n",
       "    <tr>\n",
       "      <th>187852</th>\n",
       "      <td>997d06aa5ef9ecfdd074bb3d605f1ff6</td>\n",
       "      <td>reservation</td>\n",
       "      <td>not_defined</td>\n",
       "      <td>not_izhs</td>\n",
       "      <td>not_chain</td>\n",
       "      <td>not_model</td>\n",
       "    </tr>\n",
       "    <tr>\n",
       "      <th>187853</th>\n",
       "      <td>1b10ad1b5296148129d3cb57f5c6f7af</td>\n",
       "      <td>deal</td>\n",
       "      <td>mortgage</td>\n",
       "      <td>not_izhs</td>\n",
       "      <td>not_chain</td>\n",
       "      <td>model</td>\n",
       "    </tr>\n",
       "    <tr>\n",
       "      <th>187854</th>\n",
       "      <td>1b10ad1b5296148129d3cb57f5c6f7af</td>\n",
       "      <td>reservation</td>\n",
       "      <td>not_defined</td>\n",
       "      <td>not_izhs</td>\n",
       "      <td>not_chain</td>\n",
       "      <td>not_model</td>\n",
       "    </tr>\n",
       "  </tbody>\n",
       "</table>\n",
       "<p>187855 rows × 6 columns</p>\n",
       "</div>"
      ],
      "text/plain": [
       "                    smt_decision_makerid target_event  tag_product  \\\n",
       "0       a024eeadd2a9bc8597d91126a11df815  reservation  not_defined   \n",
       "1       2e06f41ab8495ef1f51c014d62fa4698  reservation  not_defined   \n",
       "2       45d087c08c8935951dbeca6b63c5acb7  reservation  not_defined   \n",
       "3       9aed9813e6881f5a58d5a8c7158771b4  appointment   realestate   \n",
       "4       9aed9813e6881f5a58d5a8c7158771b4  reservation  not_defined   \n",
       "...                                  ...          ...          ...   \n",
       "187850  3b6f4224c840b959d0ce6614a84dc6e0  reservation  not_defined   \n",
       "187851  c2ff7b9060dbaf6535ff43e5e7dd80e4  appointment   realestate   \n",
       "187852  997d06aa5ef9ecfdd074bb3d605f1ff6  reservation  not_defined   \n",
       "187853  1b10ad1b5296148129d3cb57f5c6f7af         deal     mortgage   \n",
       "187854  1b10ad1b5296148129d3cb57f5c6f7af  reservation  not_defined   \n",
       "\n",
       "       tag_project_type tag_chain_flag tag_model_flag  \n",
       "0              not_izhs      not_chain      not_model  \n",
       "1              not_izhs      not_chain      not_model  \n",
       "2              not_izhs      not_chain      not_model  \n",
       "3              not_izhs      not_chain      not_model  \n",
       "4              not_izhs      not_chain      not_model  \n",
       "...                 ...            ...            ...  \n",
       "187850         not_izhs      not_chain      not_model  \n",
       "187851         not_izhs      not_chain      not_model  \n",
       "187852         not_izhs      not_chain      not_model  \n",
       "187853         not_izhs      not_chain          model  \n",
       "187854         not_izhs      not_chain      not_model  \n",
       "\n",
       "[187855 rows x 6 columns]"
      ]
     },
     "execution_count": 328,
     "metadata": {},
     "output_type": "execute_result"
    }
   ],
   "source": [
    "test_best_tags[['smt_decision_makerid', 'target_event', 'tag_product',\n",
    "       'tag_project_type', 'tag_chain_flag', 'tag_model_flag']]"
   ]
  },
  {
   "cell_type": "code",
   "execution_count": 320,
   "id": "77af81af-d3a0-4d87-9d27-c952c874728f",
   "metadata": {
    "tags": []
   },
   "outputs": [],
   "source": [
    "###"
   ]
  },
  {
   "cell_type": "code",
   "execution_count": 324,
   "id": "3e0898ca-8025-409f-b1c3-ac90b1540de2",
   "metadata": {
    "tags": []
   },
   "outputs": [],
   "source": [
    "test_real_tags = test_full[['smt_decision_makerid', 'target_event', 'tag_product',\n",
    "       'tag_project_type', 'tag_chain_flag', 'tag_model_flag']]"
   ]
  },
  {
   "cell_type": "code",
   "execution_count": 330,
   "id": "670a14c7-eb39-4387-8af5-ffec58815873",
   "metadata": {
    "tags": []
   },
   "outputs": [
    {
     "data": {
      "text/html": [
       "<div>\n",
       "<style scoped>\n",
       "    .dataframe tbody tr th:only-of-type {\n",
       "        vertical-align: middle;\n",
       "    }\n",
       "\n",
       "    .dataframe tbody tr th {\n",
       "        vertical-align: top;\n",
       "    }\n",
       "\n",
       "    .dataframe thead th {\n",
       "        text-align: right;\n",
       "    }\n",
       "</style>\n",
       "<table border=\"1\" class=\"dataframe\">\n",
       "  <thead>\n",
       "    <tr style=\"text-align: right;\">\n",
       "      <th></th>\n",
       "      <th>smt_decision_makerid</th>\n",
       "      <th>target_event</th>\n",
       "      <th>tag_product</th>\n",
       "      <th>tag_project_type</th>\n",
       "      <th>tag_chain_flag</th>\n",
       "      <th>tag_model_flag</th>\n",
       "    </tr>\n",
       "  </thead>\n",
       "  <tbody>\n",
       "    <tr>\n",
       "      <th>0</th>\n",
       "      <td>a024eeadd2a9bc8597d91126a11df815</td>\n",
       "      <td>call</td>\n",
       "      <td>realestate</td>\n",
       "      <td>not_izhs</td>\n",
       "      <td>chain</td>\n",
       "      <td>not_model</td>\n",
       "    </tr>\n",
       "    <tr>\n",
       "      <th>5</th>\n",
       "      <td>2e06f41ab8495ef1f51c014d62fa4698</td>\n",
       "      <td>call</td>\n",
       "      <td>realestate</td>\n",
       "      <td>not_izhs</td>\n",
       "      <td>chain</td>\n",
       "      <td>not_model</td>\n",
       "    </tr>\n",
       "    <tr>\n",
       "      <th>9</th>\n",
       "      <td>45d087c08c8935951dbeca6b63c5acb7</td>\n",
       "      <td>call</td>\n",
       "      <td>realestate</td>\n",
       "      <td>not_izhs</td>\n",
       "      <td>chain</td>\n",
       "      <td>not_model</td>\n",
       "    </tr>\n",
       "    <tr>\n",
       "      <th>14</th>\n",
       "      <td>9aed9813e6881f5a58d5a8c7158771b4</td>\n",
       "      <td>call</td>\n",
       "      <td>realestate</td>\n",
       "      <td>not_izhs</td>\n",
       "      <td>chain</td>\n",
       "      <td>not_model</td>\n",
       "    </tr>\n",
       "    <tr>\n",
       "      <th>18</th>\n",
       "      <td>42358f2cf5e091a253a54259e058b855</td>\n",
       "      <td>call</td>\n",
       "      <td>realestate</td>\n",
       "      <td>not_izhs</td>\n",
       "      <td>chain</td>\n",
       "      <td>not_model</td>\n",
       "    </tr>\n",
       "    <tr>\n",
       "      <th>...</th>\n",
       "      <td>...</td>\n",
       "      <td>...</td>\n",
       "      <td>...</td>\n",
       "      <td>...</td>\n",
       "      <td>...</td>\n",
       "      <td>...</td>\n",
       "    </tr>\n",
       "    <tr>\n",
       "      <th>787243</th>\n",
       "      <td>2fafb2d053c7d717ab053a5252ad8316</td>\n",
       "      <td>call</td>\n",
       "      <td>izhs</td>\n",
       "      <td>izhs</td>\n",
       "      <td>chain</td>\n",
       "      <td>not_model</td>\n",
       "    </tr>\n",
       "    <tr>\n",
       "      <th>787250</th>\n",
       "      <td>3b6f4224c840b959d0ce6614a84dc6e0</td>\n",
       "      <td>call</td>\n",
       "      <td>izhs</td>\n",
       "      <td>izhs</td>\n",
       "      <td>chain</td>\n",
       "      <td>not_model</td>\n",
       "    </tr>\n",
       "    <tr>\n",
       "      <th>787251</th>\n",
       "      <td>c2ff7b9060dbaf6535ff43e5e7dd80e4</td>\n",
       "      <td>call</td>\n",
       "      <td>izhs</td>\n",
       "      <td>izhs</td>\n",
       "      <td>chain</td>\n",
       "      <td>not_model</td>\n",
       "    </tr>\n",
       "    <tr>\n",
       "      <th>787253</th>\n",
       "      <td>997d06aa5ef9ecfdd074bb3d605f1ff6</td>\n",
       "      <td>call</td>\n",
       "      <td>izhs</td>\n",
       "      <td>izhs</td>\n",
       "      <td>chain</td>\n",
       "      <td>not_model</td>\n",
       "    </tr>\n",
       "    <tr>\n",
       "      <th>787266</th>\n",
       "      <td>1b10ad1b5296148129d3cb57f5c6f7af</td>\n",
       "      <td>call</td>\n",
       "      <td>izhs</td>\n",
       "      <td>izhs</td>\n",
       "      <td>chain</td>\n",
       "      <td>not_model</td>\n",
       "    </tr>\n",
       "  </tbody>\n",
       "</table>\n",
       "<p>169069 rows × 6 columns</p>\n",
       "</div>"
      ],
      "text/plain": [
       "                    smt_decision_makerid target_event tag_product  \\\n",
       "0       a024eeadd2a9bc8597d91126a11df815         call  realestate   \n",
       "5       2e06f41ab8495ef1f51c014d62fa4698         call  realestate   \n",
       "9       45d087c08c8935951dbeca6b63c5acb7         call  realestate   \n",
       "14      9aed9813e6881f5a58d5a8c7158771b4         call  realestate   \n",
       "18      42358f2cf5e091a253a54259e058b855         call  realestate   \n",
       "...                                  ...          ...         ...   \n",
       "787243  2fafb2d053c7d717ab053a5252ad8316         call        izhs   \n",
       "787250  3b6f4224c840b959d0ce6614a84dc6e0         call        izhs   \n",
       "787251  c2ff7b9060dbaf6535ff43e5e7dd80e4         call        izhs   \n",
       "787253  997d06aa5ef9ecfdd074bb3d605f1ff6         call        izhs   \n",
       "787266  1b10ad1b5296148129d3cb57f5c6f7af         call        izhs   \n",
       "\n",
       "       tag_project_type tag_chain_flag tag_model_flag  \n",
       "0              not_izhs          chain      not_model  \n",
       "5              not_izhs          chain      not_model  \n",
       "9              not_izhs          chain      not_model  \n",
       "14             not_izhs          chain      not_model  \n",
       "18             not_izhs          chain      not_model  \n",
       "...                 ...            ...            ...  \n",
       "787243             izhs          chain      not_model  \n",
       "787250             izhs          chain      not_model  \n",
       "787251             izhs          chain      not_model  \n",
       "787253             izhs          chain      not_model  \n",
       "787266             izhs          chain      not_model  \n",
       "\n",
       "[169069 rows x 6 columns]"
      ]
     },
     "execution_count": 330,
     "metadata": {},
     "output_type": "execute_result"
    }
   ],
   "source": [
    "test_real_tags"
   ]
  },
  {
   "cell_type": "code",
   "execution_count": 326,
   "id": "24c8a00e-1bae-46ec-81db-0a606537657d",
   "metadata": {},
   "outputs": [
    {
     "data": {
      "text/plain": [
       "target_event\n",
       "call           113611\n",
       "appointment     34217\n",
       "reservation     21241\n",
       "Name: count, dtype: int64"
      ]
     },
     "execution_count": 326,
     "metadata": {},
     "output_type": "execute_result"
    }
   ],
   "source": [
    "test_real_tags.target_event.value_counts()"
   ]
  },
  {
   "cell_type": "markdown",
   "id": "2edea2b1-8b8b-4130-bf2a-77265ba28120",
   "metadata": {},
   "source": [
    "## Выводы"
   ]
  },
  {
   "cell_type": "code",
   "execution_count": 334,
   "id": "2033c7de-5025-47d8-b5c6-ed5a8de6afb5",
   "metadata": {
    "tags": []
   },
   "outputs": [],
   "source": [
    "# Нельзя использовать такой подход, потому что изначальные данные отправлялись не случайно\n",
    "\n",
    "# Логично, что наибольшая конверсия у коммуникаций, направленных на бронь или покупку.\n",
    "# Это происходит потому, что они отправляются пользователям, которые смещены относительно всей совокупности - уже прошли долгий путь, созвонились и встретились\n",
    "# Если мы начнём отправлять всем \"холодным\" клиентам такие коммуникации, то это не покажет той же конверсии в покупку.\n",
    "\n",
    "# Следовательно, необходимо дополнить пайплайн бизнес-правилами, на основании которых можно будет предложить рекомендации адекватнее"
   ]
  },
  {
   "cell_type": "code",
   "execution_count": null,
   "id": "45ef0e15-0c20-4f4b-b033-4bb48ab73fe5",
   "metadata": {},
   "outputs": [],
   "source": []
  },
  {
   "cell_type": "code",
   "execution_count": 1795,
   "id": "69e1e1b8-6084-46c0-a713-cafdfe69c5cc",
   "metadata": {
    "tags": []
   },
   "outputs": [],
   "source": [
    "# 1) Идея - экономия на отправке коммуникации, если скор меньше N. \n",
    "# Реализация - график CR в зависимости от скора 1 модели\n",
    "\n",
    "# 2) Идея - добавить веса ЦД, сравнивать взвешенные скоры\n",
    "# Может быть добавить веса каждому действию, которые будут ~ CR из него в покупку\n",
    "# Пример - пусть скор для звонка -.7, а для встречи - .65 -> сейчас мы выберем звонок, но может быть стоит сразу звать на встречу в таком случае(?) \n",
    "\n",
    "# 3) Свои пороги для баланса precision и recall\n",
    "\n",
    "# 4) ONNX, Оптимизация, Тритон (нужно ли?)\n"
   ]
  },
  {
   "cell_type": "code",
   "execution_count": null,
   "id": "db46e3e6-1c67-4199-9958-5c5798828174",
   "metadata": {
    "tags": []
   },
   "outputs": [],
   "source": [
    "# 1. Как валидировать решение без АБ? Возможно ли это на оффлайн данных?\n",
    "\n",
    "# Пример - по клиенту мы выбираем тип ЦД и оффер. \n",
    "# Говорим, что надо отправить его\n",
    "# В реальности клиенту был отправлен другой оффер, далее совершено или нет ЦД. Что нам это говорит?\n"
   ]
  },
  {
   "cell_type": "code",
   "execution_count": null,
   "id": "5de07787-2306-4298-adee-8d3bb0ceb3ce",
   "metadata": {},
   "outputs": [],
   "source": []
  },
  {
   "cell_type": "code",
   "execution_count": null,
   "id": "9c1fef86-541d-4b32-baea-95efc4300c18",
   "metadata": {},
   "outputs": [],
   "source": []
  },
  {
   "cell_type": "code",
   "execution_count": null,
   "id": "dd6dab6f-efe8-4573-af9a-6e364c1f7273",
   "metadata": {},
   "outputs": [],
   "source": []
  }
 ],
 "metadata": {
  "kernelspec": {
   "display_name": "Python 3 (ipykernel)",
   "language": "python",
   "name": "python3"
  },
  "language_info": {
   "codemirror_mode": {
    "name": "ipython",
    "version": 3
   },
   "file_extension": ".py",
   "mimetype": "text/x-python",
   "name": "python",
   "nbconvert_exporter": "python",
   "pygments_lexer": "ipython3",
   "version": "3.11.5"
  },
  "toc-autonumbering": false
 },
 "nbformat": 4,
 "nbformat_minor": 5
}
